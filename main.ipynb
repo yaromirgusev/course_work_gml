{
  "cells": [
    {
      "cell_type": "markdown",
      "id": "1f0d67a7",
      "metadata": {
        "id": "1f0d67a7"
      },
      "source": [
        "## Применение методов глубокого обучения для классификации текстов на основе семантического анализа.\n",
        "\n",
        "dataset: <a href='https://www.aicrowd.com/challenges/ai-blitz-xii/problems/programming-language-classification'>link</a>"
      ]
    },
    {
      "cell_type": "code",
      "execution_count": 1,
      "id": "6eca6aaa",
      "metadata": {
        "id": "6eca6aaa"
      },
      "outputs": [],
      "source": [
        "import pandas as pd\n",
        "import numpy as np\n",
        "import os\n",
        "import re\n",
        "import copy\n",
        "import random\n",
        "import time\n",
        "\n",
        "import matplotlib.pyplot as plt\n",
        "import seaborn as sns\n",
        "import plotly.express as px\n",
        "import plotly.graph_objects as go\n",
        "\n",
        "from sklearn.model_selection import train_test_split\n",
        "from sklearn.preprocessing import LabelEncoder, normalize\n",
        "from sklearn.feature_extraction.text import TfidfVectorizer\n",
        "from sklearn.feature_selection import VarianceThreshold\n",
        "from sklearn.metrics.pairwise import cosine_similarity\n",
        "from sklearn.metrics import classification_report, accuracy_score, f1_score\n",
        "from sklearn.linear_model import LogisticRegression\n",
        "from sklearn.neighbors import NearestNeighbors\n",
        "\n",
        "import networkx as nx\n",
        "from node2vec import Node2Vec\n",
        "from gensim.models import Word2Vec\n",
        "\n",
        "import torch\n",
        "import torch.nn as nn\n",
        "import torch.nn.functional as F\n",
        "import torch.optim as optim\n",
        "from torch.utils.data import DataLoader, TensorDataset\n",
        "\n",
        "from torch_geometric.data import Data\n",
        "from torch_geometric.nn import GATConv, SAGEConv, JumpingKnowledge\n",
        "\n",
        "from transformers import AutoTokenizer, AutoModel\n",
        "\n",
        "# import optuna\n",
        "# from optuna.samplers import TPESampler\n",
        "\n",
        "from tqdm import tqdm, trange\n",
        "from tqdm.notebook import tqdm as tqdmn"
      ]
    },
    {
      "cell_type": "code",
      "execution_count": null,
      "id": "RWVlDJ6U3mAU",
      "metadata": {
        "colab": {
          "base_uri": "https://localhost:8080/"
        },
        "collapsed": true,
        "id": "RWVlDJ6U3mAU",
        "outputId": "898c9f15-9d0c-4bfb-b848-207c0c54c9f0"
      },
      "outputs": [
        {
          "name": "stdout",
          "output_type": "stream",
          "text": [
            "Requirement already satisfied: numpy==1.26.4 in /usr/local/lib/python3.11/dist-packages (1.26.4)\n",
            "Requirement already satisfied: scipy==1.13.1 in /usr/local/lib/python3.11/dist-packages (1.13.1)\n",
            "Requirement already satisfied: gensim==4.3.3 in /usr/local/lib/python3.11/dist-packages (4.3.3)\n",
            "Requirement already satisfied: node2vec==0.5.0 in /usr/local/lib/python3.11/dist-packages (0.5.0)\n",
            "Requirement already satisfied: torch_geometric==2.6.1 in /usr/local/lib/python3.11/dist-packages (2.6.1)\n",
            "Requirement already satisfied: smart-open>=1.8.1 in /usr/local/lib/python3.11/dist-packages (from gensim==4.3.3) (7.1.0)\n",
            "Requirement already satisfied: joblib<2.0.0,>=1.4.0 in /usr/local/lib/python3.11/dist-packages (from node2vec==0.5.0) (1.5.0)\n",
            "Requirement already satisfied: networkx<4.0.0,>=3.1.0 in /usr/local/lib/python3.11/dist-packages (from node2vec==0.5.0) (3.4.2)\n",
            "Requirement already satisfied: tqdm<5.0.0,>=4.66.1 in /usr/local/lib/python3.11/dist-packages (from node2vec==0.5.0) (4.67.1)\n",
            "Requirement already satisfied: aiohttp in /usr/local/lib/python3.11/dist-packages (from torch_geometric==2.6.1) (3.11.15)\n",
            "Requirement already satisfied: fsspec in /usr/local/lib/python3.11/dist-packages (from torch_geometric==2.6.1) (2025.3.2)\n",
            "Requirement already satisfied: jinja2 in /usr/local/lib/python3.11/dist-packages (from torch_geometric==2.6.1) (3.1.6)\n",
            "Requirement already satisfied: psutil>=5.8.0 in /usr/local/lib/python3.11/dist-packages (from torch_geometric==2.6.1) (5.9.5)\n",
            "Requirement already satisfied: pyparsing in /usr/local/lib/python3.11/dist-packages (from torch_geometric==2.6.1) (3.2.3)\n",
            "Requirement already satisfied: requests in /usr/local/lib/python3.11/dist-packages (from torch_geometric==2.6.1) (2.32.3)\n",
            "Requirement already satisfied: wrapt in /usr/local/lib/python3.11/dist-packages (from smart-open>=1.8.1->gensim==4.3.3) (1.17.2)\n",
            "Requirement already satisfied: aiohappyeyeballs>=2.3.0 in /usr/local/lib/python3.11/dist-packages (from aiohttp->torch_geometric==2.6.1) (2.6.1)\n",
            "Requirement already satisfied: aiosignal>=1.1.2 in /usr/local/lib/python3.11/dist-packages (from aiohttp->torch_geometric==2.6.1) (1.3.2)\n",
            "Requirement already satisfied: attrs>=17.3.0 in /usr/local/lib/python3.11/dist-packages (from aiohttp->torch_geometric==2.6.1) (25.3.0)\n",
            "Requirement already satisfied: frozenlist>=1.1.1 in /usr/local/lib/python3.11/dist-packages (from aiohttp->torch_geometric==2.6.1) (1.6.0)\n",
            "Requirement already satisfied: multidict<7.0,>=4.5 in /usr/local/lib/python3.11/dist-packages (from aiohttp->torch_geometric==2.6.1) (6.4.3)\n",
            "Requirement already satisfied: propcache>=0.2.0 in /usr/local/lib/python3.11/dist-packages (from aiohttp->torch_geometric==2.6.1) (0.3.1)\n",
            "Requirement already satisfied: yarl<2.0,>=1.17.0 in /usr/local/lib/python3.11/dist-packages (from aiohttp->torch_geometric==2.6.1) (1.20.0)\n",
            "Requirement already satisfied: MarkupSafe>=2.0 in /usr/local/lib/python3.11/dist-packages (from jinja2->torch_geometric==2.6.1) (3.0.2)\n",
            "Requirement already satisfied: charset-normalizer<4,>=2 in /usr/local/lib/python3.11/dist-packages (from requests->torch_geometric==2.6.1) (3.4.2)\n",
            "Requirement already satisfied: idna<4,>=2.5 in /usr/local/lib/python3.11/dist-packages (from requests->torch_geometric==2.6.1) (3.10)\n",
            "Requirement already satisfied: urllib3<3,>=1.21.1 in /usr/local/lib/python3.11/dist-packages (from requests->torch_geometric==2.6.1) (2.4.0)\n",
            "Requirement already satisfied: certifi>=2017.4.17 in /usr/local/lib/python3.11/dist-packages (from requests->torch_geometric==2.6.1) (2025.4.26)\n"
          ]
        }
      ],
      "source": [
        "!pip install numpy==1.26.4 scipy==1.13.1 gensim==4.3.3 node2vec==0.5.0 torch_geometric==2.6.1"
      ]
    },
    {
      "cell_type": "code",
      "execution_count": 2,
      "id": "990a4369",
      "metadata": {
        "colab": {
          "base_uri": "https://localhost:8080/",
          "height": 424
        },
        "id": "990a4369",
        "outputId": "297b48c5-f4a0-4ade-92e9-a86a3a2686c7"
      },
      "outputs": [
        {
          "data": {
            "text/html": [
              "<div>\n",
              "<style scoped>\n",
              "    .dataframe tbody tr th:only-of-type {\n",
              "        vertical-align: middle;\n",
              "    }\n",
              "\n",
              "    .dataframe tbody tr th {\n",
              "        vertical-align: top;\n",
              "    }\n",
              "\n",
              "    .dataframe thead th {\n",
              "        text-align: right;\n",
              "    }\n",
              "</style>\n",
              "<table border=\"1\" class=\"dataframe\">\n",
              "  <thead>\n",
              "    <tr style=\"text-align: right;\">\n",
              "      <th></th>\n",
              "      <th>code</th>\n",
              "      <th>language</th>\n",
              "    </tr>\n",
              "  </thead>\n",
              "  <tbody>\n",
              "    <tr>\n",
              "      <th>0</th>\n",
              "      <td>var result = testObj1 | testObj2;\\...</td>\n",
              "      <td>c-sharp</td>\n",
              "    </tr>\n",
              "    <tr>\n",
              "      <th>1</th>\n",
              "      <td>///     Initializes a new instance of ...</td>\n",
              "      <td>c-sharp</td>\n",
              "    </tr>\n",
              "    <tr>\n",
              "      <th>2</th>\n",
              "      <td>/*\\n\\n     Explanation :- a user gives a Strin...</td>\n",
              "      <td>javascript</td>\n",
              "    </tr>\n",
              "    <tr>\n",
              "      <th>3</th>\n",
              "      <td>int sum = 0;\\n\\n         for (int i = ...</td>\n",
              "      <td>c-plus-plus</td>\n",
              "    </tr>\n",
              "    <tr>\n",
              "      <th>4</th>\n",
              "      <td>if (p-&gt;data &lt; min)\\n\\n         {\\n\\n  ...</td>\n",
              "      <td>c</td>\n",
              "    </tr>\n",
              "    <tr>\n",
              "      <th>...</th>\n",
              "      <td>...</td>\n",
              "      <td>...</td>\n",
              "    </tr>\n",
              "    <tr>\n",
              "      <th>45623</th>\n",
              "      <td>check = 3\\n\\n     x = len(coordinates)...</td>\n",
              "      <td>python</td>\n",
              "    </tr>\n",
              "    <tr>\n",
              "      <th>45624</th>\n",
              "      <td>self.fib_array.append(0)\\n\\n      ...</td>\n",
              "      <td>python</td>\n",
              "    </tr>\n",
              "    <tr>\n",
              "      <th>45625</th>\n",
              "      <td>do {\\n\\n         std::cout &lt;&lt; \"\\n1. Insert...</td>\n",
              "      <td>c-plus-plus</td>\n",
              "    </tr>\n",
              "    <tr>\n",
              "      <th>45626</th>\n",
              "      <td>package Sorts;\\n\\n import java.util.Arrays;\\n\\...</td>\n",
              "      <td>java</td>\n",
              "    </tr>\n",
              "    <tr>\n",
              "      <th>45627</th>\n",
              "      <td>calculateInDegree();\\n\\n         Queue...</td>\n",
              "      <td>java</td>\n",
              "    </tr>\n",
              "  </tbody>\n",
              "</table>\n",
              "<p>45628 rows × 2 columns</p>\n",
              "</div>"
            ],
            "text/plain": [
              "                                                    code     language\n",
              "0                  var result = testObj1 | testObj2;\\...      c-sharp\n",
              "1              ///     Initializes a new instance of ...      c-sharp\n",
              "2      /*\\n\\n     Explanation :- a user gives a Strin...   javascript\n",
              "3              int sum = 0;\\n\\n         for (int i = ...  c-plus-plus\n",
              "4              if (p->data < min)\\n\\n         {\\n\\n  ...            c\n",
              "...                                                  ...          ...\n",
              "45623          check = 3\\n\\n     x = len(coordinates)...       python\n",
              "45624              self.fib_array.append(0)\\n\\n      ...       python\n",
              "45625      do {\\n\\n         std::cout << \"\\n1. Insert...  c-plus-plus\n",
              "45626  package Sorts;\\n\\n import java.util.Arrays;\\n\\...         java\n",
              "45627          calculateInDegree();\\n\\n         Queue...         java\n",
              "\n",
              "[45628 rows x 2 columns]"
            ]
          },
          "execution_count": 2,
          "metadata": {},
          "output_type": "execute_result"
        }
      ],
      "source": [
        "df = pd.read_csv('data/df.csv').drop(columns=['id'])\n",
        "df"
      ]
    },
    {
      "cell_type": "code",
      "execution_count": 3,
      "id": "80165062",
      "metadata": {
        "colab": {
          "base_uri": "https://localhost:8080/"
        },
        "id": "80165062",
        "outputId": "743bc0da-3ce2-4c6e-82f3-fb8bd09e7704"
      },
      "outputs": [
        {
          "name": "stdout",
          "output_type": "stream",
          "text": [
            "<class 'pandas.core.frame.DataFrame'>\n",
            "RangeIndex: 45628 entries, 0 to 45627\n",
            "Data columns (total 2 columns):\n",
            " #   Column    Non-Null Count  Dtype \n",
            "---  ------    --------------  ----- \n",
            " 0   code      45628 non-null  object\n",
            " 1   language  45628 non-null  object\n",
            "dtypes: object(2)\n",
            "memory usage: 713.1+ KB\n"
          ]
        }
      ],
      "source": [
        "df.info()"
      ]
    },
    {
      "cell_type": "code",
      "execution_count": 4,
      "id": "0cfd6b3d",
      "metadata": {
        "colab": {
          "base_uri": "https://localhost:8080/",
          "height": 424
        },
        "id": "0cfd6b3d",
        "outputId": "ee03c2a0-fdcc-4689-bfb1-242a86c52704"
      },
      "outputs": [
        {
          "data": {
            "text/html": [
              "<div>\n",
              "<style scoped>\n",
              "    .dataframe tbody tr th:only-of-type {\n",
              "        vertical-align: middle;\n",
              "    }\n",
              "\n",
              "    .dataframe tbody tr th {\n",
              "        vertical-align: top;\n",
              "    }\n",
              "\n",
              "    .dataframe thead th {\n",
              "        text-align: right;\n",
              "    }\n",
              "</style>\n",
              "<table border=\"1\" class=\"dataframe\">\n",
              "  <thead>\n",
              "    <tr style=\"text-align: right;\">\n",
              "      <th></th>\n",
              "      <th>code</th>\n",
              "      <th>language</th>\n",
              "      <th>label</th>\n",
              "    </tr>\n",
              "  </thead>\n",
              "  <tbody>\n",
              "    <tr>\n",
              "      <th>25754</th>\n",
              "      <td>\"\"\"\\n\\n def solution(numerator: int = 1, digit...</td>\n",
              "      <td>python</td>\n",
              "      <td>11</td>\n",
              "    </tr>\n",
              "    <tr>\n",
              "      <th>628</th>\n",
              "      <td>test('Test Case 5', () =&gt; {\\n\\n   expect(rodCu...</td>\n",
              "      <td>javascript</td>\n",
              "      <td>8</td>\n",
              "    </tr>\n",
              "    <tr>\n",
              "      <th>26084</th>\n",
              "      <td>for (size_t i = 0; i &lt; shift; i++) {\\n\\n  ...</td>\n",
              "      <td>c-plus-plus</td>\n",
              "      <td>2</td>\n",
              "    </tr>\n",
              "    <tr>\n",
              "      <th>37781</th>\n",
              "      <td>\"v\": 0.00978,\\n\\n             \"w\":...</td>\n",
              "      <td>python</td>\n",
              "      <td>11</td>\n",
              "    </tr>\n",
              "    <tr>\n",
              "      <th>21109</th>\n",
              "      <td>n = len(array)\\n\\n     # Size of matrix cr...</td>\n",
              "      <td>python</td>\n",
              "      <td>11</td>\n",
              "    </tr>\n",
              "    <tr>\n",
              "      <th>...</th>\n",
              "      <td>...</td>\n",
              "      <td>...</td>\n",
              "      <td>...</td>\n",
              "    </tr>\n",
              "    <tr>\n",
              "      <th>12426</th>\n",
              "      <td>void myfunc(void)\\n\\n {\\n\\n     cout&lt;&lt;\"asda\"&lt;&lt;...</td>\n",
              "      <td>c-plus-plus</td>\n",
              "      <td>2</td>\n",
              "    </tr>\n",
              "    <tr>\n",
              "      <th>35684</th>\n",
              "      <td>float pid_step(struct pid *controller, float d...</td>\n",
              "      <td>c</td>\n",
              "      <td>1</td>\n",
              "    </tr>\n",
              "    <tr>\n",
              "      <th>14458</th>\n",
              "      <td>}\\n\\n   return /^[^\\s@]+@[^\\s@]+\\.[^\\s@]+$/....</td>\n",
              "      <td>javascript</td>\n",
              "      <td>8</td>\n",
              "    </tr>\n",
              "    <tr>\n",
              "      <th>18841</th>\n",
              "      <td>return (sums ** 2) - sumOfSquares // differe...</td>\n",
              "      <td>javascript</td>\n",
              "      <td>8</td>\n",
              "    </tr>\n",
              "    <tr>\n",
              "      <th>7040</th>\n",
              "      <td># 3. Compare all cards in reverse orde...</td>\n",
              "      <td>python</td>\n",
              "      <td>11</td>\n",
              "    </tr>\n",
              "  </tbody>\n",
              "</table>\n",
              "<p>2282 rows × 3 columns</p>\n",
              "</div>"
            ],
            "text/plain": [
              "                                                    code     language  label\n",
              "25754  \"\"\"\\n\\n def solution(numerator: int = 1, digit...       python     11\n",
              "628    test('Test Case 5', () => {\\n\\n   expect(rodCu...   javascript      8\n",
              "26084      for (size_t i = 0; i < shift; i++) {\\n\\n  ...  c-plus-plus      2\n",
              "37781              \"v\": 0.00978,\\n\\n             \"w\":...       python     11\n",
              "21109      n = len(array)\\n\\n     # Size of matrix cr...       python     11\n",
              "...                                                  ...          ...    ...\n",
              "12426  void myfunc(void)\\n\\n {\\n\\n     cout<<\"asda\"<<...  c-plus-plus      2\n",
              "35684  float pid_step(struct pid *controller, float d...            c      1\n",
              "14458    }\\n\\n   return /^[^\\s@]+@[^\\s@]+\\.[^\\s@]+$/....   javascript      8\n",
              "18841    return (sums ** 2) - sumOfSquares // differe...   javascript      8\n",
              "7040           # 3. Compare all cards in reverse orde...       python     11\n",
              "\n",
              "[2282 rows x 3 columns]"
            ]
          },
          "execution_count": 4,
          "metadata": {},
          "output_type": "execute_result"
        }
      ],
      "source": [
        "labelenc = LabelEncoder()\n",
        "labelenc.fit(df['language'])\n",
        "df['label'] = labelenc.transform(df['language'])\n",
        "\n",
        "train_val_df, test_df = train_test_split(df, test_size=0.05, random_state=42)\n",
        "\n",
        "train_df, val_df = train_test_split(train_val_df, test_size=0.2/0.95, random_state=42)\n",
        "test_df"
      ]
    },
    {
      "cell_type": "code",
      "execution_count": 5,
      "id": "1fc641c7",
      "metadata": {},
      "outputs": [
        {
          "name": "stdout",
          "output_type": "stream",
          "text": [
            "{0: 'R', 1: 'c', 2: 'c-plus-plus', 3: 'c-sharp', 4: 'dart', 5: 'f-sharp', 6: 'go', 7: 'java', 8: 'javascript', 9: 'julia', 10: 'php', 11: 'python', 12: 'ruby', 13: 'scala', 14: 'swift'}\n"
          ]
        }
      ],
      "source": [
        "label_to_language = dict(zip(labelenc.transform(labelenc.classes_), labelenc.classes_))\n",
        "\n",
        "print(label_to_language)"
      ]
    },
    {
      "cell_type": "code",
      "execution_count": 6,
      "id": "7fb38d57",
      "metadata": {
        "colab": {
          "base_uri": "https://localhost:8080/",
          "height": 517
        },
        "id": "7fb38d57",
        "outputId": "7b3384b8-35a7-4641-beff-7372fd2a520c"
      },
      "outputs": [
        {
          "data": {
            "application/vnd.plotly.v1+json": {
              "config": {
                "plotlyServerURL": "https://plot.ly"
              },
              "data": [
                {
                  "alignmentgroup": "True",
                  "hovertemplate": "Язык=%{x}<br>Количество=%{y}<extra></extra>",
                  "legendgroup": "python",
                  "marker": {
                    "color": "#636efa",
                    "pattern": {
                      "shape": ""
                    }
                  },
                  "name": "python",
                  "offsetgroup": "python",
                  "orientation": "v",
                  "showlegend": true,
                  "textposition": "auto",
                  "type": "bar",
                  "x": [
                    "python"
                  ],
                  "xaxis": "x",
                  "y": [
                    12678
                  ],
                  "yaxis": "y"
                },
                {
                  "alignmentgroup": "True",
                  "hovertemplate": "Язык=%{x}<br>Количество=%{y}<extra></extra>",
                  "legendgroup": "c-plus-plus",
                  "marker": {
                    "color": "#EF553B",
                    "pattern": {
                      "shape": ""
                    }
                  },
                  "name": "c-plus-plus",
                  "offsetgroup": "c-plus-plus",
                  "orientation": "v",
                  "showlegend": true,
                  "textposition": "auto",
                  "type": "bar",
                  "x": [
                    "c-plus-plus"
                  ],
                  "xaxis": "x",
                  "y": [
                    11277
                  ],
                  "yaxis": "y"
                },
                {
                  "alignmentgroup": "True",
                  "hovertemplate": "Язык=%{x}<br>Количество=%{y}<extra></extra>",
                  "legendgroup": "c",
                  "marker": {
                    "color": "#00cc96",
                    "pattern": {
                      "shape": ""
                    }
                  },
                  "name": "c",
                  "offsetgroup": "c",
                  "orientation": "v",
                  "showlegend": true,
                  "textposition": "auto",
                  "type": "bar",
                  "x": [
                    "c"
                  ],
                  "xaxis": "x",
                  "y": [
                    4565
                  ],
                  "yaxis": "y"
                },
                {
                  "alignmentgroup": "True",
                  "hovertemplate": "Язык=%{x}<br>Количество=%{y}<extra></extra>",
                  "legendgroup": "java",
                  "marker": {
                    "color": "#ab63fa",
                    "pattern": {
                      "shape": ""
                    }
                  },
                  "name": "java",
                  "offsetgroup": "java",
                  "orientation": "v",
                  "showlegend": true,
                  "textposition": "auto",
                  "type": "bar",
                  "x": [
                    "java"
                  ],
                  "xaxis": "x",
                  "y": [
                    4318
                  ],
                  "yaxis": "y"
                },
                {
                  "alignmentgroup": "True",
                  "hovertemplate": "Язык=%{x}<br>Количество=%{y}<extra></extra>",
                  "legendgroup": "c-sharp",
                  "marker": {
                    "color": "#FFA15A",
                    "pattern": {
                      "shape": ""
                    }
                  },
                  "name": "c-sharp",
                  "offsetgroup": "c-sharp",
                  "orientation": "v",
                  "showlegend": true,
                  "textposition": "auto",
                  "type": "bar",
                  "x": [
                    "c-sharp"
                  ],
                  "xaxis": "x",
                  "y": [
                    3890
                  ],
                  "yaxis": "y"
                },
                {
                  "alignmentgroup": "True",
                  "hovertemplate": "Язык=%{x}<br>Количество=%{y}<extra></extra>",
                  "legendgroup": "javascript",
                  "marker": {
                    "color": "#19d3f3",
                    "pattern": {
                      "shape": ""
                    }
                  },
                  "name": "javascript",
                  "offsetgroup": "javascript",
                  "orientation": "v",
                  "showlegend": true,
                  "textposition": "auto",
                  "type": "bar",
                  "x": [
                    "javascript"
                  ],
                  "xaxis": "x",
                  "y": [
                    2701
                  ],
                  "yaxis": "y"
                },
                {
                  "alignmentgroup": "True",
                  "hovertemplate": "Язык=%{x}<br>Количество=%{y}<extra></extra>",
                  "legendgroup": "go",
                  "marker": {
                    "color": "#FF6692",
                    "pattern": {
                      "shape": ""
                    }
                  },
                  "name": "go",
                  "offsetgroup": "go",
                  "orientation": "v",
                  "showlegend": true,
                  "textposition": "auto",
                  "type": "bar",
                  "x": [
                    "go"
                  ],
                  "xaxis": "x",
                  "y": [
                    1981
                  ],
                  "yaxis": "y"
                },
                {
                  "alignmentgroup": "True",
                  "hovertemplate": "Язык=%{x}<br>Количество=%{y}<extra></extra>",
                  "legendgroup": "ruby",
                  "marker": {
                    "color": "#B6E880",
                    "pattern": {
                      "shape": ""
                    }
                  },
                  "name": "ruby",
                  "offsetgroup": "ruby",
                  "orientation": "v",
                  "showlegend": true,
                  "textposition": "auto",
                  "type": "bar",
                  "x": [
                    "ruby"
                  ],
                  "xaxis": "x",
                  "y": [
                    1117
                  ],
                  "yaxis": "y"
                },
                {
                  "alignmentgroup": "True",
                  "hovertemplate": "Язык=%{x}<br>Количество=%{y}<extra></extra>",
                  "legendgroup": "dart",
                  "marker": {
                    "color": "#FF97FF",
                    "pattern": {
                      "shape": ""
                    }
                  },
                  "name": "dart",
                  "offsetgroup": "dart",
                  "orientation": "v",
                  "showlegend": true,
                  "textposition": "auto",
                  "type": "bar",
                  "x": [
                    "dart"
                  ],
                  "xaxis": "x",
                  "y": [
                    1023
                  ],
                  "yaxis": "y"
                },
                {
                  "alignmentgroup": "True",
                  "hovertemplate": "Язык=%{x}<br>Количество=%{y}<extra></extra>",
                  "legendgroup": "julia",
                  "marker": {
                    "color": "#FECB52",
                    "pattern": {
                      "shape": ""
                    }
                  },
                  "name": "julia",
                  "offsetgroup": "julia",
                  "orientation": "v",
                  "showlegend": true,
                  "textposition": "auto",
                  "type": "bar",
                  "x": [
                    "julia"
                  ],
                  "xaxis": "x",
                  "y": [
                    1005
                  ],
                  "yaxis": "y"
                },
                {
                  "alignmentgroup": "True",
                  "hovertemplate": "Язык=%{x}<br>Количество=%{y}<extra></extra>",
                  "legendgroup": "swift",
                  "marker": {
                    "color": "#636efa",
                    "pattern": {
                      "shape": ""
                    }
                  },
                  "name": "swift",
                  "offsetgroup": "swift",
                  "orientation": "v",
                  "showlegend": true,
                  "textposition": "auto",
                  "type": "bar",
                  "x": [
                    "swift"
                  ],
                  "xaxis": "x",
                  "y": [
                    260
                  ],
                  "yaxis": "y"
                },
                {
                  "alignmentgroup": "True",
                  "hovertemplate": "Язык=%{x}<br>Количество=%{y}<extra></extra>",
                  "legendgroup": "php",
                  "marker": {
                    "color": "#EF553B",
                    "pattern": {
                      "shape": ""
                    }
                  },
                  "name": "php",
                  "offsetgroup": "php",
                  "orientation": "v",
                  "showlegend": true,
                  "textposition": "auto",
                  "type": "bar",
                  "x": [
                    "php"
                  ],
                  "xaxis": "x",
                  "y": [
                    260
                  ],
                  "yaxis": "y"
                },
                {
                  "alignmentgroup": "True",
                  "hovertemplate": "Язык=%{x}<br>Количество=%{y}<extra></extra>",
                  "legendgroup": "f-sharp",
                  "marker": {
                    "color": "#00cc96",
                    "pattern": {
                      "shape": ""
                    }
                  },
                  "name": "f-sharp",
                  "offsetgroup": "f-sharp",
                  "orientation": "v",
                  "showlegend": true,
                  "textposition": "auto",
                  "type": "bar",
                  "x": [
                    "f-sharp"
                  ],
                  "xaxis": "x",
                  "y": [
                    246
                  ],
                  "yaxis": "y"
                },
                {
                  "alignmentgroup": "True",
                  "hovertemplate": "Язык=%{x}<br>Количество=%{y}<extra></extra>",
                  "legendgroup": "R",
                  "marker": {
                    "color": "#ab63fa",
                    "pattern": {
                      "shape": ""
                    }
                  },
                  "name": "R",
                  "offsetgroup": "R",
                  "orientation": "v",
                  "showlegend": true,
                  "textposition": "auto",
                  "type": "bar",
                  "x": [
                    "R"
                  ],
                  "xaxis": "x",
                  "y": [
                    160
                  ],
                  "yaxis": "y"
                },
                {
                  "alignmentgroup": "True",
                  "hovertemplate": "Язык=%{x}<br>Количество=%{y}<extra></extra>",
                  "legendgroup": "scala",
                  "marker": {
                    "color": "#FFA15A",
                    "pattern": {
                      "shape": ""
                    }
                  },
                  "name": "scala",
                  "offsetgroup": "scala",
                  "orientation": "v",
                  "showlegend": true,
                  "textposition": "auto",
                  "type": "bar",
                  "x": [
                    "scala"
                  ],
                  "xaxis": "x",
                  "y": [
                    147
                  ],
                  "yaxis": "y"
                }
              ],
              "layout": {
                "barmode": "relative",
                "height": 500,
                "legend": {
                  "title": {
                    "text": "Язык"
                  },
                  "tracegroupgap": 0
                },
                "template": {
                  "data": {
                    "bar": [
                      {
                        "error_x": {
                          "color": "#2a3f5f"
                        },
                        "error_y": {
                          "color": "#2a3f5f"
                        },
                        "marker": {
                          "line": {
                            "color": "white",
                            "width": 0.5
                          },
                          "pattern": {
                            "fillmode": "overlay",
                            "size": 10,
                            "solidity": 0.2
                          }
                        },
                        "type": "bar"
                      }
                    ],
                    "barpolar": [
                      {
                        "marker": {
                          "line": {
                            "color": "white",
                            "width": 0.5
                          },
                          "pattern": {
                            "fillmode": "overlay",
                            "size": 10,
                            "solidity": 0.2
                          }
                        },
                        "type": "barpolar"
                      }
                    ],
                    "carpet": [
                      {
                        "aaxis": {
                          "endlinecolor": "#2a3f5f",
                          "gridcolor": "#C8D4E3",
                          "linecolor": "#C8D4E3",
                          "minorgridcolor": "#C8D4E3",
                          "startlinecolor": "#2a3f5f"
                        },
                        "baxis": {
                          "endlinecolor": "#2a3f5f",
                          "gridcolor": "#C8D4E3",
                          "linecolor": "#C8D4E3",
                          "minorgridcolor": "#C8D4E3",
                          "startlinecolor": "#2a3f5f"
                        },
                        "type": "carpet"
                      }
                    ],
                    "choropleth": [
                      {
                        "colorbar": {
                          "outlinewidth": 0,
                          "ticks": ""
                        },
                        "type": "choropleth"
                      }
                    ],
                    "contour": [
                      {
                        "colorbar": {
                          "outlinewidth": 0,
                          "ticks": ""
                        },
                        "colorscale": [
                          [
                            0,
                            "#0d0887"
                          ],
                          [
                            0.1111111111111111,
                            "#46039f"
                          ],
                          [
                            0.2222222222222222,
                            "#7201a8"
                          ],
                          [
                            0.3333333333333333,
                            "#9c179e"
                          ],
                          [
                            0.4444444444444444,
                            "#bd3786"
                          ],
                          [
                            0.5555555555555556,
                            "#d8576b"
                          ],
                          [
                            0.6666666666666666,
                            "#ed7953"
                          ],
                          [
                            0.7777777777777778,
                            "#fb9f3a"
                          ],
                          [
                            0.8888888888888888,
                            "#fdca26"
                          ],
                          [
                            1,
                            "#f0f921"
                          ]
                        ],
                        "type": "contour"
                      }
                    ],
                    "contourcarpet": [
                      {
                        "colorbar": {
                          "outlinewidth": 0,
                          "ticks": ""
                        },
                        "type": "contourcarpet"
                      }
                    ],
                    "heatmap": [
                      {
                        "colorbar": {
                          "outlinewidth": 0,
                          "ticks": ""
                        },
                        "colorscale": [
                          [
                            0,
                            "#0d0887"
                          ],
                          [
                            0.1111111111111111,
                            "#46039f"
                          ],
                          [
                            0.2222222222222222,
                            "#7201a8"
                          ],
                          [
                            0.3333333333333333,
                            "#9c179e"
                          ],
                          [
                            0.4444444444444444,
                            "#bd3786"
                          ],
                          [
                            0.5555555555555556,
                            "#d8576b"
                          ],
                          [
                            0.6666666666666666,
                            "#ed7953"
                          ],
                          [
                            0.7777777777777778,
                            "#fb9f3a"
                          ],
                          [
                            0.8888888888888888,
                            "#fdca26"
                          ],
                          [
                            1,
                            "#f0f921"
                          ]
                        ],
                        "type": "heatmap"
                      }
                    ],
                    "heatmapgl": [
                      {
                        "colorbar": {
                          "outlinewidth": 0,
                          "ticks": ""
                        },
                        "colorscale": [
                          [
                            0,
                            "#0d0887"
                          ],
                          [
                            0.1111111111111111,
                            "#46039f"
                          ],
                          [
                            0.2222222222222222,
                            "#7201a8"
                          ],
                          [
                            0.3333333333333333,
                            "#9c179e"
                          ],
                          [
                            0.4444444444444444,
                            "#bd3786"
                          ],
                          [
                            0.5555555555555556,
                            "#d8576b"
                          ],
                          [
                            0.6666666666666666,
                            "#ed7953"
                          ],
                          [
                            0.7777777777777778,
                            "#fb9f3a"
                          ],
                          [
                            0.8888888888888888,
                            "#fdca26"
                          ],
                          [
                            1,
                            "#f0f921"
                          ]
                        ],
                        "type": "heatmapgl"
                      }
                    ],
                    "histogram": [
                      {
                        "marker": {
                          "pattern": {
                            "fillmode": "overlay",
                            "size": 10,
                            "solidity": 0.2
                          }
                        },
                        "type": "histogram"
                      }
                    ],
                    "histogram2d": [
                      {
                        "colorbar": {
                          "outlinewidth": 0,
                          "ticks": ""
                        },
                        "colorscale": [
                          [
                            0,
                            "#0d0887"
                          ],
                          [
                            0.1111111111111111,
                            "#46039f"
                          ],
                          [
                            0.2222222222222222,
                            "#7201a8"
                          ],
                          [
                            0.3333333333333333,
                            "#9c179e"
                          ],
                          [
                            0.4444444444444444,
                            "#bd3786"
                          ],
                          [
                            0.5555555555555556,
                            "#d8576b"
                          ],
                          [
                            0.6666666666666666,
                            "#ed7953"
                          ],
                          [
                            0.7777777777777778,
                            "#fb9f3a"
                          ],
                          [
                            0.8888888888888888,
                            "#fdca26"
                          ],
                          [
                            1,
                            "#f0f921"
                          ]
                        ],
                        "type": "histogram2d"
                      }
                    ],
                    "histogram2dcontour": [
                      {
                        "colorbar": {
                          "outlinewidth": 0,
                          "ticks": ""
                        },
                        "colorscale": [
                          [
                            0,
                            "#0d0887"
                          ],
                          [
                            0.1111111111111111,
                            "#46039f"
                          ],
                          [
                            0.2222222222222222,
                            "#7201a8"
                          ],
                          [
                            0.3333333333333333,
                            "#9c179e"
                          ],
                          [
                            0.4444444444444444,
                            "#bd3786"
                          ],
                          [
                            0.5555555555555556,
                            "#d8576b"
                          ],
                          [
                            0.6666666666666666,
                            "#ed7953"
                          ],
                          [
                            0.7777777777777778,
                            "#fb9f3a"
                          ],
                          [
                            0.8888888888888888,
                            "#fdca26"
                          ],
                          [
                            1,
                            "#f0f921"
                          ]
                        ],
                        "type": "histogram2dcontour"
                      }
                    ],
                    "mesh3d": [
                      {
                        "colorbar": {
                          "outlinewidth": 0,
                          "ticks": ""
                        },
                        "type": "mesh3d"
                      }
                    ],
                    "parcoords": [
                      {
                        "line": {
                          "colorbar": {
                            "outlinewidth": 0,
                            "ticks": ""
                          }
                        },
                        "type": "parcoords"
                      }
                    ],
                    "pie": [
                      {
                        "automargin": true,
                        "type": "pie"
                      }
                    ],
                    "scatter": [
                      {
                        "fillpattern": {
                          "fillmode": "overlay",
                          "size": 10,
                          "solidity": 0.2
                        },
                        "type": "scatter"
                      }
                    ],
                    "scatter3d": [
                      {
                        "line": {
                          "colorbar": {
                            "outlinewidth": 0,
                            "ticks": ""
                          }
                        },
                        "marker": {
                          "colorbar": {
                            "outlinewidth": 0,
                            "ticks": ""
                          }
                        },
                        "type": "scatter3d"
                      }
                    ],
                    "scattercarpet": [
                      {
                        "marker": {
                          "colorbar": {
                            "outlinewidth": 0,
                            "ticks": ""
                          }
                        },
                        "type": "scattercarpet"
                      }
                    ],
                    "scattergeo": [
                      {
                        "marker": {
                          "colorbar": {
                            "outlinewidth": 0,
                            "ticks": ""
                          }
                        },
                        "type": "scattergeo"
                      }
                    ],
                    "scattergl": [
                      {
                        "marker": {
                          "colorbar": {
                            "outlinewidth": 0,
                            "ticks": ""
                          }
                        },
                        "type": "scattergl"
                      }
                    ],
                    "scattermapbox": [
                      {
                        "marker": {
                          "colorbar": {
                            "outlinewidth": 0,
                            "ticks": ""
                          }
                        },
                        "type": "scattermapbox"
                      }
                    ],
                    "scatterpolar": [
                      {
                        "marker": {
                          "colorbar": {
                            "outlinewidth": 0,
                            "ticks": ""
                          }
                        },
                        "type": "scatterpolar"
                      }
                    ],
                    "scatterpolargl": [
                      {
                        "marker": {
                          "colorbar": {
                            "outlinewidth": 0,
                            "ticks": ""
                          }
                        },
                        "type": "scatterpolargl"
                      }
                    ],
                    "scatterternary": [
                      {
                        "marker": {
                          "colorbar": {
                            "outlinewidth": 0,
                            "ticks": ""
                          }
                        },
                        "type": "scatterternary"
                      }
                    ],
                    "surface": [
                      {
                        "colorbar": {
                          "outlinewidth": 0,
                          "ticks": ""
                        },
                        "colorscale": [
                          [
                            0,
                            "#0d0887"
                          ],
                          [
                            0.1111111111111111,
                            "#46039f"
                          ],
                          [
                            0.2222222222222222,
                            "#7201a8"
                          ],
                          [
                            0.3333333333333333,
                            "#9c179e"
                          ],
                          [
                            0.4444444444444444,
                            "#bd3786"
                          ],
                          [
                            0.5555555555555556,
                            "#d8576b"
                          ],
                          [
                            0.6666666666666666,
                            "#ed7953"
                          ],
                          [
                            0.7777777777777778,
                            "#fb9f3a"
                          ],
                          [
                            0.8888888888888888,
                            "#fdca26"
                          ],
                          [
                            1,
                            "#f0f921"
                          ]
                        ],
                        "type": "surface"
                      }
                    ],
                    "table": [
                      {
                        "cells": {
                          "fill": {
                            "color": "#EBF0F8"
                          },
                          "line": {
                            "color": "white"
                          }
                        },
                        "header": {
                          "fill": {
                            "color": "#C8D4E3"
                          },
                          "line": {
                            "color": "white"
                          }
                        },
                        "type": "table"
                      }
                    ]
                  },
                  "layout": {
                    "annotationdefaults": {
                      "arrowcolor": "#2a3f5f",
                      "arrowhead": 0,
                      "arrowwidth": 1
                    },
                    "autotypenumbers": "strict",
                    "coloraxis": {
                      "colorbar": {
                        "outlinewidth": 0,
                        "ticks": ""
                      }
                    },
                    "colorscale": {
                      "diverging": [
                        [
                          0,
                          "#8e0152"
                        ],
                        [
                          0.1,
                          "#c51b7d"
                        ],
                        [
                          0.2,
                          "#de77ae"
                        ],
                        [
                          0.3,
                          "#f1b6da"
                        ],
                        [
                          0.4,
                          "#fde0ef"
                        ],
                        [
                          0.5,
                          "#f7f7f7"
                        ],
                        [
                          0.6,
                          "#e6f5d0"
                        ],
                        [
                          0.7,
                          "#b8e186"
                        ],
                        [
                          0.8,
                          "#7fbc41"
                        ],
                        [
                          0.9,
                          "#4d9221"
                        ],
                        [
                          1,
                          "#276419"
                        ]
                      ],
                      "sequential": [
                        [
                          0,
                          "#0d0887"
                        ],
                        [
                          0.1111111111111111,
                          "#46039f"
                        ],
                        [
                          0.2222222222222222,
                          "#7201a8"
                        ],
                        [
                          0.3333333333333333,
                          "#9c179e"
                        ],
                        [
                          0.4444444444444444,
                          "#bd3786"
                        ],
                        [
                          0.5555555555555556,
                          "#d8576b"
                        ],
                        [
                          0.6666666666666666,
                          "#ed7953"
                        ],
                        [
                          0.7777777777777778,
                          "#fb9f3a"
                        ],
                        [
                          0.8888888888888888,
                          "#fdca26"
                        ],
                        [
                          1,
                          "#f0f921"
                        ]
                      ],
                      "sequentialminus": [
                        [
                          0,
                          "#0d0887"
                        ],
                        [
                          0.1111111111111111,
                          "#46039f"
                        ],
                        [
                          0.2222222222222222,
                          "#7201a8"
                        ],
                        [
                          0.3333333333333333,
                          "#9c179e"
                        ],
                        [
                          0.4444444444444444,
                          "#bd3786"
                        ],
                        [
                          0.5555555555555556,
                          "#d8576b"
                        ],
                        [
                          0.6666666666666666,
                          "#ed7953"
                        ],
                        [
                          0.7777777777777778,
                          "#fb9f3a"
                        ],
                        [
                          0.8888888888888888,
                          "#fdca26"
                        ],
                        [
                          1,
                          "#f0f921"
                        ]
                      ]
                    },
                    "colorway": [
                      "#636efa",
                      "#EF553B",
                      "#00cc96",
                      "#ab63fa",
                      "#FFA15A",
                      "#19d3f3",
                      "#FF6692",
                      "#B6E880",
                      "#FF97FF",
                      "#FECB52"
                    ],
                    "font": {
                      "color": "#2a3f5f"
                    },
                    "geo": {
                      "bgcolor": "white",
                      "lakecolor": "white",
                      "landcolor": "white",
                      "showlakes": true,
                      "showland": true,
                      "subunitcolor": "#C8D4E3"
                    },
                    "hoverlabel": {
                      "align": "left"
                    },
                    "hovermode": "closest",
                    "mapbox": {
                      "style": "light"
                    },
                    "paper_bgcolor": "white",
                    "plot_bgcolor": "white",
                    "polar": {
                      "angularaxis": {
                        "gridcolor": "#EBF0F8",
                        "linecolor": "#EBF0F8",
                        "ticks": ""
                      },
                      "bgcolor": "white",
                      "radialaxis": {
                        "gridcolor": "#EBF0F8",
                        "linecolor": "#EBF0F8",
                        "ticks": ""
                      }
                    },
                    "scene": {
                      "xaxis": {
                        "backgroundcolor": "white",
                        "gridcolor": "#DFE8F3",
                        "gridwidth": 2,
                        "linecolor": "#EBF0F8",
                        "showbackground": true,
                        "ticks": "",
                        "zerolinecolor": "#EBF0F8"
                      },
                      "yaxis": {
                        "backgroundcolor": "white",
                        "gridcolor": "#DFE8F3",
                        "gridwidth": 2,
                        "linecolor": "#EBF0F8",
                        "showbackground": true,
                        "ticks": "",
                        "zerolinecolor": "#EBF0F8"
                      },
                      "zaxis": {
                        "backgroundcolor": "white",
                        "gridcolor": "#DFE8F3",
                        "gridwidth": 2,
                        "linecolor": "#EBF0F8",
                        "showbackground": true,
                        "ticks": "",
                        "zerolinecolor": "#EBF0F8"
                      }
                    },
                    "shapedefaults": {
                      "line": {
                        "color": "#2a3f5f"
                      }
                    },
                    "ternary": {
                      "aaxis": {
                        "gridcolor": "#DFE8F3",
                        "linecolor": "#A2B1C6",
                        "ticks": ""
                      },
                      "baxis": {
                        "gridcolor": "#DFE8F3",
                        "linecolor": "#A2B1C6",
                        "ticks": ""
                      },
                      "bgcolor": "white",
                      "caxis": {
                        "gridcolor": "#DFE8F3",
                        "linecolor": "#A2B1C6",
                        "ticks": ""
                      }
                    },
                    "title": {
                      "x": 0.05
                    },
                    "xaxis": {
                      "automargin": true,
                      "gridcolor": "#EBF0F8",
                      "linecolor": "#EBF0F8",
                      "ticks": "",
                      "title": {
                        "standoff": 15
                      },
                      "zerolinecolor": "#EBF0F8",
                      "zerolinewidth": 2
                    },
                    "yaxis": {
                      "automargin": true,
                      "gridcolor": "#EBF0F8",
                      "linecolor": "#EBF0F8",
                      "ticks": "",
                      "title": {
                        "standoff": 15
                      },
                      "zerolinecolor": "#EBF0F8",
                      "zerolinewidth": 2
                    }
                  }
                },
                "title": {
                  "text": "Распределение языков программирования"
                },
                "width": 1000,
                "xaxis": {
                  "anchor": "y",
                  "categoryarray": [
                    "python",
                    "c-plus-plus",
                    "c",
                    "java",
                    "c-sharp",
                    "javascript",
                    "go",
                    "ruby",
                    "dart",
                    "julia",
                    "swift",
                    "php",
                    "f-sharp",
                    "R",
                    "scala"
                  ],
                  "categoryorder": "array",
                  "domain": [
                    0,
                    1
                  ],
                  "title": {
                    "text": "Язык"
                  }
                },
                "yaxis": {
                  "anchor": "x",
                  "domain": [
                    0,
                    1
                  ],
                  "title": {
                    "text": "Количество"
                  }
                }
              }
            }
          },
          "metadata": {},
          "output_type": "display_data"
        }
      ],
      "source": [
        "lang_counts = df['language'].value_counts().reset_index()\n",
        "lang_counts.columns = ['language', 'count']\n",
        "\n",
        "fig = px.bar(lang_counts,\n",
        "             x='language',\n",
        "             y='count',\n",
        "             color='language',\n",
        "             title='Распределение языков программирования',\n",
        "             labels={'language': 'Язык', 'count': 'Количество'},\n",
        "             template='plotly_white',\n",
        "             width=1000, height=500)\n",
        "fig.show()\n"
      ]
    },
    {
      "cell_type": "markdown",
      "id": "8fdbac45",
      "metadata": {
        "id": "8fdbac45"
      },
      "source": [
        "### Word2Vec + FC"
      ]
    },
    {
      "cell_type": "code",
      "execution_count": 7,
      "id": "d02bde49",
      "metadata": {
        "id": "d02bde49"
      },
      "outputs": [],
      "source": [
        "def preprocess_code(code: str) -> str:\n",
        "    code = re.sub(r'(\".*?\")|(//.*?$|#.*?$|--.*?$)', lambda m: m.group(1) or \"\", code, flags=re.MULTILINE) # не внутри строк\n",
        "\n",
        "    code = re.sub(\n",
        "        r'(\"\"\".*?\"\"\"|\\'\\'\\'.*?\\'\\'\\'|\".*?\"|\\'.*?\\')|/\\*.*?\\*/',\n",
        "        lambda m: m.group(1) or \"\",\n",
        "        code,\n",
        "        flags=re.DOTALL # многострочные\n",
        "    )\n",
        "\n",
        "    return code\n",
        "\n",
        "def tokenize_code(code: str) -> list[str]:\n",
        "    processed = preprocess_code(code)\n",
        "\n",
        "    tokens = re.findall(\n",
        "        r\"\"\"\n",
        "        \\\"\\\"\\\".*?\\\"\\\"\\\"|'''[\\s\\S]*?'''|   # многострочные строки\n",
        "        \"(?:\\\\.|[^\\\\\"])*\"|                # строки в двойных кавычках\n",
        "        '(?:\\\\.|[^\\\\'])*'|                # строки в одинарных кавычках\n",
        "        \\b[\\d]+(?:\\.[\\d]*)?\\b|            # числа\n",
        "        \\b[a-zA-Z_][\\w]*\\b|               # идентификаторы\n",
        "        ::|==|!=|<=|>=|                   # составные операторы\n",
        "        [+/*\\-=%&|^<>!~]|                 # одиночные операторы\n",
        "        [(),.;:{}\\[\\]`]                   # скобки и пунктуация\n",
        "        \"\"\",\n",
        "        processed,\n",
        "        re.VERBOSE | re.MULTILINE\n",
        "    )\n",
        "\n",
        "    return [t.strip() for t in tokens if t.strip()]"
      ]
    },
    {
      "cell_type": "code",
      "execution_count": 12,
      "id": "51a780f6",
      "metadata": {
        "colab": {
          "base_uri": "https://localhost:8080/"
        },
        "id": "51a780f6",
        "outputId": "8c4af492-3fff-4ede-d5d7-f24ef42804a1"
      },
      "outputs": [
        {
          "name": "stderr",
          "output_type": "stream",
          "text": [
            "Tokenizing train: 100%|██████████| 34220/34220 [00:00<00:00, 37532.22it/s]\n",
            "Tokenizing val: 100%|██████████| 9126/9126 [00:00<00:00, 37867.15it/s]\n",
            "Tokenizing test: 100%|██████████| 2282/2282 [00:00<00:00, 40035.48it/s]\n",
            "Train embeddings: 100%|██████████| 34220/34220 [00:01<00:00, 19106.21it/s]\n",
            "Val embeddings: 100%|██████████| 9126/9126 [00:00<00:00, 18700.71it/s]\n",
            "Test embeddings: 100%|██████████| 2282/2282 [00:00<00:00, 20003.89it/s]\n"
          ]
        }
      ],
      "source": [
        "train_tokens = [tokenize_code(snippet) for snippet in tqdm(train_df['code'], desc=\"Tokenizing train\")]\n",
        "val_tokens = [tokenize_code(snippet) for snippet in tqdm(val_df['code'], desc=\"Tokenizing val\")]\n",
        "test_tokens = [tokenize_code(snippet) for snippet in tqdm(test_df['code'], desc=\"Tokenizing test\")]\n",
        "\n",
        "word2vec_model = Word2Vec(\n",
        "    sentences=train_tokens + val_tokens + test_tokens,\n",
        "    vector_size=100,\n",
        "    window=5,\n",
        "    min_count=1,\n",
        "    workers=12\n",
        ")\n",
        "\n",
        "def get_doc_embedding(tokens, model):\n",
        "    vectors = []\n",
        "    for token in tokens:\n",
        "        if token in model.wv:\n",
        "            vectors.append(model.wv[token])\n",
        "\n",
        "    if not vectors:\n",
        "        return np.zeros(model.vector_size)\n",
        "\n",
        "    doc_embedding = np.mean(vectors, axis=0)\n",
        "    return doc_embedding\n",
        "\n",
        "train_emb = np.array([get_doc_embedding(tokens, word2vec_model) for tokens in tqdm(train_tokens, desc=\"Train embeddings\")])\n",
        "val_emb = np.array([get_doc_embedding(tokens, word2vec_model) for tokens in tqdm(val_tokens, desc=\"Val embeddings\")])\n",
        "test_emb = np.array([get_doc_embedding(tokens, word2vec_model) for tokens in tqdm(test_tokens, desc=\"Test embeddings\")])"
      ]
    },
    {
      "cell_type": "code",
      "execution_count": 13,
      "id": "f901bb86",
      "metadata": {
        "id": "f901bb86"
      },
      "outputs": [],
      "source": [
        "train_dataset = TensorDataset(\n",
        "    torch.tensor(train_emb, dtype=torch.float32),\n",
        "    torch.tensor(np.array(train_df['label']), dtype=torch.long)\n",
        ")\n",
        "val_dataset = TensorDataset(\n",
        "    torch.tensor(val_emb, dtype=torch.float32),\n",
        "    torch.tensor(np.array(val_df['label']), dtype=torch.long))\n",
        "test_dataset = TensorDataset(\n",
        "    torch.tensor(test_emb, dtype=torch.float32),\n",
        "    torch.tensor(np.array(test_df['label']), dtype=torch.long))\n",
        "\n",
        "batch_size = 128\n",
        "train_loader = DataLoader(train_dataset, batch_size=batch_size, shuffle=True)\n",
        "val_loader = DataLoader(val_dataset, batch_size=batch_size)\n",
        "test_loader = DataLoader(test_dataset, batch_size=batch_size)"
      ]
    },
    {
      "cell_type": "code",
      "execution_count": 26,
      "id": "09adc491",
      "metadata": {
        "id": "09adc491"
      },
      "outputs": [],
      "source": [
        "class FCembed(nn.Module):\n",
        "    def __init__(self, input_dim, hidden_dim_0, hidden_dim_1, output_dim, dropout_rate=0.13):\n",
        "        super().__init__()\n",
        "        self.net = nn.Sequential(\n",
        "            nn.Linear(input_dim, hidden_dim_0),\n",
        "            nn.ReLU(),\n",
        "            nn.Dropout(dropout_rate),\n",
        "            nn.Linear(hidden_dim_0, hidden_dim_1),\n",
        "            nn.ReLU(),\n",
        "            nn.Dropout(dropout_rate),\n",
        "            nn.Linear(hidden_dim_1, output_dim)\n",
        "        )\n",
        "\n",
        "    def forward(self, x):\n",
        "        return self.net(x)"
      ]
    },
    {
      "cell_type": "code",
      "execution_count": 19,
      "id": "3903ef58",
      "metadata": {
        "id": "3903ef58"
      },
      "outputs": [],
      "source": [
        "input_dim = word2vec_model.vector_size\n",
        "output_dim = len(lang_counts)\n",
        "\n",
        "model = FCembed(input_dim, 32, 64, output_dim)\n",
        "criterion = nn.CrossEntropyLoss()\n",
        "optimizer = optim.AdamW(model.parameters(), lr=0.002, weight_decay=5e-4)\n",
        "scheduler = torch.optim.lr_scheduler.CosineAnnealingLR(optimizer, T_max=100)"
      ]
    },
    {
      "cell_type": "code",
      "execution_count": 29,
      "id": "215f7c09",
      "metadata": {
        "id": "215f7c09"
      },
      "outputs": [],
      "source": [
        "def train_model(train_loader, val_loader, test_loader, model, criterion, optimizer, scheduler,\n",
        "               epochs=50, log_every=5, early_stopping_patience=5, draw_met=True, draw_tqdm=True):\n",
        "    device = torch.device('cuda' if torch.cuda.is_available() else 'cpu')\n",
        "    model.to(device)\n",
        "\n",
        "    train_loss_history = []\n",
        "    train_f1_history = []\n",
        "    val_loss_history = []\n",
        "    val_f1_history = []\n",
        "\n",
        "    best_val_f1 = 0.0\n",
        "    patience_counter = 0\n",
        "    best_model_state = None\n",
        "\n",
        "    if draw_tqdm:\n",
        "        epoch_bar = tqdm(range(epochs), desc='Training', leave=True)\n",
        "    else:\n",
        "        epoch_bar = range(epochs)\n",
        "\n",
        "    for epoch in epoch_bar:\n",
        "        model.train()\n",
        "        epoch_train_loss = 0.0\n",
        "        all_train_preds = []\n",
        "        all_train_labels = []\n",
        "\n",
        "        for inputs, labels in train_loader:\n",
        "            inputs, labels = inputs.to(device), labels.to(device)\n",
        "\n",
        "            optimizer.zero_grad()\n",
        "            outputs = model(inputs)\n",
        "            loss = criterion(outputs, labels)\n",
        "            loss.backward()\n",
        "            optimizer.step()\n",
        "\n",
        "            epoch_train_loss += loss.item()\n",
        "            _, preds = torch.max(outputs, 1)\n",
        "            all_train_preds.extend(preds.cpu().numpy())\n",
        "            all_train_labels.extend(labels.cpu().numpy())\n",
        "\n",
        "        train_loss = epoch_train_loss / len(train_loader)\n",
        "        train_f1 = f1_score(all_train_labels, all_train_preds, average='weighted')\n",
        "        train_loss_history.append(train_loss)\n",
        "        train_f1_history.append(train_f1)\n",
        "\n",
        "        model.eval()\n",
        "        epoch_val_loss = 0.0\n",
        "        all_val_preds = []\n",
        "        all_val_labels = []\n",
        "\n",
        "        with torch.no_grad():\n",
        "            for inputs, labels in val_loader:\n",
        "                inputs, labels = inputs.to(device), labels.to(device)\n",
        "                outputs = model(inputs)\n",
        "                loss = criterion(outputs, labels)\n",
        "\n",
        "                epoch_val_loss += loss.item()\n",
        "                _, preds = torch.max(outputs, 1)\n",
        "                all_val_preds.extend(preds.cpu().numpy())\n",
        "                all_val_labels.extend(labels.cpu().numpy())\n",
        "\n",
        "        val_loss = epoch_val_loss / len(val_loader)\n",
        "        val_f1 = f1_score(all_val_labels, all_val_preds, average='weighted')\n",
        "        val_loss_history.append(val_loss)\n",
        "        val_f1_history.append(val_f1)\n",
        "\n",
        "\n",
        "        if draw_tqdm:\n",
        "            epoch_bar.set_postfix({\n",
        "                'train_loss': f'{train_loss:.4f}',\n",
        "                'val_loss': f'{val_loss:.4f}',\n",
        "                'val_f1': f'{val_f1:.4f}'\n",
        "            })\n",
        "\n",
        "        if val_f1 > best_val_f1:\n",
        "            best_val_f1 = val_f1\n",
        "            best_model_state = copy.deepcopy(model.state_dict())\n",
        "            patience_counter = 0\n",
        "            torch.save(model.state_dict(), 'best_model.pth')\n",
        "        else:\n",
        "            patience_counter += 1\n",
        "            if patience_counter >= early_stopping_patience:\n",
        "                print(f'\\nEarly stopping at epoch {epoch + 1}')\n",
        "                break\n",
        "\n",
        "        scheduler.step()\n",
        "        if draw_tqdm:\n",
        "            if (epoch + 1) % log_every == 0:\n",
        "                print(f'Epoch: {epoch + 1}/{epochs} |  Val Loss: {val_loss:.4f} | Train F1: {train_f1:.4f} | Val F1: {val_f1:.4f}')\n",
        "\n",
        "    if best_model_state is not None:\n",
        "        model.load_state_dict(best_model_state)\n",
        "\n",
        "    if draw_met:\n",
        "        fig = go.Figure()\n",
        "        fig.add_trace(go.Scatter(\n",
        "            y=train_f1_history,\n",
        "            name='Train F1',\n",
        "            line=dict(color=\"#00aa88\"),\n",
        "            mode='lines+markers'\n",
        "        ))\n",
        "        fig.add_trace(go.Scatter(\n",
        "            y=val_f1_history,\n",
        "            name='Val F1',\n",
        "            line=dict(color=\"#fbb725\"),\n",
        "            mode='lines+markers'\n",
        "        ))\n",
        "        fig.update_layout(\n",
        "            xaxis_title='Epoch',\n",
        "            yaxis_title='F1 Score',\n",
        "            plot_bgcolor='white',\n",
        "            xaxis=dict(showgrid=True, gridcolor='lightgray'),\n",
        "            yaxis=dict(showgrid=True, gridcolor='lightgray'),\n",
        "            legend=dict(orientation=\"h\", yanchor=\"bottom\", y=1.02, xanchor=\"right\", x=1)\n",
        "        )\n",
        "        fig.show()\n",
        "\n",
        "    model.eval()\n",
        "    all_test_preds = []\n",
        "    all_test_labels = []\n",
        "    test_loss = 0.0\n",
        "\n",
        "    with torch.no_grad():\n",
        "        for inputs, labels in test_loader:  # Или test_loader, если он доступен\n",
        "            inputs, labels = inputs.to(device), labels.to(device)\n",
        "            outputs = model(inputs)\n",
        "            loss = criterion(outputs, labels)\n",
        "\n",
        "            test_loss += loss.item()\n",
        "            _, preds = torch.max(outputs, 1)\n",
        "            all_test_preds.extend(preds.cpu().numpy())\n",
        "            all_test_labels.extend(labels.cpu().numpy())\n",
        "\n",
        "    test_loss = test_loss / len(test_loader)\n",
        "    test_f1 = f1_score(all_test_labels, all_test_preds, average='weighted')\n",
        "    if draw_tqdm:\n",
        "        print(f'\\nFinal Test Metrics:')\n",
        "        print(f'Test Loss: {test_loss:.4f} | Test F1: {test_f1:.4f}')\n",
        "\n",
        "        print(f'\\nClassification report on test')\n",
        "        print(classification_report(all_test_labels, all_test_preds, target_names=[label_to_language[i] for i in sorted(label_to_language.keys())]))\n",
        "\n",
        "    return model"
      ]
    },
    {
      "cell_type": "code",
      "execution_count": 21,
      "id": "59a0ff3f",
      "metadata": {
        "colab": {
          "base_uri": "https://localhost:8080/",
          "height": 1000
        },
        "id": "59a0ff3f",
        "outputId": "96d6eb02-7f16-4115-98f7-e84c0557dbc5"
      },
      "outputs": [
        {
          "name": "stderr",
          "output_type": "stream",
          "text": [
            "Training:   5%|▌         | 5/100 [00:05<01:39,  1.05s/it, train_loss=0.8776, val_loss=0.8184, val_f1=0.6899]"
          ]
        },
        {
          "name": "stdout",
          "output_type": "stream",
          "text": [
            "Epoch: 5/100 |  Val Loss: 0.8184 | Train F1: 0.6785 | Val F1: 0.6899\n"
          ]
        },
        {
          "name": "stderr",
          "output_type": "stream",
          "text": [
            "Training:  10%|█         | 10/100 [00:10<01:32,  1.02s/it, train_loss=0.8092, val_loss=0.7539, val_f1=0.7169]"
          ]
        },
        {
          "name": "stdout",
          "output_type": "stream",
          "text": [
            "Epoch: 10/100 |  Val Loss: 0.7539 | Train F1: 0.7040 | Val F1: 0.7169\n"
          ]
        },
        {
          "name": "stderr",
          "output_type": "stream",
          "text": [
            "Training:  15%|█▌        | 15/100 [00:15<01:25,  1.01s/it, train_loss=0.7793, val_loss=0.7209, val_f1=0.7312]"
          ]
        },
        {
          "name": "stdout",
          "output_type": "stream",
          "text": [
            "Epoch: 15/100 |  Val Loss: 0.7209 | Train F1: 0.7146 | Val F1: 0.7312\n"
          ]
        },
        {
          "name": "stderr",
          "output_type": "stream",
          "text": [
            "Training:  20%|██        | 20/100 [00:21<01:27,  1.09s/it, train_loss=0.7544, val_loss=0.7070, val_f1=0.7364]"
          ]
        },
        {
          "name": "stdout",
          "output_type": "stream",
          "text": [
            "Epoch: 20/100 |  Val Loss: 0.7070 | Train F1: 0.7223 | Val F1: 0.7364\n"
          ]
        },
        {
          "name": "stderr",
          "output_type": "stream",
          "text": [
            "Training:  25%|██▌       | 25/100 [00:26<01:21,  1.08s/it, train_loss=0.7395, val_loss=0.6935, val_f1=0.7396]"
          ]
        },
        {
          "name": "stdout",
          "output_type": "stream",
          "text": [
            "Epoch: 25/100 |  Val Loss: 0.6935 | Train F1: 0.7256 | Val F1: 0.7396\n"
          ]
        },
        {
          "name": "stderr",
          "output_type": "stream",
          "text": [
            "Training:  30%|███       | 30/100 [00:32<01:19,  1.13s/it, train_loss=0.7313, val_loss=0.6769, val_f1=0.7484]"
          ]
        },
        {
          "name": "stdout",
          "output_type": "stream",
          "text": [
            "Epoch: 30/100 |  Val Loss: 0.6769 | Train F1: 0.7283 | Val F1: 0.7484\n"
          ]
        },
        {
          "name": "stderr",
          "output_type": "stream",
          "text": [
            "Training:  35%|███▌      | 35/100 [00:37<01:12,  1.11s/it, train_loss=0.7214, val_loss=0.6766, val_f1=0.7426]"
          ]
        },
        {
          "name": "stdout",
          "output_type": "stream",
          "text": [
            "Epoch: 35/100 |  Val Loss: 0.6766 | Train F1: 0.7301 | Val F1: 0.7426\n"
          ]
        },
        {
          "name": "stderr",
          "output_type": "stream",
          "text": [
            "Training:  40%|████      | 40/100 [00:43<01:11,  1.20s/it, train_loss=0.7125, val_loss=0.6688, val_f1=0.7497]"
          ]
        },
        {
          "name": "stdout",
          "output_type": "stream",
          "text": [
            "Epoch: 40/100 |  Val Loss: 0.6688 | Train F1: 0.7338 | Val F1: 0.7497\n"
          ]
        },
        {
          "name": "stderr",
          "output_type": "stream",
          "text": [
            "Training:  45%|████▌     | 45/100 [00:48<00:59,  1.08s/it, train_loss=0.7035, val_loss=0.6706, val_f1=0.7453]"
          ]
        },
        {
          "name": "stdout",
          "output_type": "stream",
          "text": [
            "Epoch: 45/100 |  Val Loss: 0.6706 | Train F1: 0.7358 | Val F1: 0.7453\n"
          ]
        },
        {
          "name": "stderr",
          "output_type": "stream",
          "text": [
            "Training:  50%|█████     | 50/100 [00:54<00:55,  1.10s/it, train_loss=0.6978, val_loss=0.6634, val_f1=0.7514]"
          ]
        },
        {
          "name": "stdout",
          "output_type": "stream",
          "text": [
            "Epoch: 50/100 |  Val Loss: 0.6634 | Train F1: 0.7402 | Val F1: 0.7514\n"
          ]
        },
        {
          "name": "stderr",
          "output_type": "stream",
          "text": [
            "Training:  55%|█████▌    | 55/100 [01:00<00:51,  1.15s/it, train_loss=0.6934, val_loss=0.6547, val_f1=0.7546]"
          ]
        },
        {
          "name": "stdout",
          "output_type": "stream",
          "text": [
            "Epoch: 55/100 |  Val Loss: 0.6547 | Train F1: 0.7398 | Val F1: 0.7546\n"
          ]
        },
        {
          "name": "stderr",
          "output_type": "stream",
          "text": [
            "Training:  60%|██████    | 60/100 [01:05<00:44,  1.12s/it, train_loss=0.6864, val_loss=0.6483, val_f1=0.7544]"
          ]
        },
        {
          "name": "stdout",
          "output_type": "stream",
          "text": [
            "Epoch: 60/100 |  Val Loss: 0.6483 | Train F1: 0.7435 | Val F1: 0.7544\n"
          ]
        },
        {
          "name": "stderr",
          "output_type": "stream",
          "text": [
            "Training:  65%|██████▌   | 65/100 [01:10<00:34,  1.02it/s, train_loss=0.6804, val_loss=0.6475, val_f1=0.7547]"
          ]
        },
        {
          "name": "stdout",
          "output_type": "stream",
          "text": [
            "Epoch: 65/100 |  Val Loss: 0.6475 | Train F1: 0.7449 | Val F1: 0.7547\n"
          ]
        },
        {
          "name": "stderr",
          "output_type": "stream",
          "text": [
            "Training:  69%|██████▉   | 69/100 [01:15<00:34,  1.10s/it, train_loss=0.6778, val_loss=0.6433, val_f1=0.7558]"
          ]
        },
        {
          "name": "stdout",
          "output_type": "stream",
          "text": [
            "\n",
            "Early stopping at epoch 70\n"
          ]
        },
        {
          "name": "stderr",
          "output_type": "stream",
          "text": [
            "\n"
          ]
        },
        {
          "data": {
            "application/vnd.plotly.v1+json": {
              "config": {
                "plotlyServerURL": "https://plot.ly"
              },
              "data": [
                {
                  "line": {
                    "color": "#00aa88"
                  },
                  "mode": "lines+markers",
                  "name": "Train F1",
                  "type": "scatter",
                  "y": [
                    0.4672786108811098,
                    0.6205268638858573,
                    0.6528819823091874,
                    0.6718007709043865,
                    0.6784933548768322,
                    0.6896349846568921,
                    0.6886613459867429,
                    0.6940797445945943,
                    0.6985427692560301,
                    0.7039856846974252,
                    0.7021723485688341,
                    0.7062184856542871,
                    0.7084018056993371,
                    0.7097967403394431,
                    0.7145872069825023,
                    0.7131296588480517,
                    0.7174859502214962,
                    0.7181595499008749,
                    0.7166625433166401,
                    0.722293805643298,
                    0.7233725854496907,
                    0.7194196396764407,
                    0.7225199571933997,
                    0.7228909020076228,
                    0.7256234929614074,
                    0.7232724119968073,
                    0.7268231374568409,
                    0.7292559671441868,
                    0.7256501578875619,
                    0.728348030838964,
                    0.7311771125807797,
                    0.7298151999071043,
                    0.7318238762034174,
                    0.7292173668396997,
                    0.7300986246775948,
                    0.7318177432396594,
                    0.7310624825906559,
                    0.7309136047382863,
                    0.7341860392554693,
                    0.7337817111507308,
                    0.7356106491926172,
                    0.7368929860146509,
                    0.737128388683667,
                    0.7357303361872993,
                    0.7358408147593201,
                    0.7389704628587556,
                    0.7390565007023198,
                    0.7370588386741813,
                    0.7396241071330051,
                    0.7402085064663543,
                    0.7402468112970313,
                    0.7392405277942262,
                    0.743332381130639,
                    0.740254186563416,
                    0.7397595090920205,
                    0.7426855260923219,
                    0.7435396512115922,
                    0.7412120825133569,
                    0.7432013538146129,
                    0.7434767254549193,
                    0.7456662982770794,
                    0.7451095188682375,
                    0.7442180064564018,
                    0.7471914386702058,
                    0.7448977574614398,
                    0.7467488778161231,
                    0.7469457696388593,
                    0.7476779052960885,
                    0.7474182115942765,
                    0.7480777678838518
                  ]
                },
                {
                  "line": {
                    "color": "#fbb725"
                  },
                  "mode": "lines+markers",
                  "name": "Val F1",
                  "type": "scatter",
                  "y": [
                    0.602857802254541,
                    0.6686415324569093,
                    0.6859236452061969,
                    0.7025097110395473,
                    0.6898995898373059,
                    0.7108439459826037,
                    0.7152657586339446,
                    0.7191552620073783,
                    0.7145625464718223,
                    0.7169064397453335,
                    0.724157035015995,
                    0.7187874534053971,
                    0.7243561389022988,
                    0.7306894601450898,
                    0.7311925942355884,
                    0.7241312949290598,
                    0.7308156078868879,
                    0.7287338774055925,
                    0.731584928690803,
                    0.7363555059622866,
                    0.7400332140386071,
                    0.7387044586866223,
                    0.7354387202698901,
                    0.7398788520973794,
                    0.7396447722695506,
                    0.7400522675806304,
                    0.7369276346402652,
                    0.7419469141331684,
                    0.7353689161302218,
                    0.748381864863221,
                    0.7457981986267018,
                    0.7483547314286233,
                    0.746239886901001,
                    0.7403435060340885,
                    0.7425519420758545,
                    0.749212885281181,
                    0.7456697178827989,
                    0.7509570056036206,
                    0.7504094029305335,
                    0.7496856384909591,
                    0.7505944432079783,
                    0.7497611721061329,
                    0.7480935012099367,
                    0.7447031509948284,
                    0.7453251352938189,
                    0.7535225814276952,
                    0.7478429736896531,
                    0.7497838583787264,
                    0.7536118914399738,
                    0.7513981728884284,
                    0.7480920746706509,
                    0.753508415138977,
                    0.7535615293124776,
                    0.7541235470583989,
                    0.7546229807781697,
                    0.7526288671859312,
                    0.749683442237745,
                    0.7524035496327346,
                    0.7491874935190403,
                    0.7544043043735339,
                    0.7549177238329249,
                    0.7571183135000857,
                    0.7540652901264139,
                    0.7554113401444209,
                    0.7547132649491561,
                    0.754025506118947,
                    0.7547100745921401,
                    0.7568586809054424,
                    0.755213670089248,
                    0.7558076648191242
                  ]
                }
              ],
              "layout": {
                "legend": {
                  "orientation": "h",
                  "x": 1,
                  "xanchor": "right",
                  "y": 1.02,
                  "yanchor": "bottom"
                },
                "plot_bgcolor": "white",
                "template": {
                  "data": {
                    "bar": [
                      {
                        "error_x": {
                          "color": "#2a3f5f"
                        },
                        "error_y": {
                          "color": "#2a3f5f"
                        },
                        "marker": {
                          "line": {
                            "color": "#E5ECF6",
                            "width": 0.5
                          },
                          "pattern": {
                            "fillmode": "overlay",
                            "size": 10,
                            "solidity": 0.2
                          }
                        },
                        "type": "bar"
                      }
                    ],
                    "barpolar": [
                      {
                        "marker": {
                          "line": {
                            "color": "#E5ECF6",
                            "width": 0.5
                          },
                          "pattern": {
                            "fillmode": "overlay",
                            "size": 10,
                            "solidity": 0.2
                          }
                        },
                        "type": "barpolar"
                      }
                    ],
                    "carpet": [
                      {
                        "aaxis": {
                          "endlinecolor": "#2a3f5f",
                          "gridcolor": "white",
                          "linecolor": "white",
                          "minorgridcolor": "white",
                          "startlinecolor": "#2a3f5f"
                        },
                        "baxis": {
                          "endlinecolor": "#2a3f5f",
                          "gridcolor": "white",
                          "linecolor": "white",
                          "minorgridcolor": "white",
                          "startlinecolor": "#2a3f5f"
                        },
                        "type": "carpet"
                      }
                    ],
                    "choropleth": [
                      {
                        "colorbar": {
                          "outlinewidth": 0,
                          "ticks": ""
                        },
                        "type": "choropleth"
                      }
                    ],
                    "contour": [
                      {
                        "colorbar": {
                          "outlinewidth": 0,
                          "ticks": ""
                        },
                        "colorscale": [
                          [
                            0,
                            "#0d0887"
                          ],
                          [
                            0.1111111111111111,
                            "#46039f"
                          ],
                          [
                            0.2222222222222222,
                            "#7201a8"
                          ],
                          [
                            0.3333333333333333,
                            "#9c179e"
                          ],
                          [
                            0.4444444444444444,
                            "#bd3786"
                          ],
                          [
                            0.5555555555555556,
                            "#d8576b"
                          ],
                          [
                            0.6666666666666666,
                            "#ed7953"
                          ],
                          [
                            0.7777777777777778,
                            "#fb9f3a"
                          ],
                          [
                            0.8888888888888888,
                            "#fdca26"
                          ],
                          [
                            1,
                            "#f0f921"
                          ]
                        ],
                        "type": "contour"
                      }
                    ],
                    "contourcarpet": [
                      {
                        "colorbar": {
                          "outlinewidth": 0,
                          "ticks": ""
                        },
                        "type": "contourcarpet"
                      }
                    ],
                    "heatmap": [
                      {
                        "colorbar": {
                          "outlinewidth": 0,
                          "ticks": ""
                        },
                        "colorscale": [
                          [
                            0,
                            "#0d0887"
                          ],
                          [
                            0.1111111111111111,
                            "#46039f"
                          ],
                          [
                            0.2222222222222222,
                            "#7201a8"
                          ],
                          [
                            0.3333333333333333,
                            "#9c179e"
                          ],
                          [
                            0.4444444444444444,
                            "#bd3786"
                          ],
                          [
                            0.5555555555555556,
                            "#d8576b"
                          ],
                          [
                            0.6666666666666666,
                            "#ed7953"
                          ],
                          [
                            0.7777777777777778,
                            "#fb9f3a"
                          ],
                          [
                            0.8888888888888888,
                            "#fdca26"
                          ],
                          [
                            1,
                            "#f0f921"
                          ]
                        ],
                        "type": "heatmap"
                      }
                    ],
                    "heatmapgl": [
                      {
                        "colorbar": {
                          "outlinewidth": 0,
                          "ticks": ""
                        },
                        "colorscale": [
                          [
                            0,
                            "#0d0887"
                          ],
                          [
                            0.1111111111111111,
                            "#46039f"
                          ],
                          [
                            0.2222222222222222,
                            "#7201a8"
                          ],
                          [
                            0.3333333333333333,
                            "#9c179e"
                          ],
                          [
                            0.4444444444444444,
                            "#bd3786"
                          ],
                          [
                            0.5555555555555556,
                            "#d8576b"
                          ],
                          [
                            0.6666666666666666,
                            "#ed7953"
                          ],
                          [
                            0.7777777777777778,
                            "#fb9f3a"
                          ],
                          [
                            0.8888888888888888,
                            "#fdca26"
                          ],
                          [
                            1,
                            "#f0f921"
                          ]
                        ],
                        "type": "heatmapgl"
                      }
                    ],
                    "histogram": [
                      {
                        "marker": {
                          "pattern": {
                            "fillmode": "overlay",
                            "size": 10,
                            "solidity": 0.2
                          }
                        },
                        "type": "histogram"
                      }
                    ],
                    "histogram2d": [
                      {
                        "colorbar": {
                          "outlinewidth": 0,
                          "ticks": ""
                        },
                        "colorscale": [
                          [
                            0,
                            "#0d0887"
                          ],
                          [
                            0.1111111111111111,
                            "#46039f"
                          ],
                          [
                            0.2222222222222222,
                            "#7201a8"
                          ],
                          [
                            0.3333333333333333,
                            "#9c179e"
                          ],
                          [
                            0.4444444444444444,
                            "#bd3786"
                          ],
                          [
                            0.5555555555555556,
                            "#d8576b"
                          ],
                          [
                            0.6666666666666666,
                            "#ed7953"
                          ],
                          [
                            0.7777777777777778,
                            "#fb9f3a"
                          ],
                          [
                            0.8888888888888888,
                            "#fdca26"
                          ],
                          [
                            1,
                            "#f0f921"
                          ]
                        ],
                        "type": "histogram2d"
                      }
                    ],
                    "histogram2dcontour": [
                      {
                        "colorbar": {
                          "outlinewidth": 0,
                          "ticks": ""
                        },
                        "colorscale": [
                          [
                            0,
                            "#0d0887"
                          ],
                          [
                            0.1111111111111111,
                            "#46039f"
                          ],
                          [
                            0.2222222222222222,
                            "#7201a8"
                          ],
                          [
                            0.3333333333333333,
                            "#9c179e"
                          ],
                          [
                            0.4444444444444444,
                            "#bd3786"
                          ],
                          [
                            0.5555555555555556,
                            "#d8576b"
                          ],
                          [
                            0.6666666666666666,
                            "#ed7953"
                          ],
                          [
                            0.7777777777777778,
                            "#fb9f3a"
                          ],
                          [
                            0.8888888888888888,
                            "#fdca26"
                          ],
                          [
                            1,
                            "#f0f921"
                          ]
                        ],
                        "type": "histogram2dcontour"
                      }
                    ],
                    "mesh3d": [
                      {
                        "colorbar": {
                          "outlinewidth": 0,
                          "ticks": ""
                        },
                        "type": "mesh3d"
                      }
                    ],
                    "parcoords": [
                      {
                        "line": {
                          "colorbar": {
                            "outlinewidth": 0,
                            "ticks": ""
                          }
                        },
                        "type": "parcoords"
                      }
                    ],
                    "pie": [
                      {
                        "automargin": true,
                        "type": "pie"
                      }
                    ],
                    "scatter": [
                      {
                        "fillpattern": {
                          "fillmode": "overlay",
                          "size": 10,
                          "solidity": 0.2
                        },
                        "type": "scatter"
                      }
                    ],
                    "scatter3d": [
                      {
                        "line": {
                          "colorbar": {
                            "outlinewidth": 0,
                            "ticks": ""
                          }
                        },
                        "marker": {
                          "colorbar": {
                            "outlinewidth": 0,
                            "ticks": ""
                          }
                        },
                        "type": "scatter3d"
                      }
                    ],
                    "scattercarpet": [
                      {
                        "marker": {
                          "colorbar": {
                            "outlinewidth": 0,
                            "ticks": ""
                          }
                        },
                        "type": "scattercarpet"
                      }
                    ],
                    "scattergeo": [
                      {
                        "marker": {
                          "colorbar": {
                            "outlinewidth": 0,
                            "ticks": ""
                          }
                        },
                        "type": "scattergeo"
                      }
                    ],
                    "scattergl": [
                      {
                        "marker": {
                          "colorbar": {
                            "outlinewidth": 0,
                            "ticks": ""
                          }
                        },
                        "type": "scattergl"
                      }
                    ],
                    "scattermapbox": [
                      {
                        "marker": {
                          "colorbar": {
                            "outlinewidth": 0,
                            "ticks": ""
                          }
                        },
                        "type": "scattermapbox"
                      }
                    ],
                    "scatterpolar": [
                      {
                        "marker": {
                          "colorbar": {
                            "outlinewidth": 0,
                            "ticks": ""
                          }
                        },
                        "type": "scatterpolar"
                      }
                    ],
                    "scatterpolargl": [
                      {
                        "marker": {
                          "colorbar": {
                            "outlinewidth": 0,
                            "ticks": ""
                          }
                        },
                        "type": "scatterpolargl"
                      }
                    ],
                    "scatterternary": [
                      {
                        "marker": {
                          "colorbar": {
                            "outlinewidth": 0,
                            "ticks": ""
                          }
                        },
                        "type": "scatterternary"
                      }
                    ],
                    "surface": [
                      {
                        "colorbar": {
                          "outlinewidth": 0,
                          "ticks": ""
                        },
                        "colorscale": [
                          [
                            0,
                            "#0d0887"
                          ],
                          [
                            0.1111111111111111,
                            "#46039f"
                          ],
                          [
                            0.2222222222222222,
                            "#7201a8"
                          ],
                          [
                            0.3333333333333333,
                            "#9c179e"
                          ],
                          [
                            0.4444444444444444,
                            "#bd3786"
                          ],
                          [
                            0.5555555555555556,
                            "#d8576b"
                          ],
                          [
                            0.6666666666666666,
                            "#ed7953"
                          ],
                          [
                            0.7777777777777778,
                            "#fb9f3a"
                          ],
                          [
                            0.8888888888888888,
                            "#fdca26"
                          ],
                          [
                            1,
                            "#f0f921"
                          ]
                        ],
                        "type": "surface"
                      }
                    ],
                    "table": [
                      {
                        "cells": {
                          "fill": {
                            "color": "#EBF0F8"
                          },
                          "line": {
                            "color": "white"
                          }
                        },
                        "header": {
                          "fill": {
                            "color": "#C8D4E3"
                          },
                          "line": {
                            "color": "white"
                          }
                        },
                        "type": "table"
                      }
                    ]
                  },
                  "layout": {
                    "annotationdefaults": {
                      "arrowcolor": "#2a3f5f",
                      "arrowhead": 0,
                      "arrowwidth": 1
                    },
                    "autotypenumbers": "strict",
                    "coloraxis": {
                      "colorbar": {
                        "outlinewidth": 0,
                        "ticks": ""
                      }
                    },
                    "colorscale": {
                      "diverging": [
                        [
                          0,
                          "#8e0152"
                        ],
                        [
                          0.1,
                          "#c51b7d"
                        ],
                        [
                          0.2,
                          "#de77ae"
                        ],
                        [
                          0.3,
                          "#f1b6da"
                        ],
                        [
                          0.4,
                          "#fde0ef"
                        ],
                        [
                          0.5,
                          "#f7f7f7"
                        ],
                        [
                          0.6,
                          "#e6f5d0"
                        ],
                        [
                          0.7,
                          "#b8e186"
                        ],
                        [
                          0.8,
                          "#7fbc41"
                        ],
                        [
                          0.9,
                          "#4d9221"
                        ],
                        [
                          1,
                          "#276419"
                        ]
                      ],
                      "sequential": [
                        [
                          0,
                          "#0d0887"
                        ],
                        [
                          0.1111111111111111,
                          "#46039f"
                        ],
                        [
                          0.2222222222222222,
                          "#7201a8"
                        ],
                        [
                          0.3333333333333333,
                          "#9c179e"
                        ],
                        [
                          0.4444444444444444,
                          "#bd3786"
                        ],
                        [
                          0.5555555555555556,
                          "#d8576b"
                        ],
                        [
                          0.6666666666666666,
                          "#ed7953"
                        ],
                        [
                          0.7777777777777778,
                          "#fb9f3a"
                        ],
                        [
                          0.8888888888888888,
                          "#fdca26"
                        ],
                        [
                          1,
                          "#f0f921"
                        ]
                      ],
                      "sequentialminus": [
                        [
                          0,
                          "#0d0887"
                        ],
                        [
                          0.1111111111111111,
                          "#46039f"
                        ],
                        [
                          0.2222222222222222,
                          "#7201a8"
                        ],
                        [
                          0.3333333333333333,
                          "#9c179e"
                        ],
                        [
                          0.4444444444444444,
                          "#bd3786"
                        ],
                        [
                          0.5555555555555556,
                          "#d8576b"
                        ],
                        [
                          0.6666666666666666,
                          "#ed7953"
                        ],
                        [
                          0.7777777777777778,
                          "#fb9f3a"
                        ],
                        [
                          0.8888888888888888,
                          "#fdca26"
                        ],
                        [
                          1,
                          "#f0f921"
                        ]
                      ]
                    },
                    "colorway": [
                      "#636efa",
                      "#EF553B",
                      "#00cc96",
                      "#ab63fa",
                      "#FFA15A",
                      "#19d3f3",
                      "#FF6692",
                      "#B6E880",
                      "#FF97FF",
                      "#FECB52"
                    ],
                    "font": {
                      "color": "#2a3f5f"
                    },
                    "geo": {
                      "bgcolor": "white",
                      "lakecolor": "white",
                      "landcolor": "#E5ECF6",
                      "showlakes": true,
                      "showland": true,
                      "subunitcolor": "white"
                    },
                    "hoverlabel": {
                      "align": "left"
                    },
                    "hovermode": "closest",
                    "mapbox": {
                      "style": "light"
                    },
                    "paper_bgcolor": "white",
                    "plot_bgcolor": "#E5ECF6",
                    "polar": {
                      "angularaxis": {
                        "gridcolor": "white",
                        "linecolor": "white",
                        "ticks": ""
                      },
                      "bgcolor": "#E5ECF6",
                      "radialaxis": {
                        "gridcolor": "white",
                        "linecolor": "white",
                        "ticks": ""
                      }
                    },
                    "scene": {
                      "xaxis": {
                        "backgroundcolor": "#E5ECF6",
                        "gridcolor": "white",
                        "gridwidth": 2,
                        "linecolor": "white",
                        "showbackground": true,
                        "ticks": "",
                        "zerolinecolor": "white"
                      },
                      "yaxis": {
                        "backgroundcolor": "#E5ECF6",
                        "gridcolor": "white",
                        "gridwidth": 2,
                        "linecolor": "white",
                        "showbackground": true,
                        "ticks": "",
                        "zerolinecolor": "white"
                      },
                      "zaxis": {
                        "backgroundcolor": "#E5ECF6",
                        "gridcolor": "white",
                        "gridwidth": 2,
                        "linecolor": "white",
                        "showbackground": true,
                        "ticks": "",
                        "zerolinecolor": "white"
                      }
                    },
                    "shapedefaults": {
                      "line": {
                        "color": "#2a3f5f"
                      }
                    },
                    "ternary": {
                      "aaxis": {
                        "gridcolor": "white",
                        "linecolor": "white",
                        "ticks": ""
                      },
                      "baxis": {
                        "gridcolor": "white",
                        "linecolor": "white",
                        "ticks": ""
                      },
                      "bgcolor": "#E5ECF6",
                      "caxis": {
                        "gridcolor": "white",
                        "linecolor": "white",
                        "ticks": ""
                      }
                    },
                    "title": {
                      "x": 0.05
                    },
                    "xaxis": {
                      "automargin": true,
                      "gridcolor": "white",
                      "linecolor": "white",
                      "ticks": "",
                      "title": {
                        "standoff": 15
                      },
                      "zerolinecolor": "white",
                      "zerolinewidth": 2
                    },
                    "yaxis": {
                      "automargin": true,
                      "gridcolor": "white",
                      "linecolor": "white",
                      "ticks": "",
                      "title": {
                        "standoff": 15
                      },
                      "zerolinecolor": "white",
                      "zerolinewidth": 2
                    }
                  }
                },
                "xaxis": {
                  "gridcolor": "lightgray",
                  "showgrid": true,
                  "title": {
                    "text": "Epoch"
                  }
                },
                "yaxis": {
                  "gridcolor": "lightgray",
                  "showgrid": true,
                  "title": {
                    "text": "F1 Score"
                  }
                }
              }
            }
          },
          "metadata": {},
          "output_type": "display_data"
        },
        {
          "name": "stdout",
          "output_type": "stream",
          "text": [
            "\n",
            "Final Test Metrics:\n",
            "Test Loss: 0.6477 | Test F1: 0.7507\n",
            "\n",
            "Classification report on test\n",
            "              precision    recall  f1-score   support\n",
            "\n",
            "           R       1.00      0.25      0.40         8\n",
            "           c       0.60      0.53      0.56       230\n",
            " c-plus-plus       0.61      0.84      0.70       537\n",
            "     c-sharp       0.85      0.65      0.74       199\n",
            "        dart       0.71      0.24      0.36        50\n",
            "     f-sharp       0.86      0.60      0.71        10\n",
            "          go       0.80      0.80      0.80        94\n",
            "        java       0.72      0.57      0.64       214\n",
            "  javascript       0.79      0.78      0.78       129\n",
            "       julia       0.94      0.73      0.82        45\n",
            "         php       1.00      0.07      0.12        15\n",
            "      python       0.93      0.97      0.95       663\n",
            "        ruby       0.88      0.59      0.71        64\n",
            "       scala       1.00      0.17      0.29         6\n",
            "       swift       0.40      0.11      0.17        18\n",
            "\n",
            "    accuracy                           0.76      2282\n",
            "   macro avg       0.81      0.53      0.58      2282\n",
            "weighted avg       0.77      0.76      0.75      2282\n",
            "\n"
          ]
        }
      ],
      "source": [
        "model = train_model(train_loader, val_loader, test_loader, model, criterion, optimizer, scheduler, epochs=100, log_every=5, early_stopping_patience=8)"
      ]
    },
    {
      "cell_type": "code",
      "execution_count": 23,
      "id": "adrP2_xb57hC",
      "metadata": {
        "colab": {
          "base_uri": "https://localhost:8080/"
        },
        "id": "adrP2_xb57hC",
        "outputId": "4dca124a-8b0e-4f5e-9d5c-b628d8b40c0e"
      },
      "outputs": [
        {
          "name": "stdout",
          "output_type": "stream",
          "text": [
            "0.0019998550415039062\n",
            "Predicted class: python\n"
          ]
        }
      ],
      "source": [
        "def predict_code(model, code_snippet, tokenize_fn, word2vec_model, device=None, show_time=False):\n",
        "    start_time = time.time()\n",
        "    if device is None:\n",
        "        device = torch.device('cuda' if torch.cuda.is_available() else 'cpu')\n",
        "\n",
        "    tokens = tokenize_fn(code_snippet)\n",
        "    embedding = get_doc_embedding(tokens, word2vec_model)\n",
        "\n",
        "    input_tensor = torch.FloatTensor(embedding).unsqueeze(0).to(device)\n",
        "\n",
        "    model.eval()\n",
        "    with torch.no_grad():\n",
        "        outputs = model(input_tensor)\n",
        "        probabilities = torch.softmax(outputs, dim=1)\n",
        "        _, pred_class = torch.max(outputs, 1)\n",
        "    if show_time:\n",
        "      print(time.time() - start_time)\n",
        "    return pred_class.item()\n",
        "\n",
        "new_code = \"\"\"\n",
        "def calculate_sum(a, b):\n",
        "    return a + b\n",
        "\"\"\"\n",
        "\n",
        "pred_class = predict_code(model, new_code, tokenize_code, word2vec_model, show_time=True)\n",
        "print(f\"Predicted class: {label_to_language[pred_class]}\")"
      ]
    },
    {
      "cell_type": "markdown",
      "id": "1QvDWrPy5wsL",
      "metadata": {
        "id": "1QvDWrPy5wsL"
      },
      "source": [
        "### Word2Vec + FC: F1 0.75, train_time 1:21, inference time: 0.001 sec"
      ]
    },
    {
      "cell_type": "markdown",
      "id": "dcdb1358",
      "metadata": {
        "id": "dcdb1358"
      },
      "source": [
        "### Bert embeds + KNN + GAT/SAGEConv"
      ]
    },
    {
      "cell_type": "code",
      "execution_count": 8,
      "id": "f775229b",
      "metadata": {
        "colab": {
          "base_uri": "https://localhost:8080/",
          "height": 368,
          "referenced_widgets": [
            "88761df61e124c75a9f819e2b6a45b67",
            "068ba4bfb05342d3aba738f9b209b319",
            "08463c00e42c44c7a68008ae96eac657",
            "09f8524148eb4ea382d6bfda6b543b97",
            "17ef84f9ff6744d7b57426b0e4ac1ad9",
            "14b48fa5739740698714f16b40032975",
            "462bc69f40a84b20bed39656acf4422e",
            "0e2722162eb14cd5ae32e6f7c26f571c",
            "03ba427a84e548528764ad303b9ba9d0",
            "d1206c2039ed45a7abb62d406e6bd65f",
            "176ca0a4fbc24fcbb164fa180d55b639",
            "3b6430440bfe4f3faea966fc05203ac3",
            "decf721c70244200bf07d65dc60f0011",
            "4a9b56d255234ea48b4e07f70ac5b4a9",
            "00005104a19542bfab3285aebbd8f5bd",
            "f7793277074048babc705a7736e39586",
            "12b97f723d984fac94eb8e6af1cf7aa9",
            "984925a5ce9d4dada845bd7d81ec47f9",
            "b5ce74840b184437beab0a6b60098e7a",
            "cfb30bd7c5df4259b812890949c8dc65",
            "194d3f624af543168170cc89c76ac44b",
            "f52dae1ac2924cfa98bb94bcd286735f",
            "a4a48d52da974c56bf0cd450ede3f890",
            "9ae9aa06e2a749e5aa4c988237e0d27b",
            "8da79dca3fdc4f118f26f0e21dcbc0f6",
            "dfdfeda83e57421189a09fd152a87bd1",
            "e89e773170b243f1831ab0e0ef0c1c3c",
            "8b155f79fd2647f2a642edd70a219338",
            "31eec92bad0d4d1eb0e3f48caf7fa1f6",
            "379677cede3d4610818e15dd72ae6334",
            "be1616b034d7430b984c6d0b330b159b",
            "90c8b0b76a7746f18aa7df0b8ef3b1a5",
            "c696dd1c1fd0415eb49b12eaf6d70420",
            "886369da74f1495d8e92ff0884473b72",
            "eb2d5a2821a649058848c08eddc5c8db",
            "43871d6da8f945bba66799a6c4f76d44",
            "c69e77577089437dbb98c521bbd0bfe7",
            "648cc1c81e0340c79a85c64ef5c965f7",
            "f6b1e0c4893849629725d971c41325b4",
            "409acda35474436e9cfa4e35c8da55a9",
            "bddfa4aeab27463789ab0764eb2659f9",
            "fa7129a16543417eb4708bf607d44f5e",
            "4bd2bed8c29549caba4a0c6e70a6912c",
            "9190709216d341cc8bd6c3fdbf51c76c",
            "819078c6fa7a4179a9d125f1b554c0c8",
            "b98f6228842247969bc77a2d9f72e172",
            "f8389b4c660b4164a92b82d0c546f34a",
            "9c03885d1fcf41058ed7f6624f33dfeb",
            "3beb760f53044af996b5de27469e064b",
            "e837545d4b6d4e3198fc50f8642e7656",
            "f03785a3dc884efe85a12079251034f5",
            "327c4b7714fe4486b013e99077059014",
            "a4f1160f29ab42ccbcc8b2f27f10f881",
            "8bd2dc7a63e1411dbdab7b8bd8c0aa03",
            "c49942ffaea04e3b9a4513da9b0ac08c",
            "5b2d951ae4b8449183737446fa8172ea",
            "21019727d94c40eea9506cf868765124",
            "6ac1237c2e184bfe86f661609552ee73",
            "145215874f6247548658003e044d60cf",
            "6f137ef0dc784309813e01cec4a4473b",
            "f4b5c62198a5421194c84305222d5d07",
            "d2d453a83f564f6d9eaf5f14f791f53e",
            "015230b4e8784940bec490ad496460cf",
            "44de752c38524747b25b76cce72e8d07",
            "b7f74bb4ac6242b09446603a07bb17b7",
            "e5f8de6785ca404ea8af777ec6bb49b9"
          ]
        },
        "id": "f775229b",
        "outputId": "3c151182-a0f7-4739-e8b7-4219fd3092f5"
      },
      "outputs": [],
      "source": [
        "tokenizer = AutoTokenizer.from_pretrained(\"microsoft/codebert-base\")\n",
        "emb_model = AutoModel.from_pretrained(\"microsoft/codebert-base\").to(\"cuda\")\n",
        "emb_model.eval();"
      ]
    },
    {
      "cell_type": "code",
      "execution_count": 9,
      "id": "6c6532c4",
      "metadata": {
        "id": "6c6532c4"
      },
      "outputs": [],
      "source": [
        "class CodeDataset(torch.utils.data.Dataset):\n",
        "    def __init__(self, texts):\n",
        "        self.texts = texts\n",
        "\n",
        "    def __len__(self):\n",
        "        return len(self.texts)\n",
        "\n",
        "    def __getitem__(self, idx):\n",
        "        return self.texts[idx]\n",
        "\n",
        "def collate_fn(batch):\n",
        "    return tokenizer(\n",
        "        batch,\n",
        "        return_tensors=\"pt\",\n",
        "        truncation=True,\n",
        "        padding=True,\n",
        "        max_length=256\n",
        "    )\n",
        "\n",
        "def get_embeddings_optimized(texts, embedding_model, batch_size=32):\n",
        "    dataset = CodeDataset(texts)\n",
        "    loader = DataLoader(\n",
        "        dataset,\n",
        "        batch_size=batch_size,\n",
        "        collate_fn=collate_fn,\n",
        "        shuffle=False\n",
        "    )\n",
        "\n",
        "    all_embeddings = []\n",
        "    for batch in tqdm(loader):\n",
        "        batch = {k: v.to(\"cuda\") for k, v in batch.items()}\n",
        "        with torch.no_grad():\n",
        "            outputs = embedding_model(**batch)\n",
        "        embeddings = outputs.last_hidden_state.mean(dim=1).cpu().numpy()\n",
        "        all_embeddings.append(embeddings)\n",
        "\n",
        "    return np.vstack(all_embeddings)"
      ]
    },
    {
      "cell_type": "code",
      "execution_count": 10,
      "id": "39951288",
      "metadata": {
        "colab": {
          "base_uri": "https://localhost:8080/",
          "height": 118,
          "referenced_widgets": [
            "9523cd33641442c3a1b07de1c92ce6c5",
            "9e02b1dd5d2e463f8e651d209c1cd6d1",
            "63116da3a52d4be09801c65d8725e35c",
            "fe46aed14a774859ab6675295a347263",
            "c0900dec605948a1ad99921d40d35f3b",
            "c18050ecd951458e87304e8ee0ac2efc",
            "33c445fd5f68422196fc6aa3308c5080",
            "f2665c3cfd0f487b87f9924e3dc84479",
            "bf21d38e222444819605642e93023d07",
            "8d95cd6171fc41078735f59272ab7af5",
            "2e0ed9f00a2c44acbe6427188ea3876c"
          ]
        },
        "id": "39951288",
        "outputId": "51a7a673-5df0-4129-8aed-a8657b96a61a"
      },
      "outputs": [
        {
          "name": "stderr",
          "output_type": "stream",
          "text": [
            "  0%|          | 0/1070 [00:00<?, ?it/s]c:\\Users\\yarom\\AppData\\Local\\Programs\\Python\\Python312\\Lib\\site-packages\\transformers\\models\\roberta\\modeling_roberta.py:370: UserWarning:\n",
            "\n",
            "1Torch was not compiled with flash attention. (Triggered internally at ..\\aten\\src\\ATen\\native\\transformers\\cuda\\sdp_utils.cpp:455.)\n",
            "\n",
            "100%|██████████| 1070/1070 [02:27<00:00,  7.24it/s]\n",
            "100%|██████████| 286/286 [00:38<00:00,  7.49it/s]\n",
            "100%|██████████| 72/72 [00:09<00:00,  7.47it/s]\n"
          ]
        }
      ],
      "source": [
        "train_emb = get_embeddings_optimized(train_df['code'].tolist(), emb_model)\n",
        "val_emb = get_embeddings_optimized(val_df['code'].tolist(), emb_model)\n",
        "test_emb = get_embeddings_optimized(test_df['code'].tolist(), emb_model)"
      ]
    },
    {
      "cell_type": "code",
      "execution_count": 11,
      "id": "7bb51637",
      "metadata": {
        "id": "7bb51637"
      },
      "outputs": [],
      "source": [
        "def create_graph_with_masks(train_emb, val_emb, test_emb, k=5):\n",
        "    all_embeddings = np.vstack([train_emb, val_emb, test_emb])\n",
        "    labels = np.concatenate([\n",
        "        train_df['label'].values,\n",
        "        val_df['label'].values,\n",
        "        test_df['label'].values\n",
        "    ])\n",
        "\n",
        "    knn = NearestNeighbors(n_neighbors=k+1).fit(all_embeddings)\n",
        "    distances, indices = knn.kneighbors(all_embeddings)\n",
        "\n",
        "    edge_indices = []\n",
        "    for i in range(indices.shape[0]):\n",
        "        for j in indices[i]:\n",
        "            if i != j:\n",
        "                edge_indices.append([i, j])\n",
        "\n",
        "    edge_index = torch.tensor(edge_indices, dtype=torch.long).t().contiguous()\n",
        "\n",
        "    train_size = len(train_emb)\n",
        "    val_size = len(val_emb)\n",
        "    test_size = len(test_emb)\n",
        "\n",
        "    train_mask = torch.zeros(train_size + val_size + test_size, dtype=torch.bool)\n",
        "    val_mask = torch.zeros_like(train_mask)\n",
        "    test_mask = torch.zeros_like(train_mask)\n",
        "\n",
        "    train_mask[:train_size] = True\n",
        "    val_mask[train_size:train_size+val_size] = True\n",
        "    test_mask[train_size+val_size:] = True\n",
        "\n",
        "    return Data(\n",
        "        x=torch.tensor(all_embeddings, dtype=torch.float),\n",
        "        edge_index=edge_index,\n",
        "        y=torch.tensor(labels, dtype=torch.long),\n",
        "        train_mask=train_mask,\n",
        "        val_mask=val_mask,\n",
        "        test_mask=test_mask\n",
        "    )"
      ]
    },
    {
      "cell_type": "code",
      "execution_count": 12,
      "id": "e86b2d5c",
      "metadata": {
        "id": "e86b2d5c"
      },
      "outputs": [],
      "source": [
        "graph = create_graph_with_masks(train_emb, val_emb, test_emb, k=15)"
      ]
    },
    {
      "cell_type": "code",
      "execution_count": 16,
      "id": "1c7a961e",
      "metadata": {
        "id": "1c7a961e"
      },
      "outputs": [],
      "source": [
        "class GraphSAGEClassifier(nn.Module):\n",
        "    def __init__(self, in_dim, hidden_dim, out_dim, num_layers=3):\n",
        "        super().__init__()\n",
        "        self.convs = nn.ModuleList()\n",
        "        self.convs.append(SAGEConv(in_dim, hidden_dim))\n",
        "        for _ in range(num_layers - 2):\n",
        "            self.convs.append(SAGEConv(hidden_dim, hidden_dim))\n",
        "        self.convs.append(SAGEConv(hidden_dim, hidden_dim))\n",
        "\n",
        "        self.jump = JumpingKnowledge(mode='cat')  # 'cat' = concatenate all layer outputs\n",
        "        self.fc = nn.Linear(hidden_dim * num_layers, out_dim)\n",
        "\n",
        "    def forward(self, data):\n",
        "        x, edge_index = data.x, data.edge_index\n",
        "        xs = []\n",
        "        for conv in self.convs:\n",
        "            x = conv(x, edge_index)\n",
        "            x = F.relu(x)\n",
        "            x = F.dropout(x, p=0.13, training=self.training)\n",
        "            xs.append(x)\n",
        "        x = self.jump(xs)\n",
        "        return F.log_softmax(self.fc(x), dim=1)\n",
        "\n",
        "class GATClassifier(nn.Module):\n",
        "    def __init__(self, in_dim, hidden_dim, out_dim, heads=8):\n",
        "        super().__init__()\n",
        "        self.conv1 = GATConv(in_dim, hidden_dim, heads=heads)\n",
        "        self.conv2 = GATConv(hidden_dim * heads, out_dim, heads=1)\n",
        "\n",
        "    def forward(self, data):\n",
        "        x, edge_index = data.x, data.edge_index\n",
        "        x = F.dropout(x, p=0.15, training=self.training)\n",
        "        x = F.elu(self.conv1(x, edge_index))\n",
        "        x = F.dropout(x, p=0.15, training=self.training)\n",
        "        x = self.conv2(x, edge_index)\n",
        "        return F.log_softmax(x, dim=1)"
      ]
    },
    {
      "cell_type": "code",
      "execution_count": 30,
      "id": "e4c4eaff",
      "metadata": {
        "id": "e4c4eaff"
      },
      "outputs": [],
      "source": [
        "device = torch.device('cuda' if torch.cuda.is_available() else 'cpu')\n",
        "graph = graph.to('cpu')\n",
        "model = GraphSAGEClassifier(\n",
        "    in_dim=train_emb.shape[1],\n",
        "    hidden_dim=128,\n",
        "    out_dim=len(np.unique(graph.y))\n",
        ").to(device)\n",
        "\n",
        "optimizer = torch.optim.AdamW(model.parameters(), lr=0.005, weight_decay=5e-4)\n",
        "# scheduler = torch.optim.lr_scheduler.ReduceLROnPlateau(\n",
        "#     optimizer,\n",
        "#     mode='max',\n",
        "#     patience=7,\n",
        "#     factor=0.5\n",
        "# )\n",
        "\n",
        "scheduler = torch.optim.lr_scheduler.StepLR(\n",
        "    optimizer,\n",
        "    step_size=55,\n",
        "    gamma=0.5\n",
        ")\n",
        "\n",
        "graph = graph.to(device)"
      ]
    },
    {
      "cell_type": "code",
      "execution_count": 13,
      "id": "5135ee06",
      "metadata": {
        "id": "5135ee06"
      },
      "outputs": [],
      "source": [
        "def evaluate(model, data, mask):\n",
        "    model.eval()\n",
        "    with torch.no_grad():\n",
        "        out = model(data)\n",
        "        preds = out.argmax(dim=1).cpu().numpy()[mask.cpu().numpy()]\n",
        "        labels = data.y[mask].cpu().numpy()\n",
        "        loss = F.cross_entropy(out[mask], data.y[mask]).item()\n",
        "        return f1_score(labels, preds, average='weighted'), loss\n",
        "\n",
        "def train_es(model, optimizer, data, scheduler=None, num_epochs: int = 200, log_every: int = 20,\n",
        "             early_stopping_patience: int = 25):\n",
        "    train_f1_history = []\n",
        "    val_f1_history = []\n",
        "    best_val_f1 = 0.0\n",
        "    patience_counter = 0\n",
        "    best_model_state = None\n",
        "\n",
        "    for epoch in trange(num_epochs):\n",
        "        model.train()\n",
        "        optimizer.zero_grad()\n",
        "        out = model(data)\n",
        "        loss = F.cross_entropy(out[data.train_mask], data.y[data.train_mask])\n",
        "        loss.backward()\n",
        "        optimizer.step()\n",
        "\n",
        "\n",
        "\n",
        "        train_f1, train_loss = evaluate(model, data, data.train_mask)\n",
        "        val_f1, val_loss = evaluate(model, data, data.val_mask)\n",
        "\n",
        "        if scheduler is not None:\n",
        "            # scheduler.step(val_f1)\n",
        "            scheduler.step()\n",
        "\n",
        "        train_f1_history.append(train_f1)\n",
        "        val_f1_history.append(val_f1)\n",
        "\n",
        "        if val_f1 > best_val_f1:\n",
        "            best_val_f1 = val_f1\n",
        "            best_model_state = copy.deepcopy(model.state_dict())\n",
        "            patience_counter = 0\n",
        "        else:\n",
        "            patience_counter += 1\n",
        "            if patience_counter >= early_stopping_patience:\n",
        "                print(f'Early stopping at epoch {epoch}')\n",
        "                break\n",
        "\n",
        "        if epoch % log_every == 0:\n",
        "            print(f'Epoch {epoch} | Val Loss: {val_loss:.4f} | Train F1: {train_f1:.4f} | Val F1: {val_f1:.4f}')\n",
        "\n",
        "    if best_model_state is not None:\n",
        "        model.load_state_dict(best_model_state)\n",
        "\n",
        "    fig = go.Figure()\n",
        "    fig.add_trace(go.Scatter(y=train_f1_history, name='Train F1', line=dict(color=\"#00aa88\"), mode='lines+markers'))\n",
        "    fig.add_trace(go.Scatter(y=val_f1_history, name='Val F1', line=dict(color=\"#fbb725\"), mode='lines+markers'))\n",
        "    fig.update_layout(\n",
        "        xaxis_title='Epoch',\n",
        "        yaxis_title='F1',\n",
        "        plot_bgcolor='white',\n",
        "        xaxis=dict(showgrid=True, gridcolor='lightgray'),\n",
        "        yaxis=dict(showgrid=True, gridcolor='lightgray'),\n",
        "        legend=dict(orientation=\"h\", yanchor=\"bottom\", y=1.02, xanchor=\"right\", x=1)\n",
        "        )\n",
        "    fig.show()\n",
        "\n",
        "    test_f1, test_loss = evaluate(model, data, data.test_mask)\n",
        "    print(f'Final Test F1: {test_f1:.4f}')\n",
        "\n",
        "    print(f'\\nClassification report on test')\n",
        "    model.eval()\n",
        "    with torch.no_grad():\n",
        "        out = model(data)\n",
        "        preds = out.argmax(dim=1).cpu().numpy()[data.test_mask.cpu().numpy()]\n",
        "        labels = data.y[data.test_mask].cpu().numpy()\n",
        "    print(classification_report(labels, preds, target_names=[label_to_language[i] for i in sorted(label_to_language.keys())]))\n",
        "\n",
        "    return model"
      ]
    },
    {
      "cell_type": "code",
      "execution_count": 32,
      "id": "be2dd931",
      "metadata": {
        "colab": {
          "base_uri": "https://localhost:8080/",
          "height": 1000
        },
        "id": "be2dd931",
        "outputId": "cdf540d7-6cb8-403d-afa4-b2ebca454bd6"
      },
      "outputs": [
        {
          "name": "stderr",
          "output_type": "stream",
          "text": [
            "  0%|          | 2/400 [00:00<01:31,  4.37it/s]"
          ]
        },
        {
          "name": "stdout",
          "output_type": "stream",
          "text": [
            "Epoch 0 | Val Loss: 3.7321 | Train F1: 0.3819 | Val F1: 0.3798\n"
          ]
        },
        {
          "name": "stderr",
          "output_type": "stream",
          "text": [
            "  6%|▌         | 22/400 [00:03<01:02,  6.05it/s]"
          ]
        },
        {
          "name": "stdout",
          "output_type": "stream",
          "text": [
            "Epoch 20 | Val Loss: 1.3528 | Train F1: 0.5311 | Val F1: 0.5356\n"
          ]
        },
        {
          "name": "stderr",
          "output_type": "stream",
          "text": [
            " 10%|█         | 42/400 [00:07<00:59,  6.05it/s]"
          ]
        },
        {
          "name": "stdout",
          "output_type": "stream",
          "text": [
            "Epoch 40 | Val Loss: 0.9890 | Train F1: 0.6758 | Val F1: 0.6751\n"
          ]
        },
        {
          "name": "stderr",
          "output_type": "stream",
          "text": [
            " 16%|█▌        | 62/400 [00:10<00:56,  6.03it/s]"
          ]
        },
        {
          "name": "stdout",
          "output_type": "stream",
          "text": [
            "Epoch 60 | Val Loss: 0.8444 | Train F1: 0.7237 | Val F1: 0.7210\n"
          ]
        },
        {
          "name": "stderr",
          "output_type": "stream",
          "text": [
            " 20%|██        | 82/400 [00:13<00:52,  6.03it/s]"
          ]
        },
        {
          "name": "stdout",
          "output_type": "stream",
          "text": [
            "Epoch 80 | Val Loss: 0.7895 | Train F1: 0.7403 | Val F1: 0.7373\n"
          ]
        },
        {
          "name": "stderr",
          "output_type": "stream",
          "text": [
            " 26%|██▌       | 102/400 [00:17<00:49,  5.99it/s]"
          ]
        },
        {
          "name": "stdout",
          "output_type": "stream",
          "text": [
            "Epoch 100 | Val Loss: 0.7450 | Train F1: 0.7568 | Val F1: 0.7515\n"
          ]
        },
        {
          "name": "stderr",
          "output_type": "stream",
          "text": [
            " 30%|███       | 122/400 [00:20<00:46,  6.00it/s]"
          ]
        },
        {
          "name": "stdout",
          "output_type": "stream",
          "text": [
            "Epoch 120 | Val Loss: 0.7132 | Train F1: 0.7686 | Val F1: 0.7630\n"
          ]
        },
        {
          "name": "stderr",
          "output_type": "stream",
          "text": [
            " 36%|███▌      | 142/400 [00:23<00:42,  6.04it/s]"
          ]
        },
        {
          "name": "stdout",
          "output_type": "stream",
          "text": [
            "Epoch 140 | Val Loss: 0.6911 | Train F1: 0.7767 | Val F1: 0.7692\n"
          ]
        },
        {
          "name": "stderr",
          "output_type": "stream",
          "text": [
            " 40%|████      | 162/400 [00:27<00:39,  6.04it/s]"
          ]
        },
        {
          "name": "stdout",
          "output_type": "stream",
          "text": [
            "Epoch 160 | Val Loss: 0.6681 | Train F1: 0.7864 | Val F1: 0.7767\n"
          ]
        },
        {
          "name": "stderr",
          "output_type": "stream",
          "text": [
            " 46%|████▌     | 182/400 [00:30<00:36,  6.02it/s]"
          ]
        },
        {
          "name": "stdout",
          "output_type": "stream",
          "text": [
            "Epoch 180 | Val Loss: 0.6538 | Train F1: 0.7924 | Val F1: 0.7800\n"
          ]
        },
        {
          "name": "stderr",
          "output_type": "stream",
          "text": [
            " 50%|█████     | 202/400 [00:33<00:32,  6.02it/s]"
          ]
        },
        {
          "name": "stdout",
          "output_type": "stream",
          "text": [
            "Epoch 200 | Val Loss: 0.6425 | Train F1: 0.7963 | Val F1: 0.7837\n"
          ]
        },
        {
          "name": "stderr",
          "output_type": "stream",
          "text": [
            " 56%|█████▌    | 222/400 [00:37<00:29,  5.97it/s]"
          ]
        },
        {
          "name": "stdout",
          "output_type": "stream",
          "text": [
            "Epoch 220 | Val Loss: 0.6312 | Train F1: 0.8001 | Val F1: 0.7884\n"
          ]
        },
        {
          "name": "stderr",
          "output_type": "stream",
          "text": [
            " 60%|██████    | 242/400 [00:40<00:26,  5.98it/s]"
          ]
        },
        {
          "name": "stdout",
          "output_type": "stream",
          "text": [
            "Epoch 240 | Val Loss: 0.6256 | Train F1: 0.8027 | Val F1: 0.7884\n"
          ]
        },
        {
          "name": "stderr",
          "output_type": "stream",
          "text": [
            " 66%|██████▌   | 262/400 [00:43<00:23,  5.96it/s]"
          ]
        },
        {
          "name": "stdout",
          "output_type": "stream",
          "text": [
            "Epoch 260 | Val Loss: 0.6203 | Train F1: 0.8041 | Val F1: 0.7907\n"
          ]
        },
        {
          "name": "stderr",
          "output_type": "stream",
          "text": [
            " 70%|███████   | 282/400 [00:47<00:19,  5.95it/s]"
          ]
        },
        {
          "name": "stdout",
          "output_type": "stream",
          "text": [
            "Epoch 280 | Val Loss: 0.6158 | Train F1: 0.8057 | Val F1: 0.7905\n"
          ]
        },
        {
          "name": "stderr",
          "output_type": "stream",
          "text": [
            " 76%|███████▌  | 302/400 [00:50<00:16,  6.02it/s]"
          ]
        },
        {
          "name": "stdout",
          "output_type": "stream",
          "text": [
            "Epoch 300 | Val Loss: 0.6129 | Train F1: 0.8072 | Val F1: 0.7914\n"
          ]
        },
        {
          "name": "stderr",
          "output_type": "stream",
          "text": [
            " 80%|████████  | 322/400 [00:53<00:12,  6.02it/s]"
          ]
        },
        {
          "name": "stdout",
          "output_type": "stream",
          "text": [
            "Epoch 320 | Val Loss: 0.6105 | Train F1: 0.8080 | Val F1: 0.7920\n"
          ]
        },
        {
          "name": "stderr",
          "output_type": "stream",
          "text": [
            " 86%|████████▌ | 342/400 [00:57<00:09,  5.95it/s]"
          ]
        },
        {
          "name": "stdout",
          "output_type": "stream",
          "text": [
            "Epoch 340 | Val Loss: 0.6085 | Train F1: 0.8087 | Val F1: 0.7921\n"
          ]
        },
        {
          "name": "stderr",
          "output_type": "stream",
          "text": [
            " 90%|████████▉ | 358/400 [00:59<00:07,  5.97it/s]"
          ]
        },
        {
          "name": "stdout",
          "output_type": "stream",
          "text": [
            "Early stopping at epoch 358\n"
          ]
        },
        {
          "name": "stderr",
          "output_type": "stream",
          "text": [
            "\n"
          ]
        },
        {
          "data": {
            "application/vnd.plotly.v1+json": {
              "config": {
                "plotlyServerURL": "https://plot.ly"
              },
              "data": [
                {
                  "line": {
                    "color": "#00aa88"
                  },
                  "mode": "lines+markers",
                  "name": "Train F1",
                  "type": "scatter",
                  "y": [
                    0.38191116306253653,
                    0.179427235534775,
                    0.10268848626534191,
                    0.15847457627118644,
                    0.3944184687317358,
                    0.4185563997662186,
                    0.4206896551724138,
                    0.4320280537697253,
                    0.4458211572180012,
                    0.45473407364114554,
                    0.4516364699006429,
                    0.47644652250146113,
                    0.49807130333138516,
                    0.5026008182349503,
                    0.5036528345996494,
                    0.5066335476329632,
                    0.5125657510227937,
                    0.5199590882524839,
                    0.523261250730567,
                    0.5302454704850964,
                    0.5311221507890123,
                    0.5440970192869666,
                    0.5526592635885447,
                    0.5599649327878433,
                    0.582729398012858,
                    0.5807130333138516,
                    0.5959088252483927,
                    0.6089421390999415,
                    0.5984219754529515,
                    0.620718877849211,
                    0.6299532437171245,
                    0.6343366452367036,
                    0.6406779661016949,
                    0.6403565166569257,
                    0.6523670368205727,
                    0.6579777907656341,
                    0.6571011104617183,
                    0.6644067796610169,
                    0.6701344243132671,
                    0.6721507890122735,
                    0.6757744009351256,
                    0.679427235534775,
                    0.6843074225599065,
                    0.6898305084745763,
                    0.6948860315604909,
                    0.6979544126241963,
                    0.7024839275277616,
                    0.7054646405610754,
                    0.7059906487434249,
                    0.7106370543541788,
                    0.7014026884862653,
                    0.6698421975452952,
                    0.6777323202805376,
                    0.7153419053185271,
                    0.7083576855639977,
                    0.720572764465225,
                    0.7084453535943892,
                    0.712010520163647,
                    0.7224722384570427,
                    0.7195499707773232,
                    0.7236703682057276,
                    0.7239625949736996,
                    0.722063120981882,
                    0.726884862653419,
                    0.7254237288135593,
                    0.72822910578609,
                    0.7266803039158387,
                    0.7269433080070135,
                    0.7330216247808299,
                    0.7321157218001169,
                    0.7333138515488019,
                    0.7331969608416131,
                    0.7345996493278785,
                    0.7361776738749269,
                    0.7366744593804793,
                    0.7367621274108709,
                    0.7362653419053186,
                    0.7413208649912332,
                    0.7425774400935126,
                    0.7423144360023378,
                    0.7403272939801285,
                    0.7411163062536529,
                    0.7434541203974284,
                    0.7449444769140854,
                    0.7446814728229105,
                    0.7449444769140854,
                    0.7462594973699591,
                    0.748188194038574,
                    0.7482174167153711,
                    0.7482466393921683,
                    0.7487434248977206,
                    0.7502337814143776,
                    0.7509351256575102,
                    0.7513150204558737,
                    0.7523378141437755,
                    0.7529514903565167,
                    0.7543249561659848,
                    0.7546464056107539,
                    0.7552893045002922,
                    0.7559906487434249,
                    0.756750438340152,
                    0.7580654587960257,
                    0.7588836937463471,
                    0.7586499123319697,
                    0.7593804792518994,
                    0.7613968439509059,
                    0.7627118644067796,
                    0.7628579777907656,
                    0.7632963179427236,
                    0.7639976621858562,
                    0.7644360023378142,
                    0.7642606662770309,
                    0.7646697837521917,
                    0.7657218001168907,
                    0.766364699006429,
                    0.7667153711279954,
                    0.7668030391583869,
                    0.7664231443600233,
                    0.7666569257744009,
                    0.7676797194623027,
                    0.7685563997662186,
                    0.7696376388077147,
                    0.7696376388077147,
                    0.7688194038573933,
                    0.7691700759789597,
                    0.7704558737580363,
                    0.7713909994155465,
                    0.7721800116890707,
                    0.7721800116890707,
                    0.7726475745178258,
                    0.7735534774985389,
                    0.7739625949736996,
                    0.7744886031560491,
                    0.7748100526008183,
                    0.7753652834599649,
                    0.7753360607831677,
                    0.7760081823495032,
                    0.7758912916423144,
                    0.7760958503798948,
                    0.7765341905318527,
                    0.7767387492694331,
                    0.7782583284628872,
                    0.7784044418468732,
                    0.7789012273524255,
                    0.7786090005844535,
                    0.7794564582115722,
                    0.780333138515488,
                    0.7810929281122151,
                    0.7812682641729982,
                    0.7815897136177674,
                    0.7823787258912916,
                    0.7826709526592636,
                    0.7833722969023963,
                    0.7839859731151373,
                    0.7844827586206896,
                    0.7845996493278784,
                    0.7850087668030391,
                    0.7851841028638223,
                    0.7864699006428989,
                    0.7862945645821158,
                    0.7863822326125073,
                    0.7865283459964932,
                    0.7874926943308007,
                    0.7888953828170661,
                    0.7888661601402689,
                    0.7892752776154296,
                    0.7895382817066043,
                    0.7893045002922268,
                    0.7899766218585622,
                    0.7899766218585622,
                    0.7898012857977791,
                    0.7897136177673875,
                    0.7903272939801286,
                    0.7905610753945062,
                    0.7911163062536528,
                    0.7912331969608416,
                    0.7915254237288135,
                    0.7914669783752192,
                    0.7913500876680304,
                    0.7914085330216247,
                    0.7924313267095265,
                    0.7928696668614845,
                    0.7928696668614845,
                    0.7927527761542957,
                    0.7926066627703098,
                    0.7926651081239041,
                    0.7930450029222677,
                    0.7929573348918761,
                    0.7933080070134424,
                    0.7936586791350088,
                    0.7939509059029807,
                    0.7943308007013442,
                    0.793980128579778,
                    0.7944184687317358,
                    0.7945645821157218,
                    0.7942139099941554,
                    0.7947106954997077,
                    0.7950905902980713,
                    0.7955581531268264,
                    0.795791934541204,
                    0.7963179427235535,
                    0.795791934541204,
                    0.7962010520163647,
                    0.7966101694915254,
                    0.7970485096434834,
                    0.7973991817650496,
                    0.7968147282291058,
                    0.7971069549970777,
                    0.7976621858562244,
                    0.7983635300993571,
                    0.7978667445938048,
                    0.7977206312098188,
                    0.7980713033313852,
                    0.7983927527761543,
                    0.7986849795441262,
                    0.7996785505552308,
                    0.8002630040911748,
                    0.8001753360607832,
                    0.7997662185856225,
                    0.8000292226767972,
                    0.800146113383986,
                    0.8005260081823495,
                    0.8006428988895383,
                    0.8009059029807131,
                    0.8008182349503215,
                    0.8006721215663355,
                    0.8006428988895383,
                    0.8006721215663355,
                    0.800613676212741,
                    0.8009059029807131,
                    0.8016364699006429,
                    0.8014319111630626,
                    0.801198129748685,
                    0.8011689070718878,
                    0.8015195791934541,
                    0.8020455873758037,
                    0.8020748100526008,
                    0.8020748100526008,
                    0.8018410286382233,
                    0.8023670368205728,
                    0.802688486265342,
                    0.8023085914669784,
                    0.8023378141437756,
                    0.8023085914669784,
                    0.802250146113384,
                    0.8026592635885447,
                    0.803302162478083,
                    0.8032437171244886,
                    0.8032729398012858,
                    0.8028053769725307,
                    0.8027469316189363,
                    0.8027761542957335,
                    0.803156049094097,
                    0.8036820572764465,
                    0.8036236119228521,
                    0.8032437171244886,
                    0.8033313851548802,
                    0.8038281706604326,
                    0.8037405026300409,
                    0.8038866160140269,
                    0.80406195207481,
                    0.804646405610754,
                    0.8050263004091175,
                    0.8045295149035652,
                    0.8041496201052016,
                    0.804354178842782,
                    0.8042957334891876,
                    0.8044710695499708,
                    0.8044418468731735,
                    0.8044126241963764,
                    0.8049094097019287,
                    0.8057860900058446,
                    0.8059029807130333,
                    0.8060198714202221,
                    0.8060783167738165,
                    0.8058737580362361,
                    0.8059322033898305,
                    0.8059029807130333,
                    0.8056399766218586,
                    0.8057568673290474,
                    0.8056691992986558,
                    0.8056691992986558,
                    0.8056984219754529,
                    0.8059029807130333,
                    0.8057276446522501,
                    0.8057568673290474,
                    0.8060490940970193,
                    0.8062244301578024,
                    0.8062244301578024,
                    0.8063705435417884,
                    0.8065166569257745,
                    0.8066919929865576,
                    0.8068088836937464,
                    0.807042665108124,
                    0.8067796610169492,
                    0.8068673290473407,
                    0.8068965517241379,
                    0.8069549970777323,
                    0.8068965517241379,
                    0.8071011104617183,
                    0.8072472238457042,
                    0.807364114552893,
                    0.8072180011689071,
                    0.8070718877849211,
                    0.8070718877849211,
                    0.8068965517241379,
                    0.8069842197545295,
                    0.8073056691992987,
                    0.8074225599064875,
                    0.8075978959672706,
                    0.8077440093512566,
                    0.807656341320865,
                    0.8075978959672706,
                    0.8077732320280537,
                    0.8077147866744594,
                    0.8076271186440678,
                    0.8076271186440678,
                    0.8075978959672706,
                    0.8078609000584454,
                    0.8080362361192285,
                    0.8079777907656341,
                    0.8080654587960258,
                    0.8082407948568089,
                    0.8083284628872005,
                    0.8081531268264173,
                    0.8082700175336061,
                    0.8081239041496201,
                    0.8083284628872005,
                    0.8085330216247808,
                    0.8086791350087668,
                    0.8087668030391584,
                    0.8088836937463472,
                    0.8090298071303331,
                    0.808708357685564,
                    0.808708357685564,
                    0.8089713617767388,
                    0.80885447106955,
                    0.8087960257159555,
                    0.8087375803623612,
                    0.8086791350087668,
                    0.808708357685564,
                    0.808708357685564,
                    0.8087960257159555,
                    0.8090882524839276,
                    0.8089421390999415,
                    0.8091759205143191,
                    0.8090882524839276,
                    0.8091174751607247,
                    0.8092343658679135,
                    0.8093512565751023,
                    0.8093804792518995,
                    0.8092343658679135,
                    0.8092928112215079,
                    0.8093512565751023,
                    0.8092635885447107,
                    0.8092343658679135,
                    0.8091466978375219,
                    0.8092928112215079,
                    0.8096142606662771
                  ]
                },
                {
                  "line": {
                    "color": "#fbb725"
                  },
                  "mode": "lines+markers",
                  "name": "Val F1",
                  "type": "scatter",
                  "y": [
                    0.37979399517861057,
                    0.17926802542187156,
                    0.0975235590620206,
                    0.15176419022572868,
                    0.39414858645627876,
                    0.41398202936664474,
                    0.4178172255095332,
                    0.42789831251369714,
                    0.44115713346482577,
                    0.45014245014245013,
                    0.4475126013587552,
                    0.4751260135875521,
                    0.5003287310979618,
                    0.5064650449265834,
                    0.5070129300898532,
                    0.5105193951347797,
                    0.5158886697348236,
                    0.5292570677186061,
                    0.5285996055226825,
                    0.5340784571553803,
                    0.5356125356125356,
                    0.5464606618452772,
                    0.5532544378698225,
                    0.5622397545474469,
                    0.5870041639272409,
                    0.591715976331361,
                    0.6051939513477975,
                    0.6154941924172693,
                    0.6056322594784134,
                    0.6203155818540433,
                    0.6368617137847907,
                    0.6420118343195266,
                    0.643655489809336,
                    0.6469428007889546,
                    0.6550515012053474,
                    0.6576813499890423,
                    0.6597633136094675,
                    0.6655708963401271,
                    0.6749945211483673,
                    0.6767477536708306,
                    0.6751040981810212,
                    0.6800350646504493,
                    0.6848564540872233,
                    0.6894586894586895,
                    0.6992110453648915,
                    0.6989918912995836,
                    0.7039228577690116,
                    0.7041420118343196,
                    0.7037037037037037,
                    0.710497479728249,
                    0.7009642778873548,
                    0.6650230111768574,
                    0.6765285996055227,
                    0.7073197457812842,
                    0.7046898969975893,
                    0.7165242165242165,
                    0.7094017094017094,
                    0.7111549419241727,
                    0.7174008327854482,
                    0.7142230988384835,
                    0.7210168748630287,
                    0.7212360289283366,
                    0.7220030681569143,
                    0.7248520710059172,
                    0.722550953320184,
                    0.7234275695814157,
                    0.7250712250712251,
                    0.7266053035283805,
                    0.7294543063773833,
                    0.727810650887574,
                    0.72770107385492,
                    0.7305500767039229,
                    0.7313171159325006,
                    0.7327416173570019,
                    0.7319745781284243,
                    0.7313171159325006,
                    0.7344948498794652,
                    0.7392066622835853,
                    0.73767258382643,
                    0.7380013149243918,
                    0.7373438527284681,
                    0.7373438527284681,
                    0.7406311637080868,
                    0.7412886259040106,
                    0.7412886259040106,
                    0.7416173570019724,
                    0.7420556651325882,
                    0.7440280517203595,
                    0.7433705895244357,
                    0.7435897435897436,
                    0.7447950909489371,
                    0.7454525531448608,
                    0.747534516765286,
                    0.747534516765286,
                    0.7477536708305939,
                    0.7486302870918256,
                    0.7491781722550953,
                    0.7492877492877493,
                    0.7493973263204032,
                    0.7497260574183651,
                    0.7514792899408284,
                    0.7521367521367521,
                    0.7527942143326759,
                    0.7531229454306377,
                    0.7543282927898313,
                    0.755095332018409,
                    0.7567389875082183,
                    0.7570677186061802,
                    0.7582730659653737,
                    0.757396449704142,
                    0.7579443348674118,
                    0.7595879903572211,
                    0.7601358755204909,
                    0.7610124917817226,
                    0.7617795310103003,
                    0.7615603769449923,
                    0.7612316458470305,
                    0.76232741617357,
                    0.7624369932062239,
                    0.7624369932062239,
                    0.7629848783694938,
                    0.7633136094674556,
                    0.7634231865001095,
                    0.7634231865001095,
                    0.7633136094674556,
                    0.7640806486960333,
                    0.7646285338593031,
                    0.764847687924611,
                    0.7650668419899189,
                    0.7659434582511505,
                    0.7657243041858427,
                    0.7662721893491125,
                    0.767367959675652,
                    0.7672583826429981,
                    0.7685733070348455,
                    0.7685733070348455,
                    0.7685733070348455,
                    0.7683541529695376,
                    0.7680254218715757,
                    0.7689020381328073,
                    0.7692307692307693,
                    0.769778654394039,
                    0.7701073854920009,
                    0.7702169625246549,
                    0.769778654394039,
                    0.7707648476879246,
                    0.7708744247205785,
                    0.7714223098838483,
                    0.7728468113083498,
                    0.7719701950471182,
                    0.7729563883410038,
                    0.7731755424063116,
                    0.7737234275695815,
                    0.7743808897655051,
                    0.774819197896121,
                    0.7753670830593907,
                    0.7753670830593907,
                    0.7755862371246987,
                    0.7764628533859304,
                    0.7766820074512382,
                    0.7766820074512382,
                    0.7763532763532763,
                    0.7776682007451238,
                    0.7766820074512382,
                    0.7779969318430857,
                    0.7783256629410475,
                    0.7786543940390094,
                    0.7785448170063555,
                    0.7785448170063555,
                    0.7788735481043173,
                    0.7790927021696252,
                    0.7790927021696252,
                    0.7792022792022792,
                    0.7792022792022792,
                    0.7781065088757396,
                    0.7785448170063555,
                    0.7790927021696252,
                    0.7798597413982029,
                    0.7802980495288188,
                    0.779750164365549,
                    0.7799693184308569,
                    0.779640587332895,
                    0.7798597413982029,
                    0.7804076265614727,
                    0.7811746657900505,
                    0.7811746657900505,
                    0.7802980495288188,
                    0.7805172035941267,
                    0.7811746657900505,
                    0.7812842428227044,
                    0.7823800131492439,
                    0.782160859083936,
                    0.7818321279859741,
                    0.78227043611659,
                    0.78227043611659,
                    0.7830374753451677,
                    0.7829278983125137,
                    0.7825991672145518,
                    0.7831470523778216,
                    0.7838045145737453,
                    0.7836949375410914,
                    0.7834757834757835,
                    0.7842428227043612,
                    0.7854481700635547,
                    0.7852290159982468,
                    0.7847907078676309,
                    0.784681130834977,
                    0.7858864781941705,
                    0.7851194389655928,
                    0.7849002849002849,
                    0.7835853605084374,
                    0.7839140916063992,
                    0.7853385930309007,
                    0.7863247863247863,
                    0.7857769011615165,
                    0.7856673241288626,
                    0.7853385930309007,
                    0.7867630944554022,
                    0.787091825553364,
                    0.7873109796186719,
                    0.7884067499452115,
                    0.7879684418145957,
                    0.7876397107166337,
                    0.787091825553364,
                    0.787201402586018,
                    0.7880780188472496,
                    0.7880780188472496,
                    0.7880780188472496,
                    0.7882971729125575,
                    0.7879684418145957,
                    0.7873109796186719,
                    0.7876397107166337,
                    0.7884067499452115,
                    0.7889546351084813,
                    0.7888450580758273,
                    0.7886259040105194,
                    0.7885163269778654,
                    0.7891737891737892,
                    0.7887354810431734,
                    0.7881875958799036,
                    0.7884067499452115,
                    0.7884067499452115,
                    0.789392943239097,
                    0.7891737891737892,
                    0.7889546351084813,
                    0.7886259040105194,
                    0.7881875958799036,
                    0.7884067499452115,
                    0.7892833662064431,
                    0.789721674337059,
                    0.7900504054350208,
                    0.7902695595003287,
                    0.789392943239097,
                    0.789612097304405,
                    0.789612097304405,
                    0.7902695595003287,
                    0.7902695595003287,
                    0.7905982905982906,
                    0.7905982905982906,
                    0.7907078676309446,
                    0.7907078676309446,
                    0.7901599824676748,
                    0.7904887135656367,
                    0.7898312513697129,
                    0.7903791365329826,
                    0.7904887135656367,
                    0.7909270216962525,
                    0.7913653298268682,
                    0.7911461757615603,
                    0.7905982905982906,
                    0.7900504054350208,
                    0.7903791365329826,
                    0.7903791365329826,
                    0.7903791365329826,
                    0.7907078676309446,
                    0.7907078676309446,
                    0.7908174446635985,
                    0.7908174446635985,
                    0.7909270216962525,
                    0.7910365987289064,
                    0.7904887135656367,
                    0.7905982905982906,
                    0.7913653298268682,
                    0.7912557527942143,
                    0.7912557527942143,
                    0.7913653298268682,
                    0.7912557527942143,
                    0.7915844838921762,
                    0.7913653298268682,
                    0.7914749068595223,
                    0.7913653298268682,
                    0.7914749068595223,
                    0.7914749068595223,
                    0.7911461757615603,
                    0.7911461757615603,
                    0.7911461757615603,
                    0.7911461757615603,
                    0.7911461757615603,
                    0.7911461757615603,
                    0.7913653298268682,
                    0.7913653298268682,
                    0.7914749068595223,
                    0.7914749068595223,
                    0.7913653298268682,
                    0.7914749068595223,
                    0.7915844838921762,
                    0.7910365987289064,
                    0.7910365987289064,
                    0.7912557527942143,
                    0.7915844838921762,
                    0.7919132149901381,
                    0.7922419460881,
                    0.7916940609248302,
                    0.7915844838921762,
                    0.7913653298268682,
                    0.7915844838921762,
                    0.7914749068595223,
                    0.7919132149901381,
                    0.7919132149901381,
                    0.7916940609248302,
                    0.792022792022792,
                    0.7918036379574841,
                    0.7918036379574841,
                    0.7914749068595223,
                    0.792022792022792,
                    0.7921323690554459,
                    0.792022792022792,
                    0.7921323690554459,
                    0.7915844838921762,
                    0.7924611001534079,
                    0.7926802542187158,
                    0.7926802542187158,
                    0.7927898312513697,
                    0.7928994082840237,
                    0.7928994082840237,
                    0.7926802542187158,
                    0.792022792022792,
                    0.792022792022792,
                    0.7922419460881,
                    0.7922419460881,
                    0.7921323690554459,
                    0.7922419460881,
                    0.7921323690554459,
                    0.792022792022792,
                    0.792022792022792,
                    0.7922419460881,
                    0.7924611001534079,
                    0.7923515231207539,
                    0.7922419460881,
                    0.7919132149901381,
                    0.792022792022792,
                    0.7922419460881,
                    0.7925706771860618,
                    0.7926802542187158,
                    0.7923515231207539,
                    0.7921323690554459,
                    0.7916940609248302,
                    0.7914749068595223,
                    0.7915844838921762
                  ]
                }
              ],
              "layout": {
                "legend": {
                  "orientation": "h",
                  "x": 1,
                  "xanchor": "right",
                  "y": 1.02,
                  "yanchor": "bottom"
                },
                "plot_bgcolor": "white",
                "template": {
                  "data": {
                    "bar": [
                      {
                        "error_x": {
                          "color": "#2a3f5f"
                        },
                        "error_y": {
                          "color": "#2a3f5f"
                        },
                        "marker": {
                          "line": {
                            "color": "#E5ECF6",
                            "width": 0.5
                          },
                          "pattern": {
                            "fillmode": "overlay",
                            "size": 10,
                            "solidity": 0.2
                          }
                        },
                        "type": "bar"
                      }
                    ],
                    "barpolar": [
                      {
                        "marker": {
                          "line": {
                            "color": "#E5ECF6",
                            "width": 0.5
                          },
                          "pattern": {
                            "fillmode": "overlay",
                            "size": 10,
                            "solidity": 0.2
                          }
                        },
                        "type": "barpolar"
                      }
                    ],
                    "carpet": [
                      {
                        "aaxis": {
                          "endlinecolor": "#2a3f5f",
                          "gridcolor": "white",
                          "linecolor": "white",
                          "minorgridcolor": "white",
                          "startlinecolor": "#2a3f5f"
                        },
                        "baxis": {
                          "endlinecolor": "#2a3f5f",
                          "gridcolor": "white",
                          "linecolor": "white",
                          "minorgridcolor": "white",
                          "startlinecolor": "#2a3f5f"
                        },
                        "type": "carpet"
                      }
                    ],
                    "choropleth": [
                      {
                        "colorbar": {
                          "outlinewidth": 0,
                          "ticks": ""
                        },
                        "type": "choropleth"
                      }
                    ],
                    "contour": [
                      {
                        "colorbar": {
                          "outlinewidth": 0,
                          "ticks": ""
                        },
                        "colorscale": [
                          [
                            0,
                            "#0d0887"
                          ],
                          [
                            0.1111111111111111,
                            "#46039f"
                          ],
                          [
                            0.2222222222222222,
                            "#7201a8"
                          ],
                          [
                            0.3333333333333333,
                            "#9c179e"
                          ],
                          [
                            0.4444444444444444,
                            "#bd3786"
                          ],
                          [
                            0.5555555555555556,
                            "#d8576b"
                          ],
                          [
                            0.6666666666666666,
                            "#ed7953"
                          ],
                          [
                            0.7777777777777778,
                            "#fb9f3a"
                          ],
                          [
                            0.8888888888888888,
                            "#fdca26"
                          ],
                          [
                            1,
                            "#f0f921"
                          ]
                        ],
                        "type": "contour"
                      }
                    ],
                    "contourcarpet": [
                      {
                        "colorbar": {
                          "outlinewidth": 0,
                          "ticks": ""
                        },
                        "type": "contourcarpet"
                      }
                    ],
                    "heatmap": [
                      {
                        "colorbar": {
                          "outlinewidth": 0,
                          "ticks": ""
                        },
                        "colorscale": [
                          [
                            0,
                            "#0d0887"
                          ],
                          [
                            0.1111111111111111,
                            "#46039f"
                          ],
                          [
                            0.2222222222222222,
                            "#7201a8"
                          ],
                          [
                            0.3333333333333333,
                            "#9c179e"
                          ],
                          [
                            0.4444444444444444,
                            "#bd3786"
                          ],
                          [
                            0.5555555555555556,
                            "#d8576b"
                          ],
                          [
                            0.6666666666666666,
                            "#ed7953"
                          ],
                          [
                            0.7777777777777778,
                            "#fb9f3a"
                          ],
                          [
                            0.8888888888888888,
                            "#fdca26"
                          ],
                          [
                            1,
                            "#f0f921"
                          ]
                        ],
                        "type": "heatmap"
                      }
                    ],
                    "heatmapgl": [
                      {
                        "colorbar": {
                          "outlinewidth": 0,
                          "ticks": ""
                        },
                        "colorscale": [
                          [
                            0,
                            "#0d0887"
                          ],
                          [
                            0.1111111111111111,
                            "#46039f"
                          ],
                          [
                            0.2222222222222222,
                            "#7201a8"
                          ],
                          [
                            0.3333333333333333,
                            "#9c179e"
                          ],
                          [
                            0.4444444444444444,
                            "#bd3786"
                          ],
                          [
                            0.5555555555555556,
                            "#d8576b"
                          ],
                          [
                            0.6666666666666666,
                            "#ed7953"
                          ],
                          [
                            0.7777777777777778,
                            "#fb9f3a"
                          ],
                          [
                            0.8888888888888888,
                            "#fdca26"
                          ],
                          [
                            1,
                            "#f0f921"
                          ]
                        ],
                        "type": "heatmapgl"
                      }
                    ],
                    "histogram": [
                      {
                        "marker": {
                          "pattern": {
                            "fillmode": "overlay",
                            "size": 10,
                            "solidity": 0.2
                          }
                        },
                        "type": "histogram"
                      }
                    ],
                    "histogram2d": [
                      {
                        "colorbar": {
                          "outlinewidth": 0,
                          "ticks": ""
                        },
                        "colorscale": [
                          [
                            0,
                            "#0d0887"
                          ],
                          [
                            0.1111111111111111,
                            "#46039f"
                          ],
                          [
                            0.2222222222222222,
                            "#7201a8"
                          ],
                          [
                            0.3333333333333333,
                            "#9c179e"
                          ],
                          [
                            0.4444444444444444,
                            "#bd3786"
                          ],
                          [
                            0.5555555555555556,
                            "#d8576b"
                          ],
                          [
                            0.6666666666666666,
                            "#ed7953"
                          ],
                          [
                            0.7777777777777778,
                            "#fb9f3a"
                          ],
                          [
                            0.8888888888888888,
                            "#fdca26"
                          ],
                          [
                            1,
                            "#f0f921"
                          ]
                        ],
                        "type": "histogram2d"
                      }
                    ],
                    "histogram2dcontour": [
                      {
                        "colorbar": {
                          "outlinewidth": 0,
                          "ticks": ""
                        },
                        "colorscale": [
                          [
                            0,
                            "#0d0887"
                          ],
                          [
                            0.1111111111111111,
                            "#46039f"
                          ],
                          [
                            0.2222222222222222,
                            "#7201a8"
                          ],
                          [
                            0.3333333333333333,
                            "#9c179e"
                          ],
                          [
                            0.4444444444444444,
                            "#bd3786"
                          ],
                          [
                            0.5555555555555556,
                            "#d8576b"
                          ],
                          [
                            0.6666666666666666,
                            "#ed7953"
                          ],
                          [
                            0.7777777777777778,
                            "#fb9f3a"
                          ],
                          [
                            0.8888888888888888,
                            "#fdca26"
                          ],
                          [
                            1,
                            "#f0f921"
                          ]
                        ],
                        "type": "histogram2dcontour"
                      }
                    ],
                    "mesh3d": [
                      {
                        "colorbar": {
                          "outlinewidth": 0,
                          "ticks": ""
                        },
                        "type": "mesh3d"
                      }
                    ],
                    "parcoords": [
                      {
                        "line": {
                          "colorbar": {
                            "outlinewidth": 0,
                            "ticks": ""
                          }
                        },
                        "type": "parcoords"
                      }
                    ],
                    "pie": [
                      {
                        "automargin": true,
                        "type": "pie"
                      }
                    ],
                    "scatter": [
                      {
                        "fillpattern": {
                          "fillmode": "overlay",
                          "size": 10,
                          "solidity": 0.2
                        },
                        "type": "scatter"
                      }
                    ],
                    "scatter3d": [
                      {
                        "line": {
                          "colorbar": {
                            "outlinewidth": 0,
                            "ticks": ""
                          }
                        },
                        "marker": {
                          "colorbar": {
                            "outlinewidth": 0,
                            "ticks": ""
                          }
                        },
                        "type": "scatter3d"
                      }
                    ],
                    "scattercarpet": [
                      {
                        "marker": {
                          "colorbar": {
                            "outlinewidth": 0,
                            "ticks": ""
                          }
                        },
                        "type": "scattercarpet"
                      }
                    ],
                    "scattergeo": [
                      {
                        "marker": {
                          "colorbar": {
                            "outlinewidth": 0,
                            "ticks": ""
                          }
                        },
                        "type": "scattergeo"
                      }
                    ],
                    "scattergl": [
                      {
                        "marker": {
                          "colorbar": {
                            "outlinewidth": 0,
                            "ticks": ""
                          }
                        },
                        "type": "scattergl"
                      }
                    ],
                    "scattermapbox": [
                      {
                        "marker": {
                          "colorbar": {
                            "outlinewidth": 0,
                            "ticks": ""
                          }
                        },
                        "type": "scattermapbox"
                      }
                    ],
                    "scatterpolar": [
                      {
                        "marker": {
                          "colorbar": {
                            "outlinewidth": 0,
                            "ticks": ""
                          }
                        },
                        "type": "scatterpolar"
                      }
                    ],
                    "scatterpolargl": [
                      {
                        "marker": {
                          "colorbar": {
                            "outlinewidth": 0,
                            "ticks": ""
                          }
                        },
                        "type": "scatterpolargl"
                      }
                    ],
                    "scatterternary": [
                      {
                        "marker": {
                          "colorbar": {
                            "outlinewidth": 0,
                            "ticks": ""
                          }
                        },
                        "type": "scatterternary"
                      }
                    ],
                    "surface": [
                      {
                        "colorbar": {
                          "outlinewidth": 0,
                          "ticks": ""
                        },
                        "colorscale": [
                          [
                            0,
                            "#0d0887"
                          ],
                          [
                            0.1111111111111111,
                            "#46039f"
                          ],
                          [
                            0.2222222222222222,
                            "#7201a8"
                          ],
                          [
                            0.3333333333333333,
                            "#9c179e"
                          ],
                          [
                            0.4444444444444444,
                            "#bd3786"
                          ],
                          [
                            0.5555555555555556,
                            "#d8576b"
                          ],
                          [
                            0.6666666666666666,
                            "#ed7953"
                          ],
                          [
                            0.7777777777777778,
                            "#fb9f3a"
                          ],
                          [
                            0.8888888888888888,
                            "#fdca26"
                          ],
                          [
                            1,
                            "#f0f921"
                          ]
                        ],
                        "type": "surface"
                      }
                    ],
                    "table": [
                      {
                        "cells": {
                          "fill": {
                            "color": "#EBF0F8"
                          },
                          "line": {
                            "color": "white"
                          }
                        },
                        "header": {
                          "fill": {
                            "color": "#C8D4E3"
                          },
                          "line": {
                            "color": "white"
                          }
                        },
                        "type": "table"
                      }
                    ]
                  },
                  "layout": {
                    "annotationdefaults": {
                      "arrowcolor": "#2a3f5f",
                      "arrowhead": 0,
                      "arrowwidth": 1
                    },
                    "autotypenumbers": "strict",
                    "coloraxis": {
                      "colorbar": {
                        "outlinewidth": 0,
                        "ticks": ""
                      }
                    },
                    "colorscale": {
                      "diverging": [
                        [
                          0,
                          "#8e0152"
                        ],
                        [
                          0.1,
                          "#c51b7d"
                        ],
                        [
                          0.2,
                          "#de77ae"
                        ],
                        [
                          0.3,
                          "#f1b6da"
                        ],
                        [
                          0.4,
                          "#fde0ef"
                        ],
                        [
                          0.5,
                          "#f7f7f7"
                        ],
                        [
                          0.6,
                          "#e6f5d0"
                        ],
                        [
                          0.7,
                          "#b8e186"
                        ],
                        [
                          0.8,
                          "#7fbc41"
                        ],
                        [
                          0.9,
                          "#4d9221"
                        ],
                        [
                          1,
                          "#276419"
                        ]
                      ],
                      "sequential": [
                        [
                          0,
                          "#0d0887"
                        ],
                        [
                          0.1111111111111111,
                          "#46039f"
                        ],
                        [
                          0.2222222222222222,
                          "#7201a8"
                        ],
                        [
                          0.3333333333333333,
                          "#9c179e"
                        ],
                        [
                          0.4444444444444444,
                          "#bd3786"
                        ],
                        [
                          0.5555555555555556,
                          "#d8576b"
                        ],
                        [
                          0.6666666666666666,
                          "#ed7953"
                        ],
                        [
                          0.7777777777777778,
                          "#fb9f3a"
                        ],
                        [
                          0.8888888888888888,
                          "#fdca26"
                        ],
                        [
                          1,
                          "#f0f921"
                        ]
                      ],
                      "sequentialminus": [
                        [
                          0,
                          "#0d0887"
                        ],
                        [
                          0.1111111111111111,
                          "#46039f"
                        ],
                        [
                          0.2222222222222222,
                          "#7201a8"
                        ],
                        [
                          0.3333333333333333,
                          "#9c179e"
                        ],
                        [
                          0.4444444444444444,
                          "#bd3786"
                        ],
                        [
                          0.5555555555555556,
                          "#d8576b"
                        ],
                        [
                          0.6666666666666666,
                          "#ed7953"
                        ],
                        [
                          0.7777777777777778,
                          "#fb9f3a"
                        ],
                        [
                          0.8888888888888888,
                          "#fdca26"
                        ],
                        [
                          1,
                          "#f0f921"
                        ]
                      ]
                    },
                    "colorway": [
                      "#636efa",
                      "#EF553B",
                      "#00cc96",
                      "#ab63fa",
                      "#FFA15A",
                      "#19d3f3",
                      "#FF6692",
                      "#B6E880",
                      "#FF97FF",
                      "#FECB52"
                    ],
                    "font": {
                      "color": "#2a3f5f"
                    },
                    "geo": {
                      "bgcolor": "white",
                      "lakecolor": "white",
                      "landcolor": "#E5ECF6",
                      "showlakes": true,
                      "showland": true,
                      "subunitcolor": "white"
                    },
                    "hoverlabel": {
                      "align": "left"
                    },
                    "hovermode": "closest",
                    "mapbox": {
                      "style": "light"
                    },
                    "paper_bgcolor": "white",
                    "plot_bgcolor": "#E5ECF6",
                    "polar": {
                      "angularaxis": {
                        "gridcolor": "white",
                        "linecolor": "white",
                        "ticks": ""
                      },
                      "bgcolor": "#E5ECF6",
                      "radialaxis": {
                        "gridcolor": "white",
                        "linecolor": "white",
                        "ticks": ""
                      }
                    },
                    "scene": {
                      "xaxis": {
                        "backgroundcolor": "#E5ECF6",
                        "gridcolor": "white",
                        "gridwidth": 2,
                        "linecolor": "white",
                        "showbackground": true,
                        "ticks": "",
                        "zerolinecolor": "white"
                      },
                      "yaxis": {
                        "backgroundcolor": "#E5ECF6",
                        "gridcolor": "white",
                        "gridwidth": 2,
                        "linecolor": "white",
                        "showbackground": true,
                        "ticks": "",
                        "zerolinecolor": "white"
                      },
                      "zaxis": {
                        "backgroundcolor": "#E5ECF6",
                        "gridcolor": "white",
                        "gridwidth": 2,
                        "linecolor": "white",
                        "showbackground": true,
                        "ticks": "",
                        "zerolinecolor": "white"
                      }
                    },
                    "shapedefaults": {
                      "line": {
                        "color": "#2a3f5f"
                      }
                    },
                    "ternary": {
                      "aaxis": {
                        "gridcolor": "white",
                        "linecolor": "white",
                        "ticks": ""
                      },
                      "baxis": {
                        "gridcolor": "white",
                        "linecolor": "white",
                        "ticks": ""
                      },
                      "bgcolor": "#E5ECF6",
                      "caxis": {
                        "gridcolor": "white",
                        "linecolor": "white",
                        "ticks": ""
                      }
                    },
                    "title": {
                      "x": 0.05
                    },
                    "xaxis": {
                      "automargin": true,
                      "gridcolor": "white",
                      "linecolor": "white",
                      "ticks": "",
                      "title": {
                        "standoff": 15
                      },
                      "zerolinecolor": "white",
                      "zerolinewidth": 2
                    },
                    "yaxis": {
                      "automargin": true,
                      "gridcolor": "white",
                      "linecolor": "white",
                      "ticks": "",
                      "title": {
                        "standoff": 15
                      },
                      "zerolinecolor": "white",
                      "zerolinewidth": 2
                    }
                  }
                },
                "xaxis": {
                  "gridcolor": "lightgray",
                  "showgrid": true,
                  "title": {
                    "text": "Epoch"
                  }
                },
                "yaxis": {
                  "gridcolor": "lightgray",
                  "showgrid": true,
                  "title": {
                    "text": "F1"
                  }
                }
              }
            }
          },
          "metadata": {},
          "output_type": "display_data"
        },
        {
          "name": "stdout",
          "output_type": "stream",
          "text": [
            "Final Test F1: 0.7967\n",
            "\n",
            "Classification report on test\n",
            "              precision    recall  f1-score   support\n",
            "\n",
            "           R       1.00      0.12      0.22         8\n",
            "           c       0.67      0.48      0.56       230\n",
            " c-plus-plus       0.69      0.83      0.75       537\n",
            "     c-sharp       0.85      0.92      0.88       199\n",
            "        dart       0.74      0.34      0.47        50\n",
            "     f-sharp       0.71      0.50      0.59        10\n",
            "          go       0.91      0.95      0.93        94\n",
            "        java       0.69      0.64      0.66       214\n",
            "  javascript       0.75      0.78      0.77       129\n",
            "       julia       0.90      0.58      0.70        45\n",
            "         php       0.00      0.00      0.00        15\n",
            "      python       0.93      0.98      0.95       663\n",
            "        ruby       0.81      0.84      0.82        64\n",
            "       scala       0.00      0.00      0.00         6\n",
            "       swift       1.00      0.06      0.11        18\n",
            "\n",
            "    accuracy                           0.80      2282\n",
            "   macro avg       0.71      0.53      0.56      2282\n",
            "weighted avg       0.79      0.80      0.78      2282\n",
            "\n"
          ]
        },
        {
          "name": "stderr",
          "output_type": "stream",
          "text": [
            "c:\\Users\\yarom\\AppData\\Local\\Programs\\Python\\Python312\\Lib\\site-packages\\sklearn\\metrics\\_classification.py:1509: UndefinedMetricWarning:\n",
            "\n",
            "Precision is ill-defined and being set to 0.0 in labels with no predicted samples. Use `zero_division` parameter to control this behavior.\n",
            "\n",
            "c:\\Users\\yarom\\AppData\\Local\\Programs\\Python\\Python312\\Lib\\site-packages\\sklearn\\metrics\\_classification.py:1509: UndefinedMetricWarning:\n",
            "\n",
            "Precision is ill-defined and being set to 0.0 in labels with no predicted samples. Use `zero_division` parameter to control this behavior.\n",
            "\n",
            "c:\\Users\\yarom\\AppData\\Local\\Programs\\Python\\Python312\\Lib\\site-packages\\sklearn\\metrics\\_classification.py:1509: UndefinedMetricWarning:\n",
            "\n",
            "Precision is ill-defined and being set to 0.0 in labels with no predicted samples. Use `zero_division` parameter to control this behavior.\n",
            "\n"
          ]
        }
      ],
      "source": [
        "model_sageconv = train_es(model, optimizer, graph, scheduler=scheduler, num_epochs=400)"
      ]
    },
    {
      "cell_type": "code",
      "execution_count": 14,
      "id": "b3daa640",
      "metadata": {},
      "outputs": [],
      "source": [
        "def infer_on_code_snippet(text_snippet: str, gnn_model: nn.Module, encoder_model, device: torch.device, show_time = False) -> int:\n",
        "    start_time = time.time()\n",
        "    gnn_model.eval()\n",
        "\n",
        "    emb = get_embeddings_optimized(\n",
        "        [text_snippet],\n",
        "        embedding_model=encoder_model,\n",
        "        batch_size=1\n",
        "    )  # shape (1, in_dim)\n",
        "\n",
        "    x = torch.tensor(emb, dtype=torch.float).to(device)  # (1, in_dim)\n",
        "    edge_index = torch.empty((2, 0), dtype=torch.long).to(device)  # нет соседей\n",
        "\n",
        "    data = Data(x=x, edge_index=edge_index)\n",
        "    data = data.to(device)\n",
        "\n",
        "    with torch.no_grad():\n",
        "        out = gnn_model(data)               # shape (1, num_classes)\n",
        "        pred = out.argmax(dim=1).item()     # int\n",
        "\n",
        "    if show_time:\n",
        "      print(time.time() - start_time)\n",
        "\n",
        "    return pred\n"
      ]
    },
    {
      "cell_type": "code",
      "execution_count": 41,
      "id": "FpMmOT7BOMLF",
      "metadata": {
        "colab": {
          "base_uri": "https://localhost:8080/"
        },
        "id": "FpMmOT7BOMLF",
        "outputId": "0c7669fb-0da7-4c37-d65d-9a0bd3bc02ea"
      },
      "outputs": [
        {
          "name": "stderr",
          "output_type": "stream",
          "text": [
            "100%|██████████| 1/1 [00:00<00:00, 90.92it/s]"
          ]
        },
        {
          "name": "stdout",
          "output_type": "stream",
          "text": [
            "0.014000654220581055\n",
            "Predicted class: python\n"
          ]
        },
        {
          "name": "stderr",
          "output_type": "stream",
          "text": [
            "\n"
          ]
        }
      ],
      "source": [
        "pred_class = infer_on_code_snippet('def infer_on_code_snippet(text_snippet, model):', model_sageconv, emb_model, device, show_time = True)\n",
        "print(f\"Predicted class: {label_to_language[pred_class]}\")"
      ]
    },
    {
      "cell_type": "markdown",
      "id": "llKA5wbu9B-5",
      "metadata": {
        "id": "llKA5wbu9B-5"
      },
      "source": [
        "### BERT + KNN + SAGEConv: F1 = 0.79, train_time: 4:37, inference time: 0.014"
      ]
    },
    {
      "cell_type": "code",
      "execution_count": 20,
      "id": "oAs103Ro7X9I",
      "metadata": {
        "id": "oAs103Ro7X9I"
      },
      "outputs": [],
      "source": [
        "device = torch.device('cuda' if torch.cuda.is_available() else 'cpu')\n",
        "graph = graph.to('cpu')\n",
        "model = GATClassifier(\n",
        "    in_dim=train_emb.shape[1],\n",
        "    hidden_dim=64,\n",
        "    out_dim=len(np.unique(graph.y))\n",
        ").to(device)\n",
        "\n",
        "optimizer = torch.optim.AdamW(model.parameters(), lr=0.005, weight_decay=5e-4)\n",
        "# scheduler = torch.optim.lr_scheduler.ReduceLROnPlateau(\n",
        "#     optimizer,\n",
        "#     mode='max',\n",
        "#     patience=7,\n",
        "#     factor=0.5\n",
        "# )\n",
        "\n",
        "scheduler = torch.optim.lr_scheduler.StepLR(\n",
        "    optimizer,\n",
        "    step_size=55,\n",
        "    gamma=0.5\n",
        ")\n",
        "\n",
        "graph = graph.to(device)"
      ]
    },
    {
      "cell_type": "code",
      "execution_count": 21,
      "id": "T7ZNEibN7jgi",
      "metadata": {
        "colab": {
          "base_uri": "https://localhost:8080/",
          "height": 1000
        },
        "id": "T7ZNEibN7jgi",
        "outputId": "326a7b6d-be5b-4af0-c797-2c083b732660"
      },
      "outputs": [
        {
          "name": "stderr",
          "output_type": "stream",
          "text": [
            "  0%|          | 1/400 [00:00<04:23,  1.52it/s]"
          ]
        },
        {
          "name": "stdout",
          "output_type": "stream",
          "text": [
            "Epoch 0 | Val Loss: 8.5629 | Train F1: 0.1563 | Val F1: 0.1595\n"
          ]
        },
        {
          "name": "stderr",
          "output_type": "stream",
          "text": [
            "  5%|▌         | 21/400 [00:11<03:16,  1.93it/s]"
          ]
        },
        {
          "name": "stdout",
          "output_type": "stream",
          "text": [
            "Epoch 20 | Val Loss: 1.7064 | Train F1: 0.3997 | Val F1: 0.4030\n"
          ]
        },
        {
          "name": "stderr",
          "output_type": "stream",
          "text": [
            " 10%|█         | 41/400 [00:22<03:09,  1.89it/s]"
          ]
        },
        {
          "name": "stdout",
          "output_type": "stream",
          "text": [
            "Epoch 40 | Val Loss: 1.3080 | Train F1: 0.5000 | Val F1: 0.5065\n"
          ]
        },
        {
          "name": "stderr",
          "output_type": "stream",
          "text": [
            " 15%|█▌        | 61/400 [00:33<02:59,  1.89it/s]"
          ]
        },
        {
          "name": "stdout",
          "output_type": "stream",
          "text": [
            "Epoch 60 | Val Loss: 1.1057 | Train F1: 0.6125 | Val F1: 0.6205\n"
          ]
        },
        {
          "name": "stderr",
          "output_type": "stream",
          "text": [
            " 20%|██        | 81/400 [00:44<02:47,  1.90it/s]"
          ]
        },
        {
          "name": "stdout",
          "output_type": "stream",
          "text": [
            "Epoch 80 | Val Loss: 1.0324 | Train F1: 0.6412 | Val F1: 0.6491\n"
          ]
        },
        {
          "name": "stderr",
          "output_type": "stream",
          "text": [
            " 25%|██▌       | 101/400 [00:54<02:38,  1.89it/s]"
          ]
        },
        {
          "name": "stdout",
          "output_type": "stream",
          "text": [
            "Epoch 100 | Val Loss: 0.9756 | Train F1: 0.6528 | Val F1: 0.6588\n"
          ]
        },
        {
          "name": "stderr",
          "output_type": "stream",
          "text": [
            " 30%|███       | 121/400 [01:05<02:28,  1.87it/s]"
          ]
        },
        {
          "name": "stdout",
          "output_type": "stream",
          "text": [
            "Epoch 120 | Val Loss: 0.9414 | Train F1: 0.6658 | Val F1: 0.6698\n"
          ]
        },
        {
          "name": "stderr",
          "output_type": "stream",
          "text": [
            " 35%|███▌      | 141/400 [01:16<02:17,  1.88it/s]"
          ]
        },
        {
          "name": "stdout",
          "output_type": "stream",
          "text": [
            "Epoch 140 | Val Loss: 0.9200 | Train F1: 0.6744 | Val F1: 0.6753\n"
          ]
        },
        {
          "name": "stderr",
          "output_type": "stream",
          "text": [
            " 40%|████      | 161/400 [01:27<02:06,  1.90it/s]"
          ]
        },
        {
          "name": "stdout",
          "output_type": "stream",
          "text": [
            "Epoch 160 | Val Loss: 0.9003 | Train F1: 0.6823 | Val F1: 0.6839\n"
          ]
        },
        {
          "name": "stderr",
          "output_type": "stream",
          "text": [
            " 45%|████▌     | 181/400 [01:38<01:55,  1.90it/s]"
          ]
        },
        {
          "name": "stdout",
          "output_type": "stream",
          "text": [
            "Epoch 180 | Val Loss: 0.8893 | Train F1: 0.6857 | Val F1: 0.6866\n"
          ]
        },
        {
          "name": "stderr",
          "output_type": "stream",
          "text": [
            " 50%|█████     | 201/400 [01:49<01:44,  1.91it/s]"
          ]
        },
        {
          "name": "stdout",
          "output_type": "stream",
          "text": [
            "Epoch 200 | Val Loss: 0.8808 | Train F1: 0.6906 | Val F1: 0.6893\n"
          ]
        },
        {
          "name": "stderr",
          "output_type": "stream",
          "text": [
            " 55%|█████▌    | 221/400 [01:59<01:34,  1.89it/s]"
          ]
        },
        {
          "name": "stdout",
          "output_type": "stream",
          "text": [
            "Epoch 220 | Val Loss: 0.8726 | Train F1: 0.6932 | Val F1: 0.6905\n"
          ]
        },
        {
          "name": "stderr",
          "output_type": "stream",
          "text": [
            " 60%|██████    | 241/400 [02:10<01:24,  1.89it/s]"
          ]
        },
        {
          "name": "stdout",
          "output_type": "stream",
          "text": [
            "Epoch 240 | Val Loss: 0.8683 | Train F1: 0.6950 | Val F1: 0.6928\n"
          ]
        },
        {
          "name": "stderr",
          "output_type": "stream",
          "text": [
            " 65%|██████▌   | 261/400 [02:20<01:05,  2.11it/s]"
          ]
        },
        {
          "name": "stdout",
          "output_type": "stream",
          "text": [
            "Epoch 260 | Val Loss: 0.8643 | Train F1: 0.6967 | Val F1: 0.6945\n"
          ]
        },
        {
          "name": "stderr",
          "output_type": "stream",
          "text": [
            " 70%|███████   | 281/400 [02:29<00:52,  2.25it/s]"
          ]
        },
        {
          "name": "stdout",
          "output_type": "stream",
          "text": [
            "Epoch 280 | Val Loss: 0.8607 | Train F1: 0.6979 | Val F1: 0.6959\n"
          ]
        },
        {
          "name": "stderr",
          "output_type": "stream",
          "text": [
            " 75%|███████▌  | 301/400 [02:38<00:44,  2.25it/s]"
          ]
        },
        {
          "name": "stdout",
          "output_type": "stream",
          "text": [
            "Epoch 300 | Val Loss: 0.8586 | Train F1: 0.6993 | Val F1: 0.6964\n"
          ]
        },
        {
          "name": "stderr",
          "output_type": "stream",
          "text": [
            " 80%|████████  | 321/400 [02:47<00:35,  2.24it/s]"
          ]
        },
        {
          "name": "stdout",
          "output_type": "stream",
          "text": [
            "Epoch 320 | Val Loss: 0.8565 | Train F1: 0.6999 | Val F1: 0.6975\n"
          ]
        },
        {
          "name": "stderr",
          "output_type": "stream",
          "text": [
            " 85%|████████▌ | 341/400 [02:56<00:26,  2.24it/s]"
          ]
        },
        {
          "name": "stdout",
          "output_type": "stream",
          "text": [
            "Epoch 340 | Val Loss: 0.8549 | Train F1: 0.7003 | Val F1: 0.6984\n"
          ]
        },
        {
          "name": "stderr",
          "output_type": "stream",
          "text": [
            " 90%|█████████ | 361/400 [03:05<00:17,  2.24it/s]"
          ]
        },
        {
          "name": "stdout",
          "output_type": "stream",
          "text": [
            "Epoch 360 | Val Loss: 0.8539 | Train F1: 0.7007 | Val F1: 0.6988\n"
          ]
        },
        {
          "name": "stderr",
          "output_type": "stream",
          "text": [
            " 94%|█████████▍| 378/400 [03:13<00:11,  1.96it/s]"
          ]
        },
        {
          "name": "stdout",
          "output_type": "stream",
          "text": [
            "Early stopping at epoch 378\n"
          ]
        },
        {
          "name": "stderr",
          "output_type": "stream",
          "text": [
            "\n"
          ]
        },
        {
          "data": {
            "application/vnd.plotly.v1+json": {
              "config": {
                "plotlyServerURL": "https://plot.ly"
              },
              "data": [
                {
                  "line": {
                    "color": "#00aa88"
                  },
                  "mode": "lines+markers",
                  "name": "Train F1",
                  "type": "scatter",
                  "y": [
                    0.15633965618614343,
                    0.12023989261953488,
                    0.19947904862160498,
                    0.018281534020280023,
                    0.027497741773777187,
                    0.0526886649269023,
                    0.11421161405924257,
                    0.13746111686792212,
                    0.3218738478079316,
                    0.28430172144148125,
                    0.1946636755551385,
                    0.20413807224736422,
                    0.29264768951628806,
                    0.3858033711915639,
                    0.28724265750868955,
                    0.22226844415907357,
                    0.13944489805001875,
                    0.11501244346510194,
                    0.18376856367649533,
                    0.3014414659804557,
                    0.39965604507941077,
                    0.3358938119321491,
                    0.29988059482461704,
                    0.3142590078741662,
                    0.34145213162112764,
                    0.3787991669084363,
                    0.40233511853026144,
                    0.4129091516253791,
                    0.43017410680391654,
                    0.45758131604470487,
                    0.45154398615040514,
                    0.4239546794492712,
                    0.4541648084012378,
                    0.4943991390056682,
                    0.4800890886954757,
                    0.47597003785979647,
                    0.4884025691289772,
                    0.49264206670080524,
                    0.4850859295775564,
                    0.4869830636082273,
                    0.5000215200372871,
                    0.5164655628862839,
                    0.5264591645944005,
                    0.5365496501436665,
                    0.5499251866554341,
                    0.5670625116406353,
                    0.5792323923218159,
                    0.5822697357742301,
                    0.5809621539571458,
                    0.5864889407227689,
                    0.5934456334525265,
                    0.5914562437097026,
                    0.5896901991803501,
                    0.5876751521110211,
                    0.5903107677215415,
                    0.5943469282505547,
                    0.5982823463607763,
                    0.6037395400286417,
                    0.6094828250983862,
                    0.6110040429943596,
                    0.612479442323011,
                    0.6126653269475407,
                    0.6133406404935914,
                    0.6144349731672921,
                    0.6157709167145067,
                    0.6168535689477322,
                    0.6182384842033243,
                    0.62072362954513,
                    0.6232338098569212,
                    0.6253016701941514,
                    0.6254391800864343,
                    0.6240939632039468,
                    0.6212857975149909,
                    0.620610163787221,
                    0.6207799235344619,
                    0.6224373673146405,
                    0.6268402059093495,
                    0.6324066746927602,
                    0.6365728776802845,
                    0.6400293920426996,
                    0.6412358485353765,
                    0.6413122521828892,
                    0.6384741204753954,
                    0.6358885629638223,
                    0.6328766712422247,
                    0.6328619522407595,
                    0.6344404007594575,
                    0.6372419087589806,
                    0.6407790764742163,
                    0.6447804151015291,
                    0.6471994674622148,
                    0.6485871427747749,
                    0.6484067618997216,
                    0.6478739238267943,
                    0.6472270416067394,
                    0.6463796060740046,
                    0.6462209501138323,
                    0.6472267045939107,
                    0.6491095915421797,
                    0.6511443560456707,
                    0.6528121941004624,
                    0.6537175722083902,
                    0.654598230596279,
                    0.6551920713578803,
                    0.6561274269298084,
                    0.6576116124342666,
                    0.6591999392620105,
                    0.6603328812621807,
                    0.6605818349829061,
                    0.6606652692967542,
                    0.6604508782722771,
                    0.6608306185669446,
                    0.6614737407195971,
                    0.6621509947226178,
                    0.6624908786912381,
                    0.6631898175956892,
                    0.6639224536511747,
                    0.6648874827203844,
                    0.6650446204297007,
                    0.6656441216449718,
                    0.6657668771485302,
                    0.6660206657056004,
                    0.6663962853827777,
                    0.6663293313053111,
                    0.6668375161083839,
                    0.6678108909147552,
                    0.6685438404927998,
                    0.6697696079956201,
                    0.6703977965479054,
                    0.6704640108333706,
                    0.6706028529293773,
                    0.6706896402358934,
                    0.6710362307893007,
                    0.6717763409388365,
                    0.6721805626026809,
                    0.6727631736379966,
                    0.6733165620057481,
                    0.6737992044766873,
                    0.6740519619838482,
                    0.6743318921561791,
                    0.674386077001215,
                    0.6743044700254028,
                    0.6745897914314583,
                    0.6753212553526837,
                    0.6760775646333084,
                    0.6766340760164716,
                    0.6769364480985973,
                    0.6778118651922109,
                    0.6780866264672917,
                    0.6785982043437353,
                    0.6790737102761798,
                    0.6787707453501558,
                    0.6790492176206359,
                    0.6792254592966505,
                    0.679484063287051,
                    0.6796829404425709,
                    0.6805834916949984,
                    0.6810214245636165,
                    0.6812991725293203,
                    0.6817451441166583,
                    0.6823252566778374,
                    0.6830032513890262,
                    0.683988353226202,
                    0.684053509678694,
                    0.6843251511536128,
                    0.6842230844491499,
                    0.684089123948594,
                    0.6836558576130329,
                    0.6836280879948556,
                    0.6841690059082706,
                    0.6844090796131934,
                    0.684601838509404,
                    0.6849199432129797,
                    0.6854200740251284,
                    0.68568948237694,
                    0.6861569682695275,
                    0.6866063289551209,
                    0.6861869180763599,
                    0.6858040620158096,
                    0.6855779417300372,
                    0.6857405020701891,
                    0.6860070235705151,
                    0.6867408449385309,
                    0.6871989208799733,
                    0.687331449722802,
                    0.6875859835663048,
                    0.6879869928518221,
                    0.6885352793032626,
                    0.688451212679081,
                    0.6880982337936121,
                    0.688033520529694,
                    0.6878604266394797,
                    0.6882610797252723,
                    0.6884511883456587,
                    0.6886513079009913,
                    0.6889221216321989,
                    0.6895538285024525,
                    0.6901890583541647,
                    0.6904084314839877,
                    0.6905032352109313,
                    0.6906180384694112,
                    0.6908968335901452,
                    0.6908662401906047,
                    0.6907352419428655,
                    0.6905853844514289,
                    0.6908215494784125,
                    0.6908114896118782,
                    0.6909441705031231,
                    0.6911752644555391,
                    0.6912520908716074,
                    0.6915692982285272,
                    0.6919114690721956,
                    0.692286921699234,
                    0.6925730013023415,
                    0.6926158224517296,
                    0.6929636754058212,
                    0.6931428290391825,
                    0.6932653310715583,
                    0.6933654920860663,
                    0.6932414243954005,
                    0.6931761658203087,
                    0.6931705463620116,
                    0.6933820658051505,
                    0.6935278389421976,
                    0.6936394598318164,
                    0.6938537768343376,
                    0.6941809841170451,
                    0.6942043208547365,
                    0.6943271958610276,
                    0.6945344852210117,
                    0.6948592522631364,
                    0.6950218408770347,
                    0.6950758889438818,
                    0.6950022575218332,
                    0.6949753285161391,
                    0.6948637296464051,
                    0.6949463610365957,
                    0.6951006045951384,
                    0.6950951069363347,
                    0.6950379849730067,
                    0.6949858984450908,
                    0.694953335703748,
                    0.6951337468591869,
                    0.6954232516582799,
                    0.6956429076822289,
                    0.695874795445859,
                    0.6961030921430275,
                    0.6962324736408858,
                    0.6963309783620824,
                    0.6963049498010346,
                    0.6963133792050412,
                    0.6964410667583956,
                    0.6963746815567247,
                    0.6963889243154961,
                    0.6962774929166033,
                    0.6962021669491165,
                    0.6962311578888646,
                    0.6963664416645149,
                    0.6964204337902274,
                    0.6964389408093049,
                    0.6966656651293579,
                    0.6966613043203437,
                    0.6968886486258109,
                    0.6969210458932592,
                    0.6973107486891028,
                    0.697369423463927,
                    0.6974370666213915,
                    0.6975576428744441,
                    0.6976328346840025,
                    0.6978089245325116,
                    0.6977985467920986,
                    0.6976826067757487,
                    0.6976000634412938,
                    0.6975859084599435,
                    0.6978588016948698,
                    0.697840528534478,
                    0.697957959041557,
                    0.6980478642687514,
                    0.6980234336286283,
                    0.6979705554074686,
                    0.6979231990925113,
                    0.6980797717919887,
                    0.6983312385932882,
                    0.698288759176318,
                    0.698377377233428,
                    0.6986236540949572,
                    0.6986757400476121,
                    0.698831575116898,
                    0.6987354761303468,
                    0.6988383703864371,
                    0.698815918300093,
                    0.6988351741602752,
                    0.6987482191877518,
                    0.6988112000750859,
                    0.6989866402541054,
                    0.6988871898491129,
                    0.6988772389402883,
                    0.6990879749560285,
                    0.6990314367789495,
                    0.6992492731455743,
                    0.6992550240412908,
                    0.6991262340583045,
                    0.6990619168527663,
                    0.6989814813350544,
                    0.6990976898954527,
                    0.6990977188173375,
                    0.6992449187474409,
                    0.6992889788641788,
                    0.6994585214720133,
                    0.699509020281566,
                    0.6996717884402224,
                    0.6996279827901928,
                    0.6996449058273734,
                    0.699573211529904,
                    0.699703610997956,
                    0.6997057247458959,
                    0.6998698987019862,
                    0.699841195056947,
                    0.6997604728249982,
                    0.6998504227267436,
                    0.6999313268005127,
                    0.699990230323071,
                    0.7001349170428628,
                    0.7003450527059347,
                    0.7003841621471717,
                    0.700331059772021,
                    0.7003671391932798,
                    0.7002759379794191,
                    0.7002925636142427,
                    0.7003882522900922,
                    0.7004231213388088,
                    0.7004227234543607,
                    0.7004506930078088,
                    0.7004971131652412,
                    0.7005199082787127,
                    0.700463411492641,
                    0.7002631848750731,
                    0.7003073434659745,
                    0.7002963054674637,
                    0.7002539077535448,
                    0.700313957635266,
                    0.7003302132466845,
                    0.7003075671748212,
                    0.7003999248434091,
                    0.7004875380520352,
                    0.700462146851745,
                    0.7003815005500834,
                    0.7005298599867599,
                    0.7004541755954087,
                    0.7005547224517118,
                    0.700526377859518,
                    0.7006215192084964,
                    0.7006092155857331,
                    0.7006822882090392,
                    0.7006686086384045,
                    0.7006408447715163,
                    0.7006154374056347,
                    0.700644189392123,
                    0.7006739789679797,
                    0.7007354874352961,
                    0.7007437483250374,
                    0.7008955799051549,
                    0.7008468618148689,
                    0.7009528672281042,
                    0.7009104548123051,
                    0.7009624691455871,
                    0.7008833934764921,
                    0.7008673736312973,
                    0.7009559260239124,
                    0.7010971567598873,
                    0.7011409932098042,
                    0.7011899233657092,
                    0.7012614590053596,
                    0.701215262166229,
                    0.701225886003324,
                    0.7013004016979263,
                    0.7013358721862996,
                    0.7013242771737479,
                    0.7012092430998963
                  ]
                },
                {
                  "line": {
                    "color": "#fbb725"
                  },
                  "mode": "lines+markers",
                  "name": "Val F1",
                  "type": "scatter",
                  "y": [
                    0.1594940250232728,
                    0.12060313815313253,
                    0.19930750096237115,
                    0.017949465810325766,
                    0.026969994537233644,
                    0.052101070897259134,
                    0.11588469561183022,
                    0.14181458764155058,
                    0.3174195705538929,
                    0.28191677772591955,
                    0.19730099920841157,
                    0.20647649806413687,
                    0.29183938216356003,
                    0.3853865848988315,
                    0.2936364579757108,
                    0.225053021381531,
                    0.14081578237854578,
                    0.1178762488767241,
                    0.1837913963296247,
                    0.29908690065162324,
                    0.4030396584834406,
                    0.33881919354288736,
                    0.2978325170064376,
                    0.312746430583883,
                    0.34253843506646203,
                    0.38107439270896126,
                    0.4078592748008753,
                    0.41586037747241206,
                    0.4386487167706186,
                    0.4628661035347615,
                    0.45373821064683423,
                    0.4286288211439732,
                    0.46089819917334063,
                    0.50806376696542,
                    0.4893975591912367,
                    0.48617084892637635,
                    0.4955059977743149,
                    0.5013846994619566,
                    0.4935344485758999,
                    0.489984108209025,
                    0.5064883388078878,
                    0.5263510046298522,
                    0.5352207345677069,
                    0.5446058279285277,
                    0.5604751566694282,
                    0.5749089336654878,
                    0.5906048489707663,
                    0.5914994216987408,
                    0.5915784283465633,
                    0.595432896646727,
                    0.603749633096847,
                    0.6027831847936272,
                    0.6003477391706304,
                    0.5959679075764406,
                    0.597145377515156,
                    0.6006206410356395,
                    0.6073061052999797,
                    0.6143810450235063,
                    0.6190109455354339,
                    0.6199633073323482,
                    0.6204946807991416,
                    0.6215628836154344,
                    0.6226902212702492,
                    0.6248559287027815,
                    0.6265705496275517,
                    0.6280525953625634,
                    0.6296830178267069,
                    0.631264934411959,
                    0.635050622923607,
                    0.6351937429446372,
                    0.6362950618939625,
                    0.6333013118110662,
                    0.6327472311515245,
                    0.6309154039882408,
                    0.6312549160378319,
                    0.6338106552182529,
                    0.6366682273506914,
                    0.6399523196840077,
                    0.6444498265747706,
                    0.6465043947158858,
                    0.649085189012433,
                    0.6484896357750571,
                    0.6461835979421108,
                    0.6444929953379631,
                    0.6431009650578924,
                    0.643415153272483,
                    0.6440183670903646,
                    0.6465462119001614,
                    0.6500330346942885,
                    0.6523378906584938,
                    0.6543479355681467,
                    0.654996193819961,
                    0.6553790186389303,
                    0.6546839903419928,
                    0.6546147043773763,
                    0.6549132143561323,
                    0.6545463151487099,
                    0.654872331429081,
                    0.6567700733012638,
                    0.6579509140153722,
                    0.658842053433323,
                    0.6591122883753856,
                    0.6598614943394749,
                    0.6599995349366982,
                    0.6608107299119574,
                    0.662569447394487,
                    0.6636701961764677,
                    0.6638074323745499,
                    0.6642120462165407,
                    0.6645955321876775,
                    0.6644567010127473,
                    0.6644895902163378,
                    0.6654087928889835,
                    0.6663770706373441,
                    0.6667480525114358,
                    0.6668099999597992,
                    0.667504779813486,
                    0.6681189193102383,
                    0.6688334527023072,
                    0.6693262338365427,
                    0.6697990367117076,
                    0.6693621939427412,
                    0.6693724300078551,
                    0.6694782414204272,
                    0.6699801445074947,
                    0.6708430236079058,
                    0.6712916524232562,
                    0.671954453623977,
                    0.672514132496573,
                    0.672077158722261,
                    0.6721592421463563,
                    0.6722254186829234,
                    0.6728870892355441,
                    0.6731237657961878,
                    0.6736898379159033,
                    0.6744496374056471,
                    0.6743756681366814,
                    0.6744275839059408,
                    0.6748666045160405,
                    0.6754921102421412,
                    0.6753406124718472,
                    0.6758463006683735,
                    0.6761934652411816,
                    0.6765904515330391,
                    0.676748737261212,
                    0.6778000992313986,
                    0.6796038038431909,
                    0.6795775767924047,
                    0.6802582001995232,
                    0.6803968967803258,
                    0.6804857384898119,
                    0.6807818243012068,
                    0.6810186645934141,
                    0.6807866002452528,
                    0.6811807336051687,
                    0.6810733680158587,
                    0.6815139946234057,
                    0.682028944084941,
                    0.6827418467337418,
                    0.683544793787079,
                    0.68388456135609,
                    0.6848788059436492,
                    0.6852238322737484,
                    0.6852926559474332,
                    0.685496433373401,
                    0.6853302005536804,
                    0.6855824533933766,
                    0.6852681822184485,
                    0.685031177505197,
                    0.6855660527729358,
                    0.6854652712914602,
                    0.6854704596423122,
                    0.6851301289172279,
                    0.685436474558366,
                    0.6853772204936522,
                    0.6858272475824052,
                    0.6861132827963248,
                    0.6865390015539365,
                    0.6867374142591293,
                    0.6870487339539323,
                    0.6865919407705138,
                    0.6860482628671456,
                    0.6863990245238962,
                    0.686858495276395,
                    0.6861510592161003,
                    0.6869254797795761,
                    0.6868729294439457,
                    0.6876910825185218,
                    0.6882297958920737,
                    0.6886027835860751,
                    0.6880539216340397,
                    0.6872508444239432,
                    0.6869942971515909,
                    0.686943098155297,
                    0.6871787142457023,
                    0.6876512172318355,
                    0.6880939124398475,
                    0.6889389023108698,
                    0.6889974007616846,
                    0.6895077607979274,
                    0.6893327617273755,
                    0.6897471274220924,
                    0.6896649469283443,
                    0.689705707868423,
                    0.6895734803031995,
                    0.6893702701906739,
                    0.6893133186805158,
                    0.6895033280655147,
                    0.6897522946927062,
                    0.6899754150938586,
                    0.6902162870664872,
                    0.6905486057132858,
                    0.6911454103731979,
                    0.690951907988739,
                    0.6913159504780803,
                    0.6917250061788929,
                    0.6913473459926202,
                    0.6911665527587398,
                    0.6909751529656856,
                    0.690447601678993,
                    0.6905467941738791,
                    0.690561438327587,
                    0.6908352299696896,
                    0.6908528425717249,
                    0.6910778279708291,
                    0.6913605719682344,
                    0.6922112192328882,
                    0.6922112151115936,
                    0.692767844151892,
                    0.6927687661014654,
                    0.6929672216199921,
                    0.6933003708601803,
                    0.6934034983205254,
                    0.6935506466327304,
                    0.6934487297701495,
                    0.6934740317947794,
                    0.6934047760955571,
                    0.6929612951972076,
                    0.6927831586651754,
                    0.6927577844654456,
                    0.6928410589028209,
                    0.692721992525872,
                    0.6931403295987285,
                    0.6933904905667959,
                    0.6936085856352726,
                    0.6933438751395592,
                    0.6937912857688979,
                    0.6942419327304372,
                    0.6944554176859854,
                    0.6942521357982637,
                    0.6940684721139591,
                    0.6939847409281947,
                    0.6938197131959826,
                    0.6941438572189546,
                    0.694100823247031,
                    0.6939849657749058,
                    0.6938125374527577,
                    0.694077228259534,
                    0.6935691881825691,
                    0.6941228243884255,
                    0.6945202771870569,
                    0.6943536159849767,
                    0.6939198802729932,
                    0.6941963822890074,
                    0.6941166426392184,
                    0.6946979566553002,
                    0.6948428394820598,
                    0.6950038794478776,
                    0.695117108084304,
                    0.6956428149898825,
                    0.6957196042671534,
                    0.6952481788862392,
                    0.6953285680322977,
                    0.6950656969247122,
                    0.6947913712253583,
                    0.6952321828385757,
                    0.6953196343098278,
                    0.6954065295978936,
                    0.6954065295978936,
                    0.6953185144106389,
                    0.6959093181056807,
                    0.6959151141719808,
                    0.6964571352928174,
                    0.6963729412289659,
                    0.6963028828723186,
                    0.6960349684544187,
                    0.696347809659521,
                    0.6965571560230462,
                    0.6965571560230462,
                    0.6965130801181075,
                    0.696156375448974,
                    0.6961875342892228,
                    0.6964356391757258,
                    0.6960750622472377,
                    0.6961945291701962,
                    0.6959643331412625,
                    0.6961572004447185,
                    0.6960512210403308,
                    0.6963248339490535,
                    0.6963248339490535,
                    0.6964387685739097,
                    0.6964080961308972,
                    0.696514007873669,
                    0.6964501432868877,
                    0.6967244541260909,
                    0.6967585966697175,
                    0.6964440566220108,
                    0.6965819961287069,
                    0.6964913692360424,
                    0.6963973410533297,
                    0.6966270946657649,
                    0.6966788850471782,
                    0.6965655595019687,
                    0.6964093041970673,
                    0.6965081366365408,
                    0.696500573612498,
                    0.6966344754173861,
                    0.6968296557544038,
                    0.6973159664318924,
                    0.6974305096738597,
                    0.697538342145489,
                    0.6979459789802426,
                    0.6983497548434039,
                    0.6982832627499431,
                    0.6984942931079313,
                    0.6985011655225969,
                    0.6986218625495619,
                    0.6986562581045148,
                    0.6988112175934414,
                    0.6988299328472704,
                    0.6989205191796548,
                    0.6988188629065843,
                    0.6988188629065843,
                    0.6989160486238739,
                    0.6990122294905334,
                    0.6991207598168668,
                    0.6988346814914224,
                    0.6988171859904877,
                    0.6983038258146314,
                    0.6984227344367093,
                    0.6983502576650263,
                    0.6986292660080462,
                    0.6988173611236053,
                    0.6985196737010338,
                    0.6985114503756682,
                    0.6987781287363131,
                    0.6986767272361801,
                    0.6985034986384968,
                    0.698629771026394,
                    0.6985851447044698,
                    0.6986774307905511,
                    0.6989111910262332,
                    0.6988095921871736,
                    0.6992384310569068,
                    0.6990358899251439,
                    0.6989322960873695,
                    0.6988362410493997,
                    0.6986819411502866,
                    0.6988362410493997,
                    0.6987323722806853,
                    0.6988284273186551,
                    0.6987246588183734,
                    0.6988223316511378,
                    0.6989426538048943,
                    0.6988844866534573,
                    0.6988910405726582,
                    0.6989622893135635,
                    0.6987660633118081,
                    0.6984661437850027,
                    0.6987749807176227,
                    0.6987749807176227,
                    0.6987588524605223,
                    0.6987648269909061,
                    0.6990140563427627,
                    0.6987764921710153,
                    0.6990382313359493,
                    0.6986200218359818,
                    0.6984647766556382,
                    0.698455501062656
                  ]
                }
              ],
              "layout": {
                "legend": {
                  "orientation": "h",
                  "x": 1,
                  "xanchor": "right",
                  "y": 1.02,
                  "yanchor": "bottom"
                },
                "plot_bgcolor": "white",
                "template": {
                  "data": {
                    "bar": [
                      {
                        "error_x": {
                          "color": "#2a3f5f"
                        },
                        "error_y": {
                          "color": "#2a3f5f"
                        },
                        "marker": {
                          "line": {
                            "color": "#E5ECF6",
                            "width": 0.5
                          },
                          "pattern": {
                            "fillmode": "overlay",
                            "size": 10,
                            "solidity": 0.2
                          }
                        },
                        "type": "bar"
                      }
                    ],
                    "barpolar": [
                      {
                        "marker": {
                          "line": {
                            "color": "#E5ECF6",
                            "width": 0.5
                          },
                          "pattern": {
                            "fillmode": "overlay",
                            "size": 10,
                            "solidity": 0.2
                          }
                        },
                        "type": "barpolar"
                      }
                    ],
                    "carpet": [
                      {
                        "aaxis": {
                          "endlinecolor": "#2a3f5f",
                          "gridcolor": "white",
                          "linecolor": "white",
                          "minorgridcolor": "white",
                          "startlinecolor": "#2a3f5f"
                        },
                        "baxis": {
                          "endlinecolor": "#2a3f5f",
                          "gridcolor": "white",
                          "linecolor": "white",
                          "minorgridcolor": "white",
                          "startlinecolor": "#2a3f5f"
                        },
                        "type": "carpet"
                      }
                    ],
                    "choropleth": [
                      {
                        "colorbar": {
                          "outlinewidth": 0,
                          "ticks": ""
                        },
                        "type": "choropleth"
                      }
                    ],
                    "contour": [
                      {
                        "colorbar": {
                          "outlinewidth": 0,
                          "ticks": ""
                        },
                        "colorscale": [
                          [
                            0,
                            "#0d0887"
                          ],
                          [
                            0.1111111111111111,
                            "#46039f"
                          ],
                          [
                            0.2222222222222222,
                            "#7201a8"
                          ],
                          [
                            0.3333333333333333,
                            "#9c179e"
                          ],
                          [
                            0.4444444444444444,
                            "#bd3786"
                          ],
                          [
                            0.5555555555555556,
                            "#d8576b"
                          ],
                          [
                            0.6666666666666666,
                            "#ed7953"
                          ],
                          [
                            0.7777777777777778,
                            "#fb9f3a"
                          ],
                          [
                            0.8888888888888888,
                            "#fdca26"
                          ],
                          [
                            1,
                            "#f0f921"
                          ]
                        ],
                        "type": "contour"
                      }
                    ],
                    "contourcarpet": [
                      {
                        "colorbar": {
                          "outlinewidth": 0,
                          "ticks": ""
                        },
                        "type": "contourcarpet"
                      }
                    ],
                    "heatmap": [
                      {
                        "colorbar": {
                          "outlinewidth": 0,
                          "ticks": ""
                        },
                        "colorscale": [
                          [
                            0,
                            "#0d0887"
                          ],
                          [
                            0.1111111111111111,
                            "#46039f"
                          ],
                          [
                            0.2222222222222222,
                            "#7201a8"
                          ],
                          [
                            0.3333333333333333,
                            "#9c179e"
                          ],
                          [
                            0.4444444444444444,
                            "#bd3786"
                          ],
                          [
                            0.5555555555555556,
                            "#d8576b"
                          ],
                          [
                            0.6666666666666666,
                            "#ed7953"
                          ],
                          [
                            0.7777777777777778,
                            "#fb9f3a"
                          ],
                          [
                            0.8888888888888888,
                            "#fdca26"
                          ],
                          [
                            1,
                            "#f0f921"
                          ]
                        ],
                        "type": "heatmap"
                      }
                    ],
                    "heatmapgl": [
                      {
                        "colorbar": {
                          "outlinewidth": 0,
                          "ticks": ""
                        },
                        "colorscale": [
                          [
                            0,
                            "#0d0887"
                          ],
                          [
                            0.1111111111111111,
                            "#46039f"
                          ],
                          [
                            0.2222222222222222,
                            "#7201a8"
                          ],
                          [
                            0.3333333333333333,
                            "#9c179e"
                          ],
                          [
                            0.4444444444444444,
                            "#bd3786"
                          ],
                          [
                            0.5555555555555556,
                            "#d8576b"
                          ],
                          [
                            0.6666666666666666,
                            "#ed7953"
                          ],
                          [
                            0.7777777777777778,
                            "#fb9f3a"
                          ],
                          [
                            0.8888888888888888,
                            "#fdca26"
                          ],
                          [
                            1,
                            "#f0f921"
                          ]
                        ],
                        "type": "heatmapgl"
                      }
                    ],
                    "histogram": [
                      {
                        "marker": {
                          "pattern": {
                            "fillmode": "overlay",
                            "size": 10,
                            "solidity": 0.2
                          }
                        },
                        "type": "histogram"
                      }
                    ],
                    "histogram2d": [
                      {
                        "colorbar": {
                          "outlinewidth": 0,
                          "ticks": ""
                        },
                        "colorscale": [
                          [
                            0,
                            "#0d0887"
                          ],
                          [
                            0.1111111111111111,
                            "#46039f"
                          ],
                          [
                            0.2222222222222222,
                            "#7201a8"
                          ],
                          [
                            0.3333333333333333,
                            "#9c179e"
                          ],
                          [
                            0.4444444444444444,
                            "#bd3786"
                          ],
                          [
                            0.5555555555555556,
                            "#d8576b"
                          ],
                          [
                            0.6666666666666666,
                            "#ed7953"
                          ],
                          [
                            0.7777777777777778,
                            "#fb9f3a"
                          ],
                          [
                            0.8888888888888888,
                            "#fdca26"
                          ],
                          [
                            1,
                            "#f0f921"
                          ]
                        ],
                        "type": "histogram2d"
                      }
                    ],
                    "histogram2dcontour": [
                      {
                        "colorbar": {
                          "outlinewidth": 0,
                          "ticks": ""
                        },
                        "colorscale": [
                          [
                            0,
                            "#0d0887"
                          ],
                          [
                            0.1111111111111111,
                            "#46039f"
                          ],
                          [
                            0.2222222222222222,
                            "#7201a8"
                          ],
                          [
                            0.3333333333333333,
                            "#9c179e"
                          ],
                          [
                            0.4444444444444444,
                            "#bd3786"
                          ],
                          [
                            0.5555555555555556,
                            "#d8576b"
                          ],
                          [
                            0.6666666666666666,
                            "#ed7953"
                          ],
                          [
                            0.7777777777777778,
                            "#fb9f3a"
                          ],
                          [
                            0.8888888888888888,
                            "#fdca26"
                          ],
                          [
                            1,
                            "#f0f921"
                          ]
                        ],
                        "type": "histogram2dcontour"
                      }
                    ],
                    "mesh3d": [
                      {
                        "colorbar": {
                          "outlinewidth": 0,
                          "ticks": ""
                        },
                        "type": "mesh3d"
                      }
                    ],
                    "parcoords": [
                      {
                        "line": {
                          "colorbar": {
                            "outlinewidth": 0,
                            "ticks": ""
                          }
                        },
                        "type": "parcoords"
                      }
                    ],
                    "pie": [
                      {
                        "automargin": true,
                        "type": "pie"
                      }
                    ],
                    "scatter": [
                      {
                        "fillpattern": {
                          "fillmode": "overlay",
                          "size": 10,
                          "solidity": 0.2
                        },
                        "type": "scatter"
                      }
                    ],
                    "scatter3d": [
                      {
                        "line": {
                          "colorbar": {
                            "outlinewidth": 0,
                            "ticks": ""
                          }
                        },
                        "marker": {
                          "colorbar": {
                            "outlinewidth": 0,
                            "ticks": ""
                          }
                        },
                        "type": "scatter3d"
                      }
                    ],
                    "scattercarpet": [
                      {
                        "marker": {
                          "colorbar": {
                            "outlinewidth": 0,
                            "ticks": ""
                          }
                        },
                        "type": "scattercarpet"
                      }
                    ],
                    "scattergeo": [
                      {
                        "marker": {
                          "colorbar": {
                            "outlinewidth": 0,
                            "ticks": ""
                          }
                        },
                        "type": "scattergeo"
                      }
                    ],
                    "scattergl": [
                      {
                        "marker": {
                          "colorbar": {
                            "outlinewidth": 0,
                            "ticks": ""
                          }
                        },
                        "type": "scattergl"
                      }
                    ],
                    "scattermapbox": [
                      {
                        "marker": {
                          "colorbar": {
                            "outlinewidth": 0,
                            "ticks": ""
                          }
                        },
                        "type": "scattermapbox"
                      }
                    ],
                    "scatterpolar": [
                      {
                        "marker": {
                          "colorbar": {
                            "outlinewidth": 0,
                            "ticks": ""
                          }
                        },
                        "type": "scatterpolar"
                      }
                    ],
                    "scatterpolargl": [
                      {
                        "marker": {
                          "colorbar": {
                            "outlinewidth": 0,
                            "ticks": ""
                          }
                        },
                        "type": "scatterpolargl"
                      }
                    ],
                    "scatterternary": [
                      {
                        "marker": {
                          "colorbar": {
                            "outlinewidth": 0,
                            "ticks": ""
                          }
                        },
                        "type": "scatterternary"
                      }
                    ],
                    "surface": [
                      {
                        "colorbar": {
                          "outlinewidth": 0,
                          "ticks": ""
                        },
                        "colorscale": [
                          [
                            0,
                            "#0d0887"
                          ],
                          [
                            0.1111111111111111,
                            "#46039f"
                          ],
                          [
                            0.2222222222222222,
                            "#7201a8"
                          ],
                          [
                            0.3333333333333333,
                            "#9c179e"
                          ],
                          [
                            0.4444444444444444,
                            "#bd3786"
                          ],
                          [
                            0.5555555555555556,
                            "#d8576b"
                          ],
                          [
                            0.6666666666666666,
                            "#ed7953"
                          ],
                          [
                            0.7777777777777778,
                            "#fb9f3a"
                          ],
                          [
                            0.8888888888888888,
                            "#fdca26"
                          ],
                          [
                            1,
                            "#f0f921"
                          ]
                        ],
                        "type": "surface"
                      }
                    ],
                    "table": [
                      {
                        "cells": {
                          "fill": {
                            "color": "#EBF0F8"
                          },
                          "line": {
                            "color": "white"
                          }
                        },
                        "header": {
                          "fill": {
                            "color": "#C8D4E3"
                          },
                          "line": {
                            "color": "white"
                          }
                        },
                        "type": "table"
                      }
                    ]
                  },
                  "layout": {
                    "annotationdefaults": {
                      "arrowcolor": "#2a3f5f",
                      "arrowhead": 0,
                      "arrowwidth": 1
                    },
                    "autotypenumbers": "strict",
                    "coloraxis": {
                      "colorbar": {
                        "outlinewidth": 0,
                        "ticks": ""
                      }
                    },
                    "colorscale": {
                      "diverging": [
                        [
                          0,
                          "#8e0152"
                        ],
                        [
                          0.1,
                          "#c51b7d"
                        ],
                        [
                          0.2,
                          "#de77ae"
                        ],
                        [
                          0.3,
                          "#f1b6da"
                        ],
                        [
                          0.4,
                          "#fde0ef"
                        ],
                        [
                          0.5,
                          "#f7f7f7"
                        ],
                        [
                          0.6,
                          "#e6f5d0"
                        ],
                        [
                          0.7,
                          "#b8e186"
                        ],
                        [
                          0.8,
                          "#7fbc41"
                        ],
                        [
                          0.9,
                          "#4d9221"
                        ],
                        [
                          1,
                          "#276419"
                        ]
                      ],
                      "sequential": [
                        [
                          0,
                          "#0d0887"
                        ],
                        [
                          0.1111111111111111,
                          "#46039f"
                        ],
                        [
                          0.2222222222222222,
                          "#7201a8"
                        ],
                        [
                          0.3333333333333333,
                          "#9c179e"
                        ],
                        [
                          0.4444444444444444,
                          "#bd3786"
                        ],
                        [
                          0.5555555555555556,
                          "#d8576b"
                        ],
                        [
                          0.6666666666666666,
                          "#ed7953"
                        ],
                        [
                          0.7777777777777778,
                          "#fb9f3a"
                        ],
                        [
                          0.8888888888888888,
                          "#fdca26"
                        ],
                        [
                          1,
                          "#f0f921"
                        ]
                      ],
                      "sequentialminus": [
                        [
                          0,
                          "#0d0887"
                        ],
                        [
                          0.1111111111111111,
                          "#46039f"
                        ],
                        [
                          0.2222222222222222,
                          "#7201a8"
                        ],
                        [
                          0.3333333333333333,
                          "#9c179e"
                        ],
                        [
                          0.4444444444444444,
                          "#bd3786"
                        ],
                        [
                          0.5555555555555556,
                          "#d8576b"
                        ],
                        [
                          0.6666666666666666,
                          "#ed7953"
                        ],
                        [
                          0.7777777777777778,
                          "#fb9f3a"
                        ],
                        [
                          0.8888888888888888,
                          "#fdca26"
                        ],
                        [
                          1,
                          "#f0f921"
                        ]
                      ]
                    },
                    "colorway": [
                      "#636efa",
                      "#EF553B",
                      "#00cc96",
                      "#ab63fa",
                      "#FFA15A",
                      "#19d3f3",
                      "#FF6692",
                      "#B6E880",
                      "#FF97FF",
                      "#FECB52"
                    ],
                    "font": {
                      "color": "#2a3f5f"
                    },
                    "geo": {
                      "bgcolor": "white",
                      "lakecolor": "white",
                      "landcolor": "#E5ECF6",
                      "showlakes": true,
                      "showland": true,
                      "subunitcolor": "white"
                    },
                    "hoverlabel": {
                      "align": "left"
                    },
                    "hovermode": "closest",
                    "mapbox": {
                      "style": "light"
                    },
                    "paper_bgcolor": "white",
                    "plot_bgcolor": "#E5ECF6",
                    "polar": {
                      "angularaxis": {
                        "gridcolor": "white",
                        "linecolor": "white",
                        "ticks": ""
                      },
                      "bgcolor": "#E5ECF6",
                      "radialaxis": {
                        "gridcolor": "white",
                        "linecolor": "white",
                        "ticks": ""
                      }
                    },
                    "scene": {
                      "xaxis": {
                        "backgroundcolor": "#E5ECF6",
                        "gridcolor": "white",
                        "gridwidth": 2,
                        "linecolor": "white",
                        "showbackground": true,
                        "ticks": "",
                        "zerolinecolor": "white"
                      },
                      "yaxis": {
                        "backgroundcolor": "#E5ECF6",
                        "gridcolor": "white",
                        "gridwidth": 2,
                        "linecolor": "white",
                        "showbackground": true,
                        "ticks": "",
                        "zerolinecolor": "white"
                      },
                      "zaxis": {
                        "backgroundcolor": "#E5ECF6",
                        "gridcolor": "white",
                        "gridwidth": 2,
                        "linecolor": "white",
                        "showbackground": true,
                        "ticks": "",
                        "zerolinecolor": "white"
                      }
                    },
                    "shapedefaults": {
                      "line": {
                        "color": "#2a3f5f"
                      }
                    },
                    "ternary": {
                      "aaxis": {
                        "gridcolor": "white",
                        "linecolor": "white",
                        "ticks": ""
                      },
                      "baxis": {
                        "gridcolor": "white",
                        "linecolor": "white",
                        "ticks": ""
                      },
                      "bgcolor": "#E5ECF6",
                      "caxis": {
                        "gridcolor": "white",
                        "linecolor": "white",
                        "ticks": ""
                      }
                    },
                    "title": {
                      "x": 0.05
                    },
                    "xaxis": {
                      "automargin": true,
                      "gridcolor": "white",
                      "linecolor": "white",
                      "ticks": "",
                      "title": {
                        "standoff": 15
                      },
                      "zerolinecolor": "white",
                      "zerolinewidth": 2
                    },
                    "yaxis": {
                      "automargin": true,
                      "gridcolor": "white",
                      "linecolor": "white",
                      "ticks": "",
                      "title": {
                        "standoff": 15
                      },
                      "zerolinecolor": "white",
                      "zerolinewidth": 2
                    }
                  }
                },
                "xaxis": {
                  "gridcolor": "lightgray",
                  "showgrid": true,
                  "title": {
                    "text": "Epoch"
                  }
                },
                "yaxis": {
                  "gridcolor": "lightgray",
                  "showgrid": true,
                  "title": {
                    "text": "F1"
                  }
                }
              }
            }
          },
          "metadata": {},
          "output_type": "display_data"
        },
        {
          "name": "stdout",
          "output_type": "stream",
          "text": [
            "Final Test F1: 0.6966\n",
            "\n",
            "Classification report on test\n",
            "              precision    recall  f1-score   support\n",
            "\n",
            "           R       0.00      0.00      0.00         8\n",
            "           c       0.48      0.23      0.32       230\n",
            " c-plus-plus       0.59      0.81      0.68       537\n",
            "     c-sharp       0.76      0.88      0.82       199\n",
            "        dart       0.58      0.14      0.23        50\n",
            "     f-sharp       0.00      0.00      0.00        10\n",
            "          go       0.88      0.85      0.86        94\n",
            "        java       0.62      0.50      0.55       214\n",
            "  javascript       0.76      0.69      0.72       129\n",
            "       julia       0.85      0.51      0.64        45\n",
            "         php       0.00      0.00      0.00        15\n",
            "      python       0.87      0.96      0.91       663\n",
            "        ruby       0.81      0.73      0.77        64\n",
            "       scala       0.00      0.00      0.00         6\n",
            "       swift       1.00      0.06      0.11        18\n",
            "\n",
            "    accuracy                           0.72      2282\n",
            "   macro avg       0.55      0.42      0.44      2282\n",
            "weighted avg       0.70      0.72      0.70      2282\n",
            "\n"
          ]
        },
        {
          "name": "stderr",
          "output_type": "stream",
          "text": [
            "c:\\Users\\yarom\\AppData\\Local\\Programs\\Python\\Python312\\Lib\\site-packages\\sklearn\\metrics\\_classification.py:1509: UndefinedMetricWarning:\n",
            "\n",
            "Precision is ill-defined and being set to 0.0 in labels with no predicted samples. Use `zero_division` parameter to control this behavior.\n",
            "\n",
            "c:\\Users\\yarom\\AppData\\Local\\Programs\\Python\\Python312\\Lib\\site-packages\\sklearn\\metrics\\_classification.py:1509: UndefinedMetricWarning:\n",
            "\n",
            "Precision is ill-defined and being set to 0.0 in labels with no predicted samples. Use `zero_division` parameter to control this behavior.\n",
            "\n",
            "c:\\Users\\yarom\\AppData\\Local\\Programs\\Python\\Python312\\Lib\\site-packages\\sklearn\\metrics\\_classification.py:1509: UndefinedMetricWarning:\n",
            "\n",
            "Precision is ill-defined and being set to 0.0 in labels with no predicted samples. Use `zero_division` parameter to control this behavior.\n",
            "\n"
          ]
        }
      ],
      "source": [
        "model_gat = train_es(model, optimizer, graph, scheduler=scheduler, num_epochs=400)"
      ]
    },
    {
      "cell_type": "code",
      "execution_count": 22,
      "id": "d8a1402d",
      "metadata": {
        "id": "d8a1402d"
      },
      "outputs": [],
      "source": [
        "import gc\n",
        "\n",
        "gc.collect()\n",
        "torch.cuda.empty_cache() "
      ]
    },
    {
      "cell_type": "code",
      "execution_count": 23,
      "id": "af7be552",
      "metadata": {
        "colab": {
          "base_uri": "https://localhost:8080/"
        },
        "id": "af7be552",
        "outputId": "c29e36c5-9824-4dca-da44-498448a1a0a8"
      },
      "outputs": [
        {
          "name": "stderr",
          "output_type": "stream",
          "text": [
            "100%|██████████| 1/1 [00:00<00:00, 76.93it/s]"
          ]
        },
        {
          "name": "stdout",
          "output_type": "stream",
          "text": [
            "0.024987220764160156\n",
            "Predicted class: python\n"
          ]
        },
        {
          "name": "stderr",
          "output_type": "stream",
          "text": [
            "\n"
          ]
        }
      ],
      "source": [
        "pred_class = infer_on_code_snippet('def infer_on_code_snippet(text_snippet, model):', model_gat, emb_model, device, show_time = True)\n",
        "print(f\"Predicted class: {label_to_language[pred_class]}\")"
      ]
    },
    {
      "cell_type": "markdown",
      "id": "bHQ8fCmp-P4M",
      "metadata": {
        "id": "bHQ8fCmp-P4M"
      },
      "source": [
        "### BERT + KNN + GAT: F1 = 0.7, train_time: 6:50, inference time: 0.025"
      ]
    },
    {
      "cell_type": "markdown",
      "id": "0f780218",
      "metadata": {
        "id": "0f780218"
      },
      "source": [
        "### BERT + FC"
      ]
    },
    {
      "cell_type": "code",
      "execution_count": 46,
      "id": "bb9ea1f2",
      "metadata": {
        "id": "bb9ea1f2"
      },
      "outputs": [],
      "source": [
        "batch_size = 128\n",
        "\n",
        "train_dataset = TensorDataset(torch.tensor(train_emb, dtype=torch.float32), torch.tensor(train_df['label'].to_numpy(), dtype=torch.long))\n",
        "val_dataset = TensorDataset(torch.tensor(val_emb, dtype=torch.float32), torch.tensor(val_df['label'].to_numpy(), dtype=torch.long))\n",
        "test_dataset = TensorDataset(torch.tensor(test_emb, dtype=torch.float32), torch.tensor(test_df['label'].to_numpy(), dtype=torch.long))\n",
        "\n",
        "train_loader = DataLoader(train_dataset, batch_size=batch_size, shuffle=True)\n",
        "val_loader = DataLoader(val_dataset, batch_size=batch_size, shuffle=False)\n",
        "test_loader = DataLoader(test_dataset, batch_size=batch_size, shuffle=False)"
      ]
    },
    {
      "cell_type": "code",
      "execution_count": 51,
      "id": "76519bf2",
      "metadata": {
        "id": "76519bf2"
      },
      "outputs": [],
      "source": [
        "input_dim = len(train_emb[0])\n",
        "output_dim = len(lang_counts)\n",
        "\n",
        "model = FCembed(input_dim, 32, 64, output_dim)\n",
        "criterion = nn.CrossEntropyLoss()\n",
        "optimizer = optim.AdamW(model.parameters(), lr=0.002, weight_decay=5e-4)\n",
        "scheduler = torch.optim.lr_scheduler.CosineAnnealingLR(\n",
        "    optimizer,\n",
        "    T_max = 100\n",
        ")\n",
        "\n",
        "# scheduler = torch.optim.lr_scheduler.StepLR(\n",
        "#     optimizer,\n",
        "#     step_size=10,\n",
        "#     gamma=0.33\n",
        "# )"
      ]
    },
    {
      "cell_type": "code",
      "execution_count": 52,
      "id": "0cf30b6c",
      "metadata": {
        "colab": {
          "base_uri": "https://localhost:8080/",
          "height": 1000
        },
        "id": "0cf30b6c",
        "outputId": "2ea76e4a-6066-4d64-ca6e-f18f77a9638b"
      },
      "outputs": [
        {
          "name": "stderr",
          "output_type": "stream",
          "text": [
            "Training:   5%|▌         | 5/100 [00:06<01:51,  1.18s/it, train_loss=0.7677, val_loss=0.6900, val_f1=0.7377]"
          ]
        },
        {
          "name": "stdout",
          "output_type": "stream",
          "text": [
            "Epoch: 5/100 |  Val Loss: 0.6900 | Train F1: 0.7112 | Val F1: 0.7377\n"
          ]
        },
        {
          "name": "stderr",
          "output_type": "stream",
          "text": [
            "Training:  10%|█         | 10/100 [00:12<01:49,  1.22s/it, train_loss=0.6848, val_loss=0.6475, val_f1=0.7661]"
          ]
        },
        {
          "name": "stdout",
          "output_type": "stream",
          "text": [
            "Epoch: 10/100 |  Val Loss: 0.6475 | Train F1: 0.7447 | Val F1: 0.7661\n"
          ]
        },
        {
          "name": "stderr",
          "output_type": "stream",
          "text": [
            "Training:  15%|█▌        | 15/100 [00:17<01:32,  1.09s/it, train_loss=0.6461, val_loss=0.5840, val_f1=0.7789]"
          ]
        },
        {
          "name": "stdout",
          "output_type": "stream",
          "text": [
            "Epoch: 15/100 |  Val Loss: 0.5840 | Train F1: 0.7597 | Val F1: 0.7789\n"
          ]
        },
        {
          "name": "stderr",
          "output_type": "stream",
          "text": [
            "Training:  20%|██        | 20/100 [00:23<01:32,  1.16s/it, train_loss=0.6208, val_loss=0.5805, val_f1=0.7922]"
          ]
        },
        {
          "name": "stdout",
          "output_type": "stream",
          "text": [
            "Epoch: 20/100 |  Val Loss: 0.5805 | Train F1: 0.7701 | Val F1: 0.7922\n"
          ]
        },
        {
          "name": "stderr",
          "output_type": "stream",
          "text": [
            "Training:  25%|██▌       | 25/100 [00:29<01:27,  1.16s/it, train_loss=0.6088, val_loss=0.5607, val_f1=0.7916]"
          ]
        },
        {
          "name": "stdout",
          "output_type": "stream",
          "text": [
            "Epoch: 25/100 |  Val Loss: 0.5607 | Train F1: 0.7748 | Val F1: 0.7916\n"
          ]
        },
        {
          "name": "stderr",
          "output_type": "stream",
          "text": [
            "Training:  30%|███       | 30/100 [00:34<01:22,  1.17s/it, train_loss=0.5824, val_loss=0.5643, val_f1=0.7991]"
          ]
        },
        {
          "name": "stdout",
          "output_type": "stream",
          "text": [
            "Epoch: 30/100 |  Val Loss: 0.5643 | Train F1: 0.7851 | Val F1: 0.7991\n"
          ]
        },
        {
          "name": "stderr",
          "output_type": "stream",
          "text": [
            "Training:  35%|███▌      | 35/100 [00:40<01:14,  1.15s/it, train_loss=0.5625, val_loss=0.5489, val_f1=0.7999]"
          ]
        },
        {
          "name": "stdout",
          "output_type": "stream",
          "text": [
            "Epoch: 35/100 |  Val Loss: 0.5489 | Train F1: 0.7927 | Val F1: 0.7999\n"
          ]
        },
        {
          "name": "stderr",
          "output_type": "stream",
          "text": [
            "Training:  40%|████      | 40/100 [00:46<01:10,  1.17s/it, train_loss=0.5582, val_loss=0.5497, val_f1=0.8026]"
          ]
        },
        {
          "name": "stdout",
          "output_type": "stream",
          "text": [
            "Epoch: 40/100 |  Val Loss: 0.5497 | Train F1: 0.7940 | Val F1: 0.8026\n"
          ]
        },
        {
          "name": "stderr",
          "output_type": "stream",
          "text": [
            "Training:  45%|████▌     | 45/100 [00:52<01:03,  1.16s/it, train_loss=0.5420, val_loss=0.5316, val_f1=0.8121]"
          ]
        },
        {
          "name": "stdout",
          "output_type": "stream",
          "text": [
            "Epoch: 45/100 |  Val Loss: 0.5316 | Train F1: 0.8028 | Val F1: 0.8121\n"
          ]
        },
        {
          "name": "stderr",
          "output_type": "stream",
          "text": [
            "Training:  50%|█████     | 50/100 [00:57<00:57,  1.16s/it, train_loss=0.5289, val_loss=0.5312, val_f1=0.8103]"
          ]
        },
        {
          "name": "stdout",
          "output_type": "stream",
          "text": [
            "Epoch: 50/100 |  Val Loss: 0.5312 | Train F1: 0.8043 | Val F1: 0.8103\n"
          ]
        },
        {
          "name": "stderr",
          "output_type": "stream",
          "text": [
            "Training:  55%|█████▌    | 55/100 [01:03<00:52,  1.17s/it, train_loss=0.5228, val_loss=0.5277, val_f1=0.8138]"
          ]
        },
        {
          "name": "stdout",
          "output_type": "stream",
          "text": [
            "Epoch: 55/100 |  Val Loss: 0.5277 | Train F1: 0.8080 | Val F1: 0.8138\n"
          ]
        },
        {
          "name": "stderr",
          "output_type": "stream",
          "text": [
            "Training:  60%|██████    | 60/100 [01:09<00:47,  1.18s/it, train_loss=0.5167, val_loss=0.5333, val_f1=0.8154]"
          ]
        },
        {
          "name": "stdout",
          "output_type": "stream",
          "text": [
            "Epoch: 60/100 |  Val Loss: 0.5333 | Train F1: 0.8103 | Val F1: 0.8154\n"
          ]
        },
        {
          "name": "stderr",
          "output_type": "stream",
          "text": [
            "Training:  65%|██████▌   | 65/100 [01:15<00:41,  1.18s/it, train_loss=0.5046, val_loss=0.5241, val_f1=0.8172]"
          ]
        },
        {
          "name": "stdout",
          "output_type": "stream",
          "text": [
            "Epoch: 65/100 |  Val Loss: 0.5241 | Train F1: 0.8166 | Val F1: 0.8172\n"
          ]
        },
        {
          "name": "stderr",
          "output_type": "stream",
          "text": [
            "Training:  66%|██████▌   | 66/100 [01:18<00:40,  1.18s/it, train_loss=0.5052, val_loss=0.5210, val_f1=0.8114]"
          ]
        },
        {
          "name": "stdout",
          "output_type": "stream",
          "text": [
            "\n",
            "Early stopping at epoch 67\n"
          ]
        },
        {
          "name": "stderr",
          "output_type": "stream",
          "text": [
            "\n"
          ]
        },
        {
          "data": {
            "application/vnd.plotly.v1+json": {
              "config": {
                "plotlyServerURL": "https://plot.ly"
              },
              "data": [
                {
                  "line": {
                    "color": "#00aa88"
                  },
                  "mode": "lines+markers",
                  "name": "Train F1",
                  "type": "scatter",
                  "y": [
                    0.44930457513059685,
                    0.6355489377528074,
                    0.6734511192117324,
                    0.6928278424866698,
                    0.711194006508652,
                    0.7187716871532671,
                    0.730221429669584,
                    0.7398226141229407,
                    0.742067084014848,
                    0.7447156949177047,
                    0.7454217759718982,
                    0.7525191523548926,
                    0.7587913398516765,
                    0.7609782311238968,
                    0.7597114942779821,
                    0.7643275535796294,
                    0.7655830010557575,
                    0.7657842249604068,
                    0.7684264243062269,
                    0.7701024894667995,
                    0.7725679631346744,
                    0.7745033342488972,
                    0.7735577851432246,
                    0.7749304002933,
                    0.7747948173957994,
                    0.781174612658807,
                    0.7798429550065031,
                    0.7820668468278315,
                    0.7825004893611119,
                    0.7851183334435254,
                    0.7848477386219562,
                    0.7853471000425442,
                    0.7902851943877187,
                    0.7856156753414267,
                    0.7927432778288019,
                    0.7915558247626736,
                    0.7949438522036091,
                    0.7944025153347026,
                    0.7922034805313537,
                    0.7939825872948284,
                    0.7949756324040229,
                    0.7958340660440281,
                    0.7971823530727024,
                    0.7970467088904774,
                    0.8028198540701342,
                    0.8012541525036203,
                    0.8014976198495327,
                    0.8024543350439772,
                    0.8055280206276216,
                    0.8043135621300209,
                    0.8035364043737137,
                    0.805473712513162,
                    0.8068389751310816,
                    0.8040708545203488,
                    0.8080301906188765,
                    0.8067905300165312,
                    0.8089372373963175,
                    0.8079164902100981,
                    0.8108821670156938,
                    0.8102641789043036,
                    0.8095110200793583,
                    0.8095411607987975,
                    0.8115520033334362,
                    0.8135998260652081,
                    0.816595596385411,
                    0.8155666710101321,
                    0.8133725666611996
                  ]
                },
                {
                  "line": {
                    "color": "#fbb725"
                  },
                  "mode": "lines+markers",
                  "name": "Val F1",
                  "type": "scatter",
                  "y": [
                    0.6324694305800457,
                    0.6851372826284339,
                    0.7258331824166284,
                    0.7448433208890881,
                    0.7376651827067058,
                    0.7600153830198679,
                    0.7347796270668456,
                    0.7722115898013425,
                    0.7768681512238074,
                    0.7660648892730696,
                    0.7774374793084925,
                    0.7698777203095664,
                    0.7778894521334131,
                    0.7909018520604593,
                    0.7788895308646434,
                    0.7876787431748876,
                    0.7899592847978615,
                    0.7929744508924051,
                    0.78832554632672,
                    0.7922259086561543,
                    0.7986415195212014,
                    0.7770395001781356,
                    0.7930331100715916,
                    0.7994532977118671,
                    0.7915893269747593,
                    0.7889956744080292,
                    0.7986729313151499,
                    0.8042929558124825,
                    0.8031369903783422,
                    0.7990786618072313,
                    0.8051911687785316,
                    0.8068688553195581,
                    0.7928898639753247,
                    0.8071093914809615,
                    0.799919916442754,
                    0.8040575562664029,
                    0.8050239562572141,
                    0.8025145797932944,
                    0.8099345792063539,
                    0.8026000797355627,
                    0.8094872614631632,
                    0.8014391261653353,
                    0.8100431780735657,
                    0.8066698432823258,
                    0.8121218436337583,
                    0.8141344572033992,
                    0.8122309767024511,
                    0.8120522841387415,
                    0.8130744064571894,
                    0.8103350321061628,
                    0.8145438275275176,
                    0.8065956282389498,
                    0.8100530428232434,
                    0.8136079352597462,
                    0.813803123376056,
                    0.8130692747598899,
                    0.817001099913661,
                    0.8161279065443577,
                    0.8180393762474372,
                    0.8154003536954506,
                    0.8141639151574139,
                    0.8099815341642096,
                    0.8171912437170888,
                    0.8155270610525351,
                    0.817240041123536,
                    0.8118496949245351,
                    0.8114158679270214
                  ]
                }
              ],
              "layout": {
                "legend": {
                  "orientation": "h",
                  "x": 1,
                  "xanchor": "right",
                  "y": 1.02,
                  "yanchor": "bottom"
                },
                "plot_bgcolor": "white",
                "template": {
                  "data": {
                    "bar": [
                      {
                        "error_x": {
                          "color": "#2a3f5f"
                        },
                        "error_y": {
                          "color": "#2a3f5f"
                        },
                        "marker": {
                          "line": {
                            "color": "#E5ECF6",
                            "width": 0.5
                          },
                          "pattern": {
                            "fillmode": "overlay",
                            "size": 10,
                            "solidity": 0.2
                          }
                        },
                        "type": "bar"
                      }
                    ],
                    "barpolar": [
                      {
                        "marker": {
                          "line": {
                            "color": "#E5ECF6",
                            "width": 0.5
                          },
                          "pattern": {
                            "fillmode": "overlay",
                            "size": 10,
                            "solidity": 0.2
                          }
                        },
                        "type": "barpolar"
                      }
                    ],
                    "carpet": [
                      {
                        "aaxis": {
                          "endlinecolor": "#2a3f5f",
                          "gridcolor": "white",
                          "linecolor": "white",
                          "minorgridcolor": "white",
                          "startlinecolor": "#2a3f5f"
                        },
                        "baxis": {
                          "endlinecolor": "#2a3f5f",
                          "gridcolor": "white",
                          "linecolor": "white",
                          "minorgridcolor": "white",
                          "startlinecolor": "#2a3f5f"
                        },
                        "type": "carpet"
                      }
                    ],
                    "choropleth": [
                      {
                        "colorbar": {
                          "outlinewidth": 0,
                          "ticks": ""
                        },
                        "type": "choropleth"
                      }
                    ],
                    "contour": [
                      {
                        "colorbar": {
                          "outlinewidth": 0,
                          "ticks": ""
                        },
                        "colorscale": [
                          [
                            0,
                            "#0d0887"
                          ],
                          [
                            0.1111111111111111,
                            "#46039f"
                          ],
                          [
                            0.2222222222222222,
                            "#7201a8"
                          ],
                          [
                            0.3333333333333333,
                            "#9c179e"
                          ],
                          [
                            0.4444444444444444,
                            "#bd3786"
                          ],
                          [
                            0.5555555555555556,
                            "#d8576b"
                          ],
                          [
                            0.6666666666666666,
                            "#ed7953"
                          ],
                          [
                            0.7777777777777778,
                            "#fb9f3a"
                          ],
                          [
                            0.8888888888888888,
                            "#fdca26"
                          ],
                          [
                            1,
                            "#f0f921"
                          ]
                        ],
                        "type": "contour"
                      }
                    ],
                    "contourcarpet": [
                      {
                        "colorbar": {
                          "outlinewidth": 0,
                          "ticks": ""
                        },
                        "type": "contourcarpet"
                      }
                    ],
                    "heatmap": [
                      {
                        "colorbar": {
                          "outlinewidth": 0,
                          "ticks": ""
                        },
                        "colorscale": [
                          [
                            0,
                            "#0d0887"
                          ],
                          [
                            0.1111111111111111,
                            "#46039f"
                          ],
                          [
                            0.2222222222222222,
                            "#7201a8"
                          ],
                          [
                            0.3333333333333333,
                            "#9c179e"
                          ],
                          [
                            0.4444444444444444,
                            "#bd3786"
                          ],
                          [
                            0.5555555555555556,
                            "#d8576b"
                          ],
                          [
                            0.6666666666666666,
                            "#ed7953"
                          ],
                          [
                            0.7777777777777778,
                            "#fb9f3a"
                          ],
                          [
                            0.8888888888888888,
                            "#fdca26"
                          ],
                          [
                            1,
                            "#f0f921"
                          ]
                        ],
                        "type": "heatmap"
                      }
                    ],
                    "heatmapgl": [
                      {
                        "colorbar": {
                          "outlinewidth": 0,
                          "ticks": ""
                        },
                        "colorscale": [
                          [
                            0,
                            "#0d0887"
                          ],
                          [
                            0.1111111111111111,
                            "#46039f"
                          ],
                          [
                            0.2222222222222222,
                            "#7201a8"
                          ],
                          [
                            0.3333333333333333,
                            "#9c179e"
                          ],
                          [
                            0.4444444444444444,
                            "#bd3786"
                          ],
                          [
                            0.5555555555555556,
                            "#d8576b"
                          ],
                          [
                            0.6666666666666666,
                            "#ed7953"
                          ],
                          [
                            0.7777777777777778,
                            "#fb9f3a"
                          ],
                          [
                            0.8888888888888888,
                            "#fdca26"
                          ],
                          [
                            1,
                            "#f0f921"
                          ]
                        ],
                        "type": "heatmapgl"
                      }
                    ],
                    "histogram": [
                      {
                        "marker": {
                          "pattern": {
                            "fillmode": "overlay",
                            "size": 10,
                            "solidity": 0.2
                          }
                        },
                        "type": "histogram"
                      }
                    ],
                    "histogram2d": [
                      {
                        "colorbar": {
                          "outlinewidth": 0,
                          "ticks": ""
                        },
                        "colorscale": [
                          [
                            0,
                            "#0d0887"
                          ],
                          [
                            0.1111111111111111,
                            "#46039f"
                          ],
                          [
                            0.2222222222222222,
                            "#7201a8"
                          ],
                          [
                            0.3333333333333333,
                            "#9c179e"
                          ],
                          [
                            0.4444444444444444,
                            "#bd3786"
                          ],
                          [
                            0.5555555555555556,
                            "#d8576b"
                          ],
                          [
                            0.6666666666666666,
                            "#ed7953"
                          ],
                          [
                            0.7777777777777778,
                            "#fb9f3a"
                          ],
                          [
                            0.8888888888888888,
                            "#fdca26"
                          ],
                          [
                            1,
                            "#f0f921"
                          ]
                        ],
                        "type": "histogram2d"
                      }
                    ],
                    "histogram2dcontour": [
                      {
                        "colorbar": {
                          "outlinewidth": 0,
                          "ticks": ""
                        },
                        "colorscale": [
                          [
                            0,
                            "#0d0887"
                          ],
                          [
                            0.1111111111111111,
                            "#46039f"
                          ],
                          [
                            0.2222222222222222,
                            "#7201a8"
                          ],
                          [
                            0.3333333333333333,
                            "#9c179e"
                          ],
                          [
                            0.4444444444444444,
                            "#bd3786"
                          ],
                          [
                            0.5555555555555556,
                            "#d8576b"
                          ],
                          [
                            0.6666666666666666,
                            "#ed7953"
                          ],
                          [
                            0.7777777777777778,
                            "#fb9f3a"
                          ],
                          [
                            0.8888888888888888,
                            "#fdca26"
                          ],
                          [
                            1,
                            "#f0f921"
                          ]
                        ],
                        "type": "histogram2dcontour"
                      }
                    ],
                    "mesh3d": [
                      {
                        "colorbar": {
                          "outlinewidth": 0,
                          "ticks": ""
                        },
                        "type": "mesh3d"
                      }
                    ],
                    "parcoords": [
                      {
                        "line": {
                          "colorbar": {
                            "outlinewidth": 0,
                            "ticks": ""
                          }
                        },
                        "type": "parcoords"
                      }
                    ],
                    "pie": [
                      {
                        "automargin": true,
                        "type": "pie"
                      }
                    ],
                    "scatter": [
                      {
                        "fillpattern": {
                          "fillmode": "overlay",
                          "size": 10,
                          "solidity": 0.2
                        },
                        "type": "scatter"
                      }
                    ],
                    "scatter3d": [
                      {
                        "line": {
                          "colorbar": {
                            "outlinewidth": 0,
                            "ticks": ""
                          }
                        },
                        "marker": {
                          "colorbar": {
                            "outlinewidth": 0,
                            "ticks": ""
                          }
                        },
                        "type": "scatter3d"
                      }
                    ],
                    "scattercarpet": [
                      {
                        "marker": {
                          "colorbar": {
                            "outlinewidth": 0,
                            "ticks": ""
                          }
                        },
                        "type": "scattercarpet"
                      }
                    ],
                    "scattergeo": [
                      {
                        "marker": {
                          "colorbar": {
                            "outlinewidth": 0,
                            "ticks": ""
                          }
                        },
                        "type": "scattergeo"
                      }
                    ],
                    "scattergl": [
                      {
                        "marker": {
                          "colorbar": {
                            "outlinewidth": 0,
                            "ticks": ""
                          }
                        },
                        "type": "scattergl"
                      }
                    ],
                    "scattermapbox": [
                      {
                        "marker": {
                          "colorbar": {
                            "outlinewidth": 0,
                            "ticks": ""
                          }
                        },
                        "type": "scattermapbox"
                      }
                    ],
                    "scatterpolar": [
                      {
                        "marker": {
                          "colorbar": {
                            "outlinewidth": 0,
                            "ticks": ""
                          }
                        },
                        "type": "scatterpolar"
                      }
                    ],
                    "scatterpolargl": [
                      {
                        "marker": {
                          "colorbar": {
                            "outlinewidth": 0,
                            "ticks": ""
                          }
                        },
                        "type": "scatterpolargl"
                      }
                    ],
                    "scatterternary": [
                      {
                        "marker": {
                          "colorbar": {
                            "outlinewidth": 0,
                            "ticks": ""
                          }
                        },
                        "type": "scatterternary"
                      }
                    ],
                    "surface": [
                      {
                        "colorbar": {
                          "outlinewidth": 0,
                          "ticks": ""
                        },
                        "colorscale": [
                          [
                            0,
                            "#0d0887"
                          ],
                          [
                            0.1111111111111111,
                            "#46039f"
                          ],
                          [
                            0.2222222222222222,
                            "#7201a8"
                          ],
                          [
                            0.3333333333333333,
                            "#9c179e"
                          ],
                          [
                            0.4444444444444444,
                            "#bd3786"
                          ],
                          [
                            0.5555555555555556,
                            "#d8576b"
                          ],
                          [
                            0.6666666666666666,
                            "#ed7953"
                          ],
                          [
                            0.7777777777777778,
                            "#fb9f3a"
                          ],
                          [
                            0.8888888888888888,
                            "#fdca26"
                          ],
                          [
                            1,
                            "#f0f921"
                          ]
                        ],
                        "type": "surface"
                      }
                    ],
                    "table": [
                      {
                        "cells": {
                          "fill": {
                            "color": "#EBF0F8"
                          },
                          "line": {
                            "color": "white"
                          }
                        },
                        "header": {
                          "fill": {
                            "color": "#C8D4E3"
                          },
                          "line": {
                            "color": "white"
                          }
                        },
                        "type": "table"
                      }
                    ]
                  },
                  "layout": {
                    "annotationdefaults": {
                      "arrowcolor": "#2a3f5f",
                      "arrowhead": 0,
                      "arrowwidth": 1
                    },
                    "autotypenumbers": "strict",
                    "coloraxis": {
                      "colorbar": {
                        "outlinewidth": 0,
                        "ticks": ""
                      }
                    },
                    "colorscale": {
                      "diverging": [
                        [
                          0,
                          "#8e0152"
                        ],
                        [
                          0.1,
                          "#c51b7d"
                        ],
                        [
                          0.2,
                          "#de77ae"
                        ],
                        [
                          0.3,
                          "#f1b6da"
                        ],
                        [
                          0.4,
                          "#fde0ef"
                        ],
                        [
                          0.5,
                          "#f7f7f7"
                        ],
                        [
                          0.6,
                          "#e6f5d0"
                        ],
                        [
                          0.7,
                          "#b8e186"
                        ],
                        [
                          0.8,
                          "#7fbc41"
                        ],
                        [
                          0.9,
                          "#4d9221"
                        ],
                        [
                          1,
                          "#276419"
                        ]
                      ],
                      "sequential": [
                        [
                          0,
                          "#0d0887"
                        ],
                        [
                          0.1111111111111111,
                          "#46039f"
                        ],
                        [
                          0.2222222222222222,
                          "#7201a8"
                        ],
                        [
                          0.3333333333333333,
                          "#9c179e"
                        ],
                        [
                          0.4444444444444444,
                          "#bd3786"
                        ],
                        [
                          0.5555555555555556,
                          "#d8576b"
                        ],
                        [
                          0.6666666666666666,
                          "#ed7953"
                        ],
                        [
                          0.7777777777777778,
                          "#fb9f3a"
                        ],
                        [
                          0.8888888888888888,
                          "#fdca26"
                        ],
                        [
                          1,
                          "#f0f921"
                        ]
                      ],
                      "sequentialminus": [
                        [
                          0,
                          "#0d0887"
                        ],
                        [
                          0.1111111111111111,
                          "#46039f"
                        ],
                        [
                          0.2222222222222222,
                          "#7201a8"
                        ],
                        [
                          0.3333333333333333,
                          "#9c179e"
                        ],
                        [
                          0.4444444444444444,
                          "#bd3786"
                        ],
                        [
                          0.5555555555555556,
                          "#d8576b"
                        ],
                        [
                          0.6666666666666666,
                          "#ed7953"
                        ],
                        [
                          0.7777777777777778,
                          "#fb9f3a"
                        ],
                        [
                          0.8888888888888888,
                          "#fdca26"
                        ],
                        [
                          1,
                          "#f0f921"
                        ]
                      ]
                    },
                    "colorway": [
                      "#636efa",
                      "#EF553B",
                      "#00cc96",
                      "#ab63fa",
                      "#FFA15A",
                      "#19d3f3",
                      "#FF6692",
                      "#B6E880",
                      "#FF97FF",
                      "#FECB52"
                    ],
                    "font": {
                      "color": "#2a3f5f"
                    },
                    "geo": {
                      "bgcolor": "white",
                      "lakecolor": "white",
                      "landcolor": "#E5ECF6",
                      "showlakes": true,
                      "showland": true,
                      "subunitcolor": "white"
                    },
                    "hoverlabel": {
                      "align": "left"
                    },
                    "hovermode": "closest",
                    "mapbox": {
                      "style": "light"
                    },
                    "paper_bgcolor": "white",
                    "plot_bgcolor": "#E5ECF6",
                    "polar": {
                      "angularaxis": {
                        "gridcolor": "white",
                        "linecolor": "white",
                        "ticks": ""
                      },
                      "bgcolor": "#E5ECF6",
                      "radialaxis": {
                        "gridcolor": "white",
                        "linecolor": "white",
                        "ticks": ""
                      }
                    },
                    "scene": {
                      "xaxis": {
                        "backgroundcolor": "#E5ECF6",
                        "gridcolor": "white",
                        "gridwidth": 2,
                        "linecolor": "white",
                        "showbackground": true,
                        "ticks": "",
                        "zerolinecolor": "white"
                      },
                      "yaxis": {
                        "backgroundcolor": "#E5ECF6",
                        "gridcolor": "white",
                        "gridwidth": 2,
                        "linecolor": "white",
                        "showbackground": true,
                        "ticks": "",
                        "zerolinecolor": "white"
                      },
                      "zaxis": {
                        "backgroundcolor": "#E5ECF6",
                        "gridcolor": "white",
                        "gridwidth": 2,
                        "linecolor": "white",
                        "showbackground": true,
                        "ticks": "",
                        "zerolinecolor": "white"
                      }
                    },
                    "shapedefaults": {
                      "line": {
                        "color": "#2a3f5f"
                      }
                    },
                    "ternary": {
                      "aaxis": {
                        "gridcolor": "white",
                        "linecolor": "white",
                        "ticks": ""
                      },
                      "baxis": {
                        "gridcolor": "white",
                        "linecolor": "white",
                        "ticks": ""
                      },
                      "bgcolor": "#E5ECF6",
                      "caxis": {
                        "gridcolor": "white",
                        "linecolor": "white",
                        "ticks": ""
                      }
                    },
                    "title": {
                      "x": 0.05
                    },
                    "xaxis": {
                      "automargin": true,
                      "gridcolor": "white",
                      "linecolor": "white",
                      "ticks": "",
                      "title": {
                        "standoff": 15
                      },
                      "zerolinecolor": "white",
                      "zerolinewidth": 2
                    },
                    "yaxis": {
                      "automargin": true,
                      "gridcolor": "white",
                      "linecolor": "white",
                      "ticks": "",
                      "title": {
                        "standoff": 15
                      },
                      "zerolinecolor": "white",
                      "zerolinewidth": 2
                    }
                  }
                },
                "xaxis": {
                  "gridcolor": "lightgray",
                  "showgrid": true,
                  "title": {
                    "text": "Epoch"
                  }
                },
                "yaxis": {
                  "gridcolor": "lightgray",
                  "showgrid": true,
                  "title": {
                    "text": "F1 Score"
                  }
                }
              }
            }
          },
          "metadata": {},
          "output_type": "display_data"
        },
        {
          "name": "stdout",
          "output_type": "stream",
          "text": [
            "\n",
            "Final Test Metrics:\n",
            "Test Loss: 0.5213 | Test F1: 0.8154\n",
            "\n",
            "Classification report on test\n",
            "              precision    recall  f1-score   support\n",
            "\n",
            "           R       0.50      0.25      0.33         8\n",
            "           c       0.65      0.58      0.62       230\n",
            " c-plus-plus       0.72      0.82      0.77       537\n",
            "     c-sharp       0.86      0.93      0.90       199\n",
            "        dart       0.74      0.28      0.41        50\n",
            "     f-sharp       0.80      0.40      0.53        10\n",
            "          go       0.96      0.93      0.94        94\n",
            "        java       0.77      0.70      0.74       214\n",
            "  javascript       0.84      0.81      0.82       129\n",
            "       julia       0.92      0.73      0.81        45\n",
            "         php       0.90      0.60      0.72        15\n",
            "      python       0.93      0.98      0.96       663\n",
            "        ruby       0.89      0.86      0.87        64\n",
            "       scala       0.00      0.00      0.00         6\n",
            "       swift       0.73      0.44      0.55        18\n",
            "\n",
            "    accuracy                           0.82      2282\n",
            "   macro avg       0.75      0.62      0.66      2282\n",
            "weighted avg       0.82      0.82      0.82      2282\n",
            "\n"
          ]
        },
        {
          "name": "stderr",
          "output_type": "stream",
          "text": [
            "c:\\Users\\yarom\\AppData\\Local\\Programs\\Python\\Python312\\Lib\\site-packages\\sklearn\\metrics\\_classification.py:1509: UndefinedMetricWarning:\n",
            "\n",
            "Precision is ill-defined and being set to 0.0 in labels with no predicted samples. Use `zero_division` parameter to control this behavior.\n",
            "\n",
            "c:\\Users\\yarom\\AppData\\Local\\Programs\\Python\\Python312\\Lib\\site-packages\\sklearn\\metrics\\_classification.py:1509: UndefinedMetricWarning:\n",
            "\n",
            "Precision is ill-defined and being set to 0.0 in labels with no predicted samples. Use `zero_division` parameter to control this behavior.\n",
            "\n",
            "c:\\Users\\yarom\\AppData\\Local\\Programs\\Python\\Python312\\Lib\\site-packages\\sklearn\\metrics\\_classification.py:1509: UndefinedMetricWarning:\n",
            "\n",
            "Precision is ill-defined and being set to 0.0 in labels with no predicted samples. Use `zero_division` parameter to control this behavior.\n",
            "\n"
          ]
        }
      ],
      "source": [
        "model2 = train_model(train_loader, val_loader, test_loader, model, criterion, optimizer, scheduler, epochs=100, log_every=5, early_stopping_patience=8)"
      ]
    },
    {
      "cell_type": "code",
      "execution_count": 53,
      "id": "81TyMgqdD_bw",
      "metadata": {
        "id": "81TyMgqdD_bw"
      },
      "outputs": [],
      "source": [
        "def predict_code(model, code_snippet, tokenizer, emb_model, device=None, show_time=False):\n",
        "\n",
        "    if device is None:\n",
        "        device = torch.device('cuda' if torch.cuda.is_available() else 'cpu')\n",
        "\n",
        "    start_time = time.time()\n",
        "\n",
        "    inputs = tokenizer(\n",
        "        code_snippet,\n",
        "        return_tensors=\"pt\",\n",
        "        truncation=True,\n",
        "        padding=True,\n",
        "        max_length=256\n",
        "    )\n",
        "\n",
        "    with torch.no_grad():\n",
        "        inputs = {k: v.to(device) for k, v in inputs.items()}\n",
        "        outputs = emb_model(**inputs)\n",
        "        embedding = outputs.last_hidden_state.mean(dim=1)\n",
        "\n",
        "    model.eval()\n",
        "    with torch.no_grad():\n",
        "        embedding = embedding.to(device)\n",
        "        outputs = model(embedding)\n",
        "        probabilities = torch.softmax(outputs, dim=1)\n",
        "        _, pred_class = torch.max(outputs, 1)\n",
        "\n",
        "    inference_time = time.time() - start_time\n",
        "\n",
        "    if show_time:\n",
        "        print(f\"Inference time: {inference_time}\")\n",
        "\n",
        "    return pred_class.item()"
      ]
    },
    {
      "cell_type": "code",
      "execution_count": 60,
      "id": "Xd5PSlEhEJW5",
      "metadata": {
        "colab": {
          "base_uri": "https://localhost:8080/"
        },
        "id": "Xd5PSlEhEJW5",
        "outputId": "f34f7508-1581-4c3f-bba8-b814eee3f84b"
      },
      "outputs": [
        {
          "name": "stdout",
          "output_type": "stream",
          "text": [
            "Inference time: 0.021000581741333008\n",
            "Predicted class: python\n"
          ]
        }
      ],
      "source": [
        "new_code = \"\"\"\n",
        "def factorial(n):\n",
        "    if n == 0:\n",
        "        return 1\n",
        "    else:\n",
        "        return n * factorial(n-1)\n",
        "\"\"\"\n",
        "\n",
        "pred_class = predict_code(model2, new_code, tokenizer, emb_model, show_time=True)\n",
        "\n",
        "print(f\"Predicted class: {label_to_language[pred_class]}\")"
      ]
    },
    {
      "cell_type": "markdown",
      "id": "S9sFa1XZC5c9",
      "metadata": {
        "id": "S9sFa1XZC5c9"
      },
      "source": [
        "### BERT + FC: F1 = 0.82, train_time: 4:36, inference time: 0.021"
      ]
    },
    {
      "cell_type": "markdown",
      "id": "805d1094",
      "metadata": {
        "id": "805d1094"
      },
      "source": [
        "### TF-IDF + Node2Vec + FC"
      ]
    },
    {
      "cell_type": "code",
      "execution_count": 61,
      "id": "9a426a97",
      "metadata": {
        "id": "9a426a97"
      },
      "outputs": [],
      "source": [
        "class TextGraphNode2VecEmbedder:\n",
        "    def __init__(self, use_log1p=True, embedding_dim=32, variance_threshold=0.0001,\n",
        "                 similarity_percentile=5, min_sim_threshold=0.1, edge_dropout=0.15, random_edges=0.08, augment_code = True,\n",
        "                 use_preprocessing=True, draw_graph=True, verbose=True, **node2vec_kwargs):\n",
        "\n",
        "        self.embedding_dim = embedding_dim\n",
        "        self.variance_threshold = variance_threshold\n",
        "        self.similarity_percentile = similarity_percentile\n",
        "        self.min_sim_threshold = min_sim_threshold\n",
        "        self.node2vec_kwargs = node2vec_kwargs\n",
        "        self.vectorizer = None\n",
        "        self.selector = None\n",
        "        self.node_embeddings = None\n",
        "        self.columns_ = None\n",
        "        self.use_log1p = use_log1p\n",
        "        self.use_preprocessing = use_preprocessing\n",
        "        self.edge_dropout = edge_dropout\n",
        "        self.random_edges = random_edges\n",
        "        self.augment_code = augment_code\n",
        "        self.draw_graph = draw_graph\n",
        "        self.verbose = verbose\n",
        "\n",
        "    def fit_transform(self, texts: list[str]) -> np.ndarray:\n",
        "        # preprocess\n",
        "        texts = self._mass_preprocess(texts)\n",
        "\n",
        "        # tf-idf\n",
        "        self.vectorizer = TfidfVectorizer(binary=False, analyzer='char', lowercase=False,)\n",
        "        tfidf = self.vectorizer.fit_transform(texts)\n",
        "        self.columns_ = self.vectorizer.get_feature_names_out()\n",
        "\n",
        "        # var treshold\n",
        "        self.selector = VarianceThreshold(threshold=self.variance_threshold)\n",
        "        tfidf_selected = self.selector.fit_transform(tfidf)\n",
        "        selected_cols = np.array(self.columns_)[self.selector.get_support()]\n",
        "\n",
        "        # cossim\n",
        "        cossim = cosine_similarity(tfidf_selected.T)\n",
        "        threshold = max(\n",
        "            np.percentile(cossim, self.similarity_percentile),\n",
        "            self.min_sim_threshold\n",
        "        )\n",
        "\n",
        "        G = nx.Graph()\n",
        "        for i, col_i in enumerate(selected_cols):\n",
        "            for j in range(i + 1, len(selected_cols)):\n",
        "                if cossim[i, j] > threshold:\n",
        "                    G.add_edge(col_i, selected_cols[j], weight=cossim[i, j])\n",
        "\n",
        "        if self.draw_graph:\n",
        "            plt.figure(figsize=(12,8))\n",
        "            pos = nx.spring_layout(G)\n",
        "            nx.draw_networkx_nodes(G, pos, node_size=500)\n",
        "            nx.draw_networkx_edges(G, pos, width=1.0, alpha=0.5)\n",
        "            nx.draw_networkx_labels(G, pos, font_size=10, font_family='sans-serif')\n",
        "            plt.axis(False)\n",
        "            plt.show()\n",
        "        if self.verbose:\n",
        "            print(f\"в графе {G.number_of_nodes()} узлов, {G.number_of_edges()} рёбер\")\n",
        "\n",
        "        # регуляризация\n",
        "        if self.edge_dropout > 0:\n",
        "            self._apply_edge_dropout(G)\n",
        "\n",
        "        if self.random_edges > 0:\n",
        "            self._add_random_edges(G, cossim)\n",
        "\n",
        "        if self.edge_dropout > 0 or self.random_edges > 0:\n",
        "            if self.verbose:\n",
        "                print(f\"в графе {G.number_of_nodes()} узлов, {G.number_of_edges()} рёбер после регуляризации\")\n",
        "\n",
        "        # аугментация\n",
        "        if self.augment_code:\n",
        "            self._augment_code_terms(G, tfidf, selected_cols)\n",
        "            print(f\"в графе {G.number_of_nodes()} узлов, {G.number_of_edges()} рёбер после аугментации\")\n",
        "\n",
        "        if G.number_of_nodes() < 2 or G.number_of_edges() == 0:\n",
        "            raise RuntimeError(\n",
        "                f\"граф слишком мал для обучения\"\n",
        "            )\n",
        "\n",
        "        # node2vec\n",
        "        node2vec = Node2Vec(G, dimensions=self.embedding_dim, seed=42, **self.node2vec_kwargs)\n",
        "        model = node2vec.fit()\n",
        "        self.node_embeddings = {\n",
        "            node: np.log1p(model.wv[node]) if self.use_log1p else model.wv[node]\n",
        "            for node in G.nodes if node in model.wv\n",
        "        }\n",
        "\n",
        "        return self._generate_doc_embeddings(tfidf_selected, selected_cols)\n",
        "\n",
        "\n",
        "    def transform(self, texts: list[str]) -> np.ndarray:\n",
        "        # preprocess\n",
        "        texts = self._mass_preprocess(texts)\n",
        "\n",
        "        tfidf = self.vectorizer.transform(texts)\n",
        "        tfidf_selected = self.selector.transform(tfidf)\n",
        "        selected_cols = np.array(self.columns_)[self.selector.get_support()]\n",
        "        return self._generate_doc_embeddings(tfidf_selected, selected_cols)\n",
        "\n",
        "    def _generate_doc_embeddings(self, tfidf_selected: np.ndarray, selected_cols: np.ndarray) -> np.ndarray:\n",
        "        embedding_matrix = np.vstack([\n",
        "            self.node_embeddings.get(word, np.zeros(self.embedding_dim))\n",
        "            for word in selected_cols\n",
        "        ]).T  # shape: (embedding_dim, n_features)\n",
        "        tfidf_selected = normalize(tfidf_selected, axis=1)\n",
        "\n",
        "        return tfidf_selected.dot(embedding_matrix.T)  # shape: (n_docs, embedding_dim)\n",
        "\n",
        "    @staticmethod\n",
        "    def preprocess_code(code: str) -> str:\n",
        "        code = re.sub(r'(\".*?\")|(//.*?$|#.*?$|--.*?$)', lambda m: m.group(1) or \"\", code, flags=re.MULTILINE) # не внутри строк\n",
        "\n",
        "        code = re.sub(\n",
        "            r'(\"\"\".*?\"\"\"|\\'\\'\\'.*?\\'\\'\\'|\".*?\"|\\'.*?\\')|/\\*.*?\\*/',\n",
        "            lambda m: m.group(1) or \"\",\n",
        "            code,\n",
        "            flags=re.DOTALL # многострочные\n",
        "        )\n",
        "\n",
        "        return code\n",
        "\n",
        "    def _mass_preprocess(self, texts: list[str]) -> list[str]:\n",
        "        if self.use_preprocessing:\n",
        "            return [self.preprocess_code(t) for t in texts]\n",
        "        return texts\n",
        "\n",
        "    def _apply_edge_dropout(self, G):\n",
        "        edges = list(G.edges())\n",
        "        remove_num = int(len(edges) * self.edge_dropout)\n",
        "        edges_to_remove = random.sample(edges, remove_num)\n",
        "        G.remove_edges_from(edges_to_remove)\n",
        "\n",
        "    def _add_random_edges(self, G, cossim):\n",
        "        n_nodes = len(G.nodes())\n",
        "        nodes = list(G.nodes())\n",
        "        add_num = int(self.random_edges * n_nodes)\n",
        "\n",
        "        for _ in range(add_num):\n",
        "            i, j = random.sample(range(n_nodes), 2)\n",
        "            if not G.has_edge(nodes[i], nodes[j]):\n",
        "                sim = cossim[i,j]  # сохраняем структуру весов\n",
        "                G.add_edge(nodes[i], nodes[j], weight=sim)\n",
        "\n",
        "    def _augment_code_terms(self, G, tfidf_matrix, selected_cols):\n",
        "        rare_terms = [term for term, deg in G.degree() if deg < 3]\n",
        "\n",
        "        # ищем семантически близкие термины для редких терминов через их эмбеддинги\n",
        "        for term in rare_terms:\n",
        "            if term in self.vectorizer.vocabulary_:\n",
        "                term_idx = self.vectorizer.vocabulary_[term]\n",
        "                similar = cosine_similarity(tfidf_matrix[:, term_idx], tfidf_matrix).ravel()\n",
        "                top_matches = np.argsort(similar)[-3:]\n",
        "                for match in top_matches:\n",
        "                    match_term = selected_cols[match]\n",
        "                    if not G.has_edge(term, match_term):\n",
        "                        G.add_edge(term, match_term, weight=similar[match])"
      ]
    },
    {
      "cell_type": "code",
      "execution_count": 62,
      "id": "75877818",
      "metadata": {
        "colab": {
          "base_uri": "https://localhost:8080/",
          "height": 754,
          "referenced_widgets": [
            "9e17c3b01dbd42708daaecfda6f7dce4",
            "f9983622e0ae44cd97ae6605371fe2ff",
            "8b7d3d0918804acb97a9b1cffb4a4a4a",
            "eaaf29707b0042cb905f532d18f7a283",
            "70b80858e14c4a29b3fb352ec922f4a0",
            "9c77ff48ef384ebda604db48fc38bec0",
            "29fc15ebaf654cd988c30b7a81bf4f87",
            "bebf8f636ff6488a87aae45b2271c25d",
            "aaf3e330628448f3989f47d29ca91da8",
            "e70c41d150624d67ac1e4601500dec92",
            "f9c44b3e4bb643dbbee621bd8e8f7f00"
          ]
        },
        "id": "75877818",
        "outputId": "6b8e7742-637d-405d-c542-5b6d15ff5db4"
      },
      "outputs": [
        {
          "data": {
            "image/png": "[encoded data removed]",
            "text/plain": [
              "<Figure size 1200x800 with 1 Axes>"
            ]
          },
          "metadata": {},
          "output_type": "display_data"
        },
        {
          "name": "stdout",
          "output_type": "stream",
          "text": [
            "в графе 22 узлов, 122 рёбер\n",
            "в графе 22 узлов, 105 рёбер после регуляризации\n",
            "в графе 22 узлов, 105 рёбер после аугментации\n"
          ]
        },
        {
          "data": {
            "application/vnd.jupyter.widget-view+json": {
              "model_id": "2e62140aa82d457f9ba334e26a41cfa2",
              "version_major": 2,
              "version_minor": 0
            },
            "text/plain": [
              "Computing transition probabilities:   0%|          | 0/22 [00:00<?, ?it/s]"
            ]
          },
          "metadata": {},
          "output_type": "display_data"
        },
        {
          "name": "stderr",
          "output_type": "stream",
          "text": [
            "Generating walks (CPU: 1): 100%|██████████| 10/10 [00:00<00:00, 129.87it/s]\n"
          ]
        }
      ],
      "source": [
        "texts = [\"The cat sat on the mat.\", \"The dog barked loudly.\", \"Cats and dogs are animals.\"]\n",
        "embedder = TextGraphNode2VecEmbedder(similarity_percentile=45)\n",
        "train_embeddings = embedder.fit_transform(texts)\n",
        "\n",
        "# Для новых текстов:\n",
        "new_texts = [\"The mat is clean.\", \"Animals are great.\"]\n",
        "test_embeddings = embedder.transform(new_texts)\n"
      ]
    },
    {
      "cell_type": "markdown",
      "id": "9cad5623",
      "metadata": {
        "id": "9cad5623"
      },
      "source": [
        "Узлы (nodes) — это отдельные символы (буквы, знаки препинания и пр.), которые остались после отбора по дисперсии.\n",
        "\n",
        "Рёбра (edges) — это сильные связи между символами, у которых косинусное сходство выше порога, заданного similarity_percentile.\n",
        "\n",
        "Количество связей показывает, какие символы чаще встречаются в похожих контекстах в текстах."
      ]
    },
    {
      "cell_type": "markdown",
      "id": "2982cb00",
      "metadata": {
        "id": "2982cb00"
      },
      "source": [
        "Буквы, такие как 't', 'e', 'a', 's', 'o', 'n', часто связаны с другими, потому что:\n",
        "\n",
        "- Они встречаются в нескольких словах: mat, sat, cat, barked, animals, dog.\n",
        "\n",
        "- Они имеют схожее \"окружение\" в терминах n-грамм на уровне символов.\n",
        "\n",
        "Символ '.' также присутствует, потому что он завершает предложения и встречается во всех строках. Он может быть связан с буквами, с которыми стоит рядом (например, с 't' в \"mat.\" и \"barked.\").\n",
        "\n",
        "Связи между 'c', 'a', 't' указывают на частую совместную встречаемость этих символов — например, в слове cat."
      ]
    },
    {
      "cell_type": "code",
      "execution_count": 72,
      "id": "8810aeb3",
      "metadata": {
        "colab": {
          "base_uri": "https://localhost:8080/",
          "height": 84,
          "referenced_widgets": [
            "1eb08b67e6e7447c87b3b7b95d141983",
            "0f4adea9f6f3454c9c5c2f681cd8076c",
            "e834dfd2b25346e389ded03918ad3e31",
            "f0fe6b0d4e3b45aa980d8c599a00dad1",
            "835a5da2ecb94eca91a989f0e65ae083",
            "d8943e45f3804533b9214818a9ffa6b0",
            "d9523980c5c54ce99c35b0af3912381f",
            "81ab1448a51e41b587aad1503eed0f3b",
            "4ea756e47eaa4c1fbc45edff9fb9b661",
            "f38d86d8da5f40e7a2b7478cd6845539",
            "f6d25d416e6045618c9206c5dd098893"
          ]
        },
        "id": "8810aeb3",
        "outputId": "7461d4d6-edbb-43b7-9c5e-74e47fc6f2c2"
      },
      "outputs": [
        {
          "name": "stdout",
          "output_type": "stream",
          "text": [
            "в графе 96 узлов, 2957 рёбер\n",
            "в графе 96 узлов, 2870 рёбер после регуляризации\n"
          ]
        },
        {
          "data": {
            "application/vnd.jupyter.widget-view+json": {
              "model_id": "e2ed0997eb794e85b93ed23739baf15e",
              "version_major": 2,
              "version_minor": 0
            },
            "text/plain": [
              "Computing transition probabilities:   0%|          | 0/96 [00:00<?, ?it/s]"
            ]
          },
          "metadata": {},
          "output_type": "display_data"
        }
      ],
      "source": [
        "texts = train_df['code']\n",
        "embedder = TextGraphNode2VecEmbedder(\n",
        "    use_log1p=True,\n",
        "    embedding_dim=64,\n",
        "    variance_threshold=0.00025,\n",
        "    similarity_percentile=5,\n",
        "    min_sim_threshold=0.07,\n",
        "    use_preprocessing=True,\n",
        "    augment_code=False,\n",
        "    edge_dropout=0.03,\n",
        "    random_edges=0.03,\n",
        "    draw_graph=False,\n",
        "    walk_length=50,\n",
        "    num_walks=120,\n",
        "    p=0.8,\n",
        "    q=1.2,\n",
        "    workers=12,\n",
        ")\n",
        "\n",
        "train_embeddings = embedder.fit_transform(texts)"
      ]
    },
    {
      "cell_type": "code",
      "execution_count": 73,
      "id": "c491680f",
      "metadata": {
        "id": "c491680f"
      },
      "outputs": [],
      "source": [
        "val_embeddings = embedder.transform(val_df['code'])\n",
        "test_embeddings = embedder.transform(test_df['code'])"
      ]
    },
    {
      "cell_type": "code",
      "execution_count": 74,
      "id": "d328d0e4",
      "metadata": {
        "id": "d328d0e4"
      },
      "outputs": [],
      "source": [
        "class CodeLanguageClassifier(nn.Module):\n",
        "    def __init__(self, input_dim, n_1, n_2, n_3, output_dim):\n",
        "        super().__init__()\n",
        "        self.fc1 = nn.Linear(input_dim, n_1)\n",
        "        self.bn1 = nn.BatchNorm1d(n_1)\n",
        "        self.fc2 = nn.Linear(n_1, n_2)\n",
        "        self.bn2 = nn.BatchNorm1d(n_2)\n",
        "        self.fc3 = nn.Linear(n_2, n_3)\n",
        "        self.bn3 = nn.BatchNorm1d(n_3)\n",
        "        self.fc4 = nn.Linear(n_3, output_dim)\n",
        "\n",
        "        self.fc1_residual = nn.Linear(input_dim, n_1) if input_dim != n_1 else nn.Identity()\n",
        "        self.fc2_residual = nn.Linear(n_1, n_2) if n_1 != n_2 else nn.Identity()\n",
        "        self.fc3_residual = nn.Linear(n_2, n_3) if n_2 != n_3 else nn.Identity()\n",
        "\n",
        "        self.activation = nn.GELU()\n",
        "        self.dropout = nn.Dropout(p=0.3)\n",
        "\n",
        "        self._init_weights()\n",
        "\n",
        "    def _init_weights(self):\n",
        "        for m in self.modules():\n",
        "            if isinstance(m, nn.Linear):\n",
        "                nn.init.kaiming_normal_(m.weight, nonlinearity='leaky_relu')\n",
        "                if m.bias is not None:\n",
        "                    nn.init.constant_(m.bias, 0)\n",
        "\n",
        "    def forward(self, x):\n",
        "        identity = self.fc1_residual(x)\n",
        "        x = self.fc1(x)\n",
        "        x = self.bn1(x)\n",
        "        x = self.activation(x)\n",
        "        x = self.dropout(x + identity)\n",
        "\n",
        "        identity = self.fc2_residual(x)\n",
        "        x = self.fc2(x)\n",
        "        x = self.bn2(x)\n",
        "        x = self.activation(x)\n",
        "        x = self.dropout(x + identity)\n",
        "\n",
        "        identity = self.fc3_residual(x)\n",
        "        x = self.fc3(x)\n",
        "        x = self.bn3(x)\n",
        "        x = self.activation(x)\n",
        "        x = self.dropout(x + identity)\n",
        "\n",
        "        return self.fc4(x)\n",
        "\n",
        "N_1 = 256 * 4\n",
        "N_2 = 512 * 4\n",
        "N_3 = 256 * 4"
      ]
    },
    {
      "cell_type": "code",
      "execution_count": 75,
      "id": "3e5747ca",
      "metadata": {
        "id": "3e5747ca"
      },
      "outputs": [],
      "source": [
        "batch_size = 128\n",
        "\n",
        "train_dataset = TensorDataset(torch.tensor(train_embeddings, dtype=torch.float32), torch.tensor(train_df['label'].to_numpy(), dtype=torch.long))\n",
        "val_dataset = TensorDataset(torch.tensor(val_embeddings, dtype=torch.float32), torch.tensor(val_df['label'].to_numpy(), dtype=torch.long))\n",
        "test_dataset = TensorDataset(torch.tensor(test_embeddings, dtype=torch.float32), torch.tensor(test_df['label'].to_numpy(), dtype=torch.long))\n",
        "\n",
        "train_loader = DataLoader(train_dataset, batch_size=batch_size, shuffle=True)\n",
        "val_loader = DataLoader(val_dataset, batch_size=batch_size, shuffle=False)\n",
        "test_loader = DataLoader(test_dataset, batch_size=batch_size, shuffle=False)"
      ]
    },
    {
      "cell_type": "code",
      "execution_count": 80,
      "id": "55d1c901",
      "metadata": {
        "id": "55d1c901"
      },
      "outputs": [],
      "source": [
        "input_dim = len(train_embeddings[0])\n",
        "output_dim = len(lang_counts)\n",
        "\n",
        "model = CodeLanguageClassifier(input_dim, N_1, N_2, N_3, output_dim).to(device)\n",
        "criterion = nn.CrossEntropyLoss()\n",
        "optimizer = optim.AdamW(model.parameters(), lr=0.002, weight_decay=5e-4)\n",
        "# scheduler = torch.optim.lr_scheduler.CosineAnnealingLR(\n",
        "#     optimizer,\n",
        "#     T_max = 100\n",
        "# )\n",
        "\n",
        "scheduler = torch.optim.lr_scheduler.StepLR(\n",
        "    optimizer,\n",
        "    step_size=13,\n",
        "    gamma=0.33\n",
        ")"
      ]
    },
    {
      "cell_type": "code",
      "execution_count": 81,
      "id": "71231ab3",
      "metadata": {
        "colab": {
          "base_uri": "https://localhost:8080/",
          "height": 1000
        },
        "id": "71231ab3",
        "outputId": "b968b2ee-5495-4a62-b075-a1682db9060f"
      },
      "outputs": [
        {
          "name": "stderr",
          "output_type": "stream",
          "text": [
            "Training:   5%|▌         | 5/100 [00:09<02:55,  1.84s/it, train_loss=1.1835, val_loss=1.2896, val_f1=0.5867]"
          ]
        },
        {
          "name": "stdout",
          "output_type": "stream",
          "text": [
            "Epoch: 5/100 |  Val Loss: 1.2896 | Train F1: 0.6166 | Val F1: 0.5867\n"
          ]
        },
        {
          "name": "stderr",
          "output_type": "stream",
          "text": [
            "Training:  10%|█         | 10/100 [00:18<02:44,  1.83s/it, train_loss=1.1024, val_loss=1.2882, val_f1=0.6078]"
          ]
        },
        {
          "name": "stdout",
          "output_type": "stream",
          "text": [
            "Epoch: 10/100 |  Val Loss: 1.2882 | Train F1: 0.6410 | Val F1: 0.6078\n"
          ]
        },
        {
          "name": "stderr",
          "output_type": "stream",
          "text": [
            "Training:  15%|█▌        | 15/100 [00:27<02:36,  1.84s/it, train_loss=0.7455, val_loss=0.7730, val_f1=0.7259]"
          ]
        },
        {
          "name": "stdout",
          "output_type": "stream",
          "text": [
            "Epoch: 15/100 |  Val Loss: 0.7730 | Train F1: 0.7319 | Val F1: 0.7259\n"
          ]
        },
        {
          "name": "stderr",
          "output_type": "stream",
          "text": [
            "Training:  20%|██        | 20/100 [00:36<02:28,  1.86s/it, train_loss=0.7071, val_loss=0.7473, val_f1=0.7368]"
          ]
        },
        {
          "name": "stdout",
          "output_type": "stream",
          "text": [
            "Epoch: 20/100 |  Val Loss: 0.7473 | Train F1: 0.7446 | Val F1: 0.7368\n"
          ]
        },
        {
          "name": "stderr",
          "output_type": "stream",
          "text": [
            "Training:  25%|██▌       | 25/100 [00:46<02:17,  1.83s/it, train_loss=0.6775, val_loss=0.7634, val_f1=0.7381]"
          ]
        },
        {
          "name": "stdout",
          "output_type": "stream",
          "text": [
            "Epoch: 25/100 |  Val Loss: 0.7634 | Train F1: 0.7568 | Val F1: 0.7381\n"
          ]
        },
        {
          "name": "stderr",
          "output_type": "stream",
          "text": [
            "Training:  30%|███       | 30/100 [00:55<02:08,  1.83s/it, train_loss=0.5112, val_loss=0.6482, val_f1=0.7760]"
          ]
        },
        {
          "name": "stdout",
          "output_type": "stream",
          "text": [
            "Epoch: 30/100 |  Val Loss: 0.6482 | Train F1: 0.8096 | Val F1: 0.7760\n"
          ]
        },
        {
          "name": "stderr",
          "output_type": "stream",
          "text": [
            "Training:  35%|███▌      | 35/100 [01:04<01:58,  1.83s/it, train_loss=0.4812, val_loss=0.6530, val_f1=0.7807]"
          ]
        },
        {
          "name": "stdout",
          "output_type": "stream",
          "text": [
            "Epoch: 35/100 |  Val Loss: 0.6530 | Train F1: 0.8199 | Val F1: 0.7807\n"
          ]
        },
        {
          "name": "stderr",
          "output_type": "stream",
          "text": [
            "Training:  40%|████      | 40/100 [01:13<01:49,  1.83s/it, train_loss=0.4266, val_loss=0.6204, val_f1=0.7905]"
          ]
        },
        {
          "name": "stdout",
          "output_type": "stream",
          "text": [
            "Epoch: 40/100 |  Val Loss: 0.6204 | Train F1: 0.8408 | Val F1: 0.7905\n"
          ]
        },
        {
          "name": "stderr",
          "output_type": "stream",
          "text": [
            "Training:  45%|████▌     | 45/100 [01:22<01:40,  1.83s/it, train_loss=0.4001, val_loss=0.6306, val_f1=0.7962]"
          ]
        },
        {
          "name": "stdout",
          "output_type": "stream",
          "text": [
            "Epoch: 45/100 |  Val Loss: 0.6306 | Train F1: 0.8509 | Val F1: 0.7962\n"
          ]
        },
        {
          "name": "stderr",
          "output_type": "stream",
          "text": [
            "Training:  50%|█████     | 50/100 [01:31<01:31,  1.83s/it, train_loss=0.3837, val_loss=0.6285, val_f1=0.7933]"
          ]
        },
        {
          "name": "stdout",
          "output_type": "stream",
          "text": [
            "Epoch: 50/100 |  Val Loss: 0.6285 | Train F1: 0.8592 | Val F1: 0.7933\n"
          ]
        },
        {
          "name": "stderr",
          "output_type": "stream",
          "text": [
            "Training:  55%|█████▌    | 55/100 [01:40<01:21,  1.82s/it, train_loss=0.3596, val_loss=0.6251, val_f1=0.7943]"
          ]
        },
        {
          "name": "stdout",
          "output_type": "stream",
          "text": [
            "Epoch: 55/100 |  Val Loss: 0.6251 | Train F1: 0.8669 | Val F1: 0.7943\n"
          ]
        },
        {
          "name": "stderr",
          "output_type": "stream",
          "text": [
            "Training:  60%|██████    | 60/100 [01:49<01:12,  1.82s/it, train_loss=0.3553, val_loss=0.6331, val_f1=0.7950]"
          ]
        },
        {
          "name": "stdout",
          "output_type": "stream",
          "text": [
            "Epoch: 60/100 |  Val Loss: 0.6331 | Train F1: 0.8660 | Val F1: 0.7950\n"
          ]
        },
        {
          "name": "stderr",
          "output_type": "stream",
          "text": [
            "Training:  64%|██████▍   | 64/100 [01:59<01:06,  1.86s/it, train_loss=0.3466, val_loss=0.6304, val_f1=0.7933]"
          ]
        },
        {
          "name": "stdout",
          "output_type": "stream",
          "text": [
            "\n",
            "Early stopping at epoch 65\n"
          ]
        },
        {
          "name": "stderr",
          "output_type": "stream",
          "text": [
            "\n"
          ]
        },
        {
          "data": {
            "application/vnd.plotly.v1+json": {
              "config": {
                "plotlyServerURL": "https://plot.ly"
              },
              "data": [
                {
                  "line": {
                    "color": "#00aa88"
                  },
                  "mode": "lines+markers",
                  "name": "Train F1",
                  "type": "scatter",
                  "y": [
                    0.5013869789299613,
                    0.5808646321737441,
                    0.6038241055141607,
                    0.6093365346467158,
                    0.6166328044089819,
                    0.6185417657113521,
                    0.6276264464559853,
                    0.6266007909293426,
                    0.6324091220664927,
                    0.6409619080243694,
                    0.6416903360971382,
                    0.6484825968462224,
                    0.6539567946918557,
                    0.7156606403958161,
                    0.731930109260412,
                    0.7348394479365464,
                    0.7364721491375582,
                    0.738528582435696,
                    0.742488454930425,
                    0.7446227167452871,
                    0.7457728946488468,
                    0.7439379380152731,
                    0.7534332419037018,
                    0.7516876655709938,
                    0.7567784484708651,
                    0.7624753470060327,
                    0.7915435524647494,
                    0.8020346737938426,
                    0.8070983194809476,
                    0.8095856717821839,
                    0.8112826222914843,
                    0.8152218057276187,
                    0.8161542447600366,
                    0.8161373663652328,
                    0.8199297743216838,
                    0.8222959987251466,
                    0.8261253028785984,
                    0.8275390902166324,
                    0.8254861618296025,
                    0.8407721425938152,
                    0.8456489234999447,
                    0.847314642223734,
                    0.8493274808383944,
                    0.8495517592042917,
                    0.8508945526124004,
                    0.854134827009294,
                    0.8512998292777599,
                    0.8539943251768272,
                    0.8564118284337151,
                    0.8592219794514262,
                    0.8557950555931008,
                    0.8589905972557909,
                    0.8624110551997018,
                    0.863697305538868,
                    0.8668591711624462,
                    0.8633077444719675,
                    0.8634493776676353,
                    0.864289436093532,
                    0.8648104687241127,
                    0.8659805487187803,
                    0.86898067258267,
                    0.8677437181082287,
                    0.8651892708517955,
                    0.8676240445012877,
                    0.8699657315463902
                  ]
                },
                {
                  "line": {
                    "color": "#fbb725"
                  },
                  "mode": "lines+markers",
                  "name": "Val F1",
                  "type": "scatter",
                  "y": [
                    0.5547209222874728,
                    0.6315538098568524,
                    0.5762126417953243,
                    0.6364314745806239,
                    0.5866638453563711,
                    0.588912543241193,
                    0.6202659316007102,
                    0.63580080062545,
                    0.5025983398377898,
                    0.6077633141611012,
                    0.5805738112333717,
                    0.6403288887215529,
                    0.6590117456554571,
                    0.7266193880544857,
                    0.7259437845448703,
                    0.7177183258715829,
                    0.7157140930797647,
                    0.7379120546437538,
                    0.7311066611138185,
                    0.7368093808068146,
                    0.7288737997004524,
                    0.7104080617983634,
                    0.7259355542503141,
                    0.7527527566547814,
                    0.7380906032300751,
                    0.7391767419475109,
                    0.7723231089730109,
                    0.7799017901329688,
                    0.7698668704233846,
                    0.7759659674961802,
                    0.7731347635367326,
                    0.7723316832558111,
                    0.7818384342037558,
                    0.7785792638058978,
                    0.7807167903284158,
                    0.7754655114479961,
                    0.7847850931349309,
                    0.784384106531593,
                    0.7807806598073451,
                    0.7905233634596704,
                    0.7940623925111718,
                    0.7900068917550757,
                    0.7910739736439629,
                    0.793714567701575,
                    0.7961647669292072,
                    0.7898986594115397,
                    0.7929958137431453,
                    0.791886942836254,
                    0.7939475600028969,
                    0.7932964644396965,
                    0.7964856601714089,
                    0.7948390794342876,
                    0.7928689992987065,
                    0.7943722343930752,
                    0.7943079349497503,
                    0.7972127278316979,
                    0.7983228341111781,
                    0.7939192028732939,
                    0.7965321556194145,
                    0.7949875098991759,
                    0.795458936832913,
                    0.7951934866222907,
                    0.7950341890784834,
                    0.7977147078394675,
                    0.7932839618103205
                  ]
                }
              ],
              "layout": {
                "legend": {
                  "orientation": "h",
                  "x": 1,
                  "xanchor": "right",
                  "y": 1.02,
                  "yanchor": "bottom"
                },
                "plot_bgcolor": "white",
                "template": {
                  "data": {
                    "bar": [
                      {
                        "error_x": {
                          "color": "#2a3f5f"
                        },
                        "error_y": {
                          "color": "#2a3f5f"
                        },
                        "marker": {
                          "line": {
                            "color": "#E5ECF6",
                            "width": 0.5
                          },
                          "pattern": {
                            "fillmode": "overlay",
                            "size": 10,
                            "solidity": 0.2
                          }
                        },
                        "type": "bar"
                      }
                    ],
                    "barpolar": [
                      {
                        "marker": {
                          "line": {
                            "color": "#E5ECF6",
                            "width": 0.5
                          },
                          "pattern": {
                            "fillmode": "overlay",
                            "size": 10,
                            "solidity": 0.2
                          }
                        },
                        "type": "barpolar"
                      }
                    ],
                    "carpet": [
                      {
                        "aaxis": {
                          "endlinecolor": "#2a3f5f",
                          "gridcolor": "white",
                          "linecolor": "white",
                          "minorgridcolor": "white",
                          "startlinecolor": "#2a3f5f"
                        },
                        "baxis": {
                          "endlinecolor": "#2a3f5f",
                          "gridcolor": "white",
                          "linecolor": "white",
                          "minorgridcolor": "white",
                          "startlinecolor": "#2a3f5f"
                        },
                        "type": "carpet"
                      }
                    ],
                    "choropleth": [
                      {
                        "colorbar": {
                          "outlinewidth": 0,
                          "ticks": ""
                        },
                        "type": "choropleth"
                      }
                    ],
                    "contour": [
                      {
                        "colorbar": {
                          "outlinewidth": 0,
                          "ticks": ""
                        },
                        "colorscale": [
                          [
                            0,
                            "#0d0887"
                          ],
                          [
                            0.1111111111111111,
                            "#46039f"
                          ],
                          [
                            0.2222222222222222,
                            "#7201a8"
                          ],
                          [
                            0.3333333333333333,
                            "#9c179e"
                          ],
                          [
                            0.4444444444444444,
                            "#bd3786"
                          ],
                          [
                            0.5555555555555556,
                            "#d8576b"
                          ],
                          [
                            0.6666666666666666,
                            "#ed7953"
                          ],
                          [
                            0.7777777777777778,
                            "#fb9f3a"
                          ],
                          [
                            0.8888888888888888,
                            "#fdca26"
                          ],
                          [
                            1,
                            "#f0f921"
                          ]
                        ],
                        "type": "contour"
                      }
                    ],
                    "contourcarpet": [
                      {
                        "colorbar": {
                          "outlinewidth": 0,
                          "ticks": ""
                        },
                        "type": "contourcarpet"
                      }
                    ],
                    "heatmap": [
                      {
                        "colorbar": {
                          "outlinewidth": 0,
                          "ticks": ""
                        },
                        "colorscale": [
                          [
                            0,
                            "#0d0887"
                          ],
                          [
                            0.1111111111111111,
                            "#46039f"
                          ],
                          [
                            0.2222222222222222,
                            "#7201a8"
                          ],
                          [
                            0.3333333333333333,
                            "#9c179e"
                          ],
                          [
                            0.4444444444444444,
                            "#bd3786"
                          ],
                          [
                            0.5555555555555556,
                            "#d8576b"
                          ],
                          [
                            0.6666666666666666,
                            "#ed7953"
                          ],
                          [
                            0.7777777777777778,
                            "#fb9f3a"
                          ],
                          [
                            0.8888888888888888,
                            "#fdca26"
                          ],
                          [
                            1,
                            "#f0f921"
                          ]
                        ],
                        "type": "heatmap"
                      }
                    ],
                    "heatmapgl": [
                      {
                        "colorbar": {
                          "outlinewidth": 0,
                          "ticks": ""
                        },
                        "colorscale": [
                          [
                            0,
                            "#0d0887"
                          ],
                          [
                            0.1111111111111111,
                            "#46039f"
                          ],
                          [
                            0.2222222222222222,
                            "#7201a8"
                          ],
                          [
                            0.3333333333333333,
                            "#9c179e"
                          ],
                          [
                            0.4444444444444444,
                            "#bd3786"
                          ],
                          [
                            0.5555555555555556,
                            "#d8576b"
                          ],
                          [
                            0.6666666666666666,
                            "#ed7953"
                          ],
                          [
                            0.7777777777777778,
                            "#fb9f3a"
                          ],
                          [
                            0.8888888888888888,
                            "#fdca26"
                          ],
                          [
                            1,
                            "#f0f921"
                          ]
                        ],
                        "type": "heatmapgl"
                      }
                    ],
                    "histogram": [
                      {
                        "marker": {
                          "pattern": {
                            "fillmode": "overlay",
                            "size": 10,
                            "solidity": 0.2
                          }
                        },
                        "type": "histogram"
                      }
                    ],
                    "histogram2d": [
                      {
                        "colorbar": {
                          "outlinewidth": 0,
                          "ticks": ""
                        },
                        "colorscale": [
                          [
                            0,
                            "#0d0887"
                          ],
                          [
                            0.1111111111111111,
                            "#46039f"
                          ],
                          [
                            0.2222222222222222,
                            "#7201a8"
                          ],
                          [
                            0.3333333333333333,
                            "#9c179e"
                          ],
                          [
                            0.4444444444444444,
                            "#bd3786"
                          ],
                          [
                            0.5555555555555556,
                            "#d8576b"
                          ],
                          [
                            0.6666666666666666,
                            "#ed7953"
                          ],
                          [
                            0.7777777777777778,
                            "#fb9f3a"
                          ],
                          [
                            0.8888888888888888,
                            "#fdca26"
                          ],
                          [
                            1,
                            "#f0f921"
                          ]
                        ],
                        "type": "histogram2d"
                      }
                    ],
                    "histogram2dcontour": [
                      {
                        "colorbar": {
                          "outlinewidth": 0,
                          "ticks": ""
                        },
                        "colorscale": [
                          [
                            0,
                            "#0d0887"
                          ],
                          [
                            0.1111111111111111,
                            "#46039f"
                          ],
                          [
                            0.2222222222222222,
                            "#7201a8"
                          ],
                          [
                            0.3333333333333333,
                            "#9c179e"
                          ],
                          [
                            0.4444444444444444,
                            "#bd3786"
                          ],
                          [
                            0.5555555555555556,
                            "#d8576b"
                          ],
                          [
                            0.6666666666666666,
                            "#ed7953"
                          ],
                          [
                            0.7777777777777778,
                            "#fb9f3a"
                          ],
                          [
                            0.8888888888888888,
                            "#fdca26"
                          ],
                          [
                            1,
                            "#f0f921"
                          ]
                        ],
                        "type": "histogram2dcontour"
                      }
                    ],
                    "mesh3d": [
                      {
                        "colorbar": {
                          "outlinewidth": 0,
                          "ticks": ""
                        },
                        "type": "mesh3d"
                      }
                    ],
                    "parcoords": [
                      {
                        "line": {
                          "colorbar": {
                            "outlinewidth": 0,
                            "ticks": ""
                          }
                        },
                        "type": "parcoords"
                      }
                    ],
                    "pie": [
                      {
                        "automargin": true,
                        "type": "pie"
                      }
                    ],
                    "scatter": [
                      {
                        "fillpattern": {
                          "fillmode": "overlay",
                          "size": 10,
                          "solidity": 0.2
                        },
                        "type": "scatter"
                      }
                    ],
                    "scatter3d": [
                      {
                        "line": {
                          "colorbar": {
                            "outlinewidth": 0,
                            "ticks": ""
                          }
                        },
                        "marker": {
                          "colorbar": {
                            "outlinewidth": 0,
                            "ticks": ""
                          }
                        },
                        "type": "scatter3d"
                      }
                    ],
                    "scattercarpet": [
                      {
                        "marker": {
                          "colorbar": {
                            "outlinewidth": 0,
                            "ticks": ""
                          }
                        },
                        "type": "scattercarpet"
                      }
                    ],
                    "scattergeo": [
                      {
                        "marker": {
                          "colorbar": {
                            "outlinewidth": 0,
                            "ticks": ""
                          }
                        },
                        "type": "scattergeo"
                      }
                    ],
                    "scattergl": [
                      {
                        "marker": {
                          "colorbar": {
                            "outlinewidth": 0,
                            "ticks": ""
                          }
                        },
                        "type": "scattergl"
                      }
                    ],
                    "scattermapbox": [
                      {
                        "marker": {
                          "colorbar": {
                            "outlinewidth": 0,
                            "ticks": ""
                          }
                        },
                        "type": "scattermapbox"
                      }
                    ],
                    "scatterpolar": [
                      {
                        "marker": {
                          "colorbar": {
                            "outlinewidth": 0,
                            "ticks": ""
                          }
                        },
                        "type": "scatterpolar"
                      }
                    ],
                    "scatterpolargl": [
                      {
                        "marker": {
                          "colorbar": {
                            "outlinewidth": 0,
                            "ticks": ""
                          }
                        },
                        "type": "scatterpolargl"
                      }
                    ],
                    "scatterternary": [
                      {
                        "marker": {
                          "colorbar": {
                            "outlinewidth": 0,
                            "ticks": ""
                          }
                        },
                        "type": "scatterternary"
                      }
                    ],
                    "surface": [
                      {
                        "colorbar": {
                          "outlinewidth": 0,
                          "ticks": ""
                        },
                        "colorscale": [
                          [
                            0,
                            "#0d0887"
                          ],
                          [
                            0.1111111111111111,
                            "#46039f"
                          ],
                          [
                            0.2222222222222222,
                            "#7201a8"
                          ],
                          [
                            0.3333333333333333,
                            "#9c179e"
                          ],
                          [
                            0.4444444444444444,
                            "#bd3786"
                          ],
                          [
                            0.5555555555555556,
                            "#d8576b"
                          ],
                          [
                            0.6666666666666666,
                            "#ed7953"
                          ],
                          [
                            0.7777777777777778,
                            "#fb9f3a"
                          ],
                          [
                            0.8888888888888888,
                            "#fdca26"
                          ],
                          [
                            1,
                            "#f0f921"
                          ]
                        ],
                        "type": "surface"
                      }
                    ],
                    "table": [
                      {
                        "cells": {
                          "fill": {
                            "color": "#EBF0F8"
                          },
                          "line": {
                            "color": "white"
                          }
                        },
                        "header": {
                          "fill": {
                            "color": "#C8D4E3"
                          },
                          "line": {
                            "color": "white"
                          }
                        },
                        "type": "table"
                      }
                    ]
                  },
                  "layout": {
                    "annotationdefaults": {
                      "arrowcolor": "#2a3f5f",
                      "arrowhead": 0,
                      "arrowwidth": 1
                    },
                    "autotypenumbers": "strict",
                    "coloraxis": {
                      "colorbar": {
                        "outlinewidth": 0,
                        "ticks": ""
                      }
                    },
                    "colorscale": {
                      "diverging": [
                        [
                          0,
                          "#8e0152"
                        ],
                        [
                          0.1,
                          "#c51b7d"
                        ],
                        [
                          0.2,
                          "#de77ae"
                        ],
                        [
                          0.3,
                          "#f1b6da"
                        ],
                        [
                          0.4,
                          "#fde0ef"
                        ],
                        [
                          0.5,
                          "#f7f7f7"
                        ],
                        [
                          0.6,
                          "#e6f5d0"
                        ],
                        [
                          0.7,
                          "#b8e186"
                        ],
                        [
                          0.8,
                          "#7fbc41"
                        ],
                        [
                          0.9,
                          "#4d9221"
                        ],
                        [
                          1,
                          "#276419"
                        ]
                      ],
                      "sequential": [
                        [
                          0,
                          "#0d0887"
                        ],
                        [
                          0.1111111111111111,
                          "#46039f"
                        ],
                        [
                          0.2222222222222222,
                          "#7201a8"
                        ],
                        [
                          0.3333333333333333,
                          "#9c179e"
                        ],
                        [
                          0.4444444444444444,
                          "#bd3786"
                        ],
                        [
                          0.5555555555555556,
                          "#d8576b"
                        ],
                        [
                          0.6666666666666666,
                          "#ed7953"
                        ],
                        [
                          0.7777777777777778,
                          "#fb9f3a"
                        ],
                        [
                          0.8888888888888888,
                          "#fdca26"
                        ],
                        [
                          1,
                          "#f0f921"
                        ]
                      ],
                      "sequentialminus": [
                        [
                          0,
                          "#0d0887"
                        ],
                        [
                          0.1111111111111111,
                          "#46039f"
                        ],
                        [
                          0.2222222222222222,
                          "#7201a8"
                        ],
                        [
                          0.3333333333333333,
                          "#9c179e"
                        ],
                        [
                          0.4444444444444444,
                          "#bd3786"
                        ],
                        [
                          0.5555555555555556,
                          "#d8576b"
                        ],
                        [
                          0.6666666666666666,
                          "#ed7953"
                        ],
                        [
                          0.7777777777777778,
                          "#fb9f3a"
                        ],
                        [
                          0.8888888888888888,
                          "#fdca26"
                        ],
                        [
                          1,
                          "#f0f921"
                        ]
                      ]
                    },
                    "colorway": [
                      "#636efa",
                      "#EF553B",
                      "#00cc96",
                      "#ab63fa",
                      "#FFA15A",
                      "#19d3f3",
                      "#FF6692",
                      "#B6E880",
                      "#FF97FF",
                      "#FECB52"
                    ],
                    "font": {
                      "color": "#2a3f5f"
                    },
                    "geo": {
                      "bgcolor": "white",
                      "lakecolor": "white",
                      "landcolor": "#E5ECF6",
                      "showlakes": true,
                      "showland": true,
                      "subunitcolor": "white"
                    },
                    "hoverlabel": {
                      "align": "left"
                    },
                    "hovermode": "closest",
                    "mapbox": {
                      "style": "light"
                    },
                    "paper_bgcolor": "white",
                    "plot_bgcolor": "#E5ECF6",
                    "polar": {
                      "angularaxis": {
                        "gridcolor": "white",
                        "linecolor": "white",
                        "ticks": ""
                      },
                      "bgcolor": "#E5ECF6",
                      "radialaxis": {
                        "gridcolor": "white",
                        "linecolor": "white",
                        "ticks": ""
                      }
                    },
                    "scene": {
                      "xaxis": {
                        "backgroundcolor": "#E5ECF6",
                        "gridcolor": "white",
                        "gridwidth": 2,
                        "linecolor": "white",
                        "showbackground": true,
                        "ticks": "",
                        "zerolinecolor": "white"
                      },
                      "yaxis": {
                        "backgroundcolor": "#E5ECF6",
                        "gridcolor": "white",
                        "gridwidth": 2,
                        "linecolor": "white",
                        "showbackground": true,
                        "ticks": "",
                        "zerolinecolor": "white"
                      },
                      "zaxis": {
                        "backgroundcolor": "#E5ECF6",
                        "gridcolor": "white",
                        "gridwidth": 2,
                        "linecolor": "white",
                        "showbackground": true,
                        "ticks": "",
                        "zerolinecolor": "white"
                      }
                    },
                    "shapedefaults": {
                      "line": {
                        "color": "#2a3f5f"
                      }
                    },
                    "ternary": {
                      "aaxis": {
                        "gridcolor": "white",
                        "linecolor": "white",
                        "ticks": ""
                      },
                      "baxis": {
                        "gridcolor": "white",
                        "linecolor": "white",
                        "ticks": ""
                      },
                      "bgcolor": "#E5ECF6",
                      "caxis": {
                        "gridcolor": "white",
                        "linecolor": "white",
                        "ticks": ""
                      }
                    },
                    "title": {
                      "x": 0.05
                    },
                    "xaxis": {
                      "automargin": true,
                      "gridcolor": "white",
                      "linecolor": "white",
                      "ticks": "",
                      "title": {
                        "standoff": 15
                      },
                      "zerolinecolor": "white",
                      "zerolinewidth": 2
                    },
                    "yaxis": {
                      "automargin": true,
                      "gridcolor": "white",
                      "linecolor": "white",
                      "ticks": "",
                      "title": {
                        "standoff": 15
                      },
                      "zerolinecolor": "white",
                      "zerolinewidth": 2
                    }
                  }
                },
                "xaxis": {
                  "gridcolor": "lightgray",
                  "showgrid": true,
                  "title": {
                    "text": "Epoch"
                  }
                },
                "yaxis": {
                  "gridcolor": "lightgray",
                  "showgrid": true,
                  "title": {
                    "text": "F1 Score"
                  }
                }
              }
            }
          },
          "metadata": {},
          "output_type": "display_data"
        },
        {
          "name": "stdout",
          "output_type": "stream",
          "text": [
            "\n",
            "Final Test Metrics:\n",
            "Test Loss: 0.6159 | Test F1: 0.7971\n",
            "\n",
            "Classification report on test\n",
            "              precision    recall  f1-score   support\n",
            "\n",
            "           R       1.00      0.25      0.40         8\n",
            "           c       0.71      0.59      0.64       230\n",
            " c-plus-plus       0.76      0.85      0.81       537\n",
            "     c-sharp       0.77      0.73      0.75       199\n",
            "        dart       0.63      0.48      0.55        50\n",
            "     f-sharp       0.70      0.70      0.70        10\n",
            "          go       0.82      0.82      0.82        94\n",
            "        java       0.77      0.61      0.68       214\n",
            "  javascript       0.73      0.73      0.73       129\n",
            "       julia       0.94      0.76      0.84        45\n",
            "         php       0.87      0.87      0.87        15\n",
            "      python       0.94      0.96      0.95       663\n",
            "        ruby       0.46      0.80      0.58        64\n",
            "       scala       0.83      0.83      0.83         6\n",
            "       swift       0.83      0.56      0.67        18\n",
            "\n",
            "    accuracy                           0.80      2282\n",
            "   macro avg       0.78      0.70      0.72      2282\n",
            "weighted avg       0.80      0.80      0.80      2282\n",
            "\n"
          ]
        }
      ],
      "source": [
        "model = train_model(train_loader, val_loader, test_loader, model, criterion, optimizer, scheduler, epochs=100, log_every=5, early_stopping_patience=8)"
      ]
    },
    {
      "cell_type": "code",
      "execution_count": 82,
      "id": "bpEppBjcGPme",
      "metadata": {
        "id": "bpEppBjcGPme"
      },
      "outputs": [],
      "source": [
        "def predict_single(model,embedder,code_snippet,device=None,show_time=False):\n",
        "    start_time = time.time() if show_time else None\n",
        "\n",
        "    if device is None:\n",
        "        device = torch.device('cuda' if torch.cuda.is_available() else 'cpu')\n",
        "\n",
        "    embedding = embedder.transform([code_snippet])[0]\n",
        "\n",
        "    input_tensor = torch.tensor(embedding, dtype=torch.float32).unsqueeze(0).to(device)\n",
        "\n",
        "    model.eval()\n",
        "    with torch.no_grad():\n",
        "        outputs = model(input_tensor)\n",
        "        probs = torch.softmax(outputs, dim=1)\n",
        "        _, pred_class = torch.max(outputs, 1)\n",
        "\n",
        "    if show_time:\n",
        "        infer_time = time.time() - start_time\n",
        "        print(f\"Inference time: {infer_time}\")\n",
        "\n",
        "    return pred_class.item()"
      ]
    },
    {
      "cell_type": "code",
      "execution_count": 83,
      "id": "gnVaVCqQGheC",
      "metadata": {
        "colab": {
          "base_uri": "https://localhost:8080/"
        },
        "id": "gnVaVCqQGheC",
        "outputId": "c49f39e7-e086-43ce-8349-e724d8faf502"
      },
      "outputs": [
        {
          "name": "stdout",
          "output_type": "stream",
          "text": [
            "Inference time: 0.004998922348022461\n",
            "Predicted class: python\n"
          ]
        }
      ],
      "source": [
        "new_code = \"\"\"\n",
        "def fibonacci(n):\n",
        "    a, b = 0, 1\n",
        "    for _ in range(n):\n",
        "        yield a\n",
        "        a, b = b, a + b\n",
        "\"\"\"\n",
        "\n",
        "pred_class = predict_single(\n",
        "    model=model,\n",
        "    embedder=embedder,\n",
        "    code_snippet=new_code,\n",
        "    show_time=True\n",
        ")\n",
        "\n",
        "print(f\"Predicted class: {label_to_language[pred_class]}\")"
      ]
    },
    {
      "cell_type": "code",
      "execution_count": null,
      "id": "7053c4b2",
      "metadata": {
        "id": "7053c4b2"
      },
      "outputs": [],
      "source": [
        "def full_pipeline(embedder, N_1, N_2, N_3, lr, weight_decay, step_size, gamma):\n",
        "    texts = train_df['code']\n",
        "    train_embeddings = embedder.fit_transform(texts)\n",
        "    val_embeddings = embedder.transform(val_df['code'])\n",
        "    test_embeddings = embedder.transform(test_df['code'])\n",
        "\n",
        "    device = torch.device('cuda' if torch.cuda.is_available() else 'cpu')\n",
        "    batch_size = 128\n",
        "\n",
        "    train_dataset = TensorDataset(torch.tensor(train_embeddings, dtype=torch.float32), torch.tensor(train_df['label'].to_numpy(), dtype=torch.long))\n",
        "    val_dataset = TensorDataset(torch.tensor(val_embeddings, dtype=torch.float32), torch.tensor(val_df['label'].to_numpy(), dtype=torch.long))\n",
        "    test_dataset = TensorDataset(torch.tensor(test_embeddings, dtype=torch.float32), torch.tensor(test_df['label'].to_numpy(), dtype=torch.long))\n",
        "\n",
        "    train_loader = DataLoader(train_dataset, batch_size=batch_size, shuffle=True)\n",
        "    val_loader = DataLoader(val_dataset, batch_size=batch_size, shuffle=False)\n",
        "    test_loader = DataLoader(test_dataset, batch_size=batch_size, shuffle=False)\n",
        "\n",
        "    input_dim = len(train_embeddings[0])\n",
        "    output_dim = len(lang_counts)\n",
        "\n",
        "    model = CodeLanguageClassifier(input_dim, N_1, N_2, N_3, output_dim)\n",
        "    criterion = nn.CrossEntropyLoss()\n",
        "    optimizer = optim.AdamW(model.parameters(), lr=lr, weight_decay=weight_decay)\n",
        "    # scheduler = torch.optim.lr_scheduler.CosineAnnealingLR(\n",
        "    #     optimizer,\n",
        "    #     T_max = 100\n",
        "    # )\n",
        "\n",
        "    scheduler = torch.optim.lr_scheduler.StepLR(\n",
        "        optimizer,\n",
        "        step_size=step_size,\n",
        "        gamma=gamma\n",
        "    )\n",
        "\n",
        "    model = train_model(train_loader, val_loader, test_loader, model, criterion, optimizer, scheduler, epochs=100, log_every=5, early_stopping_patience=8, draw_met=False, draw_tqdm=False)\n",
        "\n",
        "    model.eval()\n",
        "    all_test_preds = []\n",
        "    all_test_labels = []\n",
        "\n",
        "    with torch.no_grad():\n",
        "        for inputs, labels in test_loader:  # Или test_loader, если он доступен\n",
        "            inputs, labels = inputs.to(device), labels.to(device)\n",
        "            outputs = model(inputs)\n",
        "\n",
        "            _, preds = torch.max(outputs, 1)\n",
        "            all_test_preds.extend(preds.cpu().numpy())\n",
        "            all_test_labels.extend(labels.cpu().numpy())\n",
        "\n",
        "    test_f1 = f1_score(all_test_labels, all_test_preds, average='weighted')\n",
        "\n",
        "    return test_f1"
      ]
    },
    {
      "cell_type": "code",
      "execution_count": null,
      "id": "683c42d7",
      "metadata": {
        "id": "683c42d7"
      },
      "outputs": [],
      "source": [
        "def objective(trial):\n",
        "    embedder = TextGraphNode2VecEmbedder(\n",
        "        use_log1p=trial.suggest_categorical('use_log1p', [True, False]),\n",
        "        embedding_dim=trial.suggest_categorical('embedding_dim', [64, 128, 256]),\n",
        "        variance_threshold=trial.suggest_float('variance_threshold', 0.00001, 0.0005, log=True),\n",
        "        similarity_percentile=trial.suggest_int('similarity_percentile', 5, 35),\n",
        "        min_sim_threshold=trial.suggest_float('min_sim_threshold', 0.01, 0.1),\n",
        "        use_preprocessing=True,\n",
        "        augment_code=False,\n",
        "        edge_dropout=trial.suggest_float('edge_dropout', 0.0, 0.1),\n",
        "        random_edges=trial.suggest_float('random_edges', 0.0, 0.1),\n",
        "        verbose=False,\n",
        "        draw_graph=False,\n",
        "        walk_length=trial.suggest_int('walk_length', 20, 100),\n",
        "        num_walks=trial.suggest_int('num_walks', 50, 150),\n",
        "        p=trial.suggest_float('p', 0.5, 2.0),\n",
        "        q=trial.suggest_float('q', 0.5, 2.0),\n",
        "        workers=12,\n",
        "    )\n",
        "\n",
        "    N_1 = trial.suggest_int(\"N_1\", 128, 512)\n",
        "    N_2 = trial.suggest_int(\"N_2\", 64, 256)\n",
        "    N_3 = trial.suggest_int(\"N_3\", 32, 128)\n",
        "\n",
        "    lr = trial.suggest_float(\"lr\", 1e-4, 5e-3, log=True)\n",
        "    weight_decay = trial.suggest_float(\"weight_decay\", 0.0, 1e-2)\n",
        "    step_size = trial.suggest_int(\"step_size\", 5, 20)\n",
        "    gamma = trial.suggest_float(\"gamma\", 0.2, 0.9)\n",
        "\n",
        "    try:\n",
        "        f1 = full_pipeline(embedder, N_1, N_2, N_3, lr, weight_decay, step_size, gamma)\n",
        "        return f1\n",
        "    except RuntimeError as e:\n",
        "        print(f\"[Trial {trial.number}] Skipped: {e}\")\n",
        "        return 0.0"
      ]
    },
    {
      "cell_type": "code",
      "execution_count": null,
      "id": "4a848994",
      "metadata": {
        "colab": {
          "referenced_widgets": [
            "acb7e808eb49487eb6f47af71347881b",
            "360560d2a630415aa98df245e112b4ff",
            "15b526ab137342b393727e74ec5bbd71",
            "bbbd3b3be0034a06b2b2a96271bded09",
            "09ec599b64d443bd8877d8aa6f3bf656",
            "2aa02f0ff34c48b1b863553edcb41279",
            "108b4e8f82c64dc4bf0cac28d45d3bb9",
            "73c09e2657df410e8def64839f9e5e14",
            "43755bbcf8bd4972b4a8cf8325fad24b",
            "497822db47d24d0d9f6737d408346478",
            "b59cd91533284b93873b48b4ade89c20",
            "623ce5b7c29041fcb0aed09c53be3398",
            "cd493b8d224f43d1a1cbe89c3024cb8f",
            "16aaac529d09494faec3789178d27d0e",
            "7b358addcbff4592928f4ea02200f9e4",
            "2c9e1e06903144b683c75010f45ab05f",
            "cf99f73dfe7242f8ae12b4f4e3d5158b",
            "3fa9d867a8ae41ac8affc1b643a4cd43",
            "a73ec83ebfdd44e8ac4236c4407433d4",
            "fef4a8b6aeb34e0391b9a8bfee4b8dd5",
            "8d6497381055416b828d2772ef51f62c",
            "9213d59f75824fa2808e2694137c21c4",
            "c6352548978c41c896492e19198d51b3",
            "790e75242b1d48c6a026e8ced8127ced",
            "1051a5be277b4713b3fa49e5e7be97f1",
            "f20f8de69f2441f2952d54d41e519155",
            "231321e8d8844900b40c87c657c52201",
            "c741a3a4148f4f93afe6b8533847e7ab",
            "d9b0ea56cffa41fbaf0ee7416edf2035",
            "a405b60159504d229fa96a3489114953",
            "f548b6961e4b434db695eb753e12dea6",
            "24d3abbbd0ab4dd7b44cad4420058d38",
            "0a23881fdba44b1b863f71b27a15a728",
            "53346d57dd974eaab781b0682791595f",
            "ab1cc6520ca34f9c890416c022509aa6",
            "21eddcdaf72f48eb839a4c7e1b5a96ba",
            "71cb1fd2692c4e70bd0d928ae6984d6d",
            "249d373c6c39417e90071dc3b3a6c433",
            "0cd424cb42254ab69a42eea74a72eea6",
            "2944b729fbc5413a939ace6485c8353f",
            "a7e5bee41f27416893a687a28b03f928",
            "12347084d85e423b97d68f581f304e45",
            "b92d654d808544348398d5818be5c90d",
            "69e9157e20e74375bbb23187bd4186bf",
            "d3361f65254a40989d84dba26eefcddf",
            "95e8495de88a4cbabfd21f1b1d5fe770",
            "a41a4bde5f634a48b33d357489914ecb",
            "8201b10104094965aff0a9efbd142bae",
            "1fac784177c04c059ae64b0411faedcc",
            "9abbfbdc01da4d2fb6fea28af4501129",
            "625aad2215b64769be2f713898930b6a",
            "4f26a1aecf5c462989439b1447639193",
            "6227b431101c4033a3c1b3dfdfac819d",
            "f613c0ea466d40578017ba25d4361830",
            "6b05f79732b648f0a496a5b86221b797",
            "69ee5d6c7c7b48279273bbdbba714988",
            "b6575b30c28748189f0a968f30a89055",
            "a47d0e6354c8426ea86c02382f9c478d",
            "3981941795e64f9892e5369585d98d96",
            "51fa02003f584993aa8270f08c8c9d9f",
            "1c10292f4fb44ec79d55369ff7660d1f",
            "43df84adba5647978c4a1c5426637ee0",
            "cc1e3b7e9ecc45e88163c269ffa75946",
            "364a978fb1f24e678075d256d4eb2b60",
            "a2d9a67fdb9043d6a7c6f928f6828d03",
            "6f93695ac6504149b341e02e0d3ab9b5",
            "3556dd19148c4bba8f2baeae021f6419",
            "7fdb09bc4c524814aca604cb33baa1dc",
            "52aecdcd4b2145149225e686d42ba2a5",
            "57a98aff0ca9469995822d9cb4a9f3df",
            "0ca1a35c77664b9fbd0a3e76e899f84f",
            "46b289785c9e47e19bee47dab756f6fd",
            "22963936cdf24b21857816609108fa53",
            "54118fbfe87f42ff9ff1a617f38f8479",
            "eac4dbcc18ed40628a0f3ef8c55c6555",
            "a32dcc69b0104419a287bc908260903f",
            "aff24d375a93429a9bfbfb82ba04cfa5",
            "0134c6b4f8ad4d7d92c26ba853c0ebec",
            "da67cabace3f45a8ac2d04fac8deb0b7",
            "98f7ed480aa041ba8331534d7c56676f",
            "4666aaaad666420694013bb65ae12ee1",
            "86fef92554594f7f958e280eb91d5ad1",
            "26156759db3148308c835626eb9ae91e",
            "ad5ff30f5b2641dbacb66925b24f18e1",
            "465c7dd640bd41ab8da84ba767345dd9",
            "a7c9dd1e9121423cbb40a8d34e90f4c9",
            "abb862963f854beea7214575955df111",
            "96a4ccb389754f368a86bdef2074ed42",
            "9ac261c35af34e9d9bf7e32de7e6d21a",
            "84be24b22d2b4adc9eb4ed565dadfc67",
            "c9504b48814c4f63a35f51edda236ab7",
            "9af27c40e8e1410fbf24e2c133390fa1",
            "17034c37d6bb4bac9e6399baf072ad44",
            "f665687c15c0448d9f482fc860e8db10",
            "5473e62746a94f3aa5750b705a856acd",
            "f6980075cdd84202945dace1c2caa5fd",
            "bf9b884e7cb04f499fc872ea9a5f2f4b",
            "aed3fe146aea44b3b05378a2330f7f47",
            "e17e730eab0148c283463b9173c43eba",
            "5c1d88bd293d4222a7b4d306f7245599"
          ]
        },
        "collapsed": true,
        "id": "4a848994",
        "outputId": "9a2990e2-efc6-449c-8c7a-779e1ed6bd04"
      },
      "outputs": [
        {
          "name": "stderr",
          "output_type": "stream",
          "text": [
            "[I 2025-05-22 02:10:59,065] A new study created in memory with name: no-name-0e0de016-2411-4cab-b2c7-3c5201091a81\n"
          ]
        },
        {
          "data": {
            "application/vnd.jupyter.widget-view+json": {
              "model_id": "acb7e808eb49487eb6f47af71347881b",
              "version_major": 2,
              "version_minor": 0
            },
            "text/plain": [
              "Computing transition probabilities:   0%|          | 0/136 [00:00<?, ?it/s]"
            ]
          },
          "metadata": {},
          "output_type": "display_data"
        },
        {
          "name": "stderr",
          "output_type": "stream",
          "text": [
            "[I 2025-05-22 02:12:38,128] Trial 0 finished with value: 0.7148628264184331 and parameters: {'use_log1p': False, 'embedding_dim': 64, 'variance_threshold': 1.8408992080552506e-05, 'similarity_percentile': 6, 'min_sim_threshold': 0.08795585311974417, 'edge_dropout': 0.06011150117432088, 'random_edges': 0.07080725777960455, 'walk_length': 21, 'num_walks': 147, 'p': 1.7486639612006325, 'q': 0.8185086660174142, 'N_1': 198, 'N_2': 99, 'N_3': 61, 'lr': 0.0007790143126276247, 'weight_decay': 0.004319450186421158, 'step_size': 9, 'gamma': 0.6282970263056656}. Best is trial 0 with value: 0.7148628264184331.\n"
          ]
        },
        {
          "name": "stdout",
          "output_type": "stream",
          "text": [
            "\n",
            "Early stopping at epoch 67\n"
          ]
        },
        {
          "data": {
            "application/vnd.jupyter.widget-view+json": {
              "model_id": "360560d2a630415aa98df245e112b4ff",
              "version_major": 2,
              "version_minor": 0
            },
            "text/plain": [
              "Computing transition probabilities:   0%|          | 0/126 [00:00<?, ?it/s]"
            ]
          },
          "metadata": {},
          "output_type": "display_data"
        },
        {
          "name": "stderr",
          "output_type": "stream",
          "text": [
            "[I 2025-05-22 02:14:04,640] Trial 1 finished with value: 0.7180278034926504 and parameters: {'use_log1p': False, 'embedding_dim': 256, 'variance_threshold': 2.1839352923182963e-05, 'similarity_percentile': 20, 'min_sim_threshold': 0.06331731119758383, 'edge_dropout': 0.0046450412719997725, 'random_edges': 0.06075448519014384, 'walk_length': 33, 'num_walks': 56, 'p': 1.92332830588, 'q': 1.948448049611839, 'N_1': 439, 'N_2': 122, 'N_3': 41, 'lr': 0.0014537555576161927, 'weight_decay': 0.004401524937396013, 'step_size': 6, 'gamma': 0.5466238370778891}. Best is trial 1 with value: 0.7180278034926504.\n"
          ]
        },
        {
          "name": "stdout",
          "output_type": "stream",
          "text": [
            "\n",
            "Early stopping at epoch 55\n"
          ]
        },
        {
          "data": {
            "application/vnd.jupyter.widget-view+json": {
              "model_id": "15b526ab137342b393727e74ec5bbd71",
              "version_major": 2,
              "version_minor": 0
            },
            "text/plain": [
              "Computing transition probabilities:   0%|          | 0/101 [00:00<?, ?it/s]"
            ]
          },
          "metadata": {},
          "output_type": "display_data"
        },
        {
          "name": "stderr",
          "output_type": "stream",
          "text": [
            "[I 2025-05-22 02:16:05,712] Trial 2 finished with value: 0.7247171402160336 and parameters: {'use_log1p': False, 'embedding_dim': 128, 'variance_threshold': 7.648565112369947e-05, 'similarity_percentile': 21, 'min_sim_threshold': 0.026636900997297437, 'edge_dropout': 0.09695846277645587, 'random_edges': 0.07751328233611146, 'walk_length': 96, 'num_walks': 140, 'p': 1.3968499682166278, 'q': 1.8828113525346752, 'N_1': 162, 'N_2': 101, 'N_3': 36, 'lr': 0.0003570478920909981, 'weight_decay': 0.0038867728968948203, 'step_size': 9, 'gamma': 0.7801162564063504}. Best is trial 2 with value: 0.7247171402160336.\n"
          ]
        },
        {
          "name": "stdout",
          "output_type": "stream",
          "text": [
            "\n",
            "Early stopping at epoch 79\n"
          ]
        },
        {
          "data": {
            "application/vnd.jupyter.widget-view+json": {
              "model_id": "bbbd3b3be0034a06b2b2a96271bded09",
              "version_major": 2,
              "version_minor": 0
            },
            "text/plain": [
              "Computing transition probabilities:   0%|          | 0/155 [00:00<?, ?it/s]"
            ]
          },
          "metadata": {},
          "output_type": "display_data"
        },
        {
          "name": "stderr",
          "output_type": "stream",
          "text": [
            "[I 2025-05-22 02:17:30,315] Trial 3 finished with value: 0.7374381673193615 and parameters: {'use_log1p': True, 'embedding_dim': 256, 'variance_threshold': 1.3386261584543902e-05, 'similarity_percentile': 35, 'min_sim_threshold': 0.07950202923669918, 'edge_dropout': 0.019871568153417243, 'random_edges': 0.00055221171236024, 'walk_length': 86, 'num_walks': 121, 'p': 1.5935107520614809, 'q': 1.6569055200289187, 'N_1': 156, 'N_2': 133, 'N_3': 43, 'lr': 0.002926758115062129, 'weight_decay': 0.006232981268275579, 'step_size': 10, 'gamma': 0.24449084520021655}. Best is trial 3 with value: 0.7374381673193615.\n"
          ]
        },
        {
          "name": "stdout",
          "output_type": "stream",
          "text": [
            "\n",
            "Early stopping at epoch 49\n"
          ]
        },
        {
          "data": {
            "application/vnd.jupyter.widget-view+json": {
              "model_id": "09ec599b64d443bd8877d8aa6f3bf656",
              "version_major": 2,
              "version_minor": 0
            },
            "text/plain": [
              "Computing transition probabilities:   0%|          | 0/101 [00:00<?, ?it/s]"
            ]
          },
          "metadata": {},
          "output_type": "display_data"
        },
        {
          "name": "stderr",
          "output_type": "stream",
          "text": [
            "[I 2025-05-22 02:17:54,665] Trial 4 finished with value: 0.6280147770861485 and parameters: {'use_log1p': False, 'embedding_dim': 256, 'variance_threshold': 6.342770438858346e-05, 'similarity_percentile': 8, 'min_sim_threshold': 0.07419203085006955, 'edge_dropout': 0.07607850486168975, 'random_edges': 0.05612771975694963, 'walk_length': 82, 'num_walks': 99, 'p': 1.284099244072991, 'q': 1.1413115275378245, 'N_1': 137, 'N_2': 84, 'N_3': 35, 'lr': 0.0012057081573389123, 'weight_decay': 0.0031435598107632666, 'step_size': 13, 'gamma': 0.835296531748265}. Best is trial 3 with value: 0.7374381673193615.\n"
          ]
        },
        {
          "name": "stdout",
          "output_type": "stream",
          "text": [
            "\n",
            "Early stopping at epoch 12\n"
          ]
        },
        {
          "data": {
            "application/vnd.jupyter.widget-view+json": {
              "model_id": "2aa02f0ff34c48b1b863553edcb41279",
              "version_major": 2,
              "version_minor": 0
            },
            "text/plain": [
              "Computing transition probabilities:   0%|          | 0/116 [00:00<?, ?it/s]"
            ]
          },
          "metadata": {},
          "output_type": "display_data"
        },
        {
          "name": "stderr",
          "output_type": "stream",
          "text": [
            "[I 2025-05-22 02:19:22,017] Trial 5 finished with value: 0.6938198006451589 and parameters: {'use_log1p': False, 'embedding_dim': 64, 'variance_threshold': 3.10655485858191e-05, 'similarity_percentile': 9, 'min_sim_threshold': 0.09367278871083158, 'edge_dropout': 0.0808120379564417, 'random_edges': 0.06334037565104235, 'walk_length': 90, 'num_walks': 131, 'p': 0.7798550883290538, 'q': 1.8388384977349665, 'N_1': 335, 'N_2': 219, 'N_3': 118, 'lr': 0.00034695916603302916, 'weight_decay': 0.0011005192452767675, 'step_size': 8, 'gamma': 0.4989754520383794}. Best is trial 3 with value: 0.7374381673193615.\n"
          ]
        },
        {
          "name": "stdout",
          "output_type": "stream",
          "text": [
            "\n",
            "Early stopping at epoch 55\n"
          ]
        },
        {
          "data": {
            "application/vnd.jupyter.widget-view+json": {
              "model_id": "108b4e8f82c64dc4bf0cac28d45d3bb9",
              "version_major": 2,
              "version_minor": 0
            },
            "text/plain": [
              "Computing transition probabilities:   0%|          | 0/127 [00:00<?, ?it/s]"
            ]
          },
          "metadata": {},
          "output_type": "display_data"
        },
        {
          "name": "stderr",
          "output_type": "stream",
          "text": [
            "[I 2025-05-22 02:20:49,168] Trial 6 finished with value: 0.7215843532000655 and parameters: {'use_log1p': False, 'embedding_dim': 128, 'variance_threshold': 2.3842649129817383e-05, 'similarity_percentile': 8, 'min_sim_threshold': 0.04038536542632652, 'edge_dropout': 0.09429097039125192, 'random_edges': 0.03232029320207552, 'walk_length': 62, 'num_walks': 121, 'p': 1.045444403568941, 'q': 1.957673124081441, 'N_1': 498, 'N_2': 112, 'N_3': 80, 'lr': 0.000324476480988986, 'weight_decay': 0.002848404943774676, 'step_size': 5, 'gamma': 0.6266950337859278}. Best is trial 3 with value: 0.7374381673193615.\n"
          ]
        },
        {
          "name": "stdout",
          "output_type": "stream",
          "text": [
            "\n",
            "Early stopping at epoch 55\n"
          ]
        },
        {
          "data": {
            "application/vnd.jupyter.widget-view+json": {
              "model_id": "73c09e2657df410e8def64839f9e5e14",
              "version_major": 2,
              "version_minor": 0
            },
            "text/plain": [
              "Computing transition probabilities:   0%|          | 0/135 [00:00<?, ?it/s]"
            ]
          },
          "metadata": {},
          "output_type": "display_data"
        },
        {
          "name": "stderr",
          "output_type": "stream",
          "text": [
            "C:\\Users\\yarom\\AppData\\Local\\Temp\\ipykernel_17556\\2663798661.py:98: RuntimeWarning:\n",
            "\n",
            "invalid value encountered in log1p\n",
            "\n",
            "[I 2025-05-22 02:21:07,357] Trial 7 finished with value: 2.449395114222183e-05 and parameters: {'use_log1p': True, 'embedding_dim': 128, 'variance_threshold': 1.7626741740706325e-05, 'similarity_percentile': 20, 'min_sim_threshold': 0.09870854086995406, 'edge_dropout': 0.02420552715115004, 'random_edges': 0.06721355474058786, 'walk_length': 81, 'num_walks': 74, 'p': 1.5923245229177894, 'q': 1.05167469907888, 'N_1': 371, 'N_2': 186, 'N_3': 83, 'lr': 0.0001423638128723575, 'weight_decay': 0.00835302495589238, 'step_size': 10, 'gamma': 0.33056295727989793}. Best is trial 3 with value: 0.7374381673193615.\n"
          ]
        },
        {
          "name": "stdout",
          "output_type": "stream",
          "text": [
            "\n",
            "Early stopping at epoch 9\n"
          ]
        },
        {
          "data": {
            "application/vnd.jupyter.widget-view+json": {
              "model_id": "43755bbcf8bd4972b4a8cf8325fad24b",
              "version_major": 2,
              "version_minor": 0
            },
            "text/plain": [
              "Computing transition probabilities:   0%|          | 0/128 [00:00<?, ?it/s]"
            ]
          },
          "metadata": {},
          "output_type": "display_data"
        },
        {
          "name": "stderr",
          "output_type": "stream",
          "text": [
            "[I 2025-05-22 02:22:47,868] Trial 8 finished with value: 0.771950181325296 and parameters: {'use_log1p': False, 'embedding_dim': 64, 'variance_threshold': 2.425546071605744e-05, 'similarity_percentile': 25, 'min_sim_threshold': 0.02569297861044923, 'edge_dropout': 0.0690937738102466, 'random_edges': 0.03867353463005374, 'walk_length': 95, 'num_walks': 63, 'p': 1.0115995265753877, 'q': 0.6702102818608836, 'N_1': 484, 'N_2': 233, 'N_3': 57, 'lr': 0.0013221876538695291, 'weight_decay': 0.008172222002012158, 'step_size': 13, 'gamma': 0.5707554048492045}. Best is trial 8 with value: 0.771950181325296.\n"
          ]
        },
        {
          "name": "stdout",
          "output_type": "stream",
          "text": [
            "\n",
            "Early stopping at epoch 64\n"
          ]
        },
        {
          "data": {
            "application/vnd.jupyter.widget-view+json": {
              "model_id": "497822db47d24d0d9f6737d408346478",
              "version_major": 2,
              "version_minor": 0
            },
            "text/plain": [
              "Computing transition probabilities:   0%|          | 0/107 [00:00<?, ?it/s]"
            ]
          },
          "metadata": {},
          "output_type": "display_data"
        },
        {
          "name": "stderr",
          "output_type": "stream",
          "text": [
            "C:\\Users\\yarom\\AppData\\Local\\Temp\\ipykernel_17556\\2663798661.py:98: RuntimeWarning:\n",
            "\n",
            "invalid value encountered in log1p\n",
            "\n",
            "[I 2025-05-22 02:23:07,187] Trial 9 finished with value: 2.449395114222183e-05 and parameters: {'use_log1p': True, 'embedding_dim': 128, 'variance_threshold': 3.7670505286095635e-05, 'similarity_percentile': 15, 'min_sim_threshold': 0.07533601109832154, 'edge_dropout': 0.08971102599525771, 'random_edges': 0.08870864242651173, 'walk_length': 83, 'num_walks': 114, 'p': 0.6262099474925733, 'q': 0.7424430711419207, 'N_1': 473, 'N_2': 181, 'N_3': 32, 'lr': 0.00014872949647124203, 'weight_decay': 0.006635017691080558, 'step_size': 5, 'gamma': 0.31256563599224907}. Best is trial 8 with value: 0.771950181325296.\n"
          ]
        },
        {
          "name": "stdout",
          "output_type": "stream",
          "text": [
            "\n",
            "Early stopping at epoch 9\n"
          ]
        },
        {
          "data": {
            "application/vnd.jupyter.widget-view+json": {
              "model_id": "b59cd91533284b93873b48b4ade89c20",
              "version_major": 2,
              "version_minor": 0
            },
            "text/plain": [
              "Computing transition probabilities:   0%|          | 0/96 [00:00<?, ?it/s]"
            ]
          },
          "metadata": {},
          "output_type": "display_data"
        },
        {
          "name": "stderr",
          "output_type": "stream",
          "text": [
            "[I 2025-05-22 02:24:03,583] Trial 10 finished with value: 0.7055354092066498 and parameters: {'use_log1p': True, 'embedding_dim': 64, 'variance_threshold': 0.0002818535465134846, 'similarity_percentile': 31, 'min_sim_threshold': 0.011435245221061638, 'edge_dropout': 0.052387777421490506, 'random_edges': 0.03613119964418094, 'walk_length': 54, 'num_walks': 83, 'p': 1.0602413943371638, 'q': 0.5410833231194881, 'N_1': 265, 'N_2': 242, 'N_3': 70, 'lr': 0.004781796419672867, 'weight_decay': 0.009355618760814248, 'step_size': 18, 'gamma': 0.40099826702114166}. Best is trial 8 with value: 0.771950181325296.\n"
          ]
        },
        {
          "name": "stdout",
          "output_type": "stream",
          "text": [
            "\n",
            "Early stopping at epoch 36\n"
          ]
        },
        {
          "data": {
            "application/vnd.jupyter.widget-view+json": {
              "model_id": "623ce5b7c29041fcb0aed09c53be3398",
              "version_major": 2,
              "version_minor": 0
            },
            "text/plain": [
              "Computing transition probabilities:   0%|          | 0/168 [00:00<?, ?it/s]"
            ]
          },
          "metadata": {},
          "output_type": "display_data"
        },
        {
          "name": "stderr",
          "output_type": "stream",
          "text": [
            "C:\\Users\\yarom\\AppData\\Local\\Temp\\ipykernel_17556\\2663798661.py:98: RuntimeWarning:\n",
            "\n",
            "invalid value encountered in log1p\n",
            "\n",
            "[I 2025-05-22 02:24:24,778] Trial 11 finished with value: 2.449395114222183e-05 and parameters: {'use_log1p': True, 'embedding_dim': 256, 'variance_threshold': 1.235113234823365e-05, 'similarity_percentile': 35, 'min_sim_threshold': 0.04281772986820011, 'edge_dropout': 0.03347210834763121, 'random_edges': 0.0053971563728927585, 'walk_length': 100, 'num_walks': 50, 'p': 1.0141989323994745, 'q': 1.5158757753145318, 'N_1': 256, 'N_2': 148, 'N_3': 54, 'lr': 0.0033315037552718928, 'weight_decay': 0.006634064286119826, 'step_size': 14, 'gamma': 0.22428102453122167}. Best is trial 8 with value: 0.771950181325296.\n"
          ]
        },
        {
          "name": "stdout",
          "output_type": "stream",
          "text": [
            "\n",
            "Early stopping at epoch 9\n"
          ]
        },
        {
          "data": {
            "application/vnd.jupyter.widget-view+json": {
              "model_id": "cd493b8d224f43d1a1cbe89c3024cb8f",
              "version_major": 2,
              "version_minor": 0
            },
            "text/plain": [
              "Computing transition probabilities:   0%|          | 0/173 [00:00<?, ?it/s]"
            ]
          },
          "metadata": {},
          "output_type": "display_data"
        },
        {
          "name": "stderr",
          "output_type": "stream",
          "text": [
            "[I 2025-05-22 02:25:12,034] Trial 12 finished with value: 0.6557166796471535 and parameters: {'use_log1p': True, 'embedding_dim': 256, 'variance_threshold': 1.1316764643394993e-05, 'similarity_percentile': 28, 'min_sim_threshold': 0.0476080742258026, 'edge_dropout': 0.03107436211884783, 'random_edges': 0.002984298933809846, 'walk_length': 67, 'num_walks': 101, 'p': 1.496926956522177, 'q': 1.492655321925946, 'N_1': 399, 'N_2': 149, 'N_3': 51, 'lr': 0.002191361227834792, 'weight_decay': 0.006840011181233008, 'step_size': 16, 'gamma': 0.6815115066310107}. Best is trial 8 with value: 0.771950181325296.\n"
          ]
        },
        {
          "name": "stdout",
          "output_type": "stream",
          "text": [
            "\n",
            "Early stopping at epoch 25\n"
          ]
        },
        {
          "data": {
            "application/vnd.jupyter.widget-view+json": {
              "model_id": "16aaac529d09494faec3789178d27d0e",
              "version_major": 2,
              "version_minor": 0
            },
            "text/plain": [
              "Computing transition probabilities:   0%|          | 0/104 [00:00<?, ?it/s]"
            ]
          },
          "metadata": {},
          "output_type": "display_data"
        },
        {
          "name": "stderr",
          "output_type": "stream",
          "text": [
            "C:\\Users\\yarom\\AppData\\Local\\Temp\\ipykernel_17556\\2663798661.py:98: RuntimeWarning:\n",
            "\n",
            "invalid value encountered in log1p\n",
            "\n",
            "[I 2025-05-22 02:25:30,224] Trial 13 finished with value: 2.449395114222183e-05 and parameters: {'use_log1p': True, 'embedding_dim': 64, 'variance_threshold': 6.039037404403274e-05, 'similarity_percentile': 28, 'min_sim_threshold': 0.010532502215736934, 'edge_dropout': 0.002635087081732629, 'random_edges': 0.02268230686373274, 'walk_length': 69, 'num_walks': 74, 'p': 1.7019531338160612, 'q': 1.413437420599407, 'N_1': 247, 'N_2': 208, 'N_3': 98, 'lr': 0.0022499450099113176, 'weight_decay': 0.008139937055778318, 'step_size': 11, 'gamma': 0.5139033149179736}. Best is trial 8 with value: 0.771950181325296.\n"
          ]
        },
        {
          "name": "stdout",
          "output_type": "stream",
          "text": [
            "\n",
            "Early stopping at epoch 9\n"
          ]
        },
        {
          "data": {
            "application/vnd.jupyter.widget-view+json": {
              "model_id": "7b358addcbff4592928f4ea02200f9e4",
              "version_major": 2,
              "version_minor": 0
            },
            "text/plain": [
              "Computing transition probabilities:   0%|          | 0/96 [00:00<?, ?it/s]"
            ]
          },
          "metadata": {},
          "output_type": "display_data"
        },
        {
          "name": "stderr",
          "output_type": "stream",
          "text": [
            "[I 2025-05-22 02:26:35,395] Trial 14 finished with value: 0.7512764117631574 and parameters: {'use_log1p': False, 'embedding_dim': 256, 'variance_threshold': 0.00015615996478814633, 'similarity_percentile': 34, 'min_sim_threshold': 0.02631616762525047, 'edge_dropout': 0.06560438344215366, 'random_edges': 0.01993965435111975, 'walk_length': 77, 'num_walks': 100, 'p': 1.2165852913039517, 'q': 1.669142303467518, 'N_1': 309, 'N_2': 255, 'N_3': 63, 'lr': 0.000797018168468066, 'weight_decay': 0.0058222092811753895, 'step_size': 20, 'gamma': 0.42428386310353994}. Best is trial 8 with value: 0.771950181325296.\n"
          ]
        },
        {
          "name": "stdout",
          "output_type": "stream",
          "text": [
            "\n",
            "Early stopping at epoch 39\n"
          ]
        },
        {
          "data": {
            "application/vnd.jupyter.widget-view+json": {
              "model_id": "2c9e1e06903144b683c75010f45ab05f",
              "version_major": 2,
              "version_minor": 0
            },
            "text/plain": [
              "Computing transition probabilities:   0%|          | 0/97 [00:00<?, ?it/s]"
            ]
          },
          "metadata": {},
          "output_type": "display_data"
        },
        {
          "name": "stderr",
          "output_type": "stream",
          "text": [
            "[I 2025-05-22 02:28:49,916] Trial 15 finished with value: 0.7551263677690055 and parameters: {'use_log1p': False, 'embedding_dim': 64, 'variance_threshold': 0.00020616601185545835, 'similarity_percentile': 25, 'min_sim_threshold': 0.029404784764878938, 'edge_dropout': 0.0660342196618576, 'random_edges': 0.03899471750610508, 'walk_length': 49, 'num_walks': 90, 'p': 0.8621169536520208, 'q': 0.9219982752797572, 'N_1': 312, 'N_2': 251, 'N_3': 69, 'lr': 0.0007988141360317723, 'weight_decay': 0.009831163966501287, 'step_size': 20, 'gamma': 0.4326573517623165}. Best is trial 8 with value: 0.771950181325296.\n"
          ]
        },
        {
          "name": "stdout",
          "output_type": "stream",
          "text": [
            "\n",
            "Early stopping at epoch 90\n"
          ]
        },
        {
          "data": {
            "application/vnd.jupyter.widget-view+json": {
              "model_id": "cf99f73dfe7242f8ae12b4f4e3d5158b",
              "version_major": 2,
              "version_minor": 0
            },
            "text/plain": [
              "Computing transition probabilities:   0%|          | 0/94 [00:00<?, ?it/s]"
            ]
          },
          "metadata": {},
          "output_type": "display_data"
        },
        {
          "name": "stderr",
          "output_type": "stream",
          "text": [
            "[I 2025-05-22 02:30:57,880] Trial 16 finished with value: 0.7325456199370878 and parameters: {'use_log1p': False, 'embedding_dim': 64, 'variance_threshold': 0.0004436873104901397, 'similarity_percentile': 25, 'min_sim_threshold': 0.027625230937399846, 'edge_dropout': 0.04770869527236186, 'random_edges': 0.04445988521282485, 'walk_length': 48, 'num_walks': 63, 'p': 0.804414009707489, 'q': 0.9398210691866424, 'N_1': 412, 'N_2': 222, 'N_3': 95, 'lr': 0.0005598963195965014, 'weight_decay': 0.009920372488824094, 'step_size': 16, 'gamma': 0.4470196498123761}. Best is trial 8 with value: 0.771950181325296.\n"
          ]
        },
        {
          "name": "stdout",
          "output_type": "stream",
          "text": [
            "\n",
            "Early stopping at epoch 86\n"
          ]
        },
        {
          "data": {
            "application/vnd.jupyter.widget-view+json": {
              "model_id": "3fa9d867a8ae41ac8affc1b643a4cd43",
              "version_major": 2,
              "version_minor": 0
            },
            "text/plain": [
              "Computing transition probabilities:   0%|          | 0/99 [00:00<?, ?it/s]"
            ]
          },
          "metadata": {},
          "output_type": "display_data"
        },
        {
          "name": "stderr",
          "output_type": "stream",
          "text": [
            "[I 2025-05-22 02:31:59,031] Trial 17 finished with value: 0.7197909745145216 and parameters: {'use_log1p': False, 'embedding_dim': 64, 'variance_threshold': 0.00012108824161140818, 'similarity_percentile': 16, 'min_sim_threshold': 0.05743577080512454, 'edge_dropout': 0.07162330641997615, 'random_edges': 0.046622377276602976, 'walk_length': 41, 'num_walks': 86, 'p': 0.529786475909294, 'q': 0.5088917385634038, 'N_1': 329, 'N_2': 240, 'N_3': 75, 'lr': 0.0013590979756247462, 'weight_decay': 0.007970130536751842, 'step_size': 20, 'gamma': 0.6947793482022958}. Best is trial 8 with value: 0.771950181325296.\n"
          ]
        },
        {
          "name": "stdout",
          "output_type": "stream",
          "text": [
            "\n",
            "Early stopping at epoch 39\n"
          ]
        },
        {
          "data": {
            "application/vnd.jupyter.widget-view+json": {
              "model_id": "a73ec83ebfdd44e8ac4236c4407433d4",
              "version_major": 2,
              "version_minor": 0
            },
            "text/plain": [
              "Computing transition probabilities:   0%|          | 0/97 [00:00<?, ?it/s]"
            ]
          },
          "metadata": {},
          "output_type": "display_data"
        },
        {
          "name": "stderr",
          "output_type": "stream",
          "text": [
            "[I 2025-05-22 02:33:49,397] Trial 18 finished with value: 0.7033455115184549 and parameters: {'use_log1p': False, 'embedding_dim': 64, 'variance_threshold': 0.00021473084566655143, 'similarity_percentile': 24, 'min_sim_threshold': 0.03369859998459759, 'edge_dropout': 0.04642677339214557, 'random_edges': 0.029166642509274622, 'walk_length': 36, 'num_walks': 71, 'p': 0.8640919717983374, 'q': 0.7122730863120029, 'N_1': 361, 'N_2': 195, 'N_3': 89, 'lr': 0.0005299274209712921, 'weight_decay': 0.009189585863011236, 'step_size': 15, 'gamma': 0.3485577665869018}. Best is trial 8 with value: 0.771950181325296.\n"
          ]
        },
        {
          "name": "stdout",
          "output_type": "stream",
          "text": [
            "\n",
            "Early stopping at epoch 71\n"
          ]
        },
        {
          "data": {
            "application/vnd.jupyter.widget-view+json": {
              "model_id": "fef4a8b6aeb34e0391b9a8bfee4b8dd5",
              "version_major": 2,
              "version_minor": 0
            },
            "text/plain": [
              "Computing transition probabilities:   0%|          | 0/93 [00:00<?, ?it/s]"
            ]
          },
          "metadata": {},
          "output_type": "display_data"
        },
        {
          "name": "stderr",
          "output_type": "stream",
          "text": [
            "[I 2025-05-22 02:35:57,326] Trial 19 finished with value: 0.7689397128831116 and parameters: {'use_log1p': False, 'embedding_dim': 64, 'variance_threshold': 0.0004883837497313047, 'similarity_percentile': 16, 'min_sim_threshold': 0.019152921262934837, 'edge_dropout': 0.08153388462026802, 'random_edges': 0.04252705898524161, 'walk_length': 53, 'num_walks': 88, 'p': 1.2029976301367722, 'q': 1.2571276097894095, 'N_1': 297, 'N_2': 254, 'N_3': 111, 'lr': 0.0010513651326308228, 'weight_decay': 0.00773429103191896, 'step_size': 18, 'gamma': 0.6128550111544565}. Best is trial 8 with value: 0.771950181325296.\n"
          ]
        },
        {
          "name": "stdout",
          "output_type": "stream",
          "text": [
            "\n",
            "Early stopping at epoch 84\n"
          ]
        },
        {
          "data": {
            "application/vnd.jupyter.widget-view+json": {
              "model_id": "8d6497381055416b828d2772ef51f62c",
              "version_major": 2,
              "version_minor": 0
            },
            "text/plain": [
              "Computing transition probabilities:   0%|          | 0/94 [00:00<?, ?it/s]"
            ]
          },
          "metadata": {},
          "output_type": "display_data"
        },
        {
          "name": "stderr",
          "output_type": "stream",
          "text": [
            "[I 2025-05-22 02:38:10,125] Trial 20 finished with value: 0.7880002088509511 and parameters: {'use_log1p': False, 'embedding_dim': 64, 'variance_threshold': 0.00044245496454078606, 'similarity_percentile': 14, 'min_sim_threshold': 0.015376453514903047, 'edge_dropout': 0.08202641457605576, 'random_edges': 0.013116240841328012, 'walk_length': 72, 'num_walks': 68, 'p': 1.1744820628350539, 'q': 1.2952285393967964, 'N_1': 453, 'N_2': 223, 'N_3': 123, 'lr': 0.0011652985230152302, 'weight_decay': 0.007376571444784036, 'step_size': 18, 'gamma': 0.6203143578867735}. Best is trial 20 with value: 0.7880002088509511.\n"
          ]
        },
        {
          "name": "stdout",
          "output_type": "stream",
          "text": [
            "\n",
            "Early stopping at epoch 86\n"
          ]
        },
        {
          "data": {
            "application/vnd.jupyter.widget-view+json": {
              "model_id": "9213d59f75824fa2808e2694137c21c4",
              "version_major": 2,
              "version_minor": 0
            },
            "text/plain": [
              "Computing transition probabilities:   0%|          | 0/94 [00:00<?, ?it/s]"
            ]
          },
          "metadata": {},
          "output_type": "display_data"
        },
        {
          "name": "stderr",
          "output_type": "stream",
          "text": [
            "[I 2025-05-22 02:38:58,323] Trial 21 finished with value: 0.7343890109554186 and parameters: {'use_log1p': False, 'embedding_dim': 64, 'variance_threshold': 0.0004010332162254877, 'similarity_percentile': 13, 'min_sim_threshold': 0.01771925973793675, 'edge_dropout': 0.08183043018089489, 'random_edges': 0.014812885658864582, 'walk_length': 73, 'num_walks': 64, 'p': 1.1942342583332153, 'q': 1.2591977175782842, 'N_1': 505, 'N_2': 230, 'N_3': 117, 'lr': 0.001322379592240749, 'weight_decay': 0.007416753096549353, 'step_size': 18, 'gamma': 0.5943023309507548}. Best is trial 20 with value: 0.7880002088509511.\n"
          ]
        },
        {
          "name": "stdout",
          "output_type": "stream",
          "text": [
            "\n",
            "Early stopping at epoch 29\n"
          ]
        },
        {
          "data": {
            "application/vnd.jupyter.widget-view+json": {
              "model_id": "c6352548978c41c896492e19198d51b3",
              "version_major": 2,
              "version_minor": 0
            },
            "text/plain": [
              "Computing transition probabilities:   0%|          | 0/94 [00:00<?, ?it/s]"
            ]
          },
          "metadata": {},
          "output_type": "display_data"
        },
        {
          "name": "stderr",
          "output_type": "stream",
          "text": [
            "[I 2025-05-22 02:39:50,404] Trial 22 finished with value: 0.7286259152576648 and parameters: {'use_log1p': False, 'embedding_dim': 64, 'variance_threshold': 0.0003833097434312799, 'similarity_percentile': 12, 'min_sim_threshold': 0.01871407984340498, 'edge_dropout': 0.08542040740630383, 'random_edges': 0.015288132308721097, 'walk_length': 59, 'num_walks': 79, 'p': 1.3374107962916437, 'q': 1.2696573471786332, 'N_1': 455, 'N_2': 210, 'N_3': 127, 'lr': 0.0010475712797606393, 'weight_decay': 0.005667705790618774, 'step_size': 18, 'gamma': 0.7472318224588689}. Best is trial 20 with value: 0.7880002088509511.\n"
          ]
        },
        {
          "name": "stdout",
          "output_type": "stream",
          "text": [
            "\n",
            "Early stopping at epoch 32\n"
          ]
        },
        {
          "data": {
            "application/vnd.jupyter.widget-view+json": {
              "model_id": "790e75242b1d48c6a026e8ced8127ced",
              "version_major": 2,
              "version_minor": 0
            },
            "text/plain": [
              "Computing transition probabilities:   0%|          | 0/96 [00:00<?, ?it/s]"
            ]
          },
          "metadata": {},
          "output_type": "display_data"
        },
        {
          "name": "stderr",
          "output_type": "stream",
          "text": [
            "[I 2025-05-22 02:41:29,282] Trial 23 finished with value: 0.7736269489087648 and parameters: {'use_log1p': False, 'embedding_dim': 64, 'variance_threshold': 0.00026329488661533683, 'similarity_percentile': 17, 'min_sim_threshold': 0.019614668117527614, 'edge_dropout': 0.09989716120622515, 'random_edges': 0.04723380380927297, 'walk_length': 63, 'num_walks': 63, 'p': 1.1286267962131304, 'q': 1.3664173132054396, 'N_1': 431, 'N_2': 175, 'N_3': 113, 'lr': 0.0016370131126515542, 'weight_decay': 0.008425242159925028, 'step_size': 17, 'gamma': 0.5821754993625502}. Best is trial 20 with value: 0.7880002088509511.\n"
          ]
        },
        {
          "name": "stdout",
          "output_type": "stream",
          "text": [
            "\n",
            "Early stopping at epoch 64\n"
          ]
        },
        {
          "data": {
            "application/vnd.jupyter.widget-view+json": {
              "model_id": "1051a5be277b4713b3fa49e5e7be97f1",
              "version_major": 2,
              "version_minor": 0
            },
            "text/plain": [
              "Computing transition probabilities:   0%|          | 0/100 [00:00<?, ?it/s]"
            ]
          },
          "metadata": {},
          "output_type": "display_data"
        },
        {
          "name": "stderr",
          "output_type": "stream",
          "text": [
            "[I 2025-05-22 02:42:11,981] Trial 24 finished with value: 0.723789185791516 and parameters: {'use_log1p': False, 'embedding_dim': 64, 'variance_threshold': 0.00010123463721386219, 'similarity_percentile': 18, 'min_sim_threshold': 0.03535261433046656, 'edge_dropout': 0.09777495922601406, 'random_edges': 0.049471556223172314, 'walk_length': 93, 'num_walks': 58, 'p': 0.9727811416514144, 'q': 1.3994718639495103, 'N_1': 423, 'N_2': 171, 'N_3': 106, 'lr': 0.0020610500704720744, 'weight_decay': 0.008572624249815334, 'step_size': 16, 'gamma': 0.8923001425589824}. Best is trial 20 with value: 0.7880002088509511.\n"
          ]
        },
        {
          "name": "stdout",
          "output_type": "stream",
          "text": [
            "\n",
            "Early stopping at epoch 26\n"
          ]
        },
        {
          "data": {
            "application/vnd.jupyter.widget-view+json": {
              "model_id": "f20f8de69f2441f2952d54d41e519155",
              "version_major": 2,
              "version_minor": 0
            },
            "text/plain": [
              "Computing transition probabilities:   0%|          | 0/110 [00:00<?, ?it/s]"
            ]
          },
          "metadata": {},
          "output_type": "display_data"
        },
        {
          "name": "stderr",
          "output_type": "stream",
          "text": [
            "[I 2025-05-22 02:44:43,831] Trial 25 finished with value: 0.77572503827482 and parameters: {'use_log1p': False, 'embedding_dim': 64, 'variance_threshold': 4.107170799266078e-05, 'similarity_percentile': 23, 'min_sim_threshold': 0.020287420497878676, 'edge_dropout': 0.07089259599826937, 'random_edges': 0.054731428549212605, 'walk_length': 63, 'num_walks': 67, 'p': 1.1301385744131456, 'q': 1.15656208095333, 'N_1': 477, 'N_2': 199, 'N_3': 122, 'lr': 0.0018504087963992079, 'weight_decay': 0.008916396598935193, 'step_size': 12, 'gamma': 0.6985256238074123}. Best is trial 20 with value: 0.7880002088509511.\n"
          ]
        },
        {
          "data": {
            "application/vnd.jupyter.widget-view+json": {
              "model_id": "231321e8d8844900b40c87c657c52201",
              "version_major": 2,
              "version_minor": 0
            },
            "text/plain": [
              "Computing transition probabilities:   0%|          | 0/110 [00:00<?, ?it/s]"
            ]
          },
          "metadata": {},
          "output_type": "display_data"
        },
        {
          "name": "stderr",
          "output_type": "stream",
          "text": [
            "[I 2025-05-22 02:46:17,357] Trial 26 finished with value: 0.7609286610465632 and parameters: {'use_log1p': False, 'embedding_dim': 64, 'variance_threshold': 4.519154159948382e-05, 'similarity_percentile': 22, 'min_sim_threshold': 0.017526531727763986, 'edge_dropout': 0.08955849826251612, 'random_edges': 0.08071779025094111, 'walk_length': 62, 'num_walks': 51, 'p': 1.4417567241597637, 'q': 1.1042088781585377, 'N_1': 449, 'N_2': 166, 'N_3': 126, 'lr': 0.0018145071697724699, 'weight_decay': 0.008958254314269587, 'step_size': 12, 'gamma': 0.6934046008159158}. Best is trial 20 with value: 0.7880002088509511.\n"
          ]
        },
        {
          "name": "stdout",
          "output_type": "stream",
          "text": [
            "\n",
            "Early stopping at epoch 61\n"
          ]
        },
        {
          "data": {
            "application/vnd.jupyter.widget-view+json": {
              "model_id": "c741a3a4148f4f93afe6b8533847e7ab",
              "version_major": 2,
              "version_minor": 0
            },
            "text/plain": [
              "Computing transition probabilities:   0%|          | 0/96 [00:00<?, ?it/s]"
            ]
          },
          "metadata": {},
          "output_type": "display_data"
        },
        {
          "name": "stderr",
          "output_type": "stream",
          "text": [
            "[I 2025-05-22 02:47:20,628] Trial 27 finished with value: 0.7183344738688477 and parameters: {'use_log1p': False, 'embedding_dim': 64, 'variance_threshold': 0.00028156592706593645, 'similarity_percentile': 12, 'min_sim_threshold': 0.04696444654218558, 'edge_dropout': 0.09998807247077306, 'random_edges': 0.054497049285876904, 'walk_length': 73, 'num_walks': 72, 'p': 1.1345601390509672, 'q': 1.37340875478344, 'N_1': 391, 'N_2': 199, 'N_3': 105, 'lr': 0.0030614788145289615, 'weight_decay': 0.007371127569878409, 'step_size': 14, 'gamma': 0.7623590731107218}. Best is trial 20 with value: 0.7880002088509511.\n"
          ]
        },
        {
          "name": "stdout",
          "output_type": "stream",
          "text": [
            "\n",
            "Early stopping at epoch 41\n"
          ]
        },
        {
          "data": {
            "application/vnd.jupyter.widget-view+json": {
              "model_id": "d9b0ea56cffa41fbaf0ee7416edf2035",
              "version_major": 2,
              "version_minor": 0
            },
            "text/plain": [
              "Computing transition probabilities:   0%|          | 0/96 [00:00<?, ?it/s]"
            ]
          },
          "metadata": {},
          "output_type": "display_data"
        },
        {
          "name": "stderr",
          "output_type": "stream",
          "text": [
            "[I 2025-05-22 02:47:50,025] Trial 28 finished with value: 0.6155440632712198 and parameters: {'use_log1p': False, 'embedding_dim': 64, 'variance_threshold': 0.00028570519342742423, 'similarity_percentile': 18, 'min_sim_threshold': 0.012763236850787046, 'edge_dropout': 0.05686037951618095, 'random_edges': 0.02676776122344222, 'walk_length': 66, 'num_walks': 66, 'p': 1.1284341985821955, 'q': 1.6558290777549474, 'N_1': 512, 'N_2': 180, 'N_3': 119, 'lr': 0.004810993310074862, 'weight_decay': 0.005472658858444628, 'step_size': 17, 'gamma': 0.6624015774647202}. Best is trial 20 with value: 0.7880002088509511.\n"
          ]
        },
        {
          "name": "stdout",
          "output_type": "stream",
          "text": [
            "\n",
            "Early stopping at epoch 17\n"
          ]
        },
        {
          "data": {
            "application/vnd.jupyter.widget-view+json": {
              "model_id": "a405b60159504d229fa96a3489114953",
              "version_major": 2,
              "version_minor": 0
            },
            "text/plain": [
              "Computing transition probabilities:   0%|          | 0/97 [00:00<?, ?it/s]"
            ]
          },
          "metadata": {},
          "output_type": "display_data"
        },
        {
          "name": "stderr",
          "output_type": "stream",
          "text": [
            "[I 2025-05-22 02:49:44,365] Trial 29 finished with value: 0.7438955397578001 and parameters: {'use_log1p': False, 'embedding_dim': 64, 'variance_threshold': 0.00015305559249264656, 'similarity_percentile': 18, 'min_sim_threshold': 0.03704133439017418, 'edge_dropout': 0.0768682975629779, 'random_edges': 0.0740544766962588, 'walk_length': 58, 'num_walks': 93, 'p': 0.9215155765939558, 'q': 1.1504814723616832, 'N_1': 468, 'N_2': 157, 'N_3': 109, 'lr': 0.0006667949428843452, 'weight_decay': 0.007169552818749947, 'step_size': 12, 'gamma': 0.5051914506490978}. Best is trial 20 with value: 0.7880002088509511.\n"
          ]
        },
        {
          "name": "stdout",
          "output_type": "stream",
          "text": [
            "\n",
            "Early stopping at epoch 72\n"
          ]
        },
        {
          "data": {
            "application/vnd.jupyter.widget-view+json": {
              "model_id": "f548b6961e4b434db695eb753e12dea6",
              "version_major": 2,
              "version_minor": 0
            },
            "text/plain": [
              "Computing transition probabilities:   0%|          | 0/105 [00:00<?, ?it/s]"
            ]
          },
          "metadata": {},
          "output_type": "display_data"
        },
        {
          "name": "stderr",
          "output_type": "stream",
          "text": [
            "[I 2025-05-22 02:50:13,876] Trial 30 finished with value: 0.6010582233177012 and parameters: {'use_log1p': False, 'embedding_dim': 128, 'variance_threshold': 4.795342144907636e-05, 'similarity_percentile': 5, 'min_sim_threshold': 0.058906855298649, 'edge_dropout': 0.059810946364552704, 'random_edges': 0.054861390321557554, 'walk_length': 26, 'num_walks': 78, 'p': 0.6700509706760457, 'q': 0.9874368950433867, 'N_1': 423, 'N_2': 197, 'N_3': 122, 'lr': 0.0017618828335626735, 'weight_decay': 0.008889198322859225, 'step_size': 19, 'gamma': 0.8248928194367416}. Best is trial 20 with value: 0.7880002088509511.\n"
          ]
        },
        {
          "name": "stdout",
          "output_type": "stream",
          "text": [
            "\n",
            "Early stopping at epoch 17\n"
          ]
        },
        {
          "data": {
            "application/vnd.jupyter.widget-view+json": {
              "model_id": "24d3abbbd0ab4dd7b44cad4420058d38",
              "version_major": 2,
              "version_minor": 0
            },
            "text/plain": [
              "Computing transition probabilities:   0%|          | 0/118 [00:00<?, ?it/s]"
            ]
          },
          "metadata": {},
          "output_type": "display_data"
        },
        {
          "name": "stderr",
          "output_type": "stream",
          "text": [
            "[I 2025-05-22 02:52:01,294] Trial 31 finished with value: 0.7627548897024665 and parameters: {'use_log1p': False, 'embedding_dim': 64, 'variance_threshold': 3.181941218555613e-05, 'similarity_percentile': 23, 'min_sim_threshold': 0.019901850110449426, 'edge_dropout': 0.07221494597932726, 'random_edges': 0.036376006644902786, 'walk_length': 75, 'num_walks': 57, 'p': 1.0956619276923216, 'q': 0.8364516205738781, 'N_1': 481, 'N_2': 227, 'N_3': 99, 'lr': 0.0008850965807476995, 'weight_decay': 0.008246584129619074, 'step_size': 14, 'gamma': 0.5612581771723676}. Best is trial 20 with value: 0.7880002088509511.\n"
          ]
        },
        {
          "name": "stdout",
          "output_type": "stream",
          "text": [
            "\n",
            "Early stopping at epoch 69\n"
          ]
        },
        {
          "data": {
            "application/vnd.jupyter.widget-view+json": {
              "model_id": "0a23881fdba44b1b863f71b27a15a728",
              "version_major": 2,
              "version_minor": 0
            },
            "text/plain": [
              "Computing transition probabilities:   0%|          | 0/136 [00:00<?, ?it/s]"
            ]
          },
          "metadata": {},
          "output_type": "display_data"
        },
        {
          "name": "stderr",
          "output_type": "stream",
          "text": [
            "[I 2025-05-22 02:52:38,087] Trial 32 finished with value: 0.7026775141078772 and parameters: {'use_log1p': False, 'embedding_dim': 64, 'variance_threshold': 2.028168820370689e-05, 'similarity_percentile': 28, 'min_sim_threshold': 0.02445994945816926, 'edge_dropout': 0.08954963990847634, 'random_edges': 0.05875258850032092, 'walk_length': 43, 'num_walks': 66, 'p': 1.3147511290638012, 'q': 1.525048393350952, 'N_1': 440, 'N_2': 211, 'N_3': 113, 'lr': 0.0015921412998572031, 'weight_decay': 0.0096299917070719, 'step_size': 13, 'gamma': 0.5807675815044396}. Best is trial 20 with value: 0.7880002088509511.\n"
          ]
        },
        {
          "name": "stdout",
          "output_type": "stream",
          "text": [
            "\n",
            "Early stopping at epoch 22\n"
          ]
        },
        {
          "data": {
            "application/vnd.jupyter.widget-view+json": {
              "model_id": "53346d57dd974eaab781b0682791595f",
              "version_major": 2,
              "version_minor": 0
            },
            "text/plain": [
              "Computing transition probabilities:   0%|          | 0/123 [00:00<?, ?it/s]"
            ]
          },
          "metadata": {},
          "output_type": "display_data"
        },
        {
          "name": "stderr",
          "output_type": "stream",
          "text": [
            "[I 2025-05-22 02:54:28,014] Trial 33 finished with value: 0.7750687434454997 and parameters: {'use_log1p': False, 'embedding_dim': 64, 'variance_threshold': 2.5666863490800514e-05, 'similarity_percentile': 26, 'min_sim_threshold': 0.03217346617457688, 'edge_dropout': 0.06676871751287505, 'random_edges': 0.06648730533457378, 'walk_length': 87, 'num_walks': 58, 'p': 0.9819232140093964, 'q': 0.6061714928015776, 'N_1': 477, 'N_2': 239, 'N_3': 128, 'lr': 0.0024768830158554286, 'weight_decay': 0.004549138246664907, 'step_size': 8, 'gamma': 0.6463950462830123}. Best is trial 20 with value: 0.7880002088509511.\n"
          ]
        },
        {
          "name": "stdout",
          "output_type": "stream",
          "text": [
            "\n",
            "Early stopping at epoch 70\n"
          ]
        },
        {
          "data": {
            "application/vnd.jupyter.widget-view+json": {
              "model_id": "ab1cc6520ca34f9c890416c022509aa6",
              "version_major": 2,
              "version_minor": 0
            },
            "text/plain": [
              "Computing transition probabilities:   0%|          | 0/100 [00:00<?, ?it/s]"
            ]
          },
          "metadata": {},
          "output_type": "display_data"
        },
        {
          "name": "stderr",
          "output_type": "stream",
          "text": [
            "[I 2025-05-22 02:56:08,525] Trial 34 finished with value: 0.7763222108957452 and parameters: {'use_log1p': False, 'embedding_dim': 64, 'variance_threshold': 8.534587225840868e-05, 'similarity_percentile': 30, 'min_sim_threshold': 0.0321828660396284, 'edge_dropout': 0.06359030831034357, 'random_edges': 0.09534078141759961, 'walk_length': 69, 'num_walks': 57, 'p': 0.9152495743673444, 'q': 1.3124429158090396, 'N_1': 454, 'N_2': 194, 'N_3': 128, 'lr': 0.0036074573188743042, 'weight_decay': 0.0050533664432084145, 'step_size': 7, 'gamma': 0.7291187658436218}. Best is trial 20 with value: 0.7880002088509511.\n"
          ]
        },
        {
          "name": "stdout",
          "output_type": "stream",
          "text": [
            "\n",
            "Early stopping at epoch 66\n"
          ]
        },
        {
          "data": {
            "application/vnd.jupyter.widget-view+json": {
              "model_id": "21eddcdaf72f48eb839a4c7e1b5a96ba",
              "version_major": 2,
              "version_minor": 0
            },
            "text/plain": [
              "Computing transition probabilities:   0%|          | 0/100 [00:00<?, ?it/s]"
            ]
          },
          "metadata": {},
          "output_type": "display_data"
        },
        {
          "name": "stderr",
          "output_type": "stream",
          "text": [
            "[I 2025-05-22 02:58:42,740] Trial 35 finished with value: 0.7895801765737961 and parameters: {'use_log1p': False, 'embedding_dim': 64, 'variance_threshold': 9.02564354587103e-05, 'similarity_percentile': 31, 'min_sim_threshold': 0.03161945199467822, 'edge_dropout': 0.06207188154026907, 'random_edges': 0.09225428310795902, 'walk_length': 88, 'num_walks': 56, 'p': 1.8727886896354906, 'q': 1.2189260091072647, 'N_1': 458, 'N_2': 216, 'N_3': 127, 'lr': 0.0037239906229078338, 'weight_decay': 0.004688181156157639, 'step_size': 7, 'gamma': 0.7287676552507358}. Best is trial 35 with value: 0.7895801765737961.\n"
          ]
        },
        {
          "data": {
            "application/vnd.jupyter.widget-view+json": {
              "model_id": "71cb1fd2692c4e70bd0d928ae6984d6d",
              "version_major": 2,
              "version_minor": 0
            },
            "text/plain": [
              "Computing transition probabilities:   0%|          | 0/100 [00:00<?, ?it/s]"
            ]
          },
          "metadata": {},
          "output_type": "display_data"
        },
        {
          "name": "stderr",
          "output_type": "stream",
          "text": [
            "[I 2025-05-22 03:00:49,331] Trial 36 finished with value: 0.7714006466757835 and parameters: {'use_log1p': False, 'embedding_dim': 64, 'variance_threshold': 8.967459800195164e-05, 'similarity_percentile': 32, 'min_sim_threshold': 0.05112379009556249, 'edge_dropout': 0.053593625956780334, 'random_edges': 0.0980827925317105, 'walk_length': 79, 'num_walks': 53, 'p': 1.8893205153571706, 'q': 1.1454319026702302, 'N_1': 379, 'N_2': 193, 'N_3': 124, 'lr': 0.0037140064974636204, 'weight_decay': 0.003432027117562026, 'step_size': 7, 'gamma': 0.7404904245362505}. Best is trial 35 with value: 0.7895801765737961.\n"
          ]
        },
        {
          "name": "stdout",
          "output_type": "stream",
          "text": [
            "\n",
            "Early stopping at epoch 83\n"
          ]
        },
        {
          "data": {
            "application/vnd.jupyter.widget-view+json": {
              "model_id": "249d373c6c39417e90071dc3b3a6c433",
              "version_major": 2,
              "version_minor": 0
            },
            "text/plain": [
              "Computing transition probabilities:   0%|          | 0/99 [00:00<?, ?it/s]"
            ]
          },
          "metadata": {},
          "output_type": "display_data"
        },
        {
          "name": "stderr",
          "output_type": "stream",
          "text": [
            "[I 2025-05-22 03:01:39,714] Trial 37 finished with value: 0.6980607523693292 and parameters: {'use_log1p': False, 'embedding_dim': 128, 'variance_threshold': 7.889017941685165e-05, 'similarity_percentile': 31, 'min_sim_threshold': 0.0686033614307904, 'edge_dropout': 0.041673632065981014, 'random_edges': 0.09874275946951383, 'walk_length': 69, 'num_walks': 57, 'p': 1.7973648510481655, 'q': 1.199751405573946, 'N_1': 352, 'N_2': 72, 'N_3': 120, 'lr': 0.004232928606092715, 'weight_decay': 0.001722520243816973, 'step_size': 7, 'gamma': 0.8196193284579736}. Best is trial 35 with value: 0.7895801765737961.\n"
          ]
        },
        {
          "name": "stdout",
          "output_type": "stream",
          "text": [
            "\n",
            "Early stopping at epoch 32\n"
          ]
        },
        {
          "data": {
            "application/vnd.jupyter.widget-view+json": {
              "model_id": "0cd424cb42254ab69a42eea74a72eea6",
              "version_major": 2,
              "version_minor": 0
            },
            "text/plain": [
              "Computing transition probabilities:   0%|          | 0/104 [00:00<?, ?it/s]"
            ]
          },
          "metadata": {},
          "output_type": "display_data"
        },
        {
          "name": "stderr",
          "output_type": "stream",
          "text": [
            "[I 2025-05-22 03:02:29,260] Trial 38 finished with value: 0.698586617110135 and parameters: {'use_log1p': False, 'embedding_dim': 256, 'variance_threshold': 5.555914085368397e-05, 'similarity_percentile': 33, 'min_sim_threshold': 0.041546900694671755, 'edge_dropout': 0.06350016328522894, 'random_edges': 0.0864957370408514, 'walk_length': 86, 'num_walks': 69, 'p': 1.4290722637622406, 'q': 1.0419538169035687, 'N_1': 453, 'N_2': 216, 'N_3': 117, 'lr': 0.0027900563467255926, 'weight_decay': 0.004829749228014334, 'step_size': 9, 'gamma': 0.7283482894997897}. Best is trial 35 with value: 0.7895801765737961.\n"
          ]
        },
        {
          "name": "stdout",
          "output_type": "stream",
          "text": [
            "\n",
            "Early stopping at epoch 27\n"
          ]
        },
        {
          "data": {
            "application/vnd.jupyter.widget-view+json": {
              "model_id": "2944b729fbc5413a939ace6485c8353f",
              "version_major": 2,
              "version_minor": 0
            },
            "text/plain": [
              "Computing transition probabilities:   0%|          | 0/99 [00:00<?, ?it/s]"
            ]
          },
          "metadata": {},
          "output_type": "display_data"
        },
        {
          "name": "stderr",
          "output_type": "stream",
          "text": [
            "[I 2025-05-22 03:03:05,643] Trial 39 finished with value: 0.7029714080686611 and parameters: {'use_log1p': False, 'embedding_dim': 64, 'variance_threshold': 0.0001144699226697725, 'similarity_percentile': 29, 'min_sim_threshold': 0.031494088536460935, 'edge_dropout': 0.07618396228780698, 'random_edges': 0.09202095106674657, 'walk_length': 89, 'num_walks': 108, 'p': 1.5668150647505115, 'q': 1.314454579823477, 'N_1': 205, 'N_2': 202, 'N_3': 102, 'lr': 0.0036866762191523094, 'weight_decay': 0.0036679047776922336, 'step_size': 6, 'gamma': 0.8034369558794887}. Best is trial 35 with value: 0.7895801765737961.\n"
          ]
        },
        {
          "name": "stdout",
          "output_type": "stream",
          "text": [
            "\n",
            "Early stopping at epoch 21\n"
          ]
        },
        {
          "data": {
            "application/vnd.jupyter.widget-view+json": {
              "model_id": "a7e5bee41f27416893a687a28b03f928",
              "version_major": 2,
              "version_minor": 0
            },
            "text/plain": [
              "Computing transition probabilities:   0%|          | 0/100 [00:00<?, ?it/s]"
            ]
          },
          "metadata": {},
          "output_type": "display_data"
        },
        {
          "name": "stderr",
          "output_type": "stream",
          "text": [
            "[I 2025-05-22 03:05:23,936] Trial 40 finished with value: 0.7984439307269723 and parameters: {'use_log1p': False, 'embedding_dim': 128, 'variance_threshold': 7.614844117681579e-05, 'similarity_percentile': 30, 'min_sim_threshold': 0.023435181302804135, 'edge_dropout': 0.059868204891308036, 'random_edges': 0.08184938913949368, 'walk_length': 73, 'num_walks': 143, 'p': 1.9765607252664399, 'q': 1.5993198129107216, 'N_1': 404, 'N_2': 188, 'N_3': 128, 'lr': 0.002803419196934085, 'weight_decay': 0.0025323203549548184, 'step_size': 10, 'gamma': 0.70452435991378}. Best is trial 40 with value: 0.7984439307269723.\n"
          ]
        },
        {
          "name": "stdout",
          "output_type": "stream",
          "text": [
            "\n",
            "Early stopping at epoch 90\n"
          ]
        },
        {
          "data": {
            "application/vnd.jupyter.widget-view+json": {
              "model_id": "12347084d85e423b97d68f581f304e45",
              "version_major": 2,
              "version_minor": 0
            },
            "text/plain": [
              "Computing transition probabilities:   0%|          | 0/102 [00:00<?, ?it/s]"
            ]
          },
          "metadata": {},
          "output_type": "display_data"
        },
        {
          "name": "stderr",
          "output_type": "stream",
          "text": [
            "[I 2025-05-22 03:05:59,612] Trial 41 finished with value: 0.7221560018518833 and parameters: {'use_log1p': False, 'embedding_dim': 128, 'variance_threshold': 6.980412076817488e-05, 'similarity_percentile': 30, 'min_sim_threshold': 0.021798089471120843, 'edge_dropout': 0.060129347798240744, 'random_edges': 0.08013281536453738, 'walk_length': 71, 'num_walks': 132, 'p': 1.9994671724829045, 'q': 1.7994811621411222, 'N_1': 407, 'N_2': 188, 'N_3': 128, 'lr': 0.002763613833504674, 'weight_decay': 0.0021880751341194584, 'step_size': 10, 'gamma': 0.7128742792612647}. Best is trial 40 with value: 0.7984439307269723.\n"
          ]
        },
        {
          "name": "stdout",
          "output_type": "stream",
          "text": [
            "\n",
            "Early stopping at epoch 20\n"
          ]
        },
        {
          "data": {
            "application/vnd.jupyter.widget-view+json": {
              "model_id": "b92d654d808544348398d5818be5c90d",
              "version_major": 2,
              "version_minor": 0
            },
            "text/plain": [
              "Computing transition probabilities:   0%|          | 0/109 [00:00<?, ?it/s]"
            ]
          },
          "metadata": {},
          "output_type": "display_data"
        },
        {
          "name": "stderr",
          "output_type": "stream",
          "text": [
            "[I 2025-05-22 03:08:28,080] Trial 42 finished with value: 0.8021166507186422 and parameters: {'use_log1p': False, 'embedding_dim': 128, 'variance_threshold': 4.381292584198012e-05, 'similarity_percentile': 33, 'min_sim_threshold': 0.01293489705938801, 'edge_dropout': 0.0729822861012848, 'random_edges': 0.09436571127704094, 'walk_length': 82, 'num_walks': 125, 'p': 1.7447055436439542, 'q': 1.5770632169942154, 'N_1': 461, 'N_2': 221, 'N_3': 122, 'lr': 0.003945333651648095, 'weight_decay': 0.0004513446525181951, 'step_size': 8, 'gamma': 0.6270101733887291}. Best is trial 42 with value: 0.8021166507186422.\n"
          ]
        },
        {
          "name": "stdout",
          "output_type": "stream",
          "text": [
            "\n",
            "Early stopping at epoch 92\n"
          ]
        },
        {
          "data": {
            "application/vnd.jupyter.widget-view+json": {
              "model_id": "69e9157e20e74375bbb23187bd4186bf",
              "version_major": 2,
              "version_minor": 0
            },
            "text/plain": [
              "Computing transition probabilities:   0%|          | 0/98 [00:00<?, ?it/s]"
            ]
          },
          "metadata": {},
          "output_type": "display_data"
        },
        {
          "name": "stderr",
          "output_type": "stream",
          "text": [
            "[I 2025-05-22 03:11:05,888] Trial 43 finished with value: 0.7994484600409664 and parameters: {'use_log1p': False, 'embedding_dim': 128, 'variance_threshold': 0.0001447822702192215, 'similarity_percentile': 33, 'min_sim_threshold': 0.014254351009518254, 'edge_dropout': 0.061077770835224504, 'random_edges': 0.09170344327285107, 'walk_length': 82, 'num_walks': 148, 'p': 1.7327316642829662, 'q': 1.595522896330219, 'N_1': 496, 'N_2': 222, 'N_3': 116, 'lr': 0.0040631970022383555, 'weight_decay': 0.0002462030167720503, 'step_size': 8, 'gamma': 0.7835331672627265}. Best is trial 42 with value: 0.8021166507186422.\n"
          ]
        },
        {
          "data": {
            "application/vnd.jupyter.widget-view+json": {
              "model_id": "d3361f65254a40989d84dba26eefcddf",
              "version_major": 2,
              "version_minor": 0
            },
            "text/plain": [
              "Computing transition probabilities:   0%|          | 0/98 [00:00<?, ?it/s]"
            ]
          },
          "metadata": {},
          "output_type": "display_data"
        },
        {
          "name": "stderr",
          "output_type": "stream",
          "text": [
            "[I 2025-05-22 03:13:20,467] Trial 44 finished with value: 0.796671195300175 and parameters: {'use_log1p': True, 'embedding_dim': 128, 'variance_threshold': 0.00014311365170620958, 'similarity_percentile': 33, 'min_sim_threshold': 0.013914639225202488, 'edge_dropout': 0.05661800323405114, 'random_edges': 0.08471469247118239, 'walk_length': 82, 'num_walks': 147, 'p': 1.727695341047911, 'q': 1.7456874424125646, 'N_1': 494, 'N_2': 226, 'N_3': 115, 'lr': 0.004169823164047818, 'weight_decay': 0.00023163623138199211, 'step_size': 8, 'gamma': 0.7842414657682577}. Best is trial 42 with value: 0.8021166507186422.\n"
          ]
        },
        {
          "name": "stdout",
          "output_type": "stream",
          "text": [
            "\n",
            "Early stopping at epoch 84\n"
          ]
        },
        {
          "data": {
            "application/vnd.jupyter.widget-view+json": {
              "model_id": "95e8495de88a4cbabfd21f1b1d5fe770",
              "version_major": 2,
              "version_minor": 0
            },
            "text/plain": [
              "Computing transition probabilities:   0%|          | 0/98 [00:00<?, ?it/s]"
            ]
          },
          "metadata": {},
          "output_type": "display_data"
        },
        {
          "name": "stderr",
          "output_type": "stream",
          "text": [
            "[I 2025-05-22 03:15:22,318] Trial 45 finished with value: 0.7685028193736025 and parameters: {'use_log1p': True, 'embedding_dim': 128, 'variance_threshold': 0.0001470398206042579, 'similarity_percentile': 33, 'min_sim_threshold': 0.014075053085624572, 'edge_dropout': 0.04139061500838359, 'random_edges': 0.08550758108878943, 'walk_length': 84, 'num_walks': 145, 'p': 1.7262933082977512, 'q': 1.7453598502875267, 'N_1': 491, 'N_2': 235, 'N_3': 114, 'lr': 0.004236917536544622, 'weight_decay': 8.553485560261535e-05, 'step_size': 8, 'gamma': 0.8814824205107085}. Best is trial 42 with value: 0.8021166507186422.\n"
          ]
        },
        {
          "name": "stdout",
          "output_type": "stream",
          "text": [
            "\n",
            "Early stopping at epoch 74\n"
          ]
        },
        {
          "data": {
            "application/vnd.jupyter.widget-view+json": {
              "model_id": "a41a4bde5f634a48b33d357489914ecb",
              "version_major": 2,
              "version_minor": 0
            },
            "text/plain": [
              "Computing transition probabilities:   0%|          | 0/96 [00:00<?, ?it/s]"
            ]
          },
          "metadata": {},
          "output_type": "display_data"
        },
        {
          "name": "stderr",
          "output_type": "stream",
          "text": [
            "[I 2025-05-22 03:17:24,325] Trial 46 finished with value: 0.7544765711201789 and parameters: {'use_log1p': True, 'embedding_dim': 128, 'variance_threshold': 0.0001866759360277482, 'similarity_percentile': 35, 'min_sim_threshold': 0.011108945952658832, 'edge_dropout': 0.050790262281694205, 'random_edges': 0.09174661261704413, 'walk_length': 81, 'num_walks': 148, 'p': 1.815862416821345, 'q': 1.5978127586001039, 'N_1': 500, 'N_2': 215, 'N_3': 108, 'lr': 0.00021468628838440922, 'weight_decay': 0.00015808597464982805, 'step_size': 9, 'gamma': 0.7811458503809323}. Best is trial 42 with value: 0.8021166507186422.\n"
          ]
        },
        {
          "name": "stdout",
          "output_type": "stream",
          "text": [
            "\n",
            "Early stopping at epoch 76\n"
          ]
        },
        {
          "data": {
            "application/vnd.jupyter.widget-view+json": {
              "model_id": "8201b10104094965aff0a9efbd142bae",
              "version_major": 2,
              "version_minor": 0
            },
            "text/plain": [
              "Computing transition probabilities:   0%|          | 0/99 [00:00<?, ?it/s]"
            ]
          },
          "metadata": {},
          "output_type": "display_data"
        },
        {
          "name": "stderr",
          "output_type": "stream",
          "text": [
            "C:\\Users\\yarom\\AppData\\Local\\Temp\\ipykernel_17556\\2663798661.py:98: RuntimeWarning:\n",
            "\n",
            "invalid value encountered in log1p\n",
            "\n",
            "[I 2025-05-22 03:17:45,030] Trial 47 finished with value: 2.449395114222183e-05 and parameters: {'use_log1p': True, 'embedding_dim': 128, 'variance_threshold': 0.00012768744929427602, 'similarity_percentile': 33, 'min_sim_threshold': 0.02400531994368258, 'edge_dropout': 0.05570925103661454, 'random_edges': 0.08189029427596264, 'walk_length': 92, 'num_walks': 136, 'p': 1.6538996371375976, 'q': 1.8757359663602555, 'N_1': 465, 'N_2': 130, 'N_3': 91, 'lr': 0.004228824119024221, 'weight_decay': 0.0007809422668548069, 'step_size': 6, 'gamma': 0.7927282475719718}. Best is trial 42 with value: 0.8021166507186422.\n"
          ]
        },
        {
          "name": "stdout",
          "output_type": "stream",
          "text": [
            "\n",
            "Early stopping at epoch 9\n"
          ]
        },
        {
          "data": {
            "application/vnd.jupyter.widget-view+json": {
              "model_id": "1fac784177c04c059ae64b0411faedcc",
              "version_major": 2,
              "version_minor": 0
            },
            "text/plain": [
              "Computing transition probabilities:   0%|          | 0/100 [00:00<?, ?it/s]"
            ]
          },
          "metadata": {},
          "output_type": "display_data"
        },
        {
          "name": "stderr",
          "output_type": "stream",
          "text": [
            "[I 2025-05-22 03:20:28,489] Trial 48 finished with value: 0.8077395243960264 and parameters: {'use_log1p': True, 'embedding_dim': 128, 'variance_threshold': 7.085205269631791e-05, 'similarity_percentile': 27, 'min_sim_threshold': 0.014267506582526707, 'edge_dropout': 0.042819205420969626, 'random_edges': 0.07337084046911121, 'walk_length': 99, 'num_walks': 124, 'p': 1.9254130975680397, 'q': 1.769164760679882, 'N_1': 489, 'N_2': 244, 'N_3': 117, 'lr': 0.004957145923354909, 'weight_decay': 0.001099083458108217, 'step_size': 10, 'gamma': 0.8538115312974013}. Best is trial 48 with value: 0.8077395243960264.\n"
          ]
        },
        {
          "data": {
            "application/vnd.jupyter.widget-view+json": {
              "model_id": "9abbfbdc01da4d2fb6fea28af4501129",
              "version_major": 2,
              "version_minor": 0
            },
            "text/plain": [
              "Computing transition probabilities:   0%|          | 0/105 [00:00<?, ?it/s]"
            ]
          },
          "metadata": {},
          "output_type": "display_data"
        },
        {
          "name": "stderr",
          "output_type": "stream",
          "text": [
            "[I 2025-05-22 03:21:09,348] Trial 49 finished with value: 0.6508576518518313 and parameters: {'use_log1p': True, 'embedding_dim': 128, 'variance_threshold': 5.290138795086192e-05, 'similarity_percentile': 27, 'min_sim_threshold': 0.0154337504083465, 'edge_dropout': 0.03551296649051657, 'random_edges': 0.07721826761383792, 'walk_length': 99, 'num_walks': 123, 'p': 1.9329510316347878, 'q': 1.9648047510462143, 'N_1': 497, 'N_2': 246, 'N_3': 103, 'lr': 0.004852392101428842, 'weight_decay': 0.0008658067666869815, 'step_size': 10, 'gamma': 0.8458846053939847}. Best is trial 48 with value: 0.8077395243960264.\n"
          ]
        },
        {
          "name": "stdout",
          "output_type": "stream",
          "text": [
            "\n",
            "Early stopping at epoch 21\n"
          ]
        },
        {
          "data": {
            "application/vnd.jupyter.widget-view+json": {
              "model_id": "625aad2215b64769be2f713898930b6a",
              "version_major": 2,
              "version_minor": 0
            },
            "text/plain": [
              "Computing transition probabilities:   0%|          | 0/102 [00:00<?, ?it/s]"
            ]
          },
          "metadata": {},
          "output_type": "display_data"
        },
        {
          "name": "stderr",
          "output_type": "stream",
          "text": [
            "[I 2025-05-22 03:21:47,570] Trial 50 finished with value: 0.690843872524611 and parameters: {'use_log1p': True, 'embedding_dim': 128, 'variance_threshold': 6.84060724182832e-05, 'similarity_percentile': 34, 'min_sim_threshold': 0.01006045938064347, 'edge_dropout': 0.04474103210845495, 'random_edges': 0.0721194824102958, 'walk_length': 96, 'num_walks': 140, 'p': 1.9921918973863693, 'q': 1.7167072498802858, 'N_1': 488, 'N_2': 247, 'N_3': 117, 'lr': 0.0024583852521446905, 'weight_decay': 0.0015618580004294492, 'step_size': 11, 'gamma': 0.8425449067419349}. Best is trial 48 with value: 0.8077395243960264.\n"
          ]
        },
        {
          "name": "stdout",
          "output_type": "stream",
          "text": [
            "\n",
            "Early stopping at epoch 20\n"
          ]
        },
        {
          "data": {
            "application/vnd.jupyter.widget-view+json": {
              "model_id": "4f26a1aecf5c462989439b1447639193",
              "version_major": 2,
              "version_minor": 0
            },
            "text/plain": [
              "Computing transition probabilities:   0%|          | 0/99 [00:00<?, ?it/s]"
            ]
          },
          "metadata": {},
          "output_type": "display_data"
        },
        {
          "name": "stderr",
          "output_type": "stream",
          "text": [
            "[I 2025-05-22 03:23:07,240] Trial 51 finished with value: 0.7676475494030855 and parameters: {'use_log1p': True, 'embedding_dim': 128, 'variance_threshold': 0.00010277078457133721, 'similarity_percentile': 31, 'min_sim_threshold': 0.02332704307359934, 'edge_dropout': 0.02014534682190383, 'random_edges': 0.09096639769969413, 'walk_length': 79, 'num_walks': 142, 'p': 1.8559820281792314, 'q': 1.4638128237685097, 'N_1': 438, 'N_2': 230, 'N_3': 116, 'lr': 0.00337068311132541, 'weight_decay': 0.0005050117138315765, 'step_size': 8, 'gamma': 0.8590855862476915}. Best is trial 48 with value: 0.8077395243960264.\n"
          ]
        },
        {
          "name": "stdout",
          "output_type": "stream",
          "text": [
            "\n",
            "Early stopping at epoch 49\n"
          ]
        },
        {
          "data": {
            "application/vnd.jupyter.widget-view+json": {
              "model_id": "6227b431101c4033a3c1b3dfdfac819d",
              "version_major": 2,
              "version_minor": 0
            },
            "text/plain": [
              "Computing transition probabilities:   0%|          | 0/100 [00:00<?, ?it/s]"
            ]
          },
          "metadata": {},
          "output_type": "display_data"
        },
        {
          "name": "stderr",
          "output_type": "stream",
          "text": [
            "[I 2025-05-22 03:24:49,645] Trial 52 finished with value: 0.7821777964071943 and parameters: {'use_log1p': True, 'embedding_dim': 128, 'variance_threshold': 9.312727370835948e-05, 'similarity_percentile': 32, 'min_sim_threshold': 0.028133666627368843, 'edge_dropout': 0.058786306628184355, 'random_edges': 0.08727743910568897, 'walk_length': 88, 'num_walks': 150, 'p': 1.7700890164362637, 'q': 1.5891000101474284, 'N_1': 512, 'N_2': 222, 'N_3': 120, 'lr': 0.004022533322024301, 'weight_decay': 0.002410317176070549, 'step_size': 9, 'gamma': 0.7779489623840912}. Best is trial 48 with value: 0.8077395243960264.\n"
          ]
        },
        {
          "name": "stdout",
          "output_type": "stream",
          "text": [
            "\n",
            "Early stopping at epoch 63\n"
          ]
        },
        {
          "data": {
            "application/vnd.jupyter.widget-view+json": {
              "model_id": "f613c0ea466d40578017ba25d4361830",
              "version_major": 2,
              "version_minor": 0
            },
            "text/plain": [
              "Computing transition probabilities:   0%|          | 0/98 [00:00<?, ?it/s]"
            ]
          },
          "metadata": {},
          "output_type": "display_data"
        },
        {
          "name": "stderr",
          "output_type": "stream",
          "text": [
            "[I 2025-05-22 03:27:08,652] Trial 53 finished with value: 0.7994732073172769 and parameters: {'use_log1p': True, 'embedding_dim': 128, 'variance_threshold': 0.0001337080983775866, 'similarity_percentile': 30, 'min_sim_threshold': 0.015207296501392334, 'edge_dropout': 0.05083882918210601, 'random_edges': 0.09496662894812767, 'walk_length': 84, 'num_walks': 129, 'p': 1.6664677881841443, 'q': 1.7651347549157508, 'N_1': 470, 'N_2': 239, 'N_3': 44, 'lr': 0.002998495513555808, 'weight_decay': 0.0013163067505488615, 'step_size': 10, 'gamma': 0.6576406486437324}. Best is trial 48 with value: 0.8077395243960264.\n"
          ]
        },
        {
          "name": "stdout",
          "output_type": "stream",
          "text": [
            "\n",
            "Early stopping at epoch 87\n"
          ]
        },
        {
          "data": {
            "application/vnd.jupyter.widget-view+json": {
              "model_id": "6b05f79732b648f0a496a5b86221b797",
              "version_major": 2,
              "version_minor": 0
            },
            "text/plain": [
              "Computing transition probabilities:   0%|          | 0/97 [00:00<?, ?it/s]"
            ]
          },
          "metadata": {},
          "output_type": "display_data"
        },
        {
          "name": "stderr",
          "output_type": "stream",
          "text": [
            "[I 2025-05-22 03:29:45,190] Trial 54 finished with value: 0.7920966091046736 and parameters: {'use_log1p': True, 'embedding_dim': 128, 'variance_threshold': 0.00017978016271765244, 'similarity_percentile': 29, 'min_sim_threshold': 0.014650570666297552, 'edge_dropout': 0.008680297708344963, 'random_edges': 0.082970501201836, 'walk_length': 84, 'num_walks': 123, 'p': 1.6303296701330807, 'q': 1.7922864053331629, 'N_1': 473, 'N_2': 236, 'N_3': 43, 'lr': 0.0030544357865539004, 'weight_decay': 0.0013603985122772676, 'step_size': 10, 'gamma': 0.6664235366776894}. Best is trial 48 with value: 0.8077395243960264.\n"
          ]
        },
        {
          "data": {
            "application/vnd.jupyter.widget-view+json": {
              "model_id": "69ee5d6c7c7b48279273bbdbba714988",
              "version_major": 2,
              "version_minor": 0
            },
            "text/plain": [
              "Computing transition probabilities:   0%|          | 0/117 [00:00<?, ?it/s]"
            ]
          },
          "metadata": {},
          "output_type": "display_data"
        },
        {
          "name": "stderr",
          "output_type": "stream",
          "text": [
            "C:\\Users\\yarom\\AppData\\Local\\Temp\\ipykernel_17556\\2663798661.py:98: RuntimeWarning:\n",
            "\n",
            "invalid value encountered in log1p\n",
            "\n",
            "[I 2025-05-22 03:30:06,371] Trial 55 finished with value: 2.449395114222183e-05 and parameters: {'use_log1p': True, 'embedding_dim': 128, 'variance_threshold': 3.424397622205005e-05, 'similarity_percentile': 35, 'min_sim_threshold': 0.01649058392880106, 'edge_dropout': 0.03817443615262382, 'random_edges': 0.07661488346381755, 'walk_length': 78, 'num_walks': 128, 'p': 1.535213043689391, 'q': 1.9036059152482323, 'N_1': 486, 'N_2': 205, 'N_3': 84, 'lr': 0.004975138005431497, 'weight_decay': 0.0004680234539334708, 'step_size': 11, 'gamma': 0.6342750550320718}. Best is trial 48 with value: 0.8077395243960264.\n"
          ]
        },
        {
          "name": "stdout",
          "output_type": "stream",
          "text": [
            "\n",
            "Early stopping at epoch 9\n"
          ]
        },
        {
          "data": {
            "application/vnd.jupyter.widget-view+json": {
              "model_id": "b6575b30c28748189f0a968f30a89055",
              "version_major": 2,
              "version_minor": 0
            },
            "text/plain": [
              "Computing transition probabilities:   0%|          | 0/101 [00:00<?, ?it/s]"
            ]
          },
          "metadata": {},
          "output_type": "display_data"
        },
        {
          "name": "stderr",
          "output_type": "stream",
          "text": [
            "[I 2025-05-22 03:31:57,129] Trial 56 finished with value: 0.7932561277205324 and parameters: {'use_log1p': True, 'embedding_dim': 128, 'variance_threshold': 5.888731833172361e-05, 'similarity_percentile': 30, 'min_sim_threshold': 0.08577986911863826, 'edge_dropout': 0.048359349488959195, 'random_edges': 0.09533820909128446, 'walk_length': 92, 'num_walks': 116, 'p': 1.684152547732441, 'q': 1.6221027836602504, 'N_1': 424, 'N_2': 256, 'N_3': 66, 'lr': 0.002729079820159724, 'weight_decay': 0.0012651131055291807, 'step_size': 8, 'gamma': 0.7621436389596968}. Best is trial 48 with value: 0.8077395243960264.\n"
          ]
        },
        {
          "name": "stdout",
          "output_type": "stream",
          "text": [
            "\n",
            "Early stopping at epoch 69\n"
          ]
        },
        {
          "data": {
            "application/vnd.jupyter.widget-view+json": {
              "model_id": "a47d0e6354c8426ea86c02382f9c478d",
              "version_major": 2,
              "version_minor": 0
            },
            "text/plain": [
              "Computing transition probabilities:   0%|          | 0/98 [00:00<?, ?it/s]"
            ]
          },
          "metadata": {},
          "output_type": "display_data"
        },
        {
          "name": "stderr",
          "output_type": "stream",
          "text": [
            "[I 2025-05-22 03:34:36,046] Trial 57 finished with value: 0.7996912038727827 and parameters: {'use_log1p': True, 'embedding_dim': 128, 'variance_threshold': 0.00014335731100862423, 'similarity_percentile': 27, 'min_sim_threshold': 0.013490658606359809, 'edge_dropout': 0.029946804539037798, 'random_edges': 0.07030789555378882, 'walk_length': 82, 'num_walks': 136, 'p': 1.9529944280782836, 'q': 1.7005993925352825, 'N_1': 500, 'N_2': 246, 'N_3': 40, 'lr': 0.0031444842758447935, 'weight_decay': 0.002297320787435315, 'step_size': 5, 'gamma': 0.8646996551370817}. Best is trial 48 with value: 0.8077395243960264.\n"
          ]
        },
        {
          "data": {
            "application/vnd.jupyter.widget-view+json": {
              "model_id": "3981941795e64f9892e5369585d98d96",
              "version_major": 2,
              "version_minor": 0
            },
            "text/plain": [
              "Computing transition probabilities:   0%|          | 0/97 [00:00<?, ?it/s]"
            ]
          },
          "metadata": {},
          "output_type": "display_data"
        },
        {
          "name": "stderr",
          "output_type": "stream",
          "text": [
            "[I 2025-05-22 03:37:11,891] Trial 58 finished with value: 0.801655335727571 and parameters: {'use_log1p': True, 'embedding_dim': 128, 'variance_threshold': 0.00023279500941018357, 'similarity_percentile': 27, 'min_sim_threshold': 0.022469209392784566, 'edge_dropout': 0.02865890372737588, 'random_edges': 0.06716171377768142, 'walk_length': 75, 'num_walks': 137, 'p': 1.9322540912581347, 'q': 1.5481760414780628, 'N_1': 390, 'N_2': 245, 'N_3': 41, 'lr': 0.002154978493368114, 'weight_decay': 0.0020846079208518653, 'step_size': 5, 'gamma': 0.8587882466094499}. Best is trial 48 with value: 0.8077395243960264.\n"
          ]
        },
        {
          "data": {
            "application/vnd.jupyter.widget-view+json": {
              "model_id": "51fa02003f584993aa8270f08c8c9d9f",
              "version_major": 2,
              "version_minor": 0
            },
            "text/plain": [
              "Computing transition probabilities:   0%|          | 0/96 [00:00<?, ?it/s]"
            ]
          },
          "metadata": {},
          "output_type": "display_data"
        },
        {
          "name": "stderr",
          "output_type": "stream",
          "text": [
            "[I 2025-05-22 03:39:52,201] Trial 59 finished with value: 0.7916887524706322 and parameters: {'use_log1p': True, 'embedding_dim': 128, 'variance_threshold': 0.0002530558890135987, 'similarity_percentile': 26, 'min_sim_threshold': 0.011333680038404324, 'edge_dropout': 0.029351947257534105, 'random_edges': 0.06295348940933769, 'walk_length': 96, 'num_walks': 135, 'p': 1.9296068844382561, 'q': 1.5375624893694162, 'N_1': 284, 'N_2': 246, 'N_3': 47, 'lr': 0.002117439696582098, 'weight_decay': 0.0019364127870280898, 'step_size': 5, 'gamma': 0.8808933595559078}. Best is trial 48 with value: 0.8077395243960264.\n"
          ]
        },
        {
          "data": {
            "application/vnd.jupyter.widget-view+json": {
              "model_id": "1c10292f4fb44ec79d55369ff7660d1f",
              "version_major": 2,
              "version_minor": 0
            },
            "text/plain": [
              "Computing transition probabilities:   0%|          | 0/97 [00:00<?, ?it/s]"
            ]
          },
          "metadata": {},
          "output_type": "display_data"
        },
        {
          "name": "stderr",
          "output_type": "stream",
          "text": [
            "[I 2025-05-22 03:41:30,932] Trial 60 finished with value: 0.7794877169190992 and parameters: {'use_log1p': True, 'embedding_dim': 128, 'variance_threshold': 0.0002254468045980642, 'similarity_percentile': 27, 'min_sim_threshold': 0.021703661835941204, 'edge_dropout': 0.025869558121047763, 'random_edges': 0.06819815909691461, 'walk_length': 99, 'num_walks': 126, 'p': 1.8192635378593223, 'q': 1.712316868746818, 'N_1': 384, 'N_2': 250, 'N_3': 38, 'lr': 0.002395572838077092, 'weight_decay': 0.0028193343836511453, 'step_size': 6, 'gamma': 0.5413970146239967}. Best is trial 48 with value: 0.8077395243960264.\n"
          ]
        },
        {
          "name": "stdout",
          "output_type": "stream",
          "text": [
            "\n",
            "Early stopping at epoch 62\n"
          ]
        },
        {
          "data": {
            "application/vnd.jupyter.widget-view+json": {
              "model_id": "43df84adba5647978c4a1c5426637ee0",
              "version_major": 2,
              "version_minor": 0
            },
            "text/plain": [
              "Computing transition probabilities:   0%|          | 0/97 [00:00<?, ?it/s]"
            ]
          },
          "metadata": {},
          "output_type": "display_data"
        },
        {
          "name": "stderr",
          "output_type": "stream",
          "text": [
            "[I 2025-05-22 03:42:58,810] Trial 61 finished with value: 0.776699392173478 and parameters: {'use_log1p': True, 'embedding_dim': 128, 'variance_threshold': 0.00017322045157423804, 'similarity_percentile': 29, 'min_sim_threshold': 0.02521637086657785, 'edge_dropout': 0.014435869211737269, 'random_edges': 0.06873559283218736, 'walk_length': 76, 'num_walks': 136, 'p': 1.955299346013438, 'q': 1.4582572653336991, 'N_1': 364, 'N_2': 241, 'N_3': 32, 'lr': 0.003332938694606609, 'weight_decay': 0.002733431957665901, 'step_size': 5, 'gamma': 0.8620179811600833}. Best is trial 48 with value: 0.8077395243960264.\n"
          ]
        },
        {
          "name": "stdout",
          "output_type": "stream",
          "text": [
            "\n",
            "Early stopping at epoch 55\n"
          ]
        },
        {
          "data": {
            "application/vnd.jupyter.widget-view+json": {
              "model_id": "cc1e3b7e9ecc45e88163c269ffa75946",
              "version_major": 2,
              "version_minor": 0
            },
            "text/plain": [
              "Computing transition probabilities:   0%|          | 0/99 [00:00<?, ?it/s]"
            ]
          },
          "metadata": {},
          "output_type": "display_data"
        },
        {
          "name": "stderr",
          "output_type": "stream",
          "text": [
            "[I 2025-05-22 03:45:18,240] Trial 62 finished with value: 0.7108451344958338 and parameters: {'use_log1p': True, 'embedding_dim': 128, 'variance_threshold': 0.00011719220972314174, 'similarity_percentile': 26, 'min_sim_threshold': 0.017112261326817896, 'edge_dropout': 0.029385382308761348, 'random_edges': 0.07253449539189245, 'walk_length': 75, 'num_walks': 116, 'p': 1.884024430751652, 'q': 1.5649664300674606, 'N_1': 406, 'N_2': 103, 'N_3': 57, 'lr': 0.00010998066392781268, 'weight_decay': 0.0009746351079583013, 'step_size': 9, 'gamma': 0.8184638560347205}. Best is trial 48 with value: 0.8077395243960264.\n"
          ]
        },
        {
          "name": "stdout",
          "output_type": "stream",
          "text": [
            "\n",
            "Early stopping at epoch 89\n"
          ]
        },
        {
          "data": {
            "application/vnd.jupyter.widget-view+json": {
              "model_id": "364a978fb1f24e678075d256d4eb2b60",
              "version_major": 2,
              "version_minor": 0
            },
            "text/plain": [
              "Computing transition probabilities:   0%|          | 0/100 [00:00<?, ?it/s]"
            ]
          },
          "metadata": {},
          "output_type": "display_data"
        },
        {
          "name": "stderr",
          "output_type": "stream",
          "text": [
            "[I 2025-05-22 03:45:54,955] Trial 63 finished with value: 0.6995414069342885 and parameters: {'use_log1p': True, 'embedding_dim': 128, 'variance_threshold': 7.561133967277114e-05, 'similarity_percentile': 28, 'min_sim_threshold': 0.010045986303991424, 'edge_dropout': 0.01967207547386785, 'random_edges': 0.0999147634223562, 'walk_length': 85, 'num_walks': 142, 'p': 1.7640416305976512, 'q': 1.6497130660293244, 'N_1': 437, 'N_2': 237, 'N_3': 47, 'lr': 0.0028914413779735425, 'weight_decay': 0.0040554243596701706, 'step_size': 11, 'gamma': 0.8706898323672783}. Best is trial 48 with value: 0.8077395243960264.\n"
          ]
        },
        {
          "name": "stdout",
          "output_type": "stream",
          "text": [
            "\n",
            "Early stopping at epoch 19\n"
          ]
        },
        {
          "data": {
            "application/vnd.jupyter.widget-view+json": {
              "model_id": "a2d9a67fdb9043d6a7c6f928f6828d03",
              "version_major": 2,
              "version_minor": 0
            },
            "text/plain": [
              "Computing transition probabilities:   0%|          | 0/96 [00:00<?, ?it/s]"
            ]
          },
          "metadata": {},
          "output_type": "display_data"
        },
        {
          "name": "stderr",
          "output_type": "stream",
          "text": [
            "[I 2025-05-22 03:47:30,305] Trial 64 finished with value: 0.735984257729358 and parameters: {'use_log1p': True, 'embedding_dim': 128, 'variance_threshold': 0.0003066949393797338, 'similarity_percentile': 24, 'min_sim_threshold': 0.027524909487125174, 'edge_dropout': 0.03459604032881117, 'random_edges': 0.0884033891364907, 'walk_length': 81, 'num_walks': 129, 'p': 1.839581000506793, 'q': 1.810824370448558, 'N_1': 128, 'N_2': 231, 'N_3': 45, 'lr': 0.003187785731712023, 'weight_decay': 0.0024572983431159295, 'step_size': 5, 'gamma': 0.6042234138844983}. Best is trial 48 with value: 0.8077395243960264.\n"
          ]
        },
        {
          "name": "stdout",
          "output_type": "stream",
          "text": [
            "\n",
            "Early stopping at epoch 63\n"
          ]
        },
        {
          "data": {
            "application/vnd.jupyter.widget-view+json": {
              "model_id": "6f93695ac6504149b341e02e0d3ab9b5",
              "version_major": 2,
              "version_minor": 0
            },
            "text/plain": [
              "Computing transition probabilities:   0%|          | 0/95 [00:00<?, ?it/s]"
            ]
          },
          "metadata": {},
          "output_type": "display_data"
        },
        {
          "name": "stderr",
          "output_type": "stream",
          "text": [
            "[I 2025-05-22 03:49:11,583] Trial 65 finished with value: 0.7602038754831048 and parameters: {'use_log1p': True, 'embedding_dim': 128, 'variance_threshold': 0.00033371690875148467, 'similarity_percentile': 21, 'min_sim_threshold': 0.022441976039455924, 'edge_dropout': 0.04199036037654409, 'random_edges': 0.07491694634674649, 'walk_length': 90, 'num_walks': 139, 'p': 1.9216400128387974, 'q': 1.6917407766350347, 'N_1': 347, 'N_2': 243, 'N_3': 35, 'lr': 0.002061797992296035, 'weight_decay': 0.0019253059152377215, 'step_size': 10, 'gamma': 0.8984408801697177}. Best is trial 48 with value: 0.8077395243960264.\n"
          ]
        },
        {
          "name": "stdout",
          "output_type": "stream",
          "text": [
            "\n",
            "Early stopping at epoch 63\n"
          ]
        },
        {
          "data": {
            "application/vnd.jupyter.widget-view+json": {
              "model_id": "3556dd19148c4bba8f2baeae021f6419",
              "version_major": 2,
              "version_minor": 0
            },
            "text/plain": [
              "Computing transition probabilities:   0%|          | 0/99 [00:00<?, ?it/s]"
            ]
          },
          "metadata": {},
          "output_type": "display_data"
        },
        {
          "name": "stderr",
          "output_type": "stream",
          "text": [
            "[I 2025-05-22 03:52:03,968] Trial 66 finished with value: 0.7764579267467674 and parameters: {'use_log1p': True, 'embedding_dim': 256, 'variance_threshold': 0.0001319166500804846, 'similarity_percentile': 27, 'min_sim_threshold': 0.038233716648673644, 'edge_dropout': 0.051969666934005676, 'random_edges': 0.07888279288037174, 'walk_length': 80, 'num_walks': 132, 'p': 1.6457916267985606, 'q': 1.6322127449995714, 'N_1': 467, 'N_2': 251, 'N_3': 40, 'lr': 0.0004121470497253142, 'weight_decay': 0.0032664140132554783, 'step_size': 6, 'gamma': 0.8066032779567696}. Best is trial 48 with value: 0.8077395243960264.\n"
          ]
        },
        {
          "name": "stdout",
          "output_type": "stream",
          "text": [
            "\n",
            "Early stopping at epoch 100\n"
          ]
        },
        {
          "data": {
            "application/vnd.jupyter.widget-view+json": {
              "model_id": "7fdb09bc4c524814aca604cb33baa1dc",
              "version_major": 2,
              "version_minor": 0
            },
            "text/plain": [
              "Computing transition probabilities:   0%|          | 0/97 [00:00<?, ?it/s]"
            ]
          },
          "metadata": {},
          "output_type": "display_data"
        },
        {
          "name": "stderr",
          "output_type": "stream",
          "text": [
            "[I 2025-05-22 03:52:51,868] Trial 67 finished with value: 0.7427578695177708 and parameters: {'use_log1p': True, 'embedding_dim': 128, 'variance_threshold': 0.00022662326598653156, 'similarity_percentile': 32, 'min_sim_threshold': 0.01843886209359661, 'edge_dropout': 0.02350113103315494, 'random_edges': 0.0639485954073156, 'walk_length': 76, 'num_walks': 111, 'p': 1.9604771294619794, 'q': 1.880893717340865, 'N_1': 507, 'N_2': 221, 'N_3': 54, 'lr': 0.0025320763678358736, 'weight_decay': 0.0006739473228049217, 'step_size': 9, 'gamma': 0.6840884000494153}. Best is trial 48 with value: 0.8077395243960264.\n"
          ]
        },
        {
          "name": "stdout",
          "output_type": "stream",
          "text": [
            "\n",
            "Early stopping at epoch 27\n"
          ]
        },
        {
          "data": {
            "application/vnd.jupyter.widget-view+json": {
              "model_id": "52aecdcd4b2145149225e686d42ba2a5",
              "version_major": 2,
              "version_minor": 0
            },
            "text/plain": [
              "Computing transition probabilities:   0%|          | 0/99 [00:00<?, ?it/s]"
            ]
          },
          "metadata": {},
          "output_type": "display_data"
        },
        {
          "name": "stderr",
          "output_type": "stream",
          "text": [
            "[I 2025-05-22 03:53:46,320] Trial 68 finished with value: 0.7609207641019952 and parameters: {'use_log1p': True, 'embedding_dim': 128, 'variance_threshold': 0.00010368327244978828, 'similarity_percentile': 34, 'min_sim_threshold': 0.013168964575760791, 'edge_dropout': 0.0383851343052266, 'random_edges': 0.095191141959241, 'walk_length': 66, 'num_walks': 145, 'p': 1.7678945172421936, 'q': 1.7687706358737378, 'N_1': 393, 'N_2': 228, 'N_3': 50, 'lr': 0.004567350563559958, 'weight_decay': 0.0011713824076587667, 'step_size': 7, 'gamma': 0.6534294461942817}. Best is trial 48 with value: 0.8077395243960264.\n"
          ]
        },
        {
          "name": "stdout",
          "output_type": "stream",
          "text": [
            "\n",
            "Early stopping at epoch 32\n"
          ]
        },
        {
          "data": {
            "application/vnd.jupyter.widget-view+json": {
              "model_id": "57a98aff0ca9469995822d9cb4a9f3df",
              "version_major": 2,
              "version_minor": 0
            },
            "text/plain": [
              "Computing transition probabilities:   0%|          | 0/157 [00:00<?, ?it/s]"
            ]
          },
          "metadata": {},
          "output_type": "display_data"
        },
        {
          "name": "stderr",
          "output_type": "stream",
          "text": [
            "C:\\Users\\yarom\\AppData\\Local\\Temp\\ipykernel_17556\\2663798661.py:98: RuntimeWarning:\n",
            "\n",
            "invalid value encountered in log1p\n",
            "\n",
            "[I 2025-05-22 03:54:08,516] Trial 69 finished with value: 2.449395114222183e-05 and parameters: {'use_log1p': True, 'embedding_dim': 128, 'variance_threshold': 1.5184428005297586e-05, 'similarity_percentile': 29, 'min_sim_threshold': 0.020232739532393892, 'edge_dropout': 0.06891624749353233, 'random_edges': 0.05998319888574901, 'walk_length': 73, 'num_walks': 119, 'p': 1.8997552371812496, 'q': 1.8383995358231537, 'N_1': 445, 'N_2': 256, 'N_3': 74, 'lr': 0.0033912809497512546, 'weight_decay': 0.0014774888735082806, 'step_size': 11, 'gamma': 0.8470489466925675}. Best is trial 48 with value: 0.8077395243960264.\n"
          ]
        },
        {
          "name": "stdout",
          "output_type": "stream",
          "text": [
            "\n",
            "Early stopping at epoch 9\n"
          ]
        },
        {
          "data": {
            "application/vnd.jupyter.widget-view+json": {
              "model_id": "0ca1a35c77664b9fbd0a3e76e899f84f",
              "version_major": 2,
              "version_minor": 0
            },
            "text/plain": [
              "Computing transition probabilities:   0%|          | 0/97 [00:00<?, ?it/s]"
            ]
          },
          "metadata": {},
          "output_type": "display_data"
        },
        {
          "name": "stderr",
          "output_type": "stream",
          "text": [
            "[I 2025-05-22 03:55:59,599] Trial 70 finished with value: 0.77534732556436 and parameters: {'use_log1p': True, 'embedding_dim': 128, 'variance_threshold': 0.00016251943605940914, 'similarity_percentile': 30, 'min_sim_threshold': 0.015610066711814054, 'edge_dropout': 0.04450788347167924, 'random_edges': 0.08344622612084841, 'walk_length': 91, 'num_walks': 138, 'p': 1.6856542939629524, 'q': 1.4808180734205998, 'N_1': 328, 'N_2': 209, 'N_3': 41, 'lr': 0.0015259391324681428, 'weight_decay': 0.001840411834543927, 'step_size': 5, 'gamma': 0.7666568842968852}. Best is trial 48 with value: 0.8077395243960264.\n"
          ]
        },
        {
          "name": "stdout",
          "output_type": "stream",
          "text": [
            "\n",
            "Early stopping at epoch 69\n"
          ]
        },
        {
          "data": {
            "application/vnd.jupyter.widget-view+json": {
              "model_id": "46b289785c9e47e19bee47dab756f6fd",
              "version_major": 2,
              "version_minor": 0
            },
            "text/plain": [
              "Computing transition probabilities:   0%|          | 0/99 [00:00<?, ?it/s]"
            ]
          },
          "metadata": {},
          "output_type": "display_data"
        },
        {
          "name": "stderr",
          "output_type": "stream",
          "text": [
            "[I 2025-05-22 03:56:51,968] Trial 71 finished with value: 0.7302786647980123 and parameters: {'use_log1p': True, 'embedding_dim': 128, 'variance_threshold': 0.00013244347105138179, 'similarity_percentile': 32, 'min_sim_threshold': 0.013232762881766776, 'edge_dropout': 0.05518838724478264, 'random_edges': 0.0855750661914721, 'walk_length': 84, 'num_walks': 143, 'p': 1.722685080108777, 'q': 1.7549450656538348, 'N_1': 496, 'N_2': 226, 'N_3': 110, 'lr': 0.0040311310765733825, 'weight_decay': 0.00017865553368254152, 'step_size': 8, 'gamma': 0.7967442685948576}. Best is trial 48 with value: 0.8077395243960264.\n"
          ]
        },
        {
          "name": "stdout",
          "output_type": "stream",
          "text": [
            "\n",
            "Early stopping at epoch 30\n"
          ]
        },
        {
          "data": {
            "application/vnd.jupyter.widget-view+json": {
              "model_id": "22963936cdf24b21857816609108fa53",
              "version_major": 2,
              "version_minor": 0
            },
            "text/plain": [
              "Computing transition probabilities:   0%|          | 0/96 [00:00<?, ?it/s]"
            ]
          },
          "metadata": {},
          "output_type": "display_data"
        },
        {
          "name": "stderr",
          "output_type": "stream",
          "text": [
            "[I 2025-05-22 03:57:29,305] Trial 72 finished with value: 0.6917274239701907 and parameters: {'use_log1p': True, 'embedding_dim': 128, 'variance_threshold': 0.00019607978917735863, 'similarity_percentile': 34, 'min_sim_threshold': 0.013778257576064414, 'edge_dropout': 0.07312363666268763, 'random_edges': 0.0901371090596212, 'walk_length': 82, 'num_walks': 150, 'p': 1.5961250297831613, 'q': 1.6784723363919407, 'N_1': 478, 'N_2': 234, 'N_3': 124, 'lr': 0.004424417351477382, 'weight_decay': 0.00046001982205705593, 'step_size': 6, 'gamma': 0.8316389182597183}. Best is trial 48 with value: 0.8077395243960264.\n"
          ]
        },
        {
          "name": "stdout",
          "output_type": "stream",
          "text": [
            "\n",
            "Early stopping at epoch 20\n"
          ]
        },
        {
          "data": {
            "application/vnd.jupyter.widget-view+json": {
              "model_id": "54118fbfe87f42ff9ff1a617f38f8479",
              "version_major": 2,
              "version_minor": 0
            },
            "text/plain": [
              "Computing transition probabilities:   0%|          | 0/98 [00:00<?, ?it/s]"
            ]
          },
          "metadata": {},
          "output_type": "display_data"
        },
        {
          "name": "stderr",
          "output_type": "stream",
          "text": [
            "[I 2025-05-22 03:59:52,416] Trial 73 finished with value: 0.8013561649080169 and parameters: {'use_log1p': True, 'embedding_dim': 128, 'variance_threshold': 0.00013996935104453604, 'similarity_percentile': 33, 'min_sim_threshold': 0.01781834581850287, 'edge_dropout': 0.05030682167162015, 'random_edges': 0.09510418720481197, 'walk_length': 82, 'num_walks': 146, 'p': 1.8080265719423139, 'q': 1.5685597285639763, 'N_1': 462, 'N_2': 238, 'N_3': 37, 'lr': 0.003972082025311753, 'weight_decay': 0.001073703815200023, 'step_size': 7, 'gamma': 0.7013903429318988}. Best is trial 48 with value: 0.8077395243960264.\n"
          ]
        },
        {
          "name": "stdout",
          "output_type": "stream",
          "text": [
            "\n",
            "Early stopping at epoch 90\n"
          ]
        },
        {
          "data": {
            "application/vnd.jupyter.widget-view+json": {
              "model_id": "eac4dbcc18ed40628a0f3ef8c55c6555",
              "version_major": 2,
              "version_minor": 0
            },
            "text/plain": [
              "Computing transition probabilities:   0%|          | 0/110 [00:00<?, ?it/s]"
            ]
          },
          "metadata": {},
          "output_type": "display_data"
        },
        {
          "name": "stderr",
          "output_type": "stream",
          "text": [
            "[I 2025-05-22 04:01:37,193] Trial 74 finished with value: 0.7946816568663545 and parameters: {'use_log1p': True, 'embedding_dim': 128, 'variance_threshold': 4.049440025465157e-05, 'similarity_percentile': 31, 'min_sim_threshold': 0.017929448214696872, 'edge_dropout': 0.052018939673762, 'random_edges': 0.09628716831402179, 'walk_length': 78, 'num_walks': 134, 'p': 1.8445283479426482, 'q': 1.431987535375869, 'N_1': 465, 'N_2': 244, 'N_3': 38, 'lr': 0.0030514285948368683, 'weight_decay': 0.002205276312321319, 'step_size': 7, 'gamma': 0.7102363627228037}. Best is trial 48 with value: 0.8077395243960264.\n"
          ]
        },
        {
          "name": "stdout",
          "output_type": "stream",
          "text": [
            "\n",
            "Early stopping at epoch 65\n"
          ]
        },
        {
          "data": {
            "application/vnd.jupyter.widget-view+json": {
              "model_id": "a32dcc69b0104419a287bc908260903f",
              "version_major": 2,
              "version_minor": 0
            },
            "text/plain": [
              "Computing transition probabilities:   0%|          | 0/120 [00:00<?, ?it/s]"
            ]
          },
          "metadata": {},
          "output_type": "display_data"
        },
        {
          "name": "stderr",
          "output_type": "stream",
          "text": [
            "[I 2025-05-22 04:03:36,600] Trial 75 finished with value: 0.7880144713066657 and parameters: {'use_log1p': False, 'embedding_dim': 256, 'variance_threshold': 2.7906554930058502e-05, 'similarity_percentile': 24, 'min_sim_threshold': 0.029752298073073995, 'edge_dropout': 0.048933995410393526, 'random_edges': 0.09344380870916927, 'walk_length': 86, 'num_walks': 126, 'p': 1.9665446972177416, 'q': 1.5423143271525606, 'N_1': 419, 'N_2': 148, 'N_3': 34, 'lr': 0.0037664090464105474, 'weight_decay': 0.001092595227254932, 'step_size': 6, 'gamma': 0.6259926603150189}. Best is trial 48 with value: 0.8077395243960264.\n"
          ]
        },
        {
          "name": "stdout",
          "output_type": "stream",
          "text": [
            "\n",
            "Early stopping at epoch 72\n"
          ]
        },
        {
          "data": {
            "application/vnd.jupyter.widget-view+json": {
              "model_id": "aff24d375a93429a9bfbfb82ba04cfa5",
              "version_major": 2,
              "version_minor": 0
            },
            "text/plain": [
              "Computing transition probabilities:   0%|          | 0/99 [00:00<?, ?it/s]"
            ]
          },
          "metadata": {},
          "output_type": "display_data"
        },
        {
          "name": "stderr",
          "output_type": "stream",
          "text": [
            "[I 2025-05-22 04:04:33,832] Trial 76 finished with value: 0.748689040567753 and parameters: {'use_log1p': True, 'embedding_dim': 128, 'variance_threshold': 0.00011013125249671633, 'similarity_percentile': 25, 'min_sim_threshold': 0.01687432954090275, 'edge_dropout': 0.04568763038497129, 'random_edges': 0.07048624661233799, 'walk_length': 72, 'num_walks': 131, 'p': 1.8024353332419194, 'q': 1.6046806545499959, 'N_1': 432, 'N_2': 240, 'N_3': 37, 'lr': 0.0019235346467947735, 'weight_decay': 0.001584267132263068, 'step_size': 5, 'gamma': 0.2664305352954007}. Best is trial 48 with value: 0.8077395243960264.\n"
          ]
        },
        {
          "name": "stdout",
          "output_type": "stream",
          "text": [
            "\n",
            "Early stopping at epoch 34\n"
          ]
        },
        {
          "data": {
            "application/vnd.jupyter.widget-view+json": {
              "model_id": "0134c6b4f8ad4d7d92c26ba853c0ebec",
              "version_major": 2,
              "version_minor": 0
            },
            "text/plain": [
              "Computing transition probabilities:   0%|          | 0/103 [00:00<?, ?it/s]"
            ]
          },
          "metadata": {},
          "output_type": "display_data"
        },
        {
          "name": "stderr",
          "output_type": "stream",
          "text": [
            "[I 2025-05-22 04:06:49,965] Trial 77 finished with value: 0.7932741475567271 and parameters: {'use_log1p': False, 'embedding_dim': 128, 'variance_threshold': 6.281123635030762e-05, 'similarity_percentile': 30, 'min_sim_threshold': 0.02031116546648663, 'edge_dropout': 0.038539546264158495, 'random_edges': 0.08961453076867806, 'walk_length': 56, 'num_walks': 145, 'p': 1.9086902096863074, 'q': 1.5758898942579123, 'N_1': 459, 'N_2': 218, 'N_3': 42, 'lr': 0.002713412109307384, 'weight_decay': 0.0021445939557531903, 'step_size': 7, 'gamma': 0.6677929779286353}. Best is trial 48 with value: 0.8077395243960264.\n"
          ]
        },
        {
          "name": "stdout",
          "output_type": "stream",
          "text": [
            "\n",
            "Early stopping at epoch 87\n"
          ]
        },
        {
          "data": {
            "application/vnd.jupyter.widget-view+json": {
              "model_id": "da67cabace3f45a8ac2d04fac8deb0b7",
              "version_major": 2,
              "version_minor": 0
            },
            "text/plain": [
              "Computing transition probabilities:   0%|          | 0/97 [00:00<?, ?it/s]"
            ]
          },
          "metadata": {},
          "output_type": "display_data"
        },
        {
          "name": "stderr",
          "output_type": "stream",
          "text": [
            "[I 2025-05-22 04:08:34,251] Trial 78 finished with value: 0.7991124410249906 and parameters: {'use_log1p': True, 'embedding_dim': 128, 'variance_threshold': 0.00016783036120271932, 'similarity_percentile': 28, 'min_sim_threshold': 0.026123206462347472, 'edge_dropout': 0.06773636855094334, 'random_edges': 0.09744179507677853, 'walk_length': 94, 'num_walks': 139, 'p': 1.998858104112681, 'q': 1.9946246105405827, 'N_1': 484, 'N_2': 234, 'N_3': 51, 'lr': 0.002295863280843446, 'weight_decay': 0.0006643720796184846, 'step_size': 12, 'gamma': 0.740796930416636}. Best is trial 48 with value: 0.8077395243960264.\n"
          ]
        },
        {
          "name": "stdout",
          "output_type": "stream",
          "text": [
            "\n",
            "Early stopping at epoch 64\n"
          ]
        },
        {
          "data": {
            "application/vnd.jupyter.widget-view+json": {
              "model_id": "98f7ed480aa041ba8331534d7c56676f",
              "version_major": 2,
              "version_minor": 0
            },
            "text/plain": [
              "Computing transition probabilities:   0%|          | 0/97 [00:00<?, ?it/s]"
            ]
          },
          "metadata": {},
          "output_type": "display_data"
        },
        {
          "name": "stderr",
          "output_type": "stream",
          "text": [
            "[I 2025-05-22 04:10:27,863] Trial 79 finished with value: 0.7842498414566316 and parameters: {'use_log1p': True, 'embedding_dim': 128, 'variance_threshold': 0.0001699683935650456, 'similarity_percentile': 28, 'min_sim_threshold': 0.02487629873057838, 'edge_dropout': 0.07816279523167921, 'random_edges': 0.09609346105059494, 'walk_length': 98, 'num_walks': 138, 'p': 1.8717273331664468, 'q': 1.9990407973948432, 'N_1': 488, 'N_2': 250, 'N_3': 52, 'lr': 0.0022819062986977785, 'weight_decay': 0.0006585678097413339, 'step_size': 12, 'gamma': 0.7442983656849194}. Best is trial 48 with value: 0.8077395243960264.\n"
          ]
        },
        {
          "name": "stdout",
          "output_type": "stream",
          "text": [
            "\n",
            "Early stopping at epoch 70\n"
          ]
        },
        {
          "data": {
            "application/vnd.jupyter.widget-view+json": {
              "model_id": "4666aaaad666420694013bb65ae12ee1",
              "version_major": 2,
              "version_minor": 0
            },
            "text/plain": [
              "Computing transition probabilities:   0%|          | 0/98 [00:00<?, ?it/s]"
            ]
          },
          "metadata": {},
          "output_type": "display_data"
        },
        {
          "name": "stderr",
          "output_type": "stream",
          "text": [
            "[I 2025-05-22 04:11:27,083] Trial 80 finished with value: 0.736847818769121 and parameters: {'use_log1p': True, 'embedding_dim': 128, 'variance_threshold': 0.0001425113557509485, 'similarity_percentile': 27, 'min_sim_threshold': 0.020941580938314667, 'edge_dropout': 0.06839116680456218, 'random_edges': 0.09884823582364848, 'walk_length': 95, 'num_walks': 105, 'p': 1.7976032681745404, 'q': 1.95477232435563, 'N_1': 479, 'N_2': 235, 'N_3': 45, 'lr': 0.003562217289047839, 'weight_decay': 0.0010532444653430922, 'step_size': 13, 'gamma': 0.7588513064321559}. Best is trial 48 with value: 0.8077395243960264.\n"
          ]
        },
        {
          "name": "stdout",
          "output_type": "stream",
          "text": [
            "\n",
            "Early stopping at epoch 34\n"
          ]
        },
        {
          "data": {
            "application/vnd.jupyter.widget-view+json": {
              "model_id": "86fef92554594f7f958e280eb91d5ad1",
              "version_major": 2,
              "version_minor": 0
            },
            "text/plain": [
              "Computing transition probabilities:   0%|          | 0/97 [00:00<?, ?it/s]"
            ]
          },
          "metadata": {},
          "output_type": "display_data"
        },
        {
          "name": "stderr",
          "output_type": "stream",
          "text": [
            "[I 2025-05-22 04:13:20,988] Trial 81 finished with value: 0.7907646762950524 and parameters: {'use_log1p': True, 'embedding_dim': 128, 'variance_threshold': 0.0002424942687029374, 'similarity_percentile': 28, 'min_sim_threshold': 0.026895901045449068, 'edge_dropout': 0.06489157725255244, 'random_edges': 0.09299728532242889, 'walk_length': 94, 'num_walks': 142, 'p': 1.997770814681457, 'q': 1.5082682463468284, 'N_1': 498, 'N_2': 241, 'N_3': 49, 'lr': 0.0030631135785958528, 'weight_decay': 0.002576526067667424, 'step_size': 9, 'gamma': 0.7036412177479787}. Best is trial 48 with value: 0.8077395243960264.\n"
          ]
        },
        {
          "name": "stdout",
          "output_type": "stream",
          "text": [
            "\n",
            "Early stopping at epoch 66\n"
          ]
        },
        {
          "data": {
            "application/vnd.jupyter.widget-view+json": {
              "model_id": "26156759db3148308c835626eb9ae91e",
              "version_major": 2,
              "version_minor": 0
            },
            "text/plain": [
              "Computing transition probabilities:   0%|          | 0/96 [00:00<?, ?it/s]"
            ]
          },
          "metadata": {},
          "output_type": "display_data"
        },
        {
          "name": "stderr",
          "output_type": "stream",
          "text": [
            "[I 2025-05-22 04:14:23,612] Trial 82 finished with value: 0.7499535779689527 and parameters: {'use_log1p': True, 'embedding_dim': 128, 'variance_threshold': 0.00020861050137000638, 'similarity_percentile': 33, 'min_sim_threshold': 0.011710582544241777, 'edge_dropout': 0.062044475445004986, 'random_edges': 0.08834789660934163, 'walk_length': 89, 'num_walks': 134, 'p': 1.9522436396480458, 'q': 1.6602914156579145, 'N_1': 512, 'N_2': 225, 'N_3': 32, 'lr': 0.003840130339569098, 'weight_decay': 0.0013272893517248573, 'step_size': 10, 'gamma': 0.6767486714550047}. Best is trial 48 with value: 0.8077395243960264.\n"
          ]
        },
        {
          "name": "stdout",
          "output_type": "stream",
          "text": [
            "\n",
            "Early stopping at epoch 37\n"
          ]
        },
        {
          "data": {
            "application/vnd.jupyter.widget-view+json": {
              "model_id": "ad5ff30f5b2641dbacb66925b24f18e1",
              "version_major": 2,
              "version_minor": 0
            },
            "text/plain": [
              "Computing transition probabilities:   0%|          | 0/105 [00:00<?, ?it/s]"
            ]
          },
          "metadata": {},
          "output_type": "display_data"
        },
        {
          "name": "stderr",
          "output_type": "stream",
          "text": [
            "[I 2025-05-22 04:16:34,242] Trial 83 finished with value: 0.7957022670032824 and parameters: {'use_log1p': False, 'embedding_dim': 128, 'variance_threshold': 5.0789957173779714e-05, 'similarity_percentile': 32, 'min_sim_threshold': 0.022613070538040486, 'edge_dropout': 0.058701579292635905, 'random_edges': 0.07503673229035511, 'walk_length': 83, 'num_walks': 148, 'p': 1.8424323563469005, 'q': 1.906456208850051, 'N_1': 444, 'N_2': 213, 'N_3': 57, 'lr': 0.004516587000632225, 'weight_decay': 0.0030160354318015093, 'step_size': 10, 'gamma': 0.6394304428841376}. Best is trial 48 with value: 0.8077395243960264.\n"
          ]
        },
        {
          "name": "stdout",
          "output_type": "stream",
          "text": [
            "\n",
            "Early stopping at epoch 79\n"
          ]
        },
        {
          "data": {
            "application/vnd.jupyter.widget-view+json": {
              "model_id": "465c7dd640bd41ab8da84ba767345dd9",
              "version_major": 2,
              "version_minor": 0
            },
            "text/plain": [
              "Computing transition probabilities:   0%|          | 0/97 [00:00<?, ?it/s]"
            ]
          },
          "metadata": {},
          "output_type": "display_data"
        },
        {
          "name": "stderr",
          "output_type": "stream",
          "text": [
            "[I 2025-05-22 04:17:15,709] Trial 84 finished with value: 0.7249454296025568 and parameters: {'use_log1p': True, 'embedding_dim': 128, 'variance_threshold': 0.00015669191432981367, 'similarity_percentile': 26, 'min_sim_threshold': 0.018884988174208077, 'edge_dropout': 0.07469440610152135, 'random_edges': 0.07927517758917203, 'walk_length': 86, 'num_walks': 137, 'p': 1.892023420171578, 'q': 1.5559476461437574, 'N_1': 464, 'N_2': 231, 'N_3': 44, 'lr': 0.002629926052906861, 'weight_decay': 8.058096319028948e-06, 'step_size': 12, 'gamma': 0.723471828818961}. Best is trial 48 with value: 0.8077395243960264.\n"
          ]
        },
        {
          "name": "stdout",
          "output_type": "stream",
          "text": [
            "\n",
            "Early stopping at epoch 23\n"
          ]
        },
        {
          "data": {
            "application/vnd.jupyter.widget-view+json": {
              "model_id": "a7c9dd1e9121423cbb40a8d34e90f4c9",
              "version_major": 2,
              "version_minor": 0
            },
            "text/plain": [
              "Computing transition probabilities:   0%|          | 0/99 [00:00<?, ?it/s]"
            ]
          },
          "metadata": {},
          "output_type": "display_data"
        },
        {
          "name": "stderr",
          "output_type": "stream",
          "text": [
            "[I 2025-05-22 04:19:38,761] Trial 85 finished with value: 0.7697257899309241 and parameters: {'use_log1p': False, 'embedding_dim': 128, 'variance_threshold': 7.684861091617352e-05, 'similarity_percentile': 31, 'min_sim_threshold': 0.06371340706785769, 'edge_dropout': 0.032678000937744374, 'random_edges': 0.0656251862177836, 'walk_length': 20, 'num_walks': 129, 'p': 1.7581461138497594, 'q': 1.7098764045963657, 'N_1': 485, 'N_2': 248, 'N_3': 40, 'lr': 0.0049544649486918824, 'weight_decay': 0.00041691616469013385, 'step_size': 8, 'gamma': 0.6875837206289835}. Best is trial 48 with value: 0.8077395243960264.\n"
          ]
        },
        {
          "name": "stdout",
          "output_type": "stream",
          "text": [
            "\n",
            "Early stopping at epoch 92\n"
          ]
        },
        {
          "data": {
            "application/vnd.jupyter.widget-view+json": {
              "model_id": "abb862963f854beea7214575955df111",
              "version_major": 2,
              "version_minor": 0
            },
            "text/plain": [
              "Computing transition probabilities:   0%|          | 0/96 [00:00<?, ?it/s]"
            ]
          },
          "metadata": {},
          "output_type": "display_data"
        },
        {
          "name": "stderr",
          "output_type": "stream",
          "text": [
            "[I 2025-05-22 04:22:23,916] Trial 86 finished with value: 0.7993651723916072 and parameters: {'use_log1p': True, 'embedding_dim': 256, 'variance_threshold': 0.00018672763380959783, 'similarity_percentile': 35, 'min_sim_threshold': 0.01535431911674092, 'edge_dropout': 0.061200891330009374, 'random_edges': 0.09361035667167235, 'walk_length': 77, 'num_walks': 144, 'p': 1.9645429855201009, 'q': 1.8518370257267178, 'N_1': 473, 'N_2': 184, 'N_3': 125, 'lr': 0.0033228903875929246, 'weight_decay': 0.0008273762293959294, 'step_size': 10, 'gamma': 0.8142154938677822}. Best is trial 48 with value: 0.8077395243960264.\n"
          ]
        },
        {
          "data": {
            "application/vnd.jupyter.widget-view+json": {
              "model_id": "96a4ccb389754f368a86bdef2074ed42",
              "version_major": 2,
              "version_minor": 0
            },
            "text/plain": [
              "Computing transition probabilities:   0%|          | 0/96 [00:00<?, ?it/s]"
            ]
          },
          "metadata": {},
          "output_type": "display_data"
        },
        {
          "name": "stderr",
          "output_type": "stream",
          "text": [
            "[I 2025-05-22 04:24:38,708] Trial 87 finished with value: 0.7979600199186593 and parameters: {'use_log1p': True, 'embedding_dim': 256, 'variance_threshold': 0.00019620367904464678, 'similarity_percentile': 35, 'min_sim_threshold': 0.01609133909004968, 'edge_dropout': 0.06702744739217442, 'random_edges': 0.05156449251264218, 'walk_length': 97, 'num_walks': 125, 'p': 1.9388581805643632, 'q': 1.8400643119942497, 'N_1': 472, 'N_2': 221, 'N_3': 112, 'lr': 0.0033604294399261964, 'weight_decay': 0.0007713238586469879, 'step_size': 11, 'gamma': 0.47343229138628706}. Best is trial 48 with value: 0.8077395243960264.\n"
          ]
        },
        {
          "name": "stdout",
          "output_type": "stream",
          "text": [
            "\n",
            "Early stopping at epoch 75\n"
          ]
        },
        {
          "data": {
            "application/vnd.jupyter.widget-view+json": {
              "model_id": "9ac261c35af34e9d9bf7e32de7e6d21a",
              "version_major": 2,
              "version_minor": 0
            },
            "text/plain": [
              "Computing transition probabilities:   0%|          | 0/99 [00:00<?, ?it/s]"
            ]
          },
          "metadata": {},
          "output_type": "display_data"
        },
        {
          "name": "stderr",
          "output_type": "stream",
          "text": [
            "[I 2025-05-22 04:25:40,840] Trial 88 finished with value: 0.74960525567178 and parameters: {'use_log1p': True, 'embedding_dim': 256, 'variance_threshold': 0.0001247971392201517, 'similarity_percentile': 34, 'min_sim_threshold': 0.01272635523580291, 'edge_dropout': 0.07146739991092352, 'random_edges': 0.09709492659207725, 'walk_length': 93, 'num_walks': 120, 'p': 1.8626613875943339, 'q': 1.92837071964147, 'N_1': 502, 'N_2': 158, 'N_3': 121, 'lr': 0.0022933414721198263, 'weight_decay': 0.0009264649197429789, 'step_size': 7, 'gamma': 0.8143619418970908}. Best is trial 48 with value: 0.8077395243960264.\n"
          ]
        },
        {
          "name": "stdout",
          "output_type": "stream",
          "text": [
            "\n",
            "Early stopping at epoch 34\n"
          ]
        },
        {
          "data": {
            "application/vnd.jupyter.widget-view+json": {
              "model_id": "84be24b22d2b4adc9eb4ed565dadfc67",
              "version_major": 2,
              "version_minor": 0
            },
            "text/plain": [
              "Computing transition probabilities:   0%|          | 0/97 [00:00<?, ?it/s]"
            ]
          },
          "metadata": {},
          "output_type": "display_data"
        },
        {
          "name": "stderr",
          "output_type": "stream",
          "text": [
            "[I 2025-05-22 04:27:38,950] Trial 89 finished with value: 0.786623945937298 and parameters: {'use_log1p': True, 'embedding_dim': 256, 'variance_threshold': 0.0001410637541488843, 'similarity_percentile': 35, 'min_sim_threshold': 0.01533158051642873, 'edge_dropout': 0.027684237806621055, 'random_edges': 0.09417801568469833, 'walk_length': 77, 'num_walks': 140, 'p': 1.9186277236118694, 'q': 1.8499207250952274, 'N_1': 448, 'N_2': 238, 'N_3': 124, 'lr': 0.0017452010676859864, 'weight_decay': 0.0017177868363842338, 'step_size': 6, 'gamma': 0.8381466202911667}. Best is trial 48 with value: 0.8077395243960264.\n"
          ]
        },
        {
          "name": "stdout",
          "output_type": "stream",
          "text": [
            "\n",
            "Early stopping at epoch 69\n"
          ]
        },
        {
          "data": {
            "application/vnd.jupyter.widget-view+json": {
              "model_id": "c9504b48814c4f63a35f51edda236ab7",
              "version_major": 2,
              "version_minor": 0
            },
            "text/plain": [
              "Computing transition probabilities:   0%|          | 0/96 [00:00<?, ?it/s]"
            ]
          },
          "metadata": {},
          "output_type": "display_data"
        },
        {
          "name": "stderr",
          "output_type": "stream",
          "text": [
            "[I 2025-05-22 04:29:38,125] Trial 90 finished with value: 0.7716300626602071 and parameters: {'use_log1p': True, 'embedding_dim': 256, 'variance_threshold': 0.0001828726538600862, 'similarity_percentile': 34, 'min_sim_threshold': 0.04482287554303403, 'edge_dropout': 0.061876120841799775, 'random_edges': 0.09114336237561012, 'walk_length': 80, 'num_walks': 146, 'p': 1.4951206848158032, 'q': 1.7713540091944275, 'N_1': 158, 'N_2': 252, 'N_3': 60, 'lr': 0.003964847215505711, 'weight_decay': 0.0006020636202111048, 'step_size': 13, 'gamma': 0.5400839290813226}. Best is trial 48 with value: 0.8077395243960264.\n"
          ]
        },
        {
          "name": "stdout",
          "output_type": "stream",
          "text": [
            "\n",
            "Early stopping at epoch 75\n"
          ]
        },
        {
          "data": {
            "application/vnd.jupyter.widget-view+json": {
              "model_id": "9af27c40e8e1410fbf24e2c133390fa1",
              "version_major": 2,
              "version_minor": 0
            },
            "text/plain": [
              "Computing transition probabilities:   0%|          | 0/100 [00:00<?, ?it/s]"
            ]
          },
          "metadata": {},
          "output_type": "display_data"
        },
        {
          "name": "stderr",
          "output_type": "stream",
          "text": [
            "[I 2025-05-22 04:30:28,393] Trial 91 finished with value: 0.73013010822264 and parameters: {'use_log1p': False, 'embedding_dim': 128, 'variance_threshold': 8.368586988527438e-05, 'similarity_percentile': 29, 'min_sim_threshold': 0.010023976098097468, 'edge_dropout': 0.05741172879084166, 'random_edges': 0.09989379406610997, 'walk_length': 70, 'num_walks': 143, 'p': 1.9719274886026081, 'q': 1.9983720445056097, 'N_1': 458, 'N_2': 189, 'N_3': 118, 'lr': 0.002964416525682193, 'weight_decay': 0.0003590179865896396, 'step_size': 9, 'gamma': 0.8613486980948091}. Best is trial 48 with value: 0.8077395243960264.\n"
          ]
        },
        {
          "name": "stdout",
          "output_type": "stream",
          "text": [
            "\n",
            "Early stopping at epoch 29\n"
          ]
        },
        {
          "data": {
            "application/vnd.jupyter.widget-view+json": {
              "model_id": "17034c37d6bb4bac9e6399baf072ad44",
              "version_major": 2,
              "version_minor": 0
            },
            "text/plain": [
              "Computing transition probabilities:   0%|          | 0/96 [00:00<?, ?it/s]"
            ]
          },
          "metadata": {},
          "output_type": "display_data"
        },
        {
          "name": "stderr",
          "output_type": "stream",
          "text": [
            "[I 2025-05-22 04:32:30,959] Trial 92 finished with value: 0.7733381139498274 and parameters: {'use_log1p': True, 'embedding_dim': 128, 'variance_threshold': 0.00016026036573854518, 'similarity_percentile': 33, 'min_sim_threshold': 0.018567476560047414, 'edge_dropout': 0.05410220963999336, 'random_edges': 0.08723880889745277, 'walk_length': 82, 'num_walks': 133, 'p': 1.997798743874541, 'q': 1.7272726130106166, 'N_1': 481, 'N_2': 232, 'N_3': 125, 'lr': 0.00342300325390668, 'weight_decay': 0.0014067004649459443, 'step_size': 10, 'gamma': 0.8813020268123927}. Best is trial 48 with value: 0.8077395243960264.\n"
          ]
        },
        {
          "name": "stdout",
          "output_type": "stream",
          "text": [
            "\n",
            "Early stopping at epoch 77\n"
          ]
        },
        {
          "data": {
            "application/vnd.jupyter.widget-view+json": {
              "model_id": "f665687c15c0448d9f482fc860e8db10",
              "version_major": 2,
              "version_minor": 0
            },
            "text/plain": [
              "Computing transition probabilities:   0%|          | 0/99 [00:00<?, ?it/s]"
            ]
          },
          "metadata": {},
          "output_type": "display_data"
        },
        {
          "name": "stderr",
          "output_type": "stream",
          "text": [
            "[I 2025-05-22 04:33:41,997] Trial 93 finished with value: 0.733151127363082 and parameters: {'use_log1p': True, 'embedding_dim': 128, 'variance_threshold': 9.702086347486122e-05, 'similarity_percentile': 31, 'min_sim_threshold': 0.023035988997360545, 'edge_dropout': 0.04985101270926448, 'random_edges': 0.08124575087102091, 'walk_length': 74, 'num_walks': 148, 'p': 1.8273086757930648, 'q': 1.8074731746235428, 'N_1': 491, 'N_2': 182, 'N_3': 122, 'lr': 0.004447095660315811, 'weight_decay': 0.002073910768992615, 'step_size': 15, 'gamma': 0.750112767255171}. Best is trial 48 with value: 0.8077395243960264.\n"
          ]
        },
        {
          "name": "stdout",
          "output_type": "stream",
          "text": [
            "\n",
            "Early stopping at epoch 42\n"
          ]
        },
        {
          "data": {
            "application/vnd.jupyter.widget-view+json": {
              "model_id": "5473e62746a94f3aa5750b705a856acd",
              "version_major": 2,
              "version_minor": 0
            },
            "text/plain": [
              "Computing transition probabilities:   0%|          | 0/99 [00:00<?, ?it/s]"
            ]
          },
          "metadata": {},
          "output_type": "display_data"
        },
        {
          "name": "stderr",
          "output_type": "stream",
          "text": [
            "[I 2025-05-22 04:34:06,317] Trial 94 finished with value: 0.6233013833112364 and parameters: {'use_log1p': False, 'embedding_dim': 256, 'variance_threshold': 0.00011029494943769002, 'similarity_percentile': 9, 'min_sim_threshold': 0.029756162275310936, 'edge_dropout': 0.06474402367381488, 'random_edges': 0.0845807810808825, 'walk_length': 79, 'num_walks': 141, 'p': 1.8937748820363776, 'q': 1.618047769422264, 'N_1': 473, 'N_2': 174, 'N_3': 47, 'lr': 0.002564022113672772, 'weight_decay': 0.0011528012677810072, 'step_size': 12, 'gamma': 0.7758299000893664}. Best is trial 48 with value: 0.8077395243960264.\n"
          ]
        },
        {
          "name": "stdout",
          "output_type": "stream",
          "text": [
            "\n",
            "Early stopping at epoch 10\n"
          ]
        },
        {
          "data": {
            "application/vnd.jupyter.widget-view+json": {
              "model_id": "f6980075cdd84202945dace1c2caa5fd",
              "version_major": 2,
              "version_minor": 0
            },
            "text/plain": [
              "Computing transition probabilities:   0%|          | 0/107 [00:00<?, ?it/s]"
            ]
          },
          "metadata": {},
          "output_type": "display_data"
        },
        {
          "name": "stderr",
          "output_type": "stream",
          "text": [
            "[I 2025-05-22 04:36:03,739] Trial 95 finished with value: 0.789196415624254 and parameters: {'use_log1p': True, 'embedding_dim': 128, 'variance_threshold': 4.619554102795601e-05, 'similarity_percentile': 32, 'min_sim_threshold': 0.02526830532863587, 'edge_dropout': 0.0607246615556274, 'random_edges': 0.09395947199309983, 'walk_length': 87, 'num_walks': 96, 'p': 1.7890291931052447, 'q': 1.688564386965765, 'N_1': 503, 'N_2': 153, 'N_3': 35, 'lr': 0.0020085713644414777, 'weight_decay': 0.0008600300507641387, 'step_size': 9, 'gamma': 0.8014863425752342}. Best is trial 48 with value: 0.8077395243960264.\n"
          ]
        },
        {
          "name": "stdout",
          "output_type": "stream",
          "text": [
            "\n",
            "Early stopping at epoch 75\n"
          ]
        },
        {
          "data": {
            "application/vnd.jupyter.widget-view+json": {
              "model_id": "bf9b884e7cb04f499fc872ea9a5f2f4b",
              "version_major": 2,
              "version_minor": 0
            },
            "text/plain": [
              "Computing transition probabilities:   0%|          | 0/97 [00:00<?, ?it/s]"
            ]
          },
          "metadata": {},
          "output_type": "display_data"
        },
        {
          "name": "stderr",
          "output_type": "stream",
          "text": [
            "[I 2025-05-22 04:37:55,543] Trial 96 finished with value: 0.7468725061999882 and parameters: {'use_log1p': False, 'embedding_dim': 128, 'variance_threshold': 0.00023722936770844395, 'similarity_percentile': 30, 'min_sim_threshold': 0.012072612688191986, 'edge_dropout': 0.0696630989131696, 'random_edges': 0.0888108064366284, 'walk_length': 67, 'num_walks': 144, 'p': 1.711385640245729, 'q': 1.5035250482815745, 'N_1': 452, 'N_2': 163, 'N_3': 119, 'lr': 0.0002292926767246733, 'weight_decay': 0.0002464506773856073, 'step_size': 11, 'gamma': 0.719445431250632}. Best is trial 48 with value: 0.8077395243960264.\n"
          ]
        },
        {
          "name": "stdout",
          "output_type": "stream",
          "text": [
            "\n",
            "Early stopping at epoch 71\n"
          ]
        },
        {
          "data": {
            "application/vnd.jupyter.widget-view+json": {
              "model_id": "aed3fe146aea44b3b05378a2330f7f47",
              "version_major": 2,
              "version_minor": 0
            },
            "text/plain": [
              "Computing transition probabilities:   0%|          | 0/97 [00:00<?, ?it/s]"
            ]
          },
          "metadata": {},
          "output_type": "display_data"
        },
        {
          "name": "stderr",
          "output_type": "stream",
          "text": [
            "[I 2025-05-22 04:40:26,517] Trial 97 finished with value: 0.8022567278980006 and parameters: {'use_log1p': True, 'embedding_dim': 128, 'variance_threshold': 0.00020431452788219126, 'similarity_percentile': 29, 'min_sim_threshold': 0.015089360651738902, 'edge_dropout': 0.04741603681643375, 'random_edges': 0.09724916073399338, 'walk_length': 100, 'num_walks': 129, 'p': 1.9596870940763806, 'q': 1.639525177579501, 'N_1': 236, 'N_2': 204, 'N_3': 126, 'lr': 0.0028725938832879975, 'weight_decay': 0.0012716595098549114, 'step_size': 10, 'gamma': 0.7881269307318837}. Best is trial 48 with value: 0.8077395243960264.\n"
          ]
        },
        {
          "data": {
            "application/vnd.jupyter.widget-view+json": {
              "model_id": "e17e730eab0148c283463b9173c43eba",
              "version_major": 2,
              "version_minor": 0
            },
            "text/plain": [
              "Computing transition probabilities:   0%|          | 0/96 [00:00<?, ?it/s]"
            ]
          },
          "metadata": {},
          "output_type": "display_data"
        },
        {
          "name": "stderr",
          "output_type": "stream",
          "text": [
            "[I 2025-05-22 04:43:05,487] Trial 98 finished with value: 0.7894491287514483 and parameters: {'use_log1p': True, 'embedding_dim': 128, 'variance_threshold': 0.00027253194834382503, 'similarity_percentile': 23, 'min_sim_threshold': 0.014262722847283426, 'edge_dropout': 0.042510683490853615, 'random_edges': 0.09232393940676478, 'walk_length': 99, 'num_walks': 131, 'p': 1.9249859221217427, 'q': 1.3551197822674008, 'N_1': 202, 'N_2': 244, 'N_3': 39, 'lr': 0.00373493756827329, 'weight_decay': 0.0016482551015108006, 'step_size': 8, 'gamma': 0.8316821083918493}. Best is trial 48 with value: 0.8077395243960264.\n"
          ]
        },
        {
          "data": {
            "application/vnd.jupyter.widget-view+json": {
              "model_id": "5c1d88bd293d4222a7b4d306f7245599",
              "version_major": 2,
              "version_minor": 0
            },
            "text/plain": [
              "Computing transition probabilities:   0%|          | 0/95 [00:00<?, ?it/s]"
            ]
          },
          "metadata": {},
          "output_type": "display_data"
        },
        {
          "name": "stderr",
          "output_type": "stream",
          "text": [
            "[I 2025-05-22 04:45:29,165] Trial 99 finished with value: 0.7957932134496999 and parameters: {'use_log1p': True, 'embedding_dim': 128, 'variance_threshold': 0.00033129783999773514, 'similarity_percentile': 27, 'min_sim_threshold': 0.017138467258931932, 'edge_dropout': 0.07954849137867961, 'random_edges': 0.09789532595055589, 'walk_length': 100, 'num_walks': 128, 'p': 1.8639322306210033, 'q': 1.6485245390230534, 'N_1': 179, 'N_2': 203, 'N_3': 115, 'lr': 0.0032187089122705237, 'weight_decay': 0.0012736346311689468, 'step_size': 10, 'gamma': 0.7381338870650851}. Best is trial 48 with value: 0.8077395243960264.\n"
          ]
        },
        {
          "name": "stdout",
          "output_type": "stream",
          "text": [
            "\n",
            "Early stopping at epoch 95\n"
          ]
        }
      ],
      "source": [
        "study = optuna.create_study(\n",
        "    direction=\"maximize\",\n",
        "    sampler=TPESampler(seed=42)\n",
        ")\n",
        "\n",
        "study.optimize(objective, n_trials=100)\n"
      ]
    },
    {
      "cell_type": "code",
      "execution_count": null,
      "id": "691ed2fa",
      "metadata": {
        "id": "691ed2fa",
        "outputId": "9d792de6-f370-44ca-f799-62f4fc92eb07"
      },
      "outputs": [
        {
          "name": "stdout",
          "output_type": "stream",
          "text": [
            "Best F1 score: 0.8077395243960264\n",
            "Best params: {'use_log1p': True, 'embedding_dim': 128, 'variance_threshold': 7.085205269631791e-05, 'similarity_percentile': 27, 'min_sim_threshold': 0.014267506582526707, 'edge_dropout': 0.042819205420969626, 'random_edges': 0.07337084046911121, 'walk_length': 99, 'num_walks': 124, 'p': 1.9254130975680397, 'q': 1.769164760679882, 'N_1': 489, 'N_2': 244, 'N_3': 117, 'lr': 0.004957145923354909, 'weight_decay': 0.001099083458108217, 'step_size': 10, 'gamma': 0.8538115312974013}\n"
          ]
        }
      ],
      "source": [
        "print(\"Best F1 score:\", study.best_value)\n",
        "print(\"Best params:\", study.best_params)"
      ]
    },
    {
      "cell_type": "markdown",
      "id": "WueMFx0BJfO8",
      "metadata": {
        "id": "WueMFx0BJfO8"
      },
      "source": [
        "### TF-IDF + Node2Vec + FC: F1 = 0.81, train_time: 2:00, inference time: 0.004"
      ]
    },
    {
      "cell_type": "markdown",
      "id": "28qt-HipKLkG",
      "metadata": {
        "id": "28qt-HipKLkG"
      },
      "source": [
        "## Вывод"
      ]
    },
    {
      "cell_type": "code",
      "execution_count": 84,
      "id": "3TY6wY6lKN6n",
      "metadata": {
        "colab": {
          "base_uri": "https://localhost:8080/",
          "height": 206
        },
        "id": "3TY6wY6lKN6n",
        "outputId": "9e05500e-7c69-44b1-ef30-c56befced5d1"
      },
      "outputs": [
        {
          "data": {
            "text/html": [
              "<div>\n",
              "<style scoped>\n",
              "    .dataframe tbody tr th:only-of-type {\n",
              "        vertical-align: middle;\n",
              "    }\n",
              "\n",
              "    .dataframe tbody tr th {\n",
              "        vertical-align: top;\n",
              "    }\n",
              "\n",
              "    .dataframe thead th {\n",
              "        text-align: right;\n",
              "    }\n",
              "</style>\n",
              "<table border=\"1\" class=\"dataframe\">\n",
              "  <thead>\n",
              "    <tr style=\"text-align: right;\">\n",
              "      <th></th>\n",
              "      <th>Model</th>\n",
              "      <th>F1 Score</th>\n",
              "      <th>Train Time</th>\n",
              "      <th>Inference Time (sec)</th>\n",
              "    </tr>\n",
              "  </thead>\n",
              "  <tbody>\n",
              "    <tr>\n",
              "      <th>0</th>\n",
              "      <td>Word2Vec + FC</td>\n",
              "      <td>0.75</td>\n",
              "      <td>1:21</td>\n",
              "      <td>0.001</td>\n",
              "    </tr>\n",
              "    <tr>\n",
              "      <th>1</th>\n",
              "      <td>BERT + KNN + SAGEConv</td>\n",
              "      <td>0.79</td>\n",
              "      <td>4:37</td>\n",
              "      <td>0.014</td>\n",
              "    </tr>\n",
              "    <tr>\n",
              "      <th>2</th>\n",
              "      <td>BERT + KNN + GAT</td>\n",
              "      <td>0.70</td>\n",
              "      <td>6:50</td>\n",
              "      <td>0.025</td>\n",
              "    </tr>\n",
              "    <tr>\n",
              "      <th>3</th>\n",
              "      <td>BERT + FC</td>\n",
              "      <td>0.82</td>\n",
              "      <td>4:36</td>\n",
              "      <td>0.021</td>\n",
              "    </tr>\n",
              "    <tr>\n",
              "      <th>4</th>\n",
              "      <td>TF-IDF + Node2Vec + FC</td>\n",
              "      <td>0.81</td>\n",
              "      <td>2:00</td>\n",
              "      <td>0.004</td>\n",
              "    </tr>\n",
              "  </tbody>\n",
              "</table>\n",
              "</div>"
            ],
            "text/plain": [
              "                    Model  F1 Score Train Time  Inference Time (sec)\n",
              "0           Word2Vec + FC      0.75       1:21                 0.001\n",
              "1   BERT + KNN + SAGEConv      0.79       4:37                 0.014\n",
              "2        BERT + KNN + GAT      0.70       6:50                 0.025\n",
              "3               BERT + FC      0.82       4:36                 0.021\n",
              "4  TF-IDF + Node2Vec + FC      0.81       2:00                 0.004"
            ]
          },
          "execution_count": 84,
          "metadata": {},
          "output_type": "execute_result"
        }
      ],
      "source": [
        "import pandas as pd\n",
        "\n",
        "data = {\n",
        "    'Model': ['Word2Vec + FC', 'BERT + KNN + SAGEConv', 'BERT + KNN + GAT', 'BERT + FC', 'TF-IDF + Node2Vec + FC'],\n",
        "    'F1 Score': [0.75, 0.79, 0.7, 0.82, 0.81],\n",
        "    'Train Time': ['1:21', '4:37', '6:50', '4:36', '2:00'],\n",
        "    'Inference Time (sec)': [0.001, 0.014, 0.025, 0.021, 0.004]\n",
        "}\n",
        "\n",
        "df = pd.DataFrame(data)\n",
        "df"
      ]
    },
    {
      "cell_type": "markdown",
      "id": "xkQmTA4TSHoD",
      "metadata": {
        "id": "xkQmTA4TSHoD"
      },
      "source": [
        "Базовая модель Word2Vec + FC продемонстрировала F1-меру = 0.75 при минимальном времени инференса (0.001 сек), что подтверждает её пригодность в качестве лёгкого базового подхода, но малую эффективность при работе с неоднозначными фрагментами кода.\n",
        "\n",
        "Модели, сочетающие трансформерные эмбеддинги CodeBERT с графовыми нейронными сетями, показали смешанные результаты. Подход с использованием GraphSAGE (F1 = 0.79) оказался более устойчивым и качественным по сравнению с GAT (F1 = 0.70), что, вероятно, связано с переусложнённой архитектурой последнего и высокой чувствительностью к шуму. Хотя оба графовых подхода уступают по эффективности CodeBERT + полносвязному классификатору, их применение даёт стабильный прирост качества по сравнению с базовыми методами. Это подтверждает перспективность использования графовых структур в задачах, где важны семантические связи между фрагментами текста, однако текущая реализация требует оптимизации для снижения вычислительных затрат и качества модели.\n",
        "\n",
        "Наилучшее значение F1-меры (0.82) показала модель, основанная на эмбеддингах CodeBERT и простой полносвязной нейросети, что подтверждает высокую эффективность трансформерных моделей даже без использования графов. Однако при этом она значительно уступает по скорости предсказания и требует значительного времени обучения.\n",
        "\n",
        "Наиболее сбалансированный результат продемонстрировал авторский метод, сочетающий TF-IDF, отбор признаков по дисперсии, создание графа на основе косинусной близости, агрегацию через Node2Vec и глубокую нейросетевую классификацию. При значении F1-меры 0.81 он почти не уступает лучшему результату, но при этом существенно превосходит альтернативы по скорости обработки. Благодаря этому он может быть использован в системах с высокой нагрузкой, где требуется минимизация времени отклика при сохранении максимального качества предсказаний.\n",
        "\n",
        "Таким образом, можно сделать вывод, что применение трансформеров в сочетании с графовыми структурами либо продвинутыми архитектурами может обеспечить высокую точность, но зачастую требует значительных ресурсов. В то же время предложенная комбинация методов (TF-IDF + Node2Vec) демонстрирует почти такие же показатели качества при существенно меньших требованиях к ресурсам. Такой подход может служить практичной альтернативой для задач, где важны как качество предсказаний, так и вычислительная эффективность.\n"
      ]
    },
    {
      "cell_type": "code",
      "execution_count": null,
      "id": "oBdvNLMBNnL0",
      "metadata": {
        "id": "oBdvNLMBNnL0"
      },
      "outputs": [],
      "source": []
    }
  ],
  "metadata": {
    "accelerator": "GPU",
    "colab": {
      "gpuType": "T4",
      "provenance": []
    },
    "kernelspec": {
      "display_name": "Python 3",
      "name": "python3"
    },
    "language_info": {
      "codemirror_mode": {
        "name": "ipython",
        "version": 3
      },
      "file_extension": ".py",
      "mimetype": "text/x-python",
      "name": "python",
      "nbconvert_exporter": "python",
      "pygments_lexer": "ipython3",
      "version": "3.12.3"
    },
    "widgets": {
      "application/vnd.jupyter.widget-state+json": {
        "00005104a19542bfab3285aebbd8f5bd": {
          "model_module": "@jupyter-widgets/controls",
          "model_module_version": "1.5.0",
          "model_name": "HTMLModel",
          "state": {
            "_dom_classes": [],
            "_model_module": "@jupyter-widgets/controls",
            "_model_module_version": "1.5.0",
            "_model_name": "HTMLModel",
            "_view_count": null,
            "_view_module": "@jupyter-widgets/controls",
            "_view_module_version": "1.5.0",
            "_view_name": "HTMLView",
            "description": "",
            "description_tooltip": null,
            "layout": "IPY_MODEL_194d3f624af543168170cc89c76ac44b",
            "placeholder": "​",
            "style": "IPY_MODEL_f52dae1ac2924cfa98bb94bcd286735f",
            "value": " 498/498 [00:00&lt;00:00, 52.2kB/s]"
          }
        },
        "015230b4e8784940bec490ad496460cf": {
          "model_module": "@jupyter-widgets/base",
          "model_module_version": "1.2.0",
          "model_name": "LayoutModel",
          "state": {
            "_model_module": "@jupyter-widgets/base",
            "_model_module_version": "1.2.0",
            "_model_name": "LayoutModel",
            "_view_count": null,
            "_view_module": "@jupyter-widgets/base",
            "_view_module_version": "1.2.0",
            "_view_name": "LayoutView",
            "align_content": null,
            "align_items": null,
            "align_self": null,
            "border": null,
            "bottom": null,
            "display": null,
            "flex": null,
            "flex_flow": null,
            "grid_area": null,
            "grid_auto_columns": null,
            "grid_auto_flow": null,
            "grid_auto_rows": null,
            "grid_column": null,
            "grid_gap": null,
            "grid_row": null,
            "grid_template_areas": null,
            "grid_template_columns": null,
            "grid_template_rows": null,
            "height": null,
            "justify_content": null,
            "justify_items": null,
            "left": null,
            "margin": null,
            "max_height": null,
            "max_width": null,
            "min_height": null,
            "min_width": null,
            "object_fit": null,
            "object_position": null,
            "order": null,
            "overflow": null,
            "overflow_x": null,
            "overflow_y": null,
            "padding": null,
            "right": null,
            "top": null,
            "visibility": null,
            "width": null
          }
        },
        "03ba427a84e548528764ad303b9ba9d0": {
          "model_module": "@jupyter-widgets/controls",
          "model_module_version": "1.5.0",
          "model_name": "ProgressStyleModel",
          "state": {
            "_model_module": "@jupyter-widgets/controls",
            "_model_module_version": "1.5.0",
            "_model_name": "ProgressStyleModel",
            "_view_count": null,
            "_view_module": "@jupyter-widgets/base",
            "_view_module_version": "1.2.0",
            "_view_name": "StyleView",
            "bar_color": null,
            "description_width": ""
          }
        },
        "068ba4bfb05342d3aba738f9b209b319": {
          "model_module": "@jupyter-widgets/controls",
          "model_module_version": "1.5.0",
          "model_name": "HTMLModel",
          "state": {
            "_dom_classes": [],
            "_model_module": "@jupyter-widgets/controls",
            "_model_module_version": "1.5.0",
            "_model_name": "HTMLModel",
            "_view_count": null,
            "_view_module": "@jupyter-widgets/controls",
            "_view_module_version": "1.5.0",
            "_view_name": "HTMLView",
            "description": "",
            "description_tooltip": null,
            "layout": "IPY_MODEL_14b48fa5739740698714f16b40032975",
            "placeholder": "​",
            "style": "IPY_MODEL_462bc69f40a84b20bed39656acf4422e",
            "value": "tokenizer_config.json: 100%"
          }
        },
        "08463c00e42c44c7a68008ae96eac657": {
          "model_module": "@jupyter-widgets/controls",
          "model_module_version": "1.5.0",
          "model_name": "FloatProgressModel",
          "state": {
            "_dom_classes": [],
            "_model_module": "@jupyter-widgets/controls",
            "_model_module_version": "1.5.0",
            "_model_name": "FloatProgressModel",
            "_view_count": null,
            "_view_module": "@jupyter-widgets/controls",
            "_view_module_version": "1.5.0",
            "_view_name": "ProgressView",
            "bar_style": "success",
            "description": "",
            "description_tooltip": null,
            "layout": "IPY_MODEL_0e2722162eb14cd5ae32e6f7c26f571c",
            "max": 25,
            "min": 0,
            "orientation": "horizontal",
            "style": "IPY_MODEL_03ba427a84e548528764ad303b9ba9d0",
            "value": 25
          }
        },
        "09f8524148eb4ea382d6bfda6b543b97": {
          "model_module": "@jupyter-widgets/controls",
          "model_module_version": "1.5.0",
          "model_name": "HTMLModel",
          "state": {
            "_dom_classes": [],
            "_model_module": "@jupyter-widgets/controls",
            "_model_module_version": "1.5.0",
            "_model_name": "HTMLModel",
            "_view_count": null,
            "_view_module": "@jupyter-widgets/controls",
            "_view_module_version": "1.5.0",
            "_view_name": "HTMLView",
            "description": "",
            "description_tooltip": null,
            "layout": "IPY_MODEL_d1206c2039ed45a7abb62d406e6bd65f",
            "placeholder": "​",
            "style": "IPY_MODEL_176ca0a4fbc24fcbb164fa180d55b639",
            "value": " 25.0/25.0 [00:00&lt;00:00, 2.60kB/s]"
          }
        },
        "0e2722162eb14cd5ae32e6f7c26f571c": {
          "model_module": "@jupyter-widgets/base",
          "model_module_version": "1.2.0",
          "model_name": "LayoutModel",
          "state": {
            "_model_module": "@jupyter-widgets/base",
            "_model_module_version": "1.2.0",
            "_model_name": "LayoutModel",
            "_view_count": null,
            "_view_module": "@jupyter-widgets/base",
            "_view_module_version": "1.2.0",
            "_view_name": "LayoutView",
            "align_content": null,
            "align_items": null,
            "align_self": null,
            "border": null,
            "bottom": null,
            "display": null,
            "flex": null,
            "flex_flow": null,
            "grid_area": null,
            "grid_auto_columns": null,
            "grid_auto_flow": null,
            "grid_auto_rows": null,
            "grid_column": null,
            "grid_gap": null,
            "grid_row": null,
            "grid_template_areas": null,
            "grid_template_columns": null,
            "grid_template_rows": null,
            "height": null,
            "justify_content": null,
            "justify_items": null,
            "left": null,
            "margin": null,
            "max_height": null,
            "max_width": null,
            "min_height": null,
            "min_width": null,
            "object_fit": null,
            "object_position": null,
            "order": null,
            "overflow": null,
            "overflow_x": null,
            "overflow_y": null,
            "padding": null,
            "right": null,
            "top": null,
            "visibility": null,
            "width": null
          }
        },
        "0f4adea9f6f3454c9c5c2f681cd8076c": {
          "model_module": "@jupyter-widgets/controls",
          "model_module_version": "1.5.0",
          "model_name": "HTMLModel",
          "state": {
            "_dom_classes": [],
            "_model_module": "@jupyter-widgets/controls",
            "_model_module_version": "1.5.0",
            "_model_name": "HTMLModel",
            "_view_count": null,
            "_view_module": "@jupyter-widgets/controls",
            "_view_module_version": "1.5.0",
            "_view_name": "HTMLView",
            "description": "",
            "description_tooltip": null,
            "layout": "IPY_MODEL_d8943e45f3804533b9214818a9ffa6b0",
            "placeholder": "​",
            "style": "IPY_MODEL_d9523980c5c54ce99c35b0af3912381f",
            "value": "Computing transition probabilities: 100%"
          }
        },
        "12b97f723d984fac94eb8e6af1cf7aa9": {
          "model_module": "@jupyter-widgets/base",
          "model_module_version": "1.2.0",
          "model_name": "LayoutModel",
          "state": {
            "_model_module": "@jupyter-widgets/base",
            "_model_module_version": "1.2.0",
            "_model_name": "LayoutModel",
            "_view_count": null,
            "_view_module": "@jupyter-widgets/base",
            "_view_module_version": "1.2.0",
            "_view_name": "LayoutView",
            "align_content": null,
            "align_items": null,
            "align_self": null,
            "border": null,
            "bottom": null,
            "display": null,
            "flex": null,
            "flex_flow": null,
            "grid_area": null,
            "grid_auto_columns": null,
            "grid_auto_flow": null,
            "grid_auto_rows": null,
            "grid_column": null,
            "grid_gap": null,
            "grid_row": null,
            "grid_template_areas": null,
            "grid_template_columns": null,
            "grid_template_rows": null,
            "height": null,
            "justify_content": null,
            "justify_items": null,
            "left": null,
            "margin": null,
            "max_height": null,
            "max_width": null,
            "min_height": null,
            "min_width": null,
            "object_fit": null,
            "object_position": null,
            "order": null,
            "overflow": null,
            "overflow_x": null,
            "overflow_y": null,
            "padding": null,
            "right": null,
            "top": null,
            "visibility": null,
            "width": null
          }
        },
        "145215874f6247548658003e044d60cf": {
          "model_module": "@jupyter-widgets/controls",
          "model_module_version": "1.5.0",
          "model_name": "HTMLModel",
          "state": {
            "_dom_classes": [],
            "_model_module": "@jupyter-widgets/controls",
            "_model_module_version": "1.5.0",
            "_model_name": "HTMLModel",
            "_view_count": null,
            "_view_module": "@jupyter-widgets/controls",
            "_view_module_version": "1.5.0",
            "_view_name": "HTMLView",
            "description": "",
            "description_tooltip": null,
            "layout": "IPY_MODEL_b7f74bb4ac6242b09446603a07bb17b7",
            "placeholder": "​",
            "style": "IPY_MODEL_e5f8de6785ca404ea8af777ec6bb49b9",
            "value": " 499M/499M [00:02&lt;00:00, 251MB/s]"
          }
        },
        "14b48fa5739740698714f16b40032975": {
          "model_module": "@jupyter-widgets/base",
          "model_module_version": "1.2.0",
          "model_name": "LayoutModel",
          "state": {
            "_model_module": "@jupyter-widgets/base",
            "_model_module_version": "1.2.0",
            "_model_name": "LayoutModel",
            "_view_count": null,
            "_view_module": "@jupyter-widgets/base",
            "_view_module_version": "1.2.0",
            "_view_name": "LayoutView",
            "align_content": null,
            "align_items": null,
            "align_self": null,
            "border": null,
            "bottom": null,
            "display": null,
            "flex": null,
            "flex_flow": null,
            "grid_area": null,
            "grid_auto_columns": null,
            "grid_auto_flow": null,
            "grid_auto_rows": null,
            "grid_column": null,
            "grid_gap": null,
            "grid_row": null,
            "grid_template_areas": null,
            "grid_template_columns": null,
            "grid_template_rows": null,
            "height": null,
            "justify_content": null,
            "justify_items": null,
            "left": null,
            "margin": null,
            "max_height": null,
            "max_width": null,
            "min_height": null,
            "min_width": null,
            "object_fit": null,
            "object_position": null,
            "order": null,
            "overflow": null,
            "overflow_x": null,
            "overflow_y": null,
            "padding": null,
            "right": null,
            "top": null,
            "visibility": null,
            "width": null
          }
        },
        "176ca0a4fbc24fcbb164fa180d55b639": {
          "model_module": "@jupyter-widgets/controls",
          "model_module_version": "1.5.0",
          "model_name": "DescriptionStyleModel",
          "state": {
            "_model_module": "@jupyter-widgets/controls",
            "_model_module_version": "1.5.0",
            "_model_name": "DescriptionStyleModel",
            "_view_count": null,
            "_view_module": "@jupyter-widgets/base",
            "_view_module_version": "1.2.0",
            "_view_name": "StyleView",
            "description_width": ""
          }
        },
        "17ef84f9ff6744d7b57426b0e4ac1ad9": {
          "model_module": "@jupyter-widgets/base",
          "model_module_version": "1.2.0",
          "model_name": "LayoutModel",
          "state": {
            "_model_module": "@jupyter-widgets/base",
            "_model_module_version": "1.2.0",
            "_model_name": "LayoutModel",
            "_view_count": null,
            "_view_module": "@jupyter-widgets/base",
            "_view_module_version": "1.2.0",
            "_view_name": "LayoutView",
            "align_content": null,
            "align_items": null,
            "align_self": null,
            "border": null,
            "bottom": null,
            "display": null,
            "flex": null,
            "flex_flow": null,
            "grid_area": null,
            "grid_auto_columns": null,
            "grid_auto_flow": null,
            "grid_auto_rows": null,
            "grid_column": null,
            "grid_gap": null,
            "grid_row": null,
            "grid_template_areas": null,
            "grid_template_columns": null,
            "grid_template_rows": null,
            "height": null,
            "justify_content": null,
            "justify_items": null,
            "left": null,
            "margin": null,
            "max_height": null,
            "max_width": null,
            "min_height": null,
            "min_width": null,
            "object_fit": null,
            "object_position": null,
            "order": null,
            "overflow": null,
            "overflow_x": null,
            "overflow_y": null,
            "padding": null,
            "right": null,
            "top": null,
            "visibility": null,
            "width": null
          }
        },
        "194d3f624af543168170cc89c76ac44b": {
          "model_module": "@jupyter-widgets/base",
          "model_module_version": "1.2.0",
          "model_name": "LayoutModel",
          "state": {
            "_model_module": "@jupyter-widgets/base",
            "_model_module_version": "1.2.0",
            "_model_name": "LayoutModel",
            "_view_count": null,
            "_view_module": "@jupyter-widgets/base",
            "_view_module_version": "1.2.0",
            "_view_name": "LayoutView",
            "align_content": null,
            "align_items": null,
            "align_self": null,
            "border": null,
            "bottom": null,
            "display": null,
            "flex": null,
            "flex_flow": null,
            "grid_area": null,
            "grid_auto_columns": null,
            "grid_auto_flow": null,
            "grid_auto_rows": null,
            "grid_column": null,
            "grid_gap": null,
            "grid_row": null,
            "grid_template_areas": null,
            "grid_template_columns": null,
            "grid_template_rows": null,
            "height": null,
            "justify_content": null,
            "justify_items": null,
            "left": null,
            "margin": null,
            "max_height": null,
            "max_width": null,
            "min_height": null,
            "min_width": null,
            "object_fit": null,
            "object_position": null,
            "order": null,
            "overflow": null,
            "overflow_x": null,
            "overflow_y": null,
            "padding": null,
            "right": null,
            "top": null,
            "visibility": null,
            "width": null
          }
        },
        "1eb08b67e6e7447c87b3b7b95d141983": {
          "model_module": "@jupyter-widgets/controls",
          "model_module_version": "1.5.0",
          "model_name": "HBoxModel",
          "state": {
            "_dom_classes": [],
            "_model_module": "@jupyter-widgets/controls",
            "_model_module_version": "1.5.0",
            "_model_name": "HBoxModel",
            "_view_count": null,
            "_view_module": "@jupyter-widgets/controls",
            "_view_module_version": "1.5.0",
            "_view_name": "HBoxView",
            "box_style": "",
            "children": [
              "IPY_MODEL_0f4adea9f6f3454c9c5c2f681cd8076c",
              "IPY_MODEL_e834dfd2b25346e389ded03918ad3e31",
              "IPY_MODEL_f0fe6b0d4e3b45aa980d8c599a00dad1"
            ],
            "layout": "IPY_MODEL_835a5da2ecb94eca91a989f0e65ae083"
          }
        },
        "21019727d94c40eea9506cf868765124": {
          "model_module": "@jupyter-widgets/controls",
          "model_module_version": "1.5.0",
          "model_name": "HTMLModel",
          "state": {
            "_dom_classes": [],
            "_model_module": "@jupyter-widgets/controls",
            "_model_module_version": "1.5.0",
            "_model_name": "HTMLModel",
            "_view_count": null,
            "_view_module": "@jupyter-widgets/controls",
            "_view_module_version": "1.5.0",
            "_view_name": "HTMLView",
            "description": "",
            "description_tooltip": null,
            "layout": "IPY_MODEL_f4b5c62198a5421194c84305222d5d07",
            "placeholder": "​",
            "style": "IPY_MODEL_d2d453a83f564f6d9eaf5f14f791f53e",
            "value": "pytorch_model.bin: 100%"
          }
        },
        "29fc15ebaf654cd988c30b7a81bf4f87": {
          "model_module": "@jupyter-widgets/controls",
          "model_module_version": "1.5.0",
          "model_name": "DescriptionStyleModel",
          "state": {
            "_model_module": "@jupyter-widgets/controls",
            "_model_module_version": "1.5.0",
            "_model_name": "DescriptionStyleModel",
            "_view_count": null,
            "_view_module": "@jupyter-widgets/base",
            "_view_module_version": "1.2.0",
            "_view_name": "StyleView",
            "description_width": ""
          }
        },
        "2e0ed9f00a2c44acbe6427188ea3876c": {
          "model_module": "@jupyter-widgets/controls",
          "model_module_version": "1.5.0",
          "model_name": "DescriptionStyleModel",
          "state": {
            "_model_module": "@jupyter-widgets/controls",
            "_model_module_version": "1.5.0",
            "_model_name": "DescriptionStyleModel",
            "_view_count": null,
            "_view_module": "@jupyter-widgets/base",
            "_view_module_version": "1.2.0",
            "_view_name": "StyleView",
            "description_width": ""
          }
        },
        "31eec92bad0d4d1eb0e3f48caf7fa1f6": {
          "model_module": "@jupyter-widgets/controls",
          "model_module_version": "1.5.0",
          "model_name": "DescriptionStyleModel",
          "state": {
            "_model_module": "@jupyter-widgets/controls",
            "_model_module_version": "1.5.0",
            "_model_name": "DescriptionStyleModel",
            "_view_count": null,
            "_view_module": "@jupyter-widgets/base",
            "_view_module_version": "1.2.0",
            "_view_name": "StyleView",
            "description_width": ""
          }
        },
        "327c4b7714fe4486b013e99077059014": {
          "model_module": "@jupyter-widgets/base",
          "model_module_version": "1.2.0",
          "model_name": "LayoutModel",
          "state": {
            "_model_module": "@jupyter-widgets/base",
            "_model_module_version": "1.2.0",
            "_model_name": "LayoutModel",
            "_view_count": null,
            "_view_module": "@jupyter-widgets/base",
            "_view_module_version": "1.2.0",
            "_view_name": "LayoutView",
            "align_content": null,
            "align_items": null,
            "align_self": null,
            "border": null,
            "bottom": null,
            "display": null,
            "flex": null,
            "flex_flow": null,
            "grid_area": null,
            "grid_auto_columns": null,
            "grid_auto_flow": null,
            "grid_auto_rows": null,
            "grid_column": null,
            "grid_gap": null,
            "grid_row": null,
            "grid_template_areas": null,
            "grid_template_columns": null,
            "grid_template_rows": null,
            "height": null,
            "justify_content": null,
            "justify_items": null,
            "left": null,
            "margin": null,
            "max_height": null,
            "max_width": null,
            "min_height": null,
            "min_width": null,
            "object_fit": null,
            "object_position": null,
            "order": null,
            "overflow": null,
            "overflow_x": null,
            "overflow_y": null,
            "padding": null,
            "right": null,
            "top": null,
            "visibility": null,
            "width": null
          }
        },
        "33c445fd5f68422196fc6aa3308c5080": {
          "model_module": "@jupyter-widgets/controls",
          "model_module_version": "1.5.0",
          "model_name": "DescriptionStyleModel",
          "state": {
            "_model_module": "@jupyter-widgets/controls",
            "_model_module_version": "1.5.0",
            "_model_name": "DescriptionStyleModel",
            "_view_count": null,
            "_view_module": "@jupyter-widgets/base",
            "_view_module_version": "1.2.0",
            "_view_name": "StyleView",
            "description_width": ""
          }
        },
        "379677cede3d4610818e15dd72ae6334": {
          "model_module": "@jupyter-widgets/base",
          "model_module_version": "1.2.0",
          "model_name": "LayoutModel",
          "state": {
            "_model_module": "@jupyter-widgets/base",
            "_model_module_version": "1.2.0",
            "_model_name": "LayoutModel",
            "_view_count": null,
            "_view_module": "@jupyter-widgets/base",
            "_view_module_version": "1.2.0",
            "_view_name": "LayoutView",
            "align_content": null,
            "align_items": null,
            "align_self": null,
            "border": null,
            "bottom": null,
            "display": null,
            "flex": null,
            "flex_flow": null,
            "grid_area": null,
            "grid_auto_columns": null,
            "grid_auto_flow": null,
            "grid_auto_rows": null,
            "grid_column": null,
            "grid_gap": null,
            "grid_row": null,
            "grid_template_areas": null,
            "grid_template_columns": null,
            "grid_template_rows": null,
            "height": null,
            "justify_content": null,
            "justify_items": null,
            "left": null,
            "margin": null,
            "max_height": null,
            "max_width": null,
            "min_height": null,
            "min_width": null,
            "object_fit": null,
            "object_position": null,
            "order": null,
            "overflow": null,
            "overflow_x": null,
            "overflow_y": null,
            "padding": null,
            "right": null,
            "top": null,
            "visibility": null,
            "width": null
          }
        },
        "3b6430440bfe4f3faea966fc05203ac3": {
          "model_module": "@jupyter-widgets/controls",
          "model_module_version": "1.5.0",
          "model_name": "HBoxModel",
          "state": {
            "_dom_classes": [],
            "_model_module": "@jupyter-widgets/controls",
            "_model_module_version": "1.5.0",
            "_model_name": "HBoxModel",
            "_view_count": null,
            "_view_module": "@jupyter-widgets/controls",
            "_view_module_version": "1.5.0",
            "_view_name": "HBoxView",
            "box_style": "",
            "children": [
              "IPY_MODEL_decf721c70244200bf07d65dc60f0011",
              "IPY_MODEL_4a9b56d255234ea48b4e07f70ac5b4a9",
              "IPY_MODEL_00005104a19542bfab3285aebbd8f5bd"
            ],
            "layout": "IPY_MODEL_f7793277074048babc705a7736e39586"
          }
        },
        "3beb760f53044af996b5de27469e064b": {
          "model_module": "@jupyter-widgets/base",
          "model_module_version": "1.2.0",
          "model_name": "LayoutModel",
          "state": {
            "_model_module": "@jupyter-widgets/base",
            "_model_module_version": "1.2.0",
            "_model_name": "LayoutModel",
            "_view_count": null,
            "_view_module": "@jupyter-widgets/base",
            "_view_module_version": "1.2.0",
            "_view_name": "LayoutView",
            "align_content": null,
            "align_items": null,
            "align_self": null,
            "border": null,
            "bottom": null,
            "display": null,
            "flex": null,
            "flex_flow": null,
            "grid_area": null,
            "grid_auto_columns": null,
            "grid_auto_flow": null,
            "grid_auto_rows": null,
            "grid_column": null,
            "grid_gap": null,
            "grid_row": null,
            "grid_template_areas": null,
            "grid_template_columns": null,
            "grid_template_rows": null,
            "height": null,
            "justify_content": null,
            "justify_items": null,
            "left": null,
            "margin": null,
            "max_height": null,
            "max_width": null,
            "min_height": null,
            "min_width": null,
            "object_fit": null,
            "object_position": null,
            "order": null,
            "overflow": null,
            "overflow_x": null,
            "overflow_y": null,
            "padding": null,
            "right": null,
            "top": null,
            "visibility": null,
            "width": null
          }
        },
        "409acda35474436e9cfa4e35c8da55a9": {
          "model_module": "@jupyter-widgets/controls",
          "model_module_version": "1.5.0",
          "model_name": "DescriptionStyleModel",
          "state": {
            "_model_module": "@jupyter-widgets/controls",
            "_model_module_version": "1.5.0",
            "_model_name": "DescriptionStyleModel",
            "_view_count": null,
            "_view_module": "@jupyter-widgets/base",
            "_view_module_version": "1.2.0",
            "_view_name": "StyleView",
            "description_width": ""
          }
        },
        "43871d6da8f945bba66799a6c4f76d44": {
          "model_module": "@jupyter-widgets/controls",
          "model_module_version": "1.5.0",
          "model_name": "FloatProgressModel",
          "state": {
            "_dom_classes": [],
            "_model_module": "@jupyter-widgets/controls",
            "_model_module_version": "1.5.0",
            "_model_name": "FloatProgressModel",
            "_view_count": null,
            "_view_module": "@jupyter-widgets/controls",
            "_view_module_version": "1.5.0",
            "_view_name": "ProgressView",
            "bar_style": "success",
            "description": "",
            "description_tooltip": null,
            "layout": "IPY_MODEL_bddfa4aeab27463789ab0764eb2659f9",
            "max": 456318,
            "min": 0,
            "orientation": "horizontal",
            "style": "IPY_MODEL_fa7129a16543417eb4708bf607d44f5e",
            "value": 456318
          }
        },
        "44de752c38524747b25b76cce72e8d07": {
          "model_module": "@jupyter-widgets/controls",
          "model_module_version": "1.5.0",
          "model_name": "ProgressStyleModel",
          "state": {
            "_model_module": "@jupyter-widgets/controls",
            "_model_module_version": "1.5.0",
            "_model_name": "ProgressStyleModel",
            "_view_count": null,
            "_view_module": "@jupyter-widgets/base",
            "_view_module_version": "1.2.0",
            "_view_name": "StyleView",
            "bar_color": null,
            "description_width": ""
          }
        },
        "462bc69f40a84b20bed39656acf4422e": {
          "model_module": "@jupyter-widgets/controls",
          "model_module_version": "1.5.0",
          "model_name": "DescriptionStyleModel",
          "state": {
            "_model_module": "@jupyter-widgets/controls",
            "_model_module_version": "1.5.0",
            "_model_name": "DescriptionStyleModel",
            "_view_count": null,
            "_view_module": "@jupyter-widgets/base",
            "_view_module_version": "1.2.0",
            "_view_name": "StyleView",
            "description_width": ""
          }
        },
        "4a9b56d255234ea48b4e07f70ac5b4a9": {
          "model_module": "@jupyter-widgets/controls",
          "model_module_version": "1.5.0",
          "model_name": "FloatProgressModel",
          "state": {
            "_dom_classes": [],
            "_model_module": "@jupyter-widgets/controls",
            "_model_module_version": "1.5.0",
            "_model_name": "FloatProgressModel",
            "_view_count": null,
            "_view_module": "@jupyter-widgets/controls",
            "_view_module_version": "1.5.0",
            "_view_name": "ProgressView",
            "bar_style": "success",
            "description": "",
            "description_tooltip": null,
            "layout": "IPY_MODEL_b5ce74840b184437beab0a6b60098e7a",
            "max": 498,
            "min": 0,
            "orientation": "horizontal",
            "style": "IPY_MODEL_cfb30bd7c5df4259b812890949c8dc65",
            "value": 498
          }
        },
        "4bd2bed8c29549caba4a0c6e70a6912c": {
          "model_module": "@jupyter-widgets/base",
          "model_module_version": "1.2.0",
          "model_name": "LayoutModel",
          "state": {
            "_model_module": "@jupyter-widgets/base",
            "_model_module_version": "1.2.0",
            "_model_name": "LayoutModel",
            "_view_count": null,
            "_view_module": "@jupyter-widgets/base",
            "_view_module_version": "1.2.0",
            "_view_name": "LayoutView",
            "align_content": null,
            "align_items": null,
            "align_self": null,
            "border": null,
            "bottom": null,
            "display": null,
            "flex": null,
            "flex_flow": null,
            "grid_area": null,
            "grid_auto_columns": null,
            "grid_auto_flow": null,
            "grid_auto_rows": null,
            "grid_column": null,
            "grid_gap": null,
            "grid_row": null,
            "grid_template_areas": null,
            "grid_template_columns": null,
            "grid_template_rows": null,
            "height": null,
            "justify_content": null,
            "justify_items": null,
            "left": null,
            "margin": null,
            "max_height": null,
            "max_width": null,
            "min_height": null,
            "min_width": null,
            "object_fit": null,
            "object_position": null,
            "order": null,
            "overflow": null,
            "overflow_x": null,
            "overflow_y": null,
            "padding": null,
            "right": null,
            "top": null,
            "visibility": null,
            "width": null
          }
        },
        "4ea756e47eaa4c1fbc45edff9fb9b661": {
          "model_module": "@jupyter-widgets/controls",
          "model_module_version": "1.5.0",
          "model_name": "ProgressStyleModel",
          "state": {
            "_model_module": "@jupyter-widgets/controls",
            "_model_module_version": "1.5.0",
            "_model_name": "ProgressStyleModel",
            "_view_count": null,
            "_view_module": "@jupyter-widgets/base",
            "_view_module_version": "1.2.0",
            "_view_name": "StyleView",
            "bar_color": null,
            "description_width": ""
          }
        },
        "5b2d951ae4b8449183737446fa8172ea": {
          "model_module": "@jupyter-widgets/controls",
          "model_module_version": "1.5.0",
          "model_name": "HBoxModel",
          "state": {
            "_dom_classes": [],
            "_model_module": "@jupyter-widgets/controls",
            "_model_module_version": "1.5.0",
            "_model_name": "HBoxModel",
            "_view_count": null,
            "_view_module": "@jupyter-widgets/controls",
            "_view_module_version": "1.5.0",
            "_view_name": "HBoxView",
            "box_style": "",
            "children": [
              "IPY_MODEL_21019727d94c40eea9506cf868765124",
              "IPY_MODEL_6ac1237c2e184bfe86f661609552ee73",
              "IPY_MODEL_145215874f6247548658003e044d60cf"
            ],
            "layout": "IPY_MODEL_6f137ef0dc784309813e01cec4a4473b"
          }
        },
        "63116da3a52d4be09801c65d8725e35c": {
          "model_module": "@jupyter-widgets/controls",
          "model_module_version": "1.5.0",
          "model_name": "FloatProgressModel",
          "state": {
            "_dom_classes": [],
            "_model_module": "@jupyter-widgets/controls",
            "_model_module_version": "1.5.0",
            "_model_name": "FloatProgressModel",
            "_view_count": null,
            "_view_module": "@jupyter-widgets/controls",
            "_view_module_version": "1.5.0",
            "_view_name": "ProgressView",
            "bar_style": "success",
            "description": "",
            "description_tooltip": null,
            "layout": "IPY_MODEL_f2665c3cfd0f487b87f9924e3dc84479",
            "max": 498604904,
            "min": 0,
            "orientation": "horizontal",
            "style": "IPY_MODEL_bf21d38e222444819605642e93023d07",
            "value": 498604904
          }
        },
        "648cc1c81e0340c79a85c64ef5c965f7": {
          "model_module": "@jupyter-widgets/base",
          "model_module_version": "1.2.0",
          "model_name": "LayoutModel",
          "state": {
            "_model_module": "@jupyter-widgets/base",
            "_model_module_version": "1.2.0",
            "_model_name": "LayoutModel",
            "_view_count": null,
            "_view_module": "@jupyter-widgets/base",
            "_view_module_version": "1.2.0",
            "_view_name": "LayoutView",
            "align_content": null,
            "align_items": null,
            "align_self": null,
            "border": null,
            "bottom": null,
            "display": null,
            "flex": null,
            "flex_flow": null,
            "grid_area": null,
            "grid_auto_columns": null,
            "grid_auto_flow": null,
            "grid_auto_rows": null,
            "grid_column": null,
            "grid_gap": null,
            "grid_row": null,
            "grid_template_areas": null,
            "grid_template_columns": null,
            "grid_template_rows": null,
            "height": null,
            "justify_content": null,
            "justify_items": null,
            "left": null,
            "margin": null,
            "max_height": null,
            "max_width": null,
            "min_height": null,
            "min_width": null,
            "object_fit": null,
            "object_position": null,
            "order": null,
            "overflow": null,
            "overflow_x": null,
            "overflow_y": null,
            "padding": null,
            "right": null,
            "top": null,
            "visibility": null,
            "width": null
          }
        },
        "6ac1237c2e184bfe86f661609552ee73": {
          "model_module": "@jupyter-widgets/controls",
          "model_module_version": "1.5.0",
          "model_name": "FloatProgressModel",
          "state": {
            "_dom_classes": [],
            "_model_module": "@jupyter-widgets/controls",
            "_model_module_version": "1.5.0",
            "_model_name": "FloatProgressModel",
            "_view_count": null,
            "_view_module": "@jupyter-widgets/controls",
            "_view_module_version": "1.5.0",
            "_view_name": "ProgressView",
            "bar_style": "success",
            "description": "",
            "description_tooltip": null,
            "layout": "IPY_MODEL_015230b4e8784940bec490ad496460cf",
            "max": 498627950,
            "min": 0,
            "orientation": "horizontal",
            "style": "IPY_MODEL_44de752c38524747b25b76cce72e8d07",
            "value": 498627950
          }
        },
        "6f137ef0dc784309813e01cec4a4473b": {
          "model_module": "@jupyter-widgets/base",
          "model_module_version": "1.2.0",
          "model_name": "LayoutModel",
          "state": {
            "_model_module": "@jupyter-widgets/base",
            "_model_module_version": "1.2.0",
            "_model_name": "LayoutModel",
            "_view_count": null,
            "_view_module": "@jupyter-widgets/base",
            "_view_module_version": "1.2.0",
            "_view_name": "LayoutView",
            "align_content": null,
            "align_items": null,
            "align_self": null,
            "border": null,
            "bottom": null,
            "display": null,
            "flex": null,
            "flex_flow": null,
            "grid_area": null,
            "grid_auto_columns": null,
            "grid_auto_flow": null,
            "grid_auto_rows": null,
            "grid_column": null,
            "grid_gap": null,
            "grid_row": null,
            "grid_template_areas": null,
            "grid_template_columns": null,
            "grid_template_rows": null,
            "height": null,
            "justify_content": null,
            "justify_items": null,
            "left": null,
            "margin": null,
            "max_height": null,
            "max_width": null,
            "min_height": null,
            "min_width": null,
            "object_fit": null,
            "object_position": null,
            "order": null,
            "overflow": null,
            "overflow_x": null,
            "overflow_y": null,
            "padding": null,
            "right": null,
            "top": null,
            "visibility": null,
            "width": null
          }
        },
        "70b80858e14c4a29b3fb352ec922f4a0": {
          "model_module": "@jupyter-widgets/base",
          "model_module_version": "1.2.0",
          "model_name": "LayoutModel",
          "state": {
            "_model_module": "@jupyter-widgets/base",
            "_model_module_version": "1.2.0",
            "_model_name": "LayoutModel",
            "_view_count": null,
            "_view_module": "@jupyter-widgets/base",
            "_view_module_version": "1.2.0",
            "_view_name": "LayoutView",
            "align_content": null,
            "align_items": null,
            "align_self": null,
            "border": null,
            "bottom": null,
            "display": null,
            "flex": null,
            "flex_flow": null,
            "grid_area": null,
            "grid_auto_columns": null,
            "grid_auto_flow": null,
            "grid_auto_rows": null,
            "grid_column": null,
            "grid_gap": null,
            "grid_row": null,
            "grid_template_areas": null,
            "grid_template_columns": null,
            "grid_template_rows": null,
            "height": null,
            "justify_content": null,
            "justify_items": null,
            "left": null,
            "margin": null,
            "max_height": null,
            "max_width": null,
            "min_height": null,
            "min_width": null,
            "object_fit": null,
            "object_position": null,
            "order": null,
            "overflow": null,
            "overflow_x": null,
            "overflow_y": null,
            "padding": null,
            "right": null,
            "top": null,
            "visibility": null,
            "width": null
          }
        },
        "819078c6fa7a4179a9d125f1b554c0c8": {
          "model_module": "@jupyter-widgets/controls",
          "model_module_version": "1.5.0",
          "model_name": "HBoxModel",
          "state": {
            "_dom_classes": [],
            "_model_module": "@jupyter-widgets/controls",
            "_model_module_version": "1.5.0",
            "_model_name": "HBoxModel",
            "_view_count": null,
            "_view_module": "@jupyter-widgets/controls",
            "_view_module_version": "1.5.0",
            "_view_name": "HBoxView",
            "box_style": "",
            "children": [
              "IPY_MODEL_b98f6228842247969bc77a2d9f72e172",
              "IPY_MODEL_f8389b4c660b4164a92b82d0c546f34a",
              "IPY_MODEL_9c03885d1fcf41058ed7f6624f33dfeb"
            ],
            "layout": "IPY_MODEL_3beb760f53044af996b5de27469e064b"
          }
        },
        "81ab1448a51e41b587aad1503eed0f3b": {
          "model_module": "@jupyter-widgets/base",
          "model_module_version": "1.2.0",
          "model_name": "LayoutModel",
          "state": {
            "_model_module": "@jupyter-widgets/base",
            "_model_module_version": "1.2.0",
            "_model_name": "LayoutModel",
            "_view_count": null,
            "_view_module": "@jupyter-widgets/base",
            "_view_module_version": "1.2.0",
            "_view_name": "LayoutView",
            "align_content": null,
            "align_items": null,
            "align_self": null,
            "border": null,
            "bottom": null,
            "display": null,
            "flex": null,
            "flex_flow": null,
            "grid_area": null,
            "grid_auto_columns": null,
            "grid_auto_flow": null,
            "grid_auto_rows": null,
            "grid_column": null,
            "grid_gap": null,
            "grid_row": null,
            "grid_template_areas": null,
            "grid_template_columns": null,
            "grid_template_rows": null,
            "height": null,
            "justify_content": null,
            "justify_items": null,
            "left": null,
            "margin": null,
            "max_height": null,
            "max_width": null,
            "min_height": null,
            "min_width": null,
            "object_fit": null,
            "object_position": null,
            "order": null,
            "overflow": null,
            "overflow_x": null,
            "overflow_y": null,
            "padding": null,
            "right": null,
            "top": null,
            "visibility": null,
            "width": null
          }
        },
        "835a5da2ecb94eca91a989f0e65ae083": {
          "model_module": "@jupyter-widgets/base",
          "model_module_version": "1.2.0",
          "model_name": "LayoutModel",
          "state": {
            "_model_module": "@jupyter-widgets/base",
            "_model_module_version": "1.2.0",
            "_model_name": "LayoutModel",
            "_view_count": null,
            "_view_module": "@jupyter-widgets/base",
            "_view_module_version": "1.2.0",
            "_view_name": "LayoutView",
            "align_content": null,
            "align_items": null,
            "align_self": null,
            "border": null,
            "bottom": null,
            "display": null,
            "flex": null,
            "flex_flow": null,
            "grid_area": null,
            "grid_auto_columns": null,
            "grid_auto_flow": null,
            "grid_auto_rows": null,
            "grid_column": null,
            "grid_gap": null,
            "grid_row": null,
            "grid_template_areas": null,
            "grid_template_columns": null,
            "grid_template_rows": null,
            "height": null,
            "justify_content": null,
            "justify_items": null,
            "left": null,
            "margin": null,
            "max_height": null,
            "max_width": null,
            "min_height": null,
            "min_width": null,
            "object_fit": null,
            "object_position": null,
            "order": null,
            "overflow": null,
            "overflow_x": null,
            "overflow_y": null,
            "padding": null,
            "right": null,
            "top": null,
            "visibility": null,
            "width": null
          }
        },
        "886369da74f1495d8e92ff0884473b72": {
          "model_module": "@jupyter-widgets/controls",
          "model_module_version": "1.5.0",
          "model_name": "HBoxModel",
          "state": {
            "_dom_classes": [],
            "_model_module": "@jupyter-widgets/controls",
            "_model_module_version": "1.5.0",
            "_model_name": "HBoxModel",
            "_view_count": null,
            "_view_module": "@jupyter-widgets/controls",
            "_view_module_version": "1.5.0",
            "_view_name": "HBoxView",
            "box_style": "",
            "children": [
              "IPY_MODEL_eb2d5a2821a649058848c08eddc5c8db",
              "IPY_MODEL_43871d6da8f945bba66799a6c4f76d44",
              "IPY_MODEL_c69e77577089437dbb98c521bbd0bfe7"
            ],
            "layout": "IPY_MODEL_648cc1c81e0340c79a85c64ef5c965f7"
          }
        },
        "88761df61e124c75a9f819e2b6a45b67": {
          "model_module": "@jupyter-widgets/controls",
          "model_module_version": "1.5.0",
          "model_name": "HBoxModel",
          "state": {
            "_dom_classes": [],
            "_model_module": "@jupyter-widgets/controls",
            "_model_module_version": "1.5.0",
            "_model_name": "HBoxModel",
            "_view_count": null,
            "_view_module": "@jupyter-widgets/controls",
            "_view_module_version": "1.5.0",
            "_view_name": "HBoxView",
            "box_style": "",
            "children": [
              "IPY_MODEL_068ba4bfb05342d3aba738f9b209b319",
              "IPY_MODEL_08463c00e42c44c7a68008ae96eac657",
              "IPY_MODEL_09f8524148eb4ea382d6bfda6b543b97"
            ],
            "layout": "IPY_MODEL_17ef84f9ff6744d7b57426b0e4ac1ad9"
          }
        },
        "8b155f79fd2647f2a642edd70a219338": {
          "model_module": "@jupyter-widgets/base",
          "model_module_version": "1.2.0",
          "model_name": "LayoutModel",
          "state": {
            "_model_module": "@jupyter-widgets/base",
            "_model_module_version": "1.2.0",
            "_model_name": "LayoutModel",
            "_view_count": null,
            "_view_module": "@jupyter-widgets/base",
            "_view_module_version": "1.2.0",
            "_view_name": "LayoutView",
            "align_content": null,
            "align_items": null,
            "align_self": null,
            "border": null,
            "bottom": null,
            "display": null,
            "flex": null,
            "flex_flow": null,
            "grid_area": null,
            "grid_auto_columns": null,
            "grid_auto_flow": null,
            "grid_auto_rows": null,
            "grid_column": null,
            "grid_gap": null,
            "grid_row": null,
            "grid_template_areas": null,
            "grid_template_columns": null,
            "grid_template_rows": null,
            "height": null,
            "justify_content": null,
            "justify_items": null,
            "left": null,
            "margin": null,
            "max_height": null,
            "max_width": null,
            "min_height": null,
            "min_width": null,
            "object_fit": null,
            "object_position": null,
            "order": null,
            "overflow": null,
            "overflow_x": null,
            "overflow_y": null,
            "padding": null,
            "right": null,
            "top": null,
            "visibility": null,
            "width": null
          }
        },
        "8b7d3d0918804acb97a9b1cffb4a4a4a": {
          "model_module": "@jupyter-widgets/controls",
          "model_module_version": "1.5.0",
          "model_name": "FloatProgressModel",
          "state": {
            "_dom_classes": [],
            "_model_module": "@jupyter-widgets/controls",
            "_model_module_version": "1.5.0",
            "_model_name": "FloatProgressModel",
            "_view_count": null,
            "_view_module": "@jupyter-widgets/controls",
            "_view_module_version": "1.5.0",
            "_view_name": "ProgressView",
            "bar_style": "success",
            "description": "",
            "description_tooltip": null,
            "layout": "IPY_MODEL_bebf8f636ff6488a87aae45b2271c25d",
            "max": 22,
            "min": 0,
            "orientation": "horizontal",
            "style": "IPY_MODEL_aaf3e330628448f3989f47d29ca91da8",
            "value": 22
          }
        },
        "8bd2dc7a63e1411dbdab7b8bd8c0aa03": {
          "model_module": "@jupyter-widgets/base",
          "model_module_version": "1.2.0",
          "model_name": "LayoutModel",
          "state": {
            "_model_module": "@jupyter-widgets/base",
            "_model_module_version": "1.2.0",
            "_model_name": "LayoutModel",
            "_view_count": null,
            "_view_module": "@jupyter-widgets/base",
            "_view_module_version": "1.2.0",
            "_view_name": "LayoutView",
            "align_content": null,
            "align_items": null,
            "align_self": null,
            "border": null,
            "bottom": null,
            "display": null,
            "flex": null,
            "flex_flow": null,
            "grid_area": null,
            "grid_auto_columns": null,
            "grid_auto_flow": null,
            "grid_auto_rows": null,
            "grid_column": null,
            "grid_gap": null,
            "grid_row": null,
            "grid_template_areas": null,
            "grid_template_columns": null,
            "grid_template_rows": null,
            "height": null,
            "justify_content": null,
            "justify_items": null,
            "left": null,
            "margin": null,
            "max_height": null,
            "max_width": null,
            "min_height": null,
            "min_width": null,
            "object_fit": null,
            "object_position": null,
            "order": null,
            "overflow": null,
            "overflow_x": null,
            "overflow_y": null,
            "padding": null,
            "right": null,
            "top": null,
            "visibility": null,
            "width": null
          }
        },
        "8d95cd6171fc41078735f59272ab7af5": {
          "model_module": "@jupyter-widgets/base",
          "model_module_version": "1.2.0",
          "model_name": "LayoutModel",
          "state": {
            "_model_module": "@jupyter-widgets/base",
            "_model_module_version": "1.2.0",
            "_model_name": "LayoutModel",
            "_view_count": null,
            "_view_module": "@jupyter-widgets/base",
            "_view_module_version": "1.2.0",
            "_view_name": "LayoutView",
            "align_content": null,
            "align_items": null,
            "align_self": null,
            "border": null,
            "bottom": null,
            "display": null,
            "flex": null,
            "flex_flow": null,
            "grid_area": null,
            "grid_auto_columns": null,
            "grid_auto_flow": null,
            "grid_auto_rows": null,
            "grid_column": null,
            "grid_gap": null,
            "grid_row": null,
            "grid_template_areas": null,
            "grid_template_columns": null,
            "grid_template_rows": null,
            "height": null,
            "justify_content": null,
            "justify_items": null,
            "left": null,
            "margin": null,
            "max_height": null,
            "max_width": null,
            "min_height": null,
            "min_width": null,
            "object_fit": null,
            "object_position": null,
            "order": null,
            "overflow": null,
            "overflow_x": null,
            "overflow_y": null,
            "padding": null,
            "right": null,
            "top": null,
            "visibility": null,
            "width": null
          }
        },
        "8da79dca3fdc4f118f26f0e21dcbc0f6": {
          "model_module": "@jupyter-widgets/controls",
          "model_module_version": "1.5.0",
          "model_name": "FloatProgressModel",
          "state": {
            "_dom_classes": [],
            "_model_module": "@jupyter-widgets/controls",
            "_model_module_version": "1.5.0",
            "_model_name": "FloatProgressModel",
            "_view_count": null,
            "_view_module": "@jupyter-widgets/controls",
            "_view_module_version": "1.5.0",
            "_view_name": "ProgressView",
            "bar_style": "success",
            "description": "",
            "description_tooltip": null,
            "layout": "IPY_MODEL_379677cede3d4610818e15dd72ae6334",
            "max": 898822,
            "min": 0,
            "orientation": "horizontal",
            "style": "IPY_MODEL_be1616b034d7430b984c6d0b330b159b",
            "value": 898822
          }
        },
        "90c8b0b76a7746f18aa7df0b8ef3b1a5": {
          "model_module": "@jupyter-widgets/base",
          "model_module_version": "1.2.0",
          "model_name": "LayoutModel",
          "state": {
            "_model_module": "@jupyter-widgets/base",
            "_model_module_version": "1.2.0",
            "_model_name": "LayoutModel",
            "_view_count": null,
            "_view_module": "@jupyter-widgets/base",
            "_view_module_version": "1.2.0",
            "_view_name": "LayoutView",
            "align_content": null,
            "align_items": null,
            "align_self": null,
            "border": null,
            "bottom": null,
            "display": null,
            "flex": null,
            "flex_flow": null,
            "grid_area": null,
            "grid_auto_columns": null,
            "grid_auto_flow": null,
            "grid_auto_rows": null,
            "grid_column": null,
            "grid_gap": null,
            "grid_row": null,
            "grid_template_areas": null,
            "grid_template_columns": null,
            "grid_template_rows": null,
            "height": null,
            "justify_content": null,
            "justify_items": null,
            "left": null,
            "margin": null,
            "max_height": null,
            "max_width": null,
            "min_height": null,
            "min_width": null,
            "object_fit": null,
            "object_position": null,
            "order": null,
            "overflow": null,
            "overflow_x": null,
            "overflow_y": null,
            "padding": null,
            "right": null,
            "top": null,
            "visibility": null,
            "width": null
          }
        },
        "9190709216d341cc8bd6c3fdbf51c76c": {
          "model_module": "@jupyter-widgets/controls",
          "model_module_version": "1.5.0",
          "model_name": "DescriptionStyleModel",
          "state": {
            "_model_module": "@jupyter-widgets/controls",
            "_model_module_version": "1.5.0",
            "_model_name": "DescriptionStyleModel",
            "_view_count": null,
            "_view_module": "@jupyter-widgets/base",
            "_view_module_version": "1.2.0",
            "_view_name": "StyleView",
            "description_width": ""
          }
        },
        "9523cd33641442c3a1b07de1c92ce6c5": {
          "model_module": "@jupyter-widgets/controls",
          "model_module_version": "1.5.0",
          "model_name": "HBoxModel",
          "state": {
            "_dom_classes": [],
            "_model_module": "@jupyter-widgets/controls",
            "_model_module_version": "1.5.0",
            "_model_name": "HBoxModel",
            "_view_count": null,
            "_view_module": "@jupyter-widgets/controls",
            "_view_module_version": "1.5.0",
            "_view_name": "HBoxView",
            "box_style": "",
            "children": [
              "IPY_MODEL_9e02b1dd5d2e463f8e651d209c1cd6d1",
              "IPY_MODEL_63116da3a52d4be09801c65d8725e35c",
              "IPY_MODEL_fe46aed14a774859ab6675295a347263"
            ],
            "layout": "IPY_MODEL_c0900dec605948a1ad99921d40d35f3b"
          }
        },
        "984925a5ce9d4dada845bd7d81ec47f9": {
          "model_module": "@jupyter-widgets/controls",
          "model_module_version": "1.5.0",
          "model_name": "DescriptionStyleModel",
          "state": {
            "_model_module": "@jupyter-widgets/controls",
            "_model_module_version": "1.5.0",
            "_model_name": "DescriptionStyleModel",
            "_view_count": null,
            "_view_module": "@jupyter-widgets/base",
            "_view_module_version": "1.2.0",
            "_view_name": "StyleView",
            "description_width": ""
          }
        },
        "9ae9aa06e2a749e5aa4c988237e0d27b": {
          "model_module": "@jupyter-widgets/controls",
          "model_module_version": "1.5.0",
          "model_name": "HTMLModel",
          "state": {
            "_dom_classes": [],
            "_model_module": "@jupyter-widgets/controls",
            "_model_module_version": "1.5.0",
            "_model_name": "HTMLModel",
            "_view_count": null,
            "_view_module": "@jupyter-widgets/controls",
            "_view_module_version": "1.5.0",
            "_view_name": "HTMLView",
            "description": "",
            "description_tooltip": null,
            "layout": "IPY_MODEL_8b155f79fd2647f2a642edd70a219338",
            "placeholder": "​",
            "style": "IPY_MODEL_31eec92bad0d4d1eb0e3f48caf7fa1f6",
            "value": "vocab.json: 100%"
          }
        },
        "9c03885d1fcf41058ed7f6624f33dfeb": {
          "model_module": "@jupyter-widgets/controls",
          "model_module_version": "1.5.0",
          "model_name": "HTMLModel",
          "state": {
            "_dom_classes": [],
            "_model_module": "@jupyter-widgets/controls",
            "_model_module_version": "1.5.0",
            "_model_name": "HTMLModel",
            "_view_count": null,
            "_view_module": "@jupyter-widgets/controls",
            "_view_module_version": "1.5.0",
            "_view_name": "HTMLView",
            "description": "",
            "description_tooltip": null,
            "layout": "IPY_MODEL_8bd2dc7a63e1411dbdab7b8bd8c0aa03",
            "placeholder": "​",
            "style": "IPY_MODEL_c49942ffaea04e3b9a4513da9b0ac08c",
            "value": " 150/150 [00:00&lt;00:00, 15.4kB/s]"
          }
        },
        "9c77ff48ef384ebda604db48fc38bec0": {
          "model_module": "@jupyter-widgets/base",
          "model_module_version": "1.2.0",
          "model_name": "LayoutModel",
          "state": {
            "_model_module": "@jupyter-widgets/base",
            "_model_module_version": "1.2.0",
            "_model_name": "LayoutModel",
            "_view_count": null,
            "_view_module": "@jupyter-widgets/base",
            "_view_module_version": "1.2.0",
            "_view_name": "LayoutView",
            "align_content": null,
            "align_items": null,
            "align_self": null,
            "border": null,
            "bottom": null,
            "display": null,
            "flex": null,
            "flex_flow": null,
            "grid_area": null,
            "grid_auto_columns": null,
            "grid_auto_flow": null,
            "grid_auto_rows": null,
            "grid_column": null,
            "grid_gap": null,
            "grid_row": null,
            "grid_template_areas": null,
            "grid_template_columns": null,
            "grid_template_rows": null,
            "height": null,
            "justify_content": null,
            "justify_items": null,
            "left": null,
            "margin": null,
            "max_height": null,
            "max_width": null,
            "min_height": null,
            "min_width": null,
            "object_fit": null,
            "object_position": null,
            "order": null,
            "overflow": null,
            "overflow_x": null,
            "overflow_y": null,
            "padding": null,
            "right": null,
            "top": null,
            "visibility": null,
            "width": null
          }
        },
        "9e02b1dd5d2e463f8e651d209c1cd6d1": {
          "model_module": "@jupyter-widgets/controls",
          "model_module_version": "1.5.0",
          "model_name": "HTMLModel",
          "state": {
            "_dom_classes": [],
            "_model_module": "@jupyter-widgets/controls",
            "_model_module_version": "1.5.0",
            "_model_name": "HTMLModel",
            "_view_count": null,
            "_view_module": "@jupyter-widgets/controls",
            "_view_module_version": "1.5.0",
            "_view_name": "HTMLView",
            "description": "",
            "description_tooltip": null,
            "layout": "IPY_MODEL_c18050ecd951458e87304e8ee0ac2efc",
            "placeholder": "​",
            "style": "IPY_MODEL_33c445fd5f68422196fc6aa3308c5080",
            "value": "model.safetensors: 100%"
          }
        },
        "9e17c3b01dbd42708daaecfda6f7dce4": {
          "model_module": "@jupyter-widgets/controls",
          "model_module_version": "1.5.0",
          "model_name": "HBoxModel",
          "state": {
            "_dom_classes": [],
            "_model_module": "@jupyter-widgets/controls",
            "_model_module_version": "1.5.0",
            "_model_name": "HBoxModel",
            "_view_count": null,
            "_view_module": "@jupyter-widgets/controls",
            "_view_module_version": "1.5.0",
            "_view_name": "HBoxView",
            "box_style": "",
            "children": [
              "IPY_MODEL_f9983622e0ae44cd97ae6605371fe2ff",
              "IPY_MODEL_8b7d3d0918804acb97a9b1cffb4a4a4a",
              "IPY_MODEL_eaaf29707b0042cb905f532d18f7a283"
            ],
            "layout": "IPY_MODEL_70b80858e14c4a29b3fb352ec922f4a0"
          }
        },
        "a4a48d52da974c56bf0cd450ede3f890": {
          "model_module": "@jupyter-widgets/controls",
          "model_module_version": "1.5.0",
          "model_name": "HBoxModel",
          "state": {
            "_dom_classes": [],
            "_model_module": "@jupyter-widgets/controls",
            "_model_module_version": "1.5.0",
            "_model_name": "HBoxModel",
            "_view_count": null,
            "_view_module": "@jupyter-widgets/controls",
            "_view_module_version": "1.5.0",
            "_view_name": "HBoxView",
            "box_style": "",
            "children": [
              "IPY_MODEL_9ae9aa06e2a749e5aa4c988237e0d27b",
              "IPY_MODEL_8da79dca3fdc4f118f26f0e21dcbc0f6",
              "IPY_MODEL_dfdfeda83e57421189a09fd152a87bd1"
            ],
            "layout": "IPY_MODEL_e89e773170b243f1831ab0e0ef0c1c3c"
          }
        },
        "a4f1160f29ab42ccbcc8b2f27f10f881": {
          "model_module": "@jupyter-widgets/controls",
          "model_module_version": "1.5.0",
          "model_name": "ProgressStyleModel",
          "state": {
            "_model_module": "@jupyter-widgets/controls",
            "_model_module_version": "1.5.0",
            "_model_name": "ProgressStyleModel",
            "_view_count": null,
            "_view_module": "@jupyter-widgets/base",
            "_view_module_version": "1.2.0",
            "_view_name": "StyleView",
            "bar_color": null,
            "description_width": ""
          }
        },
        "aaf3e330628448f3989f47d29ca91da8": {
          "model_module": "@jupyter-widgets/controls",
          "model_module_version": "1.5.0",
          "model_name": "ProgressStyleModel",
          "state": {
            "_model_module": "@jupyter-widgets/controls",
            "_model_module_version": "1.5.0",
            "_model_name": "ProgressStyleModel",
            "_view_count": null,
            "_view_module": "@jupyter-widgets/base",
            "_view_module_version": "1.2.0",
            "_view_name": "StyleView",
            "bar_color": null,
            "description_width": ""
          }
        },
        "b5ce74840b184437beab0a6b60098e7a": {
          "model_module": "@jupyter-widgets/base",
          "model_module_version": "1.2.0",
          "model_name": "LayoutModel",
          "state": {
            "_model_module": "@jupyter-widgets/base",
            "_model_module_version": "1.2.0",
            "_model_name": "LayoutModel",
            "_view_count": null,
            "_view_module": "@jupyter-widgets/base",
            "_view_module_version": "1.2.0",
            "_view_name": "LayoutView",
            "align_content": null,
            "align_items": null,
            "align_self": null,
            "border": null,
            "bottom": null,
            "display": null,
            "flex": null,
            "flex_flow": null,
            "grid_area": null,
            "grid_auto_columns": null,
            "grid_auto_flow": null,
            "grid_auto_rows": null,
            "grid_column": null,
            "grid_gap": null,
            "grid_row": null,
            "grid_template_areas": null,
            "grid_template_columns": null,
            "grid_template_rows": null,
            "height": null,
            "justify_content": null,
            "justify_items": null,
            "left": null,
            "margin": null,
            "max_height": null,
            "max_width": null,
            "min_height": null,
            "min_width": null,
            "object_fit": null,
            "object_position": null,
            "order": null,
            "overflow": null,
            "overflow_x": null,
            "overflow_y": null,
            "padding": null,
            "right": null,
            "top": null,
            "visibility": null,
            "width": null
          }
        },
        "b7f74bb4ac6242b09446603a07bb17b7": {
          "model_module": "@jupyter-widgets/base",
          "model_module_version": "1.2.0",
          "model_name": "LayoutModel",
          "state": {
            "_model_module": "@jupyter-widgets/base",
            "_model_module_version": "1.2.0",
            "_model_name": "LayoutModel",
            "_view_count": null,
            "_view_module": "@jupyter-widgets/base",
            "_view_module_version": "1.2.0",
            "_view_name": "LayoutView",
            "align_content": null,
            "align_items": null,
            "align_self": null,
            "border": null,
            "bottom": null,
            "display": null,
            "flex": null,
            "flex_flow": null,
            "grid_area": null,
            "grid_auto_columns": null,
            "grid_auto_flow": null,
            "grid_auto_rows": null,
            "grid_column": null,
            "grid_gap": null,
            "grid_row": null,
            "grid_template_areas": null,
            "grid_template_columns": null,
            "grid_template_rows": null,
            "height": null,
            "justify_content": null,
            "justify_items": null,
            "left": null,
            "margin": null,
            "max_height": null,
            "max_width": null,
            "min_height": null,
            "min_width": null,
            "object_fit": null,
            "object_position": null,
            "order": null,
            "overflow": null,
            "overflow_x": null,
            "overflow_y": null,
            "padding": null,
            "right": null,
            "top": null,
            "visibility": null,
            "width": null
          }
        },
        "b98f6228842247969bc77a2d9f72e172": {
          "model_module": "@jupyter-widgets/controls",
          "model_module_version": "1.5.0",
          "model_name": "HTMLModel",
          "state": {
            "_dom_classes": [],
            "_model_module": "@jupyter-widgets/controls",
            "_model_module_version": "1.5.0",
            "_model_name": "HTMLModel",
            "_view_count": null,
            "_view_module": "@jupyter-widgets/controls",
            "_view_module_version": "1.5.0",
            "_view_name": "HTMLView",
            "description": "",
            "description_tooltip": null,
            "layout": "IPY_MODEL_e837545d4b6d4e3198fc50f8642e7656",
            "placeholder": "​",
            "style": "IPY_MODEL_f03785a3dc884efe85a12079251034f5",
            "value": "special_tokens_map.json: 100%"
          }
        },
        "bddfa4aeab27463789ab0764eb2659f9": {
          "model_module": "@jupyter-widgets/base",
          "model_module_version": "1.2.0",
          "model_name": "LayoutModel",
          "state": {
            "_model_module": "@jupyter-widgets/base",
            "_model_module_version": "1.2.0",
            "_model_name": "LayoutModel",
            "_view_count": null,
            "_view_module": "@jupyter-widgets/base",
            "_view_module_version": "1.2.0",
            "_view_name": "LayoutView",
            "align_content": null,
            "align_items": null,
            "align_self": null,
            "border": null,
            "bottom": null,
            "display": null,
            "flex": null,
            "flex_flow": null,
            "grid_area": null,
            "grid_auto_columns": null,
            "grid_auto_flow": null,
            "grid_auto_rows": null,
            "grid_column": null,
            "grid_gap": null,
            "grid_row": null,
            "grid_template_areas": null,
            "grid_template_columns": null,
            "grid_template_rows": null,
            "height": null,
            "justify_content": null,
            "justify_items": null,
            "left": null,
            "margin": null,
            "max_height": null,
            "max_width": null,
            "min_height": null,
            "min_width": null,
            "object_fit": null,
            "object_position": null,
            "order": null,
            "overflow": null,
            "overflow_x": null,
            "overflow_y": null,
            "padding": null,
            "right": null,
            "top": null,
            "visibility": null,
            "width": null
          }
        },
        "be1616b034d7430b984c6d0b330b159b": {
          "model_module": "@jupyter-widgets/controls",
          "model_module_version": "1.5.0",
          "model_name": "ProgressStyleModel",
          "state": {
            "_model_module": "@jupyter-widgets/controls",
            "_model_module_version": "1.5.0",
            "_model_name": "ProgressStyleModel",
            "_view_count": null,
            "_view_module": "@jupyter-widgets/base",
            "_view_module_version": "1.2.0",
            "_view_name": "StyleView",
            "bar_color": null,
            "description_width": ""
          }
        },
        "bebf8f636ff6488a87aae45b2271c25d": {
          "model_module": "@jupyter-widgets/base",
          "model_module_version": "1.2.0",
          "model_name": "LayoutModel",
          "state": {
            "_model_module": "@jupyter-widgets/base",
            "_model_module_version": "1.2.0",
            "_model_name": "LayoutModel",
            "_view_count": null,
            "_view_module": "@jupyter-widgets/base",
            "_view_module_version": "1.2.0",
            "_view_name": "LayoutView",
            "align_content": null,
            "align_items": null,
            "align_self": null,
            "border": null,
            "bottom": null,
            "display": null,
            "flex": null,
            "flex_flow": null,
            "grid_area": null,
            "grid_auto_columns": null,
            "grid_auto_flow": null,
            "grid_auto_rows": null,
            "grid_column": null,
            "grid_gap": null,
            "grid_row": null,
            "grid_template_areas": null,
            "grid_template_columns": null,
            "grid_template_rows": null,
            "height": null,
            "justify_content": null,
            "justify_items": null,
            "left": null,
            "margin": null,
            "max_height": null,
            "max_width": null,
            "min_height": null,
            "min_width": null,
            "object_fit": null,
            "object_position": null,
            "order": null,
            "overflow": null,
            "overflow_x": null,
            "overflow_y": null,
            "padding": null,
            "right": null,
            "top": null,
            "visibility": null,
            "width": null
          }
        },
        "bf21d38e222444819605642e93023d07": {
          "model_module": "@jupyter-widgets/controls",
          "model_module_version": "1.5.0",
          "model_name": "ProgressStyleModel",
          "state": {
            "_model_module": "@jupyter-widgets/controls",
            "_model_module_version": "1.5.0",
            "_model_name": "ProgressStyleModel",
            "_view_count": null,
            "_view_module": "@jupyter-widgets/base",
            "_view_module_version": "1.2.0",
            "_view_name": "StyleView",
            "bar_color": null,
            "description_width": ""
          }
        },
        "c0900dec605948a1ad99921d40d35f3b": {
          "model_module": "@jupyter-widgets/base",
          "model_module_version": "1.2.0",
          "model_name": "LayoutModel",
          "state": {
            "_model_module": "@jupyter-widgets/base",
            "_model_module_version": "1.2.0",
            "_model_name": "LayoutModel",
            "_view_count": null,
            "_view_module": "@jupyter-widgets/base",
            "_view_module_version": "1.2.0",
            "_view_name": "LayoutView",
            "align_content": null,
            "align_items": null,
            "align_self": null,
            "border": null,
            "bottom": null,
            "display": null,
            "flex": null,
            "flex_flow": null,
            "grid_area": null,
            "grid_auto_columns": null,
            "grid_auto_flow": null,
            "grid_auto_rows": null,
            "grid_column": null,
            "grid_gap": null,
            "grid_row": null,
            "grid_template_areas": null,
            "grid_template_columns": null,
            "grid_template_rows": null,
            "height": null,
            "justify_content": null,
            "justify_items": null,
            "left": null,
            "margin": null,
            "max_height": null,
            "max_width": null,
            "min_height": null,
            "min_width": null,
            "object_fit": null,
            "object_position": null,
            "order": null,
            "overflow": null,
            "overflow_x": null,
            "overflow_y": null,
            "padding": null,
            "right": null,
            "top": null,
            "visibility": null,
            "width": null
          }
        },
        "c18050ecd951458e87304e8ee0ac2efc": {
          "model_module": "@jupyter-widgets/base",
          "model_module_version": "1.2.0",
          "model_name": "LayoutModel",
          "state": {
            "_model_module": "@jupyter-widgets/base",
            "_model_module_version": "1.2.0",
            "_model_name": "LayoutModel",
            "_view_count": null,
            "_view_module": "@jupyter-widgets/base",
            "_view_module_version": "1.2.0",
            "_view_name": "LayoutView",
            "align_content": null,
            "align_items": null,
            "align_self": null,
            "border": null,
            "bottom": null,
            "display": null,
            "flex": null,
            "flex_flow": null,
            "grid_area": null,
            "grid_auto_columns": null,
            "grid_auto_flow": null,
            "grid_auto_rows": null,
            "grid_column": null,
            "grid_gap": null,
            "grid_row": null,
            "grid_template_areas": null,
            "grid_template_columns": null,
            "grid_template_rows": null,
            "height": null,
            "justify_content": null,
            "justify_items": null,
            "left": null,
            "margin": null,
            "max_height": null,
            "max_width": null,
            "min_height": null,
            "min_width": null,
            "object_fit": null,
            "object_position": null,
            "order": null,
            "overflow": null,
            "overflow_x": null,
            "overflow_y": null,
            "padding": null,
            "right": null,
            "top": null,
            "visibility": null,
            "width": null
          }
        },
        "c49942ffaea04e3b9a4513da9b0ac08c": {
          "model_module": "@jupyter-widgets/controls",
          "model_module_version": "1.5.0",
          "model_name": "DescriptionStyleModel",
          "state": {
            "_model_module": "@jupyter-widgets/controls",
            "_model_module_version": "1.5.0",
            "_model_name": "DescriptionStyleModel",
            "_view_count": null,
            "_view_module": "@jupyter-widgets/base",
            "_view_module_version": "1.2.0",
            "_view_name": "StyleView",
            "description_width": ""
          }
        },
        "c696dd1c1fd0415eb49b12eaf6d70420": {
          "model_module": "@jupyter-widgets/controls",
          "model_module_version": "1.5.0",
          "model_name": "DescriptionStyleModel",
          "state": {
            "_model_module": "@jupyter-widgets/controls",
            "_model_module_version": "1.5.0",
            "_model_name": "DescriptionStyleModel",
            "_view_count": null,
            "_view_module": "@jupyter-widgets/base",
            "_view_module_version": "1.2.0",
            "_view_name": "StyleView",
            "description_width": ""
          }
        },
        "c69e77577089437dbb98c521bbd0bfe7": {
          "model_module": "@jupyter-widgets/controls",
          "model_module_version": "1.5.0",
          "model_name": "HTMLModel",
          "state": {
            "_dom_classes": [],
            "_model_module": "@jupyter-widgets/controls",
            "_model_module_version": "1.5.0",
            "_model_name": "HTMLModel",
            "_view_count": null,
            "_view_module": "@jupyter-widgets/controls",
            "_view_module_version": "1.5.0",
            "_view_name": "HTMLView",
            "description": "",
            "description_tooltip": null,
            "layout": "IPY_MODEL_4bd2bed8c29549caba4a0c6e70a6912c",
            "placeholder": "​",
            "style": "IPY_MODEL_9190709216d341cc8bd6c3fdbf51c76c",
            "value": " 456k/456k [00:00&lt;00:00, 3.09MB/s]"
          }
        },
        "cfb30bd7c5df4259b812890949c8dc65": {
          "model_module": "@jupyter-widgets/controls",
          "model_module_version": "1.5.0",
          "model_name": "ProgressStyleModel",
          "state": {
            "_model_module": "@jupyter-widgets/controls",
            "_model_module_version": "1.5.0",
            "_model_name": "ProgressStyleModel",
            "_view_count": null,
            "_view_module": "@jupyter-widgets/base",
            "_view_module_version": "1.2.0",
            "_view_name": "StyleView",
            "bar_color": null,
            "description_width": ""
          }
        },
        "d1206c2039ed45a7abb62d406e6bd65f": {
          "model_module": "@jupyter-widgets/base",
          "model_module_version": "1.2.0",
          "model_name": "LayoutModel",
          "state": {
            "_model_module": "@jupyter-widgets/base",
            "_model_module_version": "1.2.0",
            "_model_name": "LayoutModel",
            "_view_count": null,
            "_view_module": "@jupyter-widgets/base",
            "_view_module_version": "1.2.0",
            "_view_name": "LayoutView",
            "align_content": null,
            "align_items": null,
            "align_self": null,
            "border": null,
            "bottom": null,
            "display": null,
            "flex": null,
            "flex_flow": null,
            "grid_area": null,
            "grid_auto_columns": null,
            "grid_auto_flow": null,
            "grid_auto_rows": null,
            "grid_column": null,
            "grid_gap": null,
            "grid_row": null,
            "grid_template_areas": null,
            "grid_template_columns": null,
            "grid_template_rows": null,
            "height": null,
            "justify_content": null,
            "justify_items": null,
            "left": null,
            "margin": null,
            "max_height": null,
            "max_width": null,
            "min_height": null,
            "min_width": null,
            "object_fit": null,
            "object_position": null,
            "order": null,
            "overflow": null,
            "overflow_x": null,
            "overflow_y": null,
            "padding": null,
            "right": null,
            "top": null,
            "visibility": null,
            "width": null
          }
        },
        "d2d453a83f564f6d9eaf5f14f791f53e": {
          "model_module": "@jupyter-widgets/controls",
          "model_module_version": "1.5.0",
          "model_name": "DescriptionStyleModel",
          "state": {
            "_model_module": "@jupyter-widgets/controls",
            "_model_module_version": "1.5.0",
            "_model_name": "DescriptionStyleModel",
            "_view_count": null,
            "_view_module": "@jupyter-widgets/base",
            "_view_module_version": "1.2.0",
            "_view_name": "StyleView",
            "description_width": ""
          }
        },
        "d8943e45f3804533b9214818a9ffa6b0": {
          "model_module": "@jupyter-widgets/base",
          "model_module_version": "1.2.0",
          "model_name": "LayoutModel",
          "state": {
            "_model_module": "@jupyter-widgets/base",
            "_model_module_version": "1.2.0",
            "_model_name": "LayoutModel",
            "_view_count": null,
            "_view_module": "@jupyter-widgets/base",
            "_view_module_version": "1.2.0",
            "_view_name": "LayoutView",
            "align_content": null,
            "align_items": null,
            "align_self": null,
            "border": null,
            "bottom": null,
            "display": null,
            "flex": null,
            "flex_flow": null,
            "grid_area": null,
            "grid_auto_columns": null,
            "grid_auto_flow": null,
            "grid_auto_rows": null,
            "grid_column": null,
            "grid_gap": null,
            "grid_row": null,
            "grid_template_areas": null,
            "grid_template_columns": null,
            "grid_template_rows": null,
            "height": null,
            "justify_content": null,
            "justify_items": null,
            "left": null,
            "margin": null,
            "max_height": null,
            "max_width": null,
            "min_height": null,
            "min_width": null,
            "object_fit": null,
            "object_position": null,
            "order": null,
            "overflow": null,
            "overflow_x": null,
            "overflow_y": null,
            "padding": null,
            "right": null,
            "top": null,
            "visibility": null,
            "width": null
          }
        },
        "d9523980c5c54ce99c35b0af3912381f": {
          "model_module": "@jupyter-widgets/controls",
          "model_module_version": "1.5.0",
          "model_name": "DescriptionStyleModel",
          "state": {
            "_model_module": "@jupyter-widgets/controls",
            "_model_module_version": "1.5.0",
            "_model_name": "DescriptionStyleModel",
            "_view_count": null,
            "_view_module": "@jupyter-widgets/base",
            "_view_module_version": "1.2.0",
            "_view_name": "StyleView",
            "description_width": ""
          }
        },
        "decf721c70244200bf07d65dc60f0011": {
          "model_module": "@jupyter-widgets/controls",
          "model_module_version": "1.5.0",
          "model_name": "HTMLModel",
          "state": {
            "_dom_classes": [],
            "_model_module": "@jupyter-widgets/controls",
            "_model_module_version": "1.5.0",
            "_model_name": "HTMLModel",
            "_view_count": null,
            "_view_module": "@jupyter-widgets/controls",
            "_view_module_version": "1.5.0",
            "_view_name": "HTMLView",
            "description": "",
            "description_tooltip": null,
            "layout": "IPY_MODEL_12b97f723d984fac94eb8e6af1cf7aa9",
            "placeholder": "​",
            "style": "IPY_MODEL_984925a5ce9d4dada845bd7d81ec47f9",
            "value": "config.json: 100%"
          }
        },
        "dfdfeda83e57421189a09fd152a87bd1": {
          "model_module": "@jupyter-widgets/controls",
          "model_module_version": "1.5.0",
          "model_name": "HTMLModel",
          "state": {
            "_dom_classes": [],
            "_model_module": "@jupyter-widgets/controls",
            "_model_module_version": "1.5.0",
            "_model_name": "HTMLModel",
            "_view_count": null,
            "_view_module": "@jupyter-widgets/controls",
            "_view_module_version": "1.5.0",
            "_view_name": "HTMLView",
            "description": "",
            "description_tooltip": null,
            "layout": "IPY_MODEL_90c8b0b76a7746f18aa7df0b8ef3b1a5",
            "placeholder": "​",
            "style": "IPY_MODEL_c696dd1c1fd0415eb49b12eaf6d70420",
            "value": " 899k/899k [00:00&lt;00:00, 4.09MB/s]"
          }
        },
        "e5f8de6785ca404ea8af777ec6bb49b9": {
          "model_module": "@jupyter-widgets/controls",
          "model_module_version": "1.5.0",
          "model_name": "DescriptionStyleModel",
          "state": {
            "_model_module": "@jupyter-widgets/controls",
            "_model_module_version": "1.5.0",
            "_model_name": "DescriptionStyleModel",
            "_view_count": null,
            "_view_module": "@jupyter-widgets/base",
            "_view_module_version": "1.2.0",
            "_view_name": "StyleView",
            "description_width": ""
          }
        },
        "e70c41d150624d67ac1e4601500dec92": {
          "model_module": "@jupyter-widgets/base",
          "model_module_version": "1.2.0",
          "model_name": "LayoutModel",
          "state": {
            "_model_module": "@jupyter-widgets/base",
            "_model_module_version": "1.2.0",
            "_model_name": "LayoutModel",
            "_view_count": null,
            "_view_module": "@jupyter-widgets/base",
            "_view_module_version": "1.2.0",
            "_view_name": "LayoutView",
            "align_content": null,
            "align_items": null,
            "align_self": null,
            "border": null,
            "bottom": null,
            "display": null,
            "flex": null,
            "flex_flow": null,
            "grid_area": null,
            "grid_auto_columns": null,
            "grid_auto_flow": null,
            "grid_auto_rows": null,
            "grid_column": null,
            "grid_gap": null,
            "grid_row": null,
            "grid_template_areas": null,
            "grid_template_columns": null,
            "grid_template_rows": null,
            "height": null,
            "justify_content": null,
            "justify_items": null,
            "left": null,
            "margin": null,
            "max_height": null,
            "max_width": null,
            "min_height": null,
            "min_width": null,
            "object_fit": null,
            "object_position": null,
            "order": null,
            "overflow": null,
            "overflow_x": null,
            "overflow_y": null,
            "padding": null,
            "right": null,
            "top": null,
            "visibility": null,
            "width": null
          }
        },
        "e834dfd2b25346e389ded03918ad3e31": {
          "model_module": "@jupyter-widgets/controls",
          "model_module_version": "1.5.0",
          "model_name": "FloatProgressModel",
          "state": {
            "_dom_classes": [],
            "_model_module": "@jupyter-widgets/controls",
            "_model_module_version": "1.5.0",
            "_model_name": "FloatProgressModel",
            "_view_count": null,
            "_view_module": "@jupyter-widgets/controls",
            "_view_module_version": "1.5.0",
            "_view_name": "ProgressView",
            "bar_style": "success",
            "description": "",
            "description_tooltip": null,
            "layout": "IPY_MODEL_81ab1448a51e41b587aad1503eed0f3b",
            "max": 96,
            "min": 0,
            "orientation": "horizontal",
            "style": "IPY_MODEL_4ea756e47eaa4c1fbc45edff9fb9b661",
            "value": 96
          }
        },
        "e837545d4b6d4e3198fc50f8642e7656": {
          "model_module": "@jupyter-widgets/base",
          "model_module_version": "1.2.0",
          "model_name": "LayoutModel",
          "state": {
            "_model_module": "@jupyter-widgets/base",
            "_model_module_version": "1.2.0",
            "_model_name": "LayoutModel",
            "_view_count": null,
            "_view_module": "@jupyter-widgets/base",
            "_view_module_version": "1.2.0",
            "_view_name": "LayoutView",
            "align_content": null,
            "align_items": null,
            "align_self": null,
            "border": null,
            "bottom": null,
            "display": null,
            "flex": null,
            "flex_flow": null,
            "grid_area": null,
            "grid_auto_columns": null,
            "grid_auto_flow": null,
            "grid_auto_rows": null,
            "grid_column": null,
            "grid_gap": null,
            "grid_row": null,
            "grid_template_areas": null,
            "grid_template_columns": null,
            "grid_template_rows": null,
            "height": null,
            "justify_content": null,
            "justify_items": null,
            "left": null,
            "margin": null,
            "max_height": null,
            "max_width": null,
            "min_height": null,
            "min_width": null,
            "object_fit": null,
            "object_position": null,
            "order": null,
            "overflow": null,
            "overflow_x": null,
            "overflow_y": null,
            "padding": null,
            "right": null,
            "top": null,
            "visibility": null,
            "width": null
          }
        },
        "e89e773170b243f1831ab0e0ef0c1c3c": {
          "model_module": "@jupyter-widgets/base",
          "model_module_version": "1.2.0",
          "model_name": "LayoutModel",
          "state": {
            "_model_module": "@jupyter-widgets/base",
            "_model_module_version": "1.2.0",
            "_model_name": "LayoutModel",
            "_view_count": null,
            "_view_module": "@jupyter-widgets/base",
            "_view_module_version": "1.2.0",
            "_view_name": "LayoutView",
            "align_content": null,
            "align_items": null,
            "align_self": null,
            "border": null,
            "bottom": null,
            "display": null,
            "flex": null,
            "flex_flow": null,
            "grid_area": null,
            "grid_auto_columns": null,
            "grid_auto_flow": null,
            "grid_auto_rows": null,
            "grid_column": null,
            "grid_gap": null,
            "grid_row": null,
            "grid_template_areas": null,
            "grid_template_columns": null,
            "grid_template_rows": null,
            "height": null,
            "justify_content": null,
            "justify_items": null,
            "left": null,
            "margin": null,
            "max_height": null,
            "max_width": null,
            "min_height": null,
            "min_width": null,
            "object_fit": null,
            "object_position": null,
            "order": null,
            "overflow": null,
            "overflow_x": null,
            "overflow_y": null,
            "padding": null,
            "right": null,
            "top": null,
            "visibility": null,
            "width": null
          }
        },
        "eaaf29707b0042cb905f532d18f7a283": {
          "model_module": "@jupyter-widgets/controls",
          "model_module_version": "1.5.0",
          "model_name": "HTMLModel",
          "state": {
            "_dom_classes": [],
            "_model_module": "@jupyter-widgets/controls",
            "_model_module_version": "1.5.0",
            "_model_name": "HTMLModel",
            "_view_count": null,
            "_view_module": "@jupyter-widgets/controls",
            "_view_module_version": "1.5.0",
            "_view_name": "HTMLView",
            "description": "",
            "description_tooltip": null,
            "layout": "IPY_MODEL_e70c41d150624d67ac1e4601500dec92",
            "placeholder": "​",
            "style": "IPY_MODEL_f9c44b3e4bb643dbbee621bd8e8f7f00",
            "value": " 22/22 [00:00&lt;00:00, 1091.00it/s]"
          }
        },
        "eb2d5a2821a649058848c08eddc5c8db": {
          "model_module": "@jupyter-widgets/controls",
          "model_module_version": "1.5.0",
          "model_name": "HTMLModel",
          "state": {
            "_dom_classes": [],
            "_model_module": "@jupyter-widgets/controls",
            "_model_module_version": "1.5.0",
            "_model_name": "HTMLModel",
            "_view_count": null,
            "_view_module": "@jupyter-widgets/controls",
            "_view_module_version": "1.5.0",
            "_view_name": "HTMLView",
            "description": "",
            "description_tooltip": null,
            "layout": "IPY_MODEL_f6b1e0c4893849629725d971c41325b4",
            "placeholder": "​",
            "style": "IPY_MODEL_409acda35474436e9cfa4e35c8da55a9",
            "value": "merges.txt: 100%"
          }
        },
        "f03785a3dc884efe85a12079251034f5": {
          "model_module": "@jupyter-widgets/controls",
          "model_module_version": "1.5.0",
          "model_name": "DescriptionStyleModel",
          "state": {
            "_model_module": "@jupyter-widgets/controls",
            "_model_module_version": "1.5.0",
            "_model_name": "DescriptionStyleModel",
            "_view_count": null,
            "_view_module": "@jupyter-widgets/base",
            "_view_module_version": "1.2.0",
            "_view_name": "StyleView",
            "description_width": ""
          }
        },
        "f0fe6b0d4e3b45aa980d8c599a00dad1": {
          "model_module": "@jupyter-widgets/controls",
          "model_module_version": "1.5.0",
          "model_name": "HTMLModel",
          "state": {
            "_dom_classes": [],
            "_model_module": "@jupyter-widgets/controls",
            "_model_module_version": "1.5.0",
            "_model_name": "HTMLModel",
            "_view_count": null,
            "_view_module": "@jupyter-widgets/controls",
            "_view_module_version": "1.5.0",
            "_view_name": "HTMLView",
            "description": "",
            "description_tooltip": null,
            "layout": "IPY_MODEL_f38d86d8da5f40e7a2b7478cd6845539",
            "placeholder": "​",
            "style": "IPY_MODEL_f6d25d416e6045618c9206c5dd098893",
            "value": " 96/96 [00:00&lt;00:00, 120.74it/s]"
          }
        },
        "f2665c3cfd0f487b87f9924e3dc84479": {
          "model_module": "@jupyter-widgets/base",
          "model_module_version": "1.2.0",
          "model_name": "LayoutModel",
          "state": {
            "_model_module": "@jupyter-widgets/base",
            "_model_module_version": "1.2.0",
            "_model_name": "LayoutModel",
            "_view_count": null,
            "_view_module": "@jupyter-widgets/base",
            "_view_module_version": "1.2.0",
            "_view_name": "LayoutView",
            "align_content": null,
            "align_items": null,
            "align_self": null,
            "border": null,
            "bottom": null,
            "display": null,
            "flex": null,
            "flex_flow": null,
            "grid_area": null,
            "grid_auto_columns": null,
            "grid_auto_flow": null,
            "grid_auto_rows": null,
            "grid_column": null,
            "grid_gap": null,
            "grid_row": null,
            "grid_template_areas": null,
            "grid_template_columns": null,
            "grid_template_rows": null,
            "height": null,
            "justify_content": null,
            "justify_items": null,
            "left": null,
            "margin": null,
            "max_height": null,
            "max_width": null,
            "min_height": null,
            "min_width": null,
            "object_fit": null,
            "object_position": null,
            "order": null,
            "overflow": null,
            "overflow_x": null,
            "overflow_y": null,
            "padding": null,
            "right": null,
            "top": null,
            "visibility": null,
            "width": null
          }
        },
        "f38d86d8da5f40e7a2b7478cd6845539": {
          "model_module": "@jupyter-widgets/base",
          "model_module_version": "1.2.0",
          "model_name": "LayoutModel",
          "state": {
            "_model_module": "@jupyter-widgets/base",
            "_model_module_version": "1.2.0",
            "_model_name": "LayoutModel",
            "_view_count": null,
            "_view_module": "@jupyter-widgets/base",
            "_view_module_version": "1.2.0",
            "_view_name": "LayoutView",
            "align_content": null,
            "align_items": null,
            "align_self": null,
            "border": null,
            "bottom": null,
            "display": null,
            "flex": null,
            "flex_flow": null,
            "grid_area": null,
            "grid_auto_columns": null,
            "grid_auto_flow": null,
            "grid_auto_rows": null,
            "grid_column": null,
            "grid_gap": null,
            "grid_row": null,
            "grid_template_areas": null,
            "grid_template_columns": null,
            "grid_template_rows": null,
            "height": null,
            "justify_content": null,
            "justify_items": null,
            "left": null,
            "margin": null,
            "max_height": null,
            "max_width": null,
            "min_height": null,
            "min_width": null,
            "object_fit": null,
            "object_position": null,
            "order": null,
            "overflow": null,
            "overflow_x": null,
            "overflow_y": null,
            "padding": null,
            "right": null,
            "top": null,
            "visibility": null,
            "width": null
          }
        },
        "f4b5c62198a5421194c84305222d5d07": {
          "model_module": "@jupyter-widgets/base",
          "model_module_version": "1.2.0",
          "model_name": "LayoutModel",
          "state": {
            "_model_module": "@jupyter-widgets/base",
            "_model_module_version": "1.2.0",
            "_model_name": "LayoutModel",
            "_view_count": null,
            "_view_module": "@jupyter-widgets/base",
            "_view_module_version": "1.2.0",
            "_view_name": "LayoutView",
            "align_content": null,
            "align_items": null,
            "align_self": null,
            "border": null,
            "bottom": null,
            "display": null,
            "flex": null,
            "flex_flow": null,
            "grid_area": null,
            "grid_auto_columns": null,
            "grid_auto_flow": null,
            "grid_auto_rows": null,
            "grid_column": null,
            "grid_gap": null,
            "grid_row": null,
            "grid_template_areas": null,
            "grid_template_columns": null,
            "grid_template_rows": null,
            "height": null,
            "justify_content": null,
            "justify_items": null,
            "left": null,
            "margin": null,
            "max_height": null,
            "max_width": null,
            "min_height": null,
            "min_width": null,
            "object_fit": null,
            "object_position": null,
            "order": null,
            "overflow": null,
            "overflow_x": null,
            "overflow_y": null,
            "padding": null,
            "right": null,
            "top": null,
            "visibility": null,
            "width": null
          }
        },
        "f52dae1ac2924cfa98bb94bcd286735f": {
          "model_module": "@jupyter-widgets/controls",
          "model_module_version": "1.5.0",
          "model_name": "DescriptionStyleModel",
          "state": {
            "_model_module": "@jupyter-widgets/controls",
            "_model_module_version": "1.5.0",
            "_model_name": "DescriptionStyleModel",
            "_view_count": null,
            "_view_module": "@jupyter-widgets/base",
            "_view_module_version": "1.2.0",
            "_view_name": "StyleView",
            "description_width": ""
          }
        },
        "f6b1e0c4893849629725d971c41325b4": {
          "model_module": "@jupyter-widgets/base",
          "model_module_version": "1.2.0",
          "model_name": "LayoutModel",
          "state": {
            "_model_module": "@jupyter-widgets/base",
            "_model_module_version": "1.2.0",
            "_model_name": "LayoutModel",
            "_view_count": null,
            "_view_module": "@jupyter-widgets/base",
            "_view_module_version": "1.2.0",
            "_view_name": "LayoutView",
            "align_content": null,
            "align_items": null,
            "align_self": null,
            "border": null,
            "bottom": null,
            "display": null,
            "flex": null,
            "flex_flow": null,
            "grid_area": null,
            "grid_auto_columns": null,
            "grid_auto_flow": null,
            "grid_auto_rows": null,
            "grid_column": null,
            "grid_gap": null,
            "grid_row": null,
            "grid_template_areas": null,
            "grid_template_columns": null,
            "grid_template_rows": null,
            "height": null,
            "justify_content": null,
            "justify_items": null,
            "left": null,
            "margin": null,
            "max_height": null,
            "max_width": null,
            "min_height": null,
            "min_width": null,
            "object_fit": null,
            "object_position": null,
            "order": null,
            "overflow": null,
            "overflow_x": null,
            "overflow_y": null,
            "padding": null,
            "right": null,
            "top": null,
            "visibility": null,
            "width": null
          }
        },
        "f6d25d416e6045618c9206c5dd098893": {
          "model_module": "@jupyter-widgets/controls",
          "model_module_version": "1.5.0",
          "model_name": "DescriptionStyleModel",
          "state": {
            "_model_module": "@jupyter-widgets/controls",
            "_model_module_version": "1.5.0",
            "_model_name": "DescriptionStyleModel",
            "_view_count": null,
            "_view_module": "@jupyter-widgets/base",
            "_view_module_version": "1.2.0",
            "_view_name": "StyleView",
            "description_width": ""
          }
        },
        "f7793277074048babc705a7736e39586": {
          "model_module": "@jupyter-widgets/base",
          "model_module_version": "1.2.0",
          "model_name": "LayoutModel",
          "state": {
            "_model_module": "@jupyter-widgets/base",
            "_model_module_version": "1.2.0",
            "_model_name": "LayoutModel",
            "_view_count": null,
            "_view_module": "@jupyter-widgets/base",
            "_view_module_version": "1.2.0",
            "_view_name": "LayoutView",
            "align_content": null,
            "align_items": null,
            "align_self": null,
            "border": null,
            "bottom": null,
            "display": null,
            "flex": null,
            "flex_flow": null,
            "grid_area": null,
            "grid_auto_columns": null,
            "grid_auto_flow": null,
            "grid_auto_rows": null,
            "grid_column": null,
            "grid_gap": null,
            "grid_row": null,
            "grid_template_areas": null,
            "grid_template_columns": null,
            "grid_template_rows": null,
            "height": null,
            "justify_content": null,
            "justify_items": null,
            "left": null,
            "margin": null,
            "max_height": null,
            "max_width": null,
            "min_height": null,
            "min_width": null,
            "object_fit": null,
            "object_position": null,
            "order": null,
            "overflow": null,
            "overflow_x": null,
            "overflow_y": null,
            "padding": null,
            "right": null,
            "top": null,
            "visibility": null,
            "width": null
          }
        },
        "f8389b4c660b4164a92b82d0c546f34a": {
          "model_module": "@jupyter-widgets/controls",
          "model_module_version": "1.5.0",
          "model_name": "FloatProgressModel",
          "state": {
            "_dom_classes": [],
            "_model_module": "@jupyter-widgets/controls",
            "_model_module_version": "1.5.0",
            "_model_name": "FloatProgressModel",
            "_view_count": null,
            "_view_module": "@jupyter-widgets/controls",
            "_view_module_version": "1.5.0",
            "_view_name": "ProgressView",
            "bar_style": "success",
            "description": "",
            "description_tooltip": null,
            "layout": "IPY_MODEL_327c4b7714fe4486b013e99077059014",
            "max": 150,
            "min": 0,
            "orientation": "horizontal",
            "style": "IPY_MODEL_a4f1160f29ab42ccbcc8b2f27f10f881",
            "value": 150
          }
        },
        "f9983622e0ae44cd97ae6605371fe2ff": {
          "model_module": "@jupyter-widgets/controls",
          "model_module_version": "1.5.0",
          "model_name": "HTMLModel",
          "state": {
            "_dom_classes": [],
            "_model_module": "@jupyter-widgets/controls",
            "_model_module_version": "1.5.0",
            "_model_name": "HTMLModel",
            "_view_count": null,
            "_view_module": "@jupyter-widgets/controls",
            "_view_module_version": "1.5.0",
            "_view_name": "HTMLView",
            "description": "",
            "description_tooltip": null,
            "layout": "IPY_MODEL_9c77ff48ef384ebda604db48fc38bec0",
            "placeholder": "​",
            "style": "IPY_MODEL_29fc15ebaf654cd988c30b7a81bf4f87",
            "value": "Computing transition probabilities: 100%"
          }
        },
        "f9c44b3e4bb643dbbee621bd8e8f7f00": {
          "model_module": "@jupyter-widgets/controls",
          "model_module_version": "1.5.0",
          "model_name": "DescriptionStyleModel",
          "state": {
            "_model_module": "@jupyter-widgets/controls",
            "_model_module_version": "1.5.0",
            "_model_name": "DescriptionStyleModel",
            "_view_count": null,
            "_view_module": "@jupyter-widgets/base",
            "_view_module_version": "1.2.0",
            "_view_name": "StyleView",
            "description_width": ""
          }
        },
        "fa7129a16543417eb4708bf607d44f5e": {
          "model_module": "@jupyter-widgets/controls",
          "model_module_version": "1.5.0",
          "model_name": "ProgressStyleModel",
          "state": {
            "_model_module": "@jupyter-widgets/controls",
            "_model_module_version": "1.5.0",
            "_model_name": "ProgressStyleModel",
            "_view_count": null,
            "_view_module": "@jupyter-widgets/base",
            "_view_module_version": "1.2.0",
            "_view_name": "StyleView",
            "bar_color": null,
            "description_width": ""
          }
        },
        "fe46aed14a774859ab6675295a347263": {
          "model_module": "@jupyter-widgets/controls",
          "model_module_version": "1.5.0",
          "model_name": "HTMLModel",
          "state": {
            "_dom_classes": [],
            "_model_module": "@jupyter-widgets/controls",
            "_model_module_version": "1.5.0",
            "_model_name": "HTMLModel",
            "_view_count": null,
            "_view_module": "@jupyter-widgets/controls",
            "_view_module_version": "1.5.0",
            "_view_name": "HTMLView",
            "description": "",
            "description_tooltip": null,
            "layout": "IPY_MODEL_8d95cd6171fc41078735f59272ab7af5",
            "placeholder": "​",
            "style": "IPY_MODEL_2e0ed9f00a2c44acbe6427188ea3876c",
            "value": " 499M/499M [00:05&lt;00:00, 162MB/s]"
          }
        }
      }
    }
  },
  "nbformat": 4,
  "nbformat_minor": 5
}
